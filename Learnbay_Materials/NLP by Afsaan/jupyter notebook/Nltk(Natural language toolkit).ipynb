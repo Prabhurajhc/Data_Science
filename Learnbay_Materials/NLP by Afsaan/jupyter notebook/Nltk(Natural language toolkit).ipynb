{
 "cells": [
  {
   "cell_type": "code",
   "execution_count": 1,
   "metadata": {},
   "outputs": [
    {
     "name": "stdout",
     "output_type": "stream",
     "text": [
      "Requirement already satisfied: nltk in /home/hulk/anaconda3/lib/python3.8/site-packages (3.5)\n",
      "Requirement already satisfied: tqdm in /home/hulk/anaconda3/lib/python3.8/site-packages (from nltk) (4.50.2)\n",
      "Requirement already satisfied: regex in /home/hulk/anaconda3/lib/python3.8/site-packages (from nltk) (2020.10.15)\n",
      "Requirement already satisfied: joblib in /home/hulk/anaconda3/lib/python3.8/site-packages (from nltk) (0.17.0)\n",
      "Requirement already satisfied: click in /home/hulk/anaconda3/lib/python3.8/site-packages (from nltk) (7.1.2)\n"
     ]
    }
   ],
   "source": [
    "#install the lib\n",
    "\n",
    "!pip install nltk"
   ]
  },
  {
   "cell_type": "code",
   "execution_count": 2,
   "metadata": {},
   "outputs": [
    {
     "name": "stderr",
     "output_type": "stream",
     "text": [
      "[nltk_data] Downloading package punkt to /root/nltk_data...\n",
      "[nltk_data]   Package punkt is already up-to-date!\n"
     ]
    },
    {
     "data": {
      "text/plain": [
       "True"
      ]
     },
     "execution_count": 2,
     "metadata": {},
     "output_type": "execute_result"
    }
   ],
   "source": [
    "import nltk\n",
    "\n",
    "# donwlaod the model\n",
    "nltk.download('punkt')"
   ]
  },
  {
   "cell_type": "code",
   "execution_count": 13,
   "metadata": {},
   "outputs": [],
   "source": [
    "data = \"India (Hindi: Bhārat), officially the Republic of India, is a country in South Asia. It is the seventh-largest country by area, the second-most populous country, and the most populous democracy in the world. Bounded by the Indian Ocean on the south, the Arabian Sea on the southwest, and the Bay of Bengal on the southeast, it shares land borders with Pakistan to the west; China, Nepal, and Bhutan to the north; and Bangladesh and Myanmar to the east. In the Indian Ocean, India is in the vicinity of Sri Lanka and the Maldives; its Andaman and Nicobar Islands share a maritime border with Thailand and Indonesia.\""
   ]
  },
  {
   "cell_type": "code",
   "execution_count": 14,
   "metadata": {},
   "outputs": [
    {
     "data": {
      "text/plain": [
       "['India (Hindi: Bhārat), officially the Republic of India, is a country in South Asia.',\n",
       " 'It is the seventh-largest country by area, the second-most populous country, and the most populous democracy in the world.',\n",
       " 'Bounded by the Indian Ocean on the south, the Arabian Sea on the southwest, and the Bay of Bengal on the southeast, it shares land borders with Pakistan to the west; China, Nepal, and Bhutan to the north; and Bangladesh and Myanmar to the east.',\n",
       " 'In the Indian Ocean, India is in the vicinity of Sri Lanka and the Maldives; its Andaman and Nicobar Islands share a maritime border with Thailand and Indonesia.']"
      ]
     },
     "execution_count": 14,
     "metadata": {},
     "output_type": "execute_result"
    }
   ],
   "source": [
    "nltk.sent_tokenize(data)"
   ]
  },
  {
   "cell_type": "code",
   "execution_count": 15,
   "metadata": {},
   "outputs": [
    {
     "data": {
      "text/plain": [
       "4"
      ]
     },
     "execution_count": 15,
     "metadata": {},
     "output_type": "execute_result"
    }
   ],
   "source": [
    "len(nltk.sent_tokenize(data))"
   ]
  },
  {
   "cell_type": "code",
   "execution_count": 16,
   "metadata": {},
   "outputs": [
    {
     "data": {
      "text/plain": [
       "['India',\n",
       " '(',\n",
       " 'Hindi',\n",
       " ':',\n",
       " 'Bhārat',\n",
       " ')',\n",
       " ',',\n",
       " 'officially',\n",
       " 'the',\n",
       " 'Republic',\n",
       " 'of',\n",
       " 'India',\n",
       " ',',\n",
       " 'is',\n",
       " 'a',\n",
       " 'country',\n",
       " 'in',\n",
       " 'South',\n",
       " 'Asia',\n",
       " '.',\n",
       " 'It',\n",
       " 'is',\n",
       " 'the',\n",
       " 'seventh-largest',\n",
       " 'country',\n",
       " 'by',\n",
       " 'area',\n",
       " ',',\n",
       " 'the',\n",
       " 'second-most',\n",
       " 'populous',\n",
       " 'country',\n",
       " ',',\n",
       " 'and',\n",
       " 'the',\n",
       " 'most',\n",
       " 'populous',\n",
       " 'democracy',\n",
       " 'in',\n",
       " 'the',\n",
       " 'world',\n",
       " '.',\n",
       " 'Bounded',\n",
       " 'by',\n",
       " 'the',\n",
       " 'Indian',\n",
       " 'Ocean',\n",
       " 'on',\n",
       " 'the',\n",
       " 'south',\n",
       " ',',\n",
       " 'the',\n",
       " 'Arabian',\n",
       " 'Sea',\n",
       " 'on',\n",
       " 'the',\n",
       " 'southwest',\n",
       " ',',\n",
       " 'and',\n",
       " 'the',\n",
       " 'Bay',\n",
       " 'of',\n",
       " 'Bengal',\n",
       " 'on',\n",
       " 'the',\n",
       " 'southeast',\n",
       " ',',\n",
       " 'it',\n",
       " 'shares',\n",
       " 'land',\n",
       " 'borders',\n",
       " 'with',\n",
       " 'Pakistan',\n",
       " 'to',\n",
       " 'the',\n",
       " 'west',\n",
       " ';',\n",
       " 'China',\n",
       " ',',\n",
       " 'Nepal',\n",
       " ',',\n",
       " 'and',\n",
       " 'Bhutan',\n",
       " 'to',\n",
       " 'the',\n",
       " 'north',\n",
       " ';',\n",
       " 'and',\n",
       " 'Bangladesh',\n",
       " 'and',\n",
       " 'Myanmar',\n",
       " 'to',\n",
       " 'the',\n",
       " 'east',\n",
       " '.',\n",
       " 'In',\n",
       " 'the',\n",
       " 'Indian',\n",
       " 'Ocean',\n",
       " ',',\n",
       " 'India',\n",
       " 'is',\n",
       " 'in',\n",
       " 'the',\n",
       " 'vicinity',\n",
       " 'of',\n",
       " 'Sri',\n",
       " 'Lanka',\n",
       " 'and',\n",
       " 'the',\n",
       " 'Maldives',\n",
       " ';',\n",
       " 'its',\n",
       " 'Andaman',\n",
       " 'and',\n",
       " 'Nicobar',\n",
       " 'Islands',\n",
       " 'share',\n",
       " 'a',\n",
       " 'maritime',\n",
       " 'border',\n",
       " 'with',\n",
       " 'Thailand',\n",
       " 'and',\n",
       " 'Indonesia',\n",
       " '.']"
      ]
     },
     "execution_count": 16,
     "metadata": {},
     "output_type": "execute_result"
    }
   ],
   "source": [
    "nltk.word_tokenize(data)"
   ]
  },
  {
   "cell_type": "code",
   "execution_count": 17,
   "metadata": {},
   "outputs": [
    {
     "data": {
      "text/plain": [
       "126"
      ]
     },
     "execution_count": 17,
     "metadata": {},
     "output_type": "execute_result"
    }
   ],
   "source": [
    "len(nltk.word_tokenize(data))"
   ]
  },
  {
   "cell_type": "code",
   "execution_count": null,
   "metadata": {},
   "outputs": [],
   "source": [
    "9 pos in english language, more than 9 in nlp\n",
    "\n",
    "Noun-\n",
    "\n",
    "singular\n",
    "plural noun\n",
    "proper , singular\n",
    "plural proper noun"
   ]
  },
  {
   "cell_type": "code",
   "execution_count": 20,
   "metadata": {},
   "outputs": [
    {
     "name": "stderr",
     "output_type": "stream",
     "text": [
      "[nltk_data] Downloading package averaged_perceptron_tagger to\n",
      "[nltk_data]     /root/nltk_data...\n",
      "[nltk_data]   Package averaged_perceptron_tagger is already up-to-\n",
      "[nltk_data]       date!\n"
     ]
    },
    {
     "data": {
      "text/plain": [
       "[('we', 'PRP'),\n",
       " ('will', 'MD'),\n",
       " ('see', 'VB'),\n",
       " ('an', 'DT'),\n",
       " ('example', 'NN'),\n",
       " ('of', 'IN'),\n",
       " ('POS', 'NNP'),\n",
       " ('tagging', 'VBG')]"
      ]
     },
     "execution_count": 20,
     "metadata": {},
     "output_type": "execute_result"
    }
   ],
   "source": [
    "# download the model\n",
    "nltk.download('averaged_perceptron_tagger')\n",
    "\n",
    "data = 'we will see an example of POS tagging'\n",
    "\n",
    "\n",
    "\n",
    "word_token = nltk.word_tokenize(data)\n",
    "\n",
    "# pos_word\n",
    "pos = nltk.pos_tag(word_token)\n",
    "pos"
   ]
  },
  {
   "cell_type": "markdown",
   "metadata": {},
   "source": [
    "link for all abb for pos - https://www.guru99.com/pos-tagging-chunking-nltk.html"
   ]
  },
  {
   "cell_type": "markdown",
   "metadata": {},
   "source": [
    "# create a function that takes and string and return total sentences count, total word count , and all the verbs in a sentence"
   ]
  },
  {
   "cell_type": "code",
   "execution_count": 21,
   "metadata": {},
   "outputs": [],
   "source": [
    "data = \"\"\"\n",
    "Kohli captained India Under-19s to victory at the 2008 Under-19 World Cup in Malaysia. After a few months later, he made his ODI debut for India against Sri Lanka at the age of 19. Initially having played as a reserve batsman in the Indian team, he soon established himself as a regular in the ODI middle-order and was part of the squad that won the 2011 World Cup. He made his Test debut in 2011 and shrugged off the tag of \"ODI specialist\" by 2013 with Test hundreds in Australia and South Africa.[3] Having reached the number one spot in the ICC rankings for ODI batsmen for the first time in 2013,[4] Kohli also found success in the Twenty20 format, winning the Man of the Tournament twice at the ICC World Twenty20 (in 2014 and 2016\n",
    "\"\"\""
   ]
  },
  {
   "cell_type": "code",
   "execution_count": 29,
   "metadata": {},
   "outputs": [],
   "source": [
    "def info(data):\n",
    "    len_sent = len(nltk.sent_tokenize(data))\n",
    "    len_word = len(nltk.word_tokenize(data))\n",
    "    verb_list = []\n",
    "    for words in nltk.pos_tag(nltk.word_tokenize(data)):\n",
    "        print(words)\n",
    "        if words[1].startswith('VB'):\n",
    "            verb_list.append(words[0])\n",
    "            \n",
    "    return {'len_sen':len_sent , 'len_word':len_word , 'verbs':verb_list}\n",
    "    "
   ]
  },
  {
   "cell_type": "code",
   "execution_count": 30,
   "metadata": {},
   "outputs": [
    {
     "name": "stdout",
     "output_type": "stream",
     "text": [
      "('Kohli', 'NNP')\n",
      "('captained', 'VBD')\n",
      "('India', 'NNP')\n",
      "('Under-19s', 'NNP')\n",
      "('to', 'TO')\n",
      "('victory', 'NN')\n",
      "('at', 'IN')\n",
      "('the', 'DT')\n",
      "('2008', 'CD')\n",
      "('Under-19', 'JJ')\n",
      "('World', 'NNP')\n",
      "('Cup', 'NNP')\n",
      "('in', 'IN')\n",
      "('Malaysia', 'NNP')\n",
      "('.', '.')\n",
      "('After', 'IN')\n",
      "('a', 'DT')\n",
      "('few', 'JJ')\n",
      "('months', 'NNS')\n",
      "('later', 'RB')\n",
      "(',', ',')\n",
      "('he', 'PRP')\n",
      "('made', 'VBD')\n",
      "('his', 'PRP$')\n",
      "('ODI', 'NNP')\n",
      "('debut', 'NN')\n",
      "('for', 'IN')\n",
      "('India', 'NNP')\n",
      "('against', 'IN')\n",
      "('Sri', 'NNP')\n",
      "('Lanka', 'NNP')\n",
      "('at', 'IN')\n",
      "('the', 'DT')\n",
      "('age', 'NN')\n",
      "('of', 'IN')\n",
      "('19', 'CD')\n",
      "('.', '.')\n",
      "('Initially', 'RB')\n",
      "('having', 'VBG')\n",
      "('played', 'VBN')\n",
      "('as', 'IN')\n",
      "('a', 'DT')\n",
      "('reserve', 'NN')\n",
      "('batsman', 'NN')\n",
      "('in', 'IN')\n",
      "('the', 'DT')\n",
      "('Indian', 'JJ')\n",
      "('team', 'NN')\n",
      "(',', ',')\n",
      "('he', 'PRP')\n",
      "('soon', 'RB')\n",
      "('established', 'VBD')\n",
      "('himself', 'PRP')\n",
      "('as', 'IN')\n",
      "('a', 'DT')\n",
      "('regular', 'NN')\n",
      "('in', 'IN')\n",
      "('the', 'DT')\n",
      "('ODI', 'NNP')\n",
      "('middle-order', 'NN')\n",
      "('and', 'CC')\n",
      "('was', 'VBD')\n",
      "('part', 'NN')\n",
      "('of', 'IN')\n",
      "('the', 'DT')\n",
      "('squad', 'NN')\n",
      "('that', 'WDT')\n",
      "('won', 'VBD')\n",
      "('the', 'DT')\n",
      "('2011', 'CD')\n",
      "('World', 'NNP')\n",
      "('Cup', 'NNP')\n",
      "('.', '.')\n",
      "('He', 'PRP')\n",
      "('made', 'VBD')\n",
      "('his', 'PRP$')\n",
      "('Test', 'NN')\n",
      "('debut', 'NN')\n",
      "('in', 'IN')\n",
      "('2011', 'CD')\n",
      "('and', 'CC')\n",
      "('shrugged', 'VBD')\n",
      "('off', 'RP')\n",
      "('the', 'DT')\n",
      "('tag', 'NN')\n",
      "('of', 'IN')\n",
      "('``', '``')\n",
      "('ODI', 'NNP')\n",
      "('specialist', 'NN')\n",
      "(\"''\", \"''\")\n",
      "('by', 'IN')\n",
      "('2013', 'CD')\n",
      "('with', 'IN')\n",
      "('Test', 'NNP')\n",
      "('hundreds', 'NNS')\n",
      "('in', 'IN')\n",
      "('Australia', 'NNP')\n",
      "('and', 'CC')\n",
      "('South', 'NNP')\n",
      "('Africa', 'NNP')\n",
      "('.', '.')\n",
      "('[', 'CC')\n",
      "('3', 'CD')\n",
      "(']', 'NN')\n",
      "('Having', 'NNP')\n",
      "('reached', 'VBD')\n",
      "('the', 'DT')\n",
      "('number', 'NN')\n",
      "('one', 'CD')\n",
      "('spot', 'NN')\n",
      "('in', 'IN')\n",
      "('the', 'DT')\n",
      "('ICC', 'NNP')\n",
      "('rankings', 'NNS')\n",
      "('for', 'IN')\n",
      "('ODI', 'NNP')\n",
      "('batsmen', 'NNS')\n",
      "('for', 'IN')\n",
      "('the', 'DT')\n",
      "('first', 'JJ')\n",
      "('time', 'NN')\n",
      "('in', 'IN')\n",
      "('2013', 'CD')\n",
      "(',', ',')\n",
      "('[', 'VBD')\n",
      "('4', 'CD')\n",
      "(']', 'NNP')\n",
      "('Kohli', 'NNP')\n",
      "('also', 'RB')\n",
      "('found', 'VBD')\n",
      "('success', 'NN')\n",
      "('in', 'IN')\n",
      "('the', 'DT')\n",
      "('Twenty20', 'NNP')\n",
      "('format', 'NN')\n",
      "(',', ',')\n",
      "('winning', 'VBG')\n",
      "('the', 'DT')\n",
      "('Man', 'NN')\n",
      "('of', 'IN')\n",
      "('the', 'DT')\n",
      "('Tournament', 'NNP')\n",
      "('twice', 'NN')\n",
      "('at', 'IN')\n",
      "('the', 'DT')\n",
      "('ICC', 'NNP')\n",
      "('World', 'NNP')\n",
      "('Twenty20', 'NNP')\n",
      "('(', '(')\n",
      "('in', 'IN')\n",
      "('2014', 'CD')\n",
      "('and', 'CC')\n",
      "('2016', 'CD')\n"
     ]
    }
   ],
   "source": [
    "information = info(data)"
   ]
  },
  {
   "cell_type": "code",
   "execution_count": 31,
   "metadata": {},
   "outputs": [
    {
     "data": {
      "text/plain": [
       "{'len_sen': 5,\n",
       " 'len_word': 153,\n",
       " 'verbs': ['captained',\n",
       "  'made',\n",
       "  'having',\n",
       "  'played',\n",
       "  'established',\n",
       "  'was',\n",
       "  'won',\n",
       "  'made',\n",
       "  'shrugged',\n",
       "  'reached',\n",
       "  '[',\n",
       "  'found',\n",
       "  'winning']}"
      ]
     },
     "execution_count": 31,
     "metadata": {},
     "output_type": "execute_result"
    }
   ],
   "source": [
    "information"
   ]
  },
  {
   "cell_type": "code",
   "execution_count": null,
   "metadata": {},
   "outputs": [],
   "source": [
    "- tokenization\n",
    "senence and word\n",
    "\n",
    "- pos tagging\n",
    "\n",
    "- Stopwords - words that are common in occurance such as a , an , the, at etc\n",
    "\n",
    "i love to play footbal - +ve "
   ]
  },
  {
   "cell_type": "code",
   "execution_count": 2,
   "metadata": {},
   "outputs": [
    {
     "name": "stderr",
     "output_type": "stream",
     "text": [
      "[nltk_data] Downloading package stopwords to /root/nltk_data...\n",
      "[nltk_data]   Package stopwords is already up-to-date!\n"
     ]
    },
    {
     "data": {
      "text/plain": [
       "True"
      ]
     },
     "execution_count": 2,
     "metadata": {},
     "output_type": "execute_result"
    }
   ],
   "source": [
    "# Stopwords\n",
    "import nltk\n",
    "nltk.download('stopwords')"
   ]
  },
  {
   "cell_type": "code",
   "execution_count": 4,
   "metadata": {},
   "outputs": [
    {
     "data": {
      "text/plain": [
       "['i',\n",
       " 'me',\n",
       " 'my',\n",
       " 'myself',\n",
       " 'we',\n",
       " 'our',\n",
       " 'ours',\n",
       " 'ourselves',\n",
       " 'you',\n",
       " \"you're\",\n",
       " \"you've\",\n",
       " \"you'll\",\n",
       " \"you'd\",\n",
       " 'your',\n",
       " 'yours',\n",
       " 'yourself',\n",
       " 'yourselves',\n",
       " 'he',\n",
       " 'him',\n",
       " 'his',\n",
       " 'himself',\n",
       " 'she',\n",
       " \"she's\",\n",
       " 'her',\n",
       " 'hers',\n",
       " 'herself',\n",
       " 'it',\n",
       " \"it's\",\n",
       " 'its',\n",
       " 'itself',\n",
       " 'they',\n",
       " 'them',\n",
       " 'their',\n",
       " 'theirs',\n",
       " 'themselves',\n",
       " 'what',\n",
       " 'which',\n",
       " 'who',\n",
       " 'whom',\n",
       " 'this',\n",
       " 'that',\n",
       " \"that'll\",\n",
       " 'these',\n",
       " 'those',\n",
       " 'am',\n",
       " 'is',\n",
       " 'are',\n",
       " 'was',\n",
       " 'were',\n",
       " 'be',\n",
       " 'been',\n",
       " 'being',\n",
       " 'have',\n",
       " 'has',\n",
       " 'had',\n",
       " 'having',\n",
       " 'do',\n",
       " 'does',\n",
       " 'did',\n",
       " 'doing',\n",
       " 'a',\n",
       " 'an',\n",
       " 'the',\n",
       " 'and',\n",
       " 'but',\n",
       " 'if',\n",
       " 'or',\n",
       " 'because',\n",
       " 'as',\n",
       " 'until',\n",
       " 'while',\n",
       " 'of',\n",
       " 'at',\n",
       " 'by',\n",
       " 'for',\n",
       " 'with',\n",
       " 'about',\n",
       " 'against',\n",
       " 'between',\n",
       " 'into',\n",
       " 'through',\n",
       " 'during',\n",
       " 'before',\n",
       " 'after',\n",
       " 'above',\n",
       " 'below',\n",
       " 'to',\n",
       " 'from',\n",
       " 'up',\n",
       " 'down',\n",
       " 'in',\n",
       " 'out',\n",
       " 'on',\n",
       " 'off',\n",
       " 'over',\n",
       " 'under',\n",
       " 'again',\n",
       " 'further',\n",
       " 'then',\n",
       " 'once',\n",
       " 'here',\n",
       " 'there',\n",
       " 'when',\n",
       " 'where',\n",
       " 'why',\n",
       " 'how',\n",
       " 'all',\n",
       " 'any',\n",
       " 'both',\n",
       " 'each',\n",
       " 'few',\n",
       " 'more',\n",
       " 'most',\n",
       " 'other',\n",
       " 'some',\n",
       " 'such',\n",
       " 'no',\n",
       " 'nor',\n",
       " 'not',\n",
       " 'only',\n",
       " 'own',\n",
       " 'same',\n",
       " 'so',\n",
       " 'than',\n",
       " 'too',\n",
       " 'very',\n",
       " 's',\n",
       " 't',\n",
       " 'can',\n",
       " 'will',\n",
       " 'just',\n",
       " 'don',\n",
       " \"don't\",\n",
       " 'should',\n",
       " \"should've\",\n",
       " 'now',\n",
       " 'd',\n",
       " 'll',\n",
       " 'm',\n",
       " 'o',\n",
       " 're',\n",
       " 've',\n",
       " 'y',\n",
       " 'ain',\n",
       " 'aren',\n",
       " \"aren't\",\n",
       " 'couldn',\n",
       " \"couldn't\",\n",
       " 'didn',\n",
       " \"didn't\",\n",
       " 'doesn',\n",
       " \"doesn't\",\n",
       " 'hadn',\n",
       " \"hadn't\",\n",
       " 'hasn',\n",
       " \"hasn't\",\n",
       " 'haven',\n",
       " \"haven't\",\n",
       " 'isn',\n",
       " \"isn't\",\n",
       " 'ma',\n",
       " 'mightn',\n",
       " \"mightn't\",\n",
       " 'mustn',\n",
       " \"mustn't\",\n",
       " 'needn',\n",
       " \"needn't\",\n",
       " 'shan',\n",
       " \"shan't\",\n",
       " 'shouldn',\n",
       " \"shouldn't\",\n",
       " 'wasn',\n",
       " \"wasn't\",\n",
       " 'weren',\n",
       " \"weren't\",\n",
       " 'won',\n",
       " \"won't\",\n",
       " 'wouldn',\n",
       " \"wouldn't\"]"
      ]
     },
     "execution_count": 4,
     "metadata": {},
     "output_type": "execute_result"
    }
   ],
   "source": [
    "from nltk.corpus import stopwords\n",
    "stopwords = stopwords.words('english')\n",
    "stopwords"
   ]
  },
  {
   "cell_type": "code",
   "execution_count": 5,
   "metadata": {},
   "outputs": [],
   "source": [
    "data = \"India (Hindi: Bhārat), officially the Republic of India, is a country in South Asia. It is the seventh-largest country by area, the second-most populous country, and the most populous democracy in the world. Bounded by the Indian Ocean on the south, the Arabian Sea on the southwest, and the Bay of Bengal on the southeast, it shares land borders with Pakistan to the west; China, Nepal, and Bhutan to the north; and Bangladesh and Myanmar to the east. In the Indian Ocean, India is in the vicinity of Sri Lanka and the Maldives; its Andaman and Nicobar Islands share a maritime border with Thailand and Indonesia.\""
   ]
  },
  {
   "cell_type": "code",
   "execution_count": null,
   "metadata": {},
   "outputs": [],
   "source": [
    "# word_tokenization\n",
    "# remove the stopwrods\n",
    "# join the words and make a sentence"
   ]
  },
  {
   "cell_type": "code",
   "execution_count": 12,
   "metadata": {},
   "outputs": [],
   "source": [
    "def clean_sentence(sentence):\n",
    "    clean_data = []\n",
    "    for word in nltk.word_tokenize(sentence.lower()):\n",
    "        if word not in stopwords:\n",
    "            clean_data.append(word)\n",
    "    return \" \".join(clean_data) , clean_data"
   ]
  },
  {
   "cell_type": "code",
   "execution_count": 13,
   "metadata": {},
   "outputs": [],
   "source": [
    "clean_sen , clean_data = clean_sentence(data)"
   ]
  },
  {
   "cell_type": "code",
   "execution_count": 14,
   "metadata": {},
   "outputs": [
    {
     "data": {
      "text/plain": [
       "['india',\n",
       " '(',\n",
       " 'hindi',\n",
       " ':',\n",
       " 'bhārat',\n",
       " ')',\n",
       " ',',\n",
       " 'officially',\n",
       " 'republic',\n",
       " 'india',\n",
       " ',',\n",
       " 'country',\n",
       " 'south',\n",
       " 'asia',\n",
       " '.',\n",
       " 'seventh-largest',\n",
       " 'country',\n",
       " 'area',\n",
       " ',',\n",
       " 'second-most',\n",
       " 'populous',\n",
       " 'country',\n",
       " ',',\n",
       " 'populous',\n",
       " 'democracy',\n",
       " 'world',\n",
       " '.',\n",
       " 'bounded',\n",
       " 'indian',\n",
       " 'ocean',\n",
       " 'south',\n",
       " ',',\n",
       " 'arabian',\n",
       " 'sea',\n",
       " 'southwest',\n",
       " ',',\n",
       " 'bay',\n",
       " 'bengal',\n",
       " 'southeast',\n",
       " ',',\n",
       " 'shares',\n",
       " 'land',\n",
       " 'borders',\n",
       " 'pakistan',\n",
       " 'west',\n",
       " ';',\n",
       " 'china',\n",
       " ',',\n",
       " 'nepal',\n",
       " ',',\n",
       " 'bhutan',\n",
       " 'north',\n",
       " ';',\n",
       " 'bangladesh',\n",
       " 'myanmar',\n",
       " 'east',\n",
       " '.',\n",
       " 'indian',\n",
       " 'ocean',\n",
       " ',',\n",
       " 'india',\n",
       " 'vicinity',\n",
       " 'sri',\n",
       " 'lanka',\n",
       " 'maldives',\n",
       " ';',\n",
       " 'andaman',\n",
       " 'nicobar',\n",
       " 'islands',\n",
       " 'share',\n",
       " 'maritime',\n",
       " 'border',\n",
       " 'thailand',\n",
       " 'indonesia',\n",
       " '.']"
      ]
     },
     "execution_count": 14,
     "metadata": {},
     "output_type": "execute_result"
    }
   ],
   "source": [
    "clean_data"
   ]
  },
  {
   "cell_type": "code",
   "execution_count": 16,
   "metadata": {},
   "outputs": [
    {
     "data": {
      "text/plain": [
       "'!\"#$%&\\'()*+,-./:;<=>?@[\\\\]^_`{|}~'"
      ]
     },
     "execution_count": 16,
     "metadata": {},
     "output_type": "execute_result"
    }
   ],
   "source": [
    "import string\n",
    "\n",
    "punct = string.punctuation\n",
    "punct"
   ]
  },
  {
   "cell_type": "code",
   "execution_count": 18,
   "metadata": {},
   "outputs": [],
   "source": [
    "def clean_sentence(sentence):\n",
    "    clean_data = []\n",
    "    for word in nltk.word_tokenize(sentence.lower()):\n",
    "        if word not in punct:\n",
    "            if word not in stopwords:\n",
    "                clean_data.append(word)\n",
    "    return \" \".join(clean_data) , clean_data"
   ]
  },
  {
   "cell_type": "code",
   "execution_count": 19,
   "metadata": {},
   "outputs": [
    {
     "data": {
      "text/plain": [
       "['india',\n",
       " 'hindi',\n",
       " 'bhārat',\n",
       " 'officially',\n",
       " 'republic',\n",
       " 'india',\n",
       " 'country',\n",
       " 'south',\n",
       " 'asia',\n",
       " 'seventh-largest',\n",
       " 'country',\n",
       " 'area',\n",
       " 'second-most',\n",
       " 'populous',\n",
       " 'country',\n",
       " 'populous',\n",
       " 'democracy',\n",
       " 'world',\n",
       " 'bounded',\n",
       " 'indian',\n",
       " 'ocean',\n",
       " 'south',\n",
       " 'arabian',\n",
       " 'sea',\n",
       " 'southwest',\n",
       " 'bay',\n",
       " 'bengal',\n",
       " 'southeast',\n",
       " 'shares',\n",
       " 'land',\n",
       " 'borders',\n",
       " 'pakistan',\n",
       " 'west',\n",
       " 'china',\n",
       " 'nepal',\n",
       " 'bhutan',\n",
       " 'north',\n",
       " 'bangladesh',\n",
       " 'myanmar',\n",
       " 'east',\n",
       " 'indian',\n",
       " 'ocean',\n",
       " 'india',\n",
       " 'vicinity',\n",
       " 'sri',\n",
       " 'lanka',\n",
       " 'maldives',\n",
       " 'andaman',\n",
       " 'nicobar',\n",
       " 'islands',\n",
       " 'share',\n",
       " 'maritime',\n",
       " 'border',\n",
       " 'thailand',\n",
       " 'indonesia']"
      ]
     },
     "execution_count": 19,
     "metadata": {},
     "output_type": "execute_result"
    }
   ],
   "source": [
    "clean_sen , clean_data = clean_sentence(data)\n",
    "clean_data"
   ]
  },
  {
   "cell_type": "code",
   "execution_count": null,
   "metadata": {},
   "outputs": [],
   "source": [
    "i am running - \n",
    "\n",
    "running\n",
    "ran\n",
    "run\n",
    "\n",
    "common run\n",
    "\n",
    "\n",
    "see\n",
    "saw\n",
    "seen\n",
    "seeing\n",
    "sees\n",
    "\n",
    "common acion is see"
   ]
  },
  {
   "cell_type": "code",
   "execution_count": null,
   "metadata": {},
   "outputs": [],
   "source": [
    "i saw a movie\n",
    "i am seeing a movie\n",
    "they saw the movie\n"
   ]
  },
  {
   "cell_type": "code",
   "execution_count": null,
   "metadata": {},
   "outputs": [],
   "source": [
    "Stemming or lemmatization\n",
    "\n",
    "Conveting the word in its root/ base form"
   ]
  },
  {
   "cell_type": "code",
   "execution_count": null,
   "metadata": {},
   "outputs": [],
   "source": [
    "Stemming\n",
    "\n",
    "- briging the word in its stem form\n",
    "- the resultant word may or may not have a meaning\n",
    "\n",
    "for example\n",
    "\n",
    "history - history\n",
    "                \n",
    "historical - histori"
   ]
  },
  {
   "cell_type": "code",
   "execution_count": null,
   "metadata": {},
   "outputs": [],
   "source": [
    "lemmatization\n",
    "\n",
    "- briging the word in its root form\n",
    "- the resultant word always have a meaning\n",
    "\n",
    "for example\n",
    "\n",
    "history - history\n",
    "                \n",
    "historical - history"
   ]
  },
  {
   "cell_type": "code",
   "execution_count": null,
   "metadata": {},
   "outputs": [],
   "source": [
    "# stemmming\n",
    "fina\n",
    "final      --------> fina\n",
    "final\n",
    "\n",
    "\n",
    "# lemmatization\n",
    "finally\n",
    "final      --------> final\n",
    "finalised"
   ]
  },
  {
   "cell_type": "code",
   "execution_count": 21,
   "metadata": {},
   "outputs": [],
   "source": [
    "from nltk.stem import PorterStemmer, LancasterStemmer, SnowballStemmer\n",
    "\n",
    "lancaster = LancasterStemmer()\n",
    "porter = PorterStemmer()\n",
    "snowball = SnowballStemmer('english')"
   ]
  },
  {
   "cell_type": "code",
   "execution_count": 25,
   "metadata": {},
   "outputs": [
    {
     "name": "stdout",
     "output_type": "stream",
     "text": [
      "Porter Stemmer\n",
      "hobbi\n",
      "hobbi\n",
      "comput\n",
      "comput\n",
      "----------------------------------------------\n",
      "lancaster Stemmer\n",
      "hobby\n",
      "hobby\n",
      "comput\n",
      "comput\n",
      "----------------------------------------------\n",
      "Snowball Stemmer\n",
      "hobbi\n",
      "hobbi\n",
      "comput\n",
      "comput\n"
     ]
    }
   ],
   "source": [
    "print('Porter Stemmer')\n",
    "print(porter.stem('hobby'))\n",
    "print(porter.stem('hobbies'))\n",
    "print(porter.stem('computer'))\n",
    "print(porter.stem('computation'))\n",
    "print('----------------------------------------------')\n",
    "print('lancaster Stemmer')\n",
    "print(lancaster.stem('hobby'))\n",
    "print(lancaster.stem('hobbies'))\n",
    "print(lancaster.stem('computer'))\n",
    "print(lancaster.stem('computation'))\n",
    "print('----------------------------------------------')\n",
    "print('Snowball Stemmer')\n",
    "print(snowball.stem('hobby'))\n",
    "print(snowball.stem('hobbies'))\n",
    "print(snowball.stem('computer'))\n",
    "print(snowball.stem('computation'))"
   ]
  },
  {
   "cell_type": "code",
   "execution_count": 26,
   "metadata": {},
   "outputs": [
    {
     "name": "stdout",
     "output_type": "stream",
     "text": [
      "<nltk.stem.snowball.SnowballStemmer object at 0x7f6d9193a220>\n",
      "i was go to the offic on my bike when i saw a car pass by hit the tree\n",
      "<LancasterStemmer>\n",
      "i was going to the off on my bik when i saw a car pass by hit the tre\n",
      "<PorterStemmer>\n",
      "i wa go to the offic on my bike when i saw a car pass by hit the tree\n"
     ]
    }
   ],
   "source": [
    "sent = 'i Was going to the office on my bike when i saw a car passing by hit the tree'\n",
    "\n",
    "token = nltk.word_tokenize(sent)\n",
    "\n",
    "for stemmer in (snowball , lancaster , porter):\n",
    "    print(stemmer)\n",
    "    stemm = [stemmer.stem(t) for t in token]\n",
    "    print(\" \". join(stemm))"
   ]
  },
  {
   "cell_type": "code",
   "execution_count": null,
   "metadata": {},
   "outputs": [],
   "source": [
    "Lancaster alofirtm is faster than porterbut it is more complex\n",
    "\n",
    "snowball stemmer is noting but advance version of porter"
   ]
  },
  {
   "cell_type": "markdown",
   "metadata": {},
   "source": [
    "# lemmatization"
   ]
  },
  {
   "cell_type": "code",
   "execution_count": 27,
   "metadata": {},
   "outputs": [
    {
     "name": "stderr",
     "output_type": "stream",
     "text": [
      "[nltk_data] Downloading package wordnet to /root/nltk_data...\n",
      "[nltk_data]   Package wordnet is already up-to-date!\n"
     ]
    },
    {
     "data": {
      "text/plain": [
       "True"
      ]
     },
     "execution_count": 27,
     "metadata": {},
     "output_type": "execute_result"
    }
   ],
   "source": [
    "# download the model\n",
    "nltk.download('wordnet')"
   ]
  },
  {
   "cell_type": "code",
   "execution_count": 28,
   "metadata": {},
   "outputs": [],
   "source": [
    "from nltk.stem import WordNetLemmatizer\n",
    "\n",
    "lemma = WordNetLemmatizer()"
   ]
  },
  {
   "cell_type": "code",
   "execution_count": 35,
   "metadata": {},
   "outputs": [
    {
     "name": "stdout",
     "output_type": "stream",
     "text": [
      "go\n",
      "go\n",
      "saw\n"
     ]
    }
   ],
   "source": [
    "print(lemma.lemmatize('goes' , pos='v'))\n",
    "print(lemma.lemmatize('going' ,  pos='v'))\n",
    "print(lemma.lemmatize('saw',  pos='v'))"
   ]
  },
  {
   "cell_type": "code",
   "execution_count": 40,
   "metadata": {},
   "outputs": [],
   "source": [
    "sent = 'i Was going to the office on my bike when i saw a car passing by hit the tree'\n",
    "\n",
    "# word token\n",
    "# clean - remove stopwords and punctuation\n",
    "# root\n",
    "# convert back to sent\n",
    "\n",
    "def clean_sentence(sentence):\n",
    "    clean_data = []\n",
    "    for word in nltk.word_tokenize(sentence.lower()):\n",
    "        if word not in punct:\n",
    "            if word not in stopwords:\n",
    "                clean_data.append(lemma.lemmatize(word , pos='v'))\n",
    "    return \" \".join(clean_data) , clean_data"
   ]
  },
  {
   "cell_type": "code",
   "execution_count": 41,
   "metadata": {},
   "outputs": [],
   "source": [
    "data,_ = clean_sentence(sent)"
   ]
  },
  {
   "cell_type": "code",
   "execution_count": 42,
   "metadata": {},
   "outputs": [
    {
     "data": {
      "text/plain": [
       "'go office bike saw car pass hit tree'"
      ]
     },
     "execution_count": 42,
     "metadata": {},
     "output_type": "execute_result"
    }
   ],
   "source": [
    "data"
   ]
  },
  {
   "cell_type": "code",
   "execution_count": null,
   "metadata": {},
   "outputs": [],
   "source": [
    "unclean text data -----> lower -------> word_tokenization ----> remove stop -----> punctaution ---> root ---> clean data "
   ]
  },
  {
   "cell_type": "code",
   "execution_count": null,
   "metadata": {},
   "outputs": [],
   "source": [
    "Ner ( Named entity racongition)\n",
    "\n",
    "we try to group entities like people , places , countries , thing etc"
   ]
  },
  {
   "cell_type": "code",
   "execution_count": 44,
   "metadata": {},
   "outputs": [
    {
     "name": "stderr",
     "output_type": "stream",
     "text": [
      "[nltk_data] Downloading package maxent_ne_chunker to\n",
      "[nltk_data]     /root/nltk_data...\n",
      "[nltk_data]   Package maxent_ne_chunker is already up-to-date!\n",
      "[nltk_data] Downloading package words to /root/nltk_data...\n",
      "[nltk_data]   Package words is already up-to-date!\n"
     ]
    },
    {
     "data": {
      "text/plain": [
       "True"
      ]
     },
     "execution_count": 44,
     "metadata": {},
     "output_type": "execute_result"
    }
   ],
   "source": [
    "nltk.download('maxent_ne_chunker')\n",
    "nltk.download('words')"
   ]
  },
  {
   "cell_type": "code",
   "execution_count": 64,
   "metadata": {},
   "outputs": [
    {
     "name": "stdout",
     "output_type": "stream",
     "text": [
      "(S\n",
      "  (PERSON Barack/NNP)\n",
      "  (GPE Obama/NNP)\n",
      "  ,/,\n",
      "  officially/RB\n",
      "  the/DT\n",
      "  (ORGANIZATION Republic/NNP)\n",
      "  of/IN\n",
      "  (GPE India/NNP)\n",
      "  ,/,\n",
      "  is/VBZ\n",
      "  a/DT\n",
      "  country/NN\n",
      "  in/IN\n",
      "  (GPE South/NNP Asia/NNP))\n"
     ]
    }
   ],
   "source": [
    "sent = 'Barack Obama, officially the Republic of India, is a country in South Asia'\n",
    "\n",
    "words = nltk.word_tokenize(sent)\n",
    "pos_tag = nltk.pos_tag(words)\n",
    "named_entity = nltk.ne_chunk(pos_tag)\n",
    "print(named_entity)"
   ]
  },
  {
   "cell_type": "code",
   "execution_count": 3,
   "metadata": {},
   "outputs": [],
   "source": [
    "# freq distrubutor\n",
    "import nltk\n",
    "from nltk import FreqDist\n",
    "\n",
    "sent = 'Barack Obama, officially the Republic of India, is a country in South Asia'\n",
    "\n",
    "freq = FreqDist(nltk.word_tokenize(sent))"
   ]
  },
  {
   "cell_type": "code",
   "execution_count": 4,
   "metadata": {},
   "outputs": [
    {
     "data": {
      "image/png": "[encoded data removed]",
      "text/plain": [
       "<Figure size 432x288 with 1 Axes>"
      ]
     },
     "metadata": {
      "needs_background": "light"
     },
     "output_type": "display_data"
    },
    {
     "data": {
      "text/plain": [
       "<AxesSubplot:xlabel='Samples', ylabel='Counts'>"
      ]
     },
     "execution_count": 4,
     "metadata": {},
     "output_type": "execute_result"
    }
   ],
   "source": [
    "sent = 'Barack Obama, officially the Republic of India, is a country in In South Asia'\n",
    "freq = FreqDist(nltk.word_tokenize(sent.lower()))\n",
    "freq.plot()"
   ]
  },
  {
   "cell_type": "code",
   "execution_count": 6,
   "metadata": {},
   "outputs": [
    {
     "name": "stdout",
     "output_type": "stream",
     "text": [
      "{'barack': 1, 'obama': 1, ',': 2, 'officially': 1, 'the': 1, 'republic': 1, 'of': 1, 'india': 1, 'is': 1, 'a': 1, 'country': 1, 'in': 2, 'south': 1, 'asia': 1}\n"
     ]
    }
   ],
   "source": [
    "print(dict(freq))"
   ]
  },
  {
   "cell_type": "code",
   "execution_count": 1,
   "metadata": {},
   "outputs": [
    {
     "ename": "NameError",
     "evalue": "name 'freq' is not defined",
     "output_type": "error",
     "traceback": [
      "\u001b[0;31m---------------------------------------------------------------------------\u001b[0m",
      "\u001b[0;31mNameError\u001b[0m                                 Traceback (most recent call last)",
      "\u001b[0;32m<ipython-input-1-5ebfc311f2a2>\u001b[0m in \u001b[0;36m<module>\u001b[0;34m\u001b[0m\n\u001b[0;32m----> 1\u001b[0;31m \u001b[0mfreq\u001b[0m\u001b[0;34m[\u001b[0m\u001b[0;34m'in'\u001b[0m\u001b[0;34m]\u001b[0m\u001b[0;34m\u001b[0m\u001b[0;34m\u001b[0m\u001b[0m\n\u001b[0m",
      "\u001b[0;31mNameError\u001b[0m: name 'freq' is not defined"
     ]
    }
   ],
   "source": [
    "freq['in']"
   ]
  },
  {
   "cell_type": "code",
   "execution_count": null,
   "metadata": {},
   "outputs": [],
   "source": [
    "# task\n",
    "\n",
    "build a website in flask\n",
    "\n",
    "- count the number sentences\n",
    "- number of words\n",
    "- all stopwords\n",
    "- all the word freq"
   ]
  }
 ],
 "metadata": {
  "kernelspec": {
   "display_name": "Python 3",
   "language": "python",
   "name": "python3"
  },
  "language_info": {
   "codemirror_mode": {
    "name": "ipython",
    "version": 3
   },
   "file_extension": ".py",
   "mimetype": "text/x-python",
   "name": "python",
   "nbconvert_exporter": "python",
   "pygments_lexer": "ipython3",
   "version": "3.8.5"
  }
 },
 "nbformat": 4,
 "nbformat_minor": 4
}
