{
 "cells": [
  {
   "cell_type": "code",
   "execution_count": null,
   "metadata": {},
   "outputs": [],
   "source": [
    "# Q4:-\n",
    "#     my_str = 'peter pipre picked a peck of pickled peppers'\n",
    "#     output = ['peter', 'piper', 'picked', 'a', 'peck', 'of', 'pickled', 'peppers']"
   ]
  },
  {
   "cell_type": "code",
   "execution_count": 1,
   "metadata": {
    "ExecuteTime": {
     "end_time": "2021-04-23T02:42:22.827198Z",
     "start_time": "2021-04-23T02:42:22.815607Z"
    }
   },
   "outputs": [
    {
     "name": "stdout",
     "output_type": "stream",
     "text": [
      "['peter', 'pipre', 'picked', 'a', 'peck', 'of', 'pickled', 'peppers']\n"
     ]
    }
   ],
   "source": [
    "my_str = 'peter pipre picked a peck of pickled peppers'\n",
    "out_lst = []\n",
    "out_str = ''\n",
    "for i in range(len(my_str)):\n",
    "    if my_str[i] == ' ':\n",
    "        out_lst += [out_str]\n",
    "        out_str = ''\n",
    "    elif i == len(my_str)-1:\n",
    "        out_str += my_str[i]\n",
    "        out_lst += [out_str]\n",
    "    else:\n",
    "        out_str += my_str[i]\n",
    "print(out_lst)"
   ]
  },
  {
   "cell_type": "markdown",
   "metadata": {},
   "source": [
    "# List"
   ]
  },
  {
   "cell_type": "code",
   "execution_count": null,
   "metadata": {},
   "outputs": [],
   "source": [
    "# List is Mutable"
   ]
  },
  {
   "cell_type": "code",
   "execution_count": 7,
   "metadata": {
    "ExecuteTime": {
     "end_time": "2021-04-23T02:57:26.201686Z",
     "start_time": "2021-04-23T02:57:26.196148Z"
    }
   },
   "outputs": [
    {
     "name": "stdout",
     "output_type": "stream",
     "text": [
      "[111, 20, 30, 40, 50, 60]\n"
     ]
    }
   ],
   "source": [
    "# Mutable - Modification can be done to same object - List\n",
    "# Immutable - Modification can not be done to same object - String\n",
    "\n",
    "# my_str = 'This is Python class'\n",
    "# print('Before Operation')\n",
    "# print(my_str, id(my_str), end = '\\n\\n')\n",
    "# out_str = my_str.replace('s', 'z')\n",
    "# print('After Operation')\n",
    "# print(my_str, id(my_str))\n",
    "# print(out_str, id(out_str))\n",
    "\n",
    "\n",
    "# Item Assignment\n",
    "# my_str = 'Python'\n",
    "# my_str[0] = 'J'               # TypeError: 'str' object does not support item assignment\n",
    "\n",
    "\n",
    "# List - is mutable\n",
    "lst = [10,20,30,40,50,60]\n",
    "# print('Before Operation')\n",
    "# print(lst, id(lst), end = '\\n\\n')\n",
    "# lst.append(111)\n",
    "# print('After Operation')\n",
    "# print(lst, id(lst))\n",
    "\n",
    "# Item Assignment\n",
    "lst[0] = 111\n",
    "print(lst)\n"
   ]
  },
  {
   "cell_type": "code",
   "execution_count": 9,
   "metadata": {
    "ExecuteTime": {
     "end_time": "2021-04-23T02:58:26.181071Z",
     "start_time": "2021-04-23T02:58:26.177992Z"
    }
   },
   "outputs": [],
   "source": [
    "# List Methods \n",
    "# print(dir(list))\n",
    "\n",
    "# 'copy',   "
   ]
  },
  {
   "cell_type": "code",
   "execution_count": 14,
   "metadata": {
    "ExecuteTime": {
     "end_time": "2021-04-23T03:02:57.895189Z",
     "start_time": "2021-04-23T03:02:57.889061Z"
    }
   },
   "outputs": [
    {
     "name": "stdout",
     "output_type": "stream",
     "text": [
      "[10, 20, 'Python', 30, 40, 50]\n"
     ]
    }
   ],
   "source": [
    "# Inserting into a list - append, insert, extend\n",
    "lst = [10,20,30,40,50]\n",
    "\n",
    "# Adding the element at the end - append\n",
    "# lst.append(111)\n",
    "# print(lst)\n",
    "\n",
    "# lst.append([1,2,3])\n",
    "# print(lst)\n",
    "\n",
    "# extend - it adds the element of one list another list individually and similar to concatenation\n",
    "# lst1 = [1,2,3,4]\n",
    "# lst.extend(lst1)\n",
    "# print(lst)\n",
    "\n",
    "# insert - inserts an element at specified index\n",
    "# lst.insert(2, 'Python')\n",
    "# print(lst)\n",
    "\n",
    "\n",
    "\n"
   ]
  },
  {
   "cell_type": "code",
   "execution_count": 22,
   "metadata": {
    "ExecuteTime": {
     "end_time": "2021-04-23T03:09:26.919088Z",
     "start_time": "2021-04-23T03:09:26.905498Z"
    }
   },
   "outputs": [],
   "source": [
    "# Removing list items - pop, remove, clear\n",
    "lst = [10, 20, 30, 10, 40, 50, 10, 1, 100, 10, 20, 10]\n",
    "\n",
    "# pop() - without any index removes last element from list\n",
    "# print(lst.pop())\n",
    "\n",
    "# pop(index) - removes the lement at specified index\n",
    "# print(lst.pop(3))\n",
    "# print(lst)\n",
    "\n",
    "# remove(value) - remove the first occurence of the specified value from list\n",
    "# lst.remove(10)\n",
    "# print(lst)\n",
    "\n",
    "\n",
    "# clear - clers a list and leaves the empty list behind\n",
    "# lst.clear()\n",
    "# del lst\n",
    "# print(lst)\n"
   ]
  },
  {
   "cell_type": "code",
   "execution_count": 25,
   "metadata": {
    "ExecuteTime": {
     "end_time": "2021-04-23T03:11:17.307995Z",
     "start_time": "2021-04-23T03:11:17.262876Z"
    }
   },
   "outputs": [
    {
     "data": {
      "text/plain": [
       "10"
      ]
     },
     "execution_count": 25,
     "metadata": {},
     "output_type": "execute_result"
    }
   ],
   "source": [
    "# 'count', 'index',\n",
    "lst = [10, 20, 30, 10, 40, 50, 10, 1, 100, 10, 20, 10]\n",
    "\n",
    "# count(ele) - gives that how many times an element is repeating inside a list\n",
    "# print(lst.count(10))\n",
    "\n",
    "# index - returns the index of first occurence of the element\n",
    "# lst.index(20, 5)\n",
    "\n"
   ]
  },
  {
   "cell_type": "code",
   "execution_count": 34,
   "metadata": {
    "ExecuteTime": {
     "end_time": "2021-04-23T03:15:38.727945Z",
     "start_time": "2021-04-23T03:15:38.721187Z"
    }
   },
   "outputs": [
    {
     "name": "stdout",
     "output_type": "stream",
     "text": [
      "['abc', 'ab', 'aab', 'aaa', 'a']\n"
     ]
    }
   ],
   "source": [
    "# 'reverse', 'sort'\n",
    "lst = [10, 20, 30, 10, 40, 50, 10, 1, 100, 10, 20, 10, 11, 22]\n",
    "# lst.reverse()\n",
    "# print(lst)\n",
    "\n",
    "\n",
    "# sort - sorts the list in ascending order by default\n",
    "lst = ['abc', 'a', 'aaa', 'ab', 'aab']\n",
    "lst.sort(reverse = True)\n",
    "print(lst)"
   ]
  },
  {
   "cell_type": "code",
   "execution_count": 56,
   "metadata": {
    "ExecuteTime": {
     "end_time": "2021-04-23T03:52:19.753394Z",
     "start_time": "2021-04-23T03:52:19.741573Z"
    }
   },
   "outputs": [
    {
     "data": {
      "text/plain": [
       "['gmail.com', 'hotmail.com', 'yahoo.com', 'rediffmail.com']"
      ]
     },
     "execution_count": 56,
     "metadata": {},
     "output_type": "execute_result"
    }
   ],
   "source": [
    "# List  comprehension - [expr for loop if cond]\n",
    "# lst = [num**2 for num in range(1, 11) if num%2==0]\n",
    "# print(lst)\n",
    "\n",
    "\n",
    "lst = ['abc@gmail.com', 'abcd@hotmail.com', 'pqrs@yahoo.com', 'xyz@rediffmail.com']\n",
    "# out_lst = ['gmail.com', 'hotmail.com', 'yahoo.com', 'rediffmail.com']\n",
    "\n",
    "[i[i.index('@')+1:] for i in lst]\n",
    "\n",
    "\n"
   ]
  },
  {
   "cell_type": "markdown",
   "metadata": {},
   "source": [
    "# Tuple"
   ]
  },
  {
   "cell_type": "code",
   "execution_count": null,
   "metadata": {},
   "outputs": [],
   "source": [
    "# Anything kept inside () seprated by comma\n",
    "# () are optional\n",
    "# Tuple is immutable\n",
    "# Rest everything is similar to list\n",
    "# Tuple is a seq\n",
    "    # Indexing, slicing, concatenation, repetition, length, membership\n",
    "# Tuple is a collection of heterogeneous elemenets and can have duplicate elements\n"
   ]
  },
  {
   "cell_type": "code",
   "execution_count": 50,
   "metadata": {
    "ExecuteTime": {
     "end_time": "2021-04-23T03:46:07.648508Z",
     "start_time": "2021-04-23T03:46:07.638038Z"
    }
   },
   "outputs": [
    {
     "name": "stdout",
     "output_type": "stream",
     "text": [
      "(10, 10.2, (10+20j), None, True, 'Python', [1, 2, 3], (10, 20, 30)) <class 'tuple'>\n",
      "(1, 2, 3, 4, 5) <class 'tuple'>\n"
     ]
    }
   ],
   "source": [
    "# Tuple creation\n",
    "tpl = (10, 10.20, 10+20j, None, True, 'Python', [1,2,3], (10,20,30))\n",
    "print(tpl, type(tpl))\n",
    "\n",
    "# Using tuple()\n",
    "# tpl = tuple('Python')\n",
    "# print(tpl, type(tpl))\n",
    "# tpl = tuple([1,2,3,4])\n",
    "# print(tpl, type(tpl))\n",
    "# tpl = tuple({1,2,3,4})\n",
    "# print(tpl, type(tpl))\n",
    "# tpl = tuple({1:100,2:200,3:300,4:400})\n",
    "# print(tpl, type(tpl))\n",
    "# tpl = tuple((1,2,3,4))\n",
    "# print(tpl, type(tpl))\n",
    "\n",
    "# By taking input from user\n",
    "# tpl = eval(input('Enter a tuple: '))\n",
    "# print(tpl, type(tpl))\n",
    "\n",
    "# Creating a tuple with single element\n",
    "# tpl = 10,\n",
    "# print(tpl, type(tpl))\n",
    "\n",
    "\n",
    "# tpl = 1,2,3,4,5\n",
    "# print(tpl, type(tpl))\n"
   ]
  },
  {
   "cell_type": "code",
   "execution_count": 54,
   "metadata": {
    "ExecuteTime": {
     "end_time": "2021-04-23T03:49:55.044368Z",
     "start_time": "2021-04-23T03:49:55.026478Z"
    }
   },
   "outputs": [
    {
     "ename": "ValueError",
     "evalue": "not enough values to unpack (expected 7, got 6)",
     "output_type": "error",
     "traceback": [
      "\u001b[0;31m---------------------------------------------------------------------------\u001b[0m",
      "\u001b[0;31mValueError\u001b[0m                                Traceback (most recent call last)",
      "\u001b[0;32m<ipython-input-54-6d7c6974bee6>\u001b[0m in \u001b[0;36m<module>\u001b[0;34m\u001b[0m\n\u001b[1;32m     13\u001b[0m \u001b[0;31m# No of elements inside a tuple and no of variable should be same\u001b[0m\u001b[0;34m\u001b[0m\u001b[0;34m\u001b[0m\u001b[0;34m\u001b[0m\u001b[0m\n\u001b[1;32m     14\u001b[0m \u001b[0mtpl\u001b[0m \u001b[0;34m=\u001b[0m \u001b[0;34m(\u001b[0m\u001b[0;36m10\u001b[0m\u001b[0;34m,\u001b[0m \u001b[0;36m10.20\u001b[0m\u001b[0;34m,\u001b[0m \u001b[0;32mTrue\u001b[0m\u001b[0;34m,\u001b[0m \u001b[0;32mNone\u001b[0m\u001b[0;34m,\u001b[0m \u001b[0;36m10\u001b[0m\u001b[0;34m+\u001b[0m\u001b[0;36m20j\u001b[0m\u001b[0;34m,\u001b[0m \u001b[0;34m'Python'\u001b[0m\u001b[0;34m)\u001b[0m\u001b[0;34m\u001b[0m\u001b[0;34m\u001b[0m\u001b[0m\n\u001b[0;32m---> 15\u001b[0;31m \u001b[0ma\u001b[0m\u001b[0;34m,\u001b[0m\u001b[0mb\u001b[0m\u001b[0;34m,\u001b[0m\u001b[0mc\u001b[0m\u001b[0;34m,\u001b[0m\u001b[0md\u001b[0m\u001b[0;34m,\u001b[0m\u001b[0me\u001b[0m\u001b[0;34m,\u001b[0m \u001b[0mf\u001b[0m\u001b[0;34m,\u001b[0m \u001b[0mg\u001b[0m \u001b[0;34m=\u001b[0m \u001b[0mtpl\u001b[0m             \u001b[0;31m# Tuple unpacking\u001b[0m\u001b[0;34m\u001b[0m\u001b[0;34m\u001b[0m\u001b[0m\n\u001b[0m\u001b[1;32m     16\u001b[0m \u001b[0mprint\u001b[0m\u001b[0;34m(\u001b[0m\u001b[0ma\u001b[0m\u001b[0;34m)\u001b[0m\u001b[0;34m\u001b[0m\u001b[0;34m\u001b[0m\u001b[0m\n\u001b[1;32m     17\u001b[0m \u001b[0mprint\u001b[0m\u001b[0;34m(\u001b[0m\u001b[0mb\u001b[0m\u001b[0;34m)\u001b[0m\u001b[0;34m\u001b[0m\u001b[0;34m\u001b[0m\u001b[0m\n",
      "\u001b[0;31mValueError\u001b[0m: not enough values to unpack (expected 7, got 6)"
     ]
    }
   ],
   "source": [
    "# Tuple packing and unpacking\n",
    "# Packing multiple values to a single variable - Tuple packing\n",
    "# a = 10\n",
    "# b = 11\n",
    "# c = 200\n",
    "# d = None\n",
    "# e = True\n",
    "# tpl = a,b,c,d,e   # Tuple packing\n",
    "# print(tpl)\n",
    "\n",
    "\n",
    "# Unpacking the value of a tuple to different variable\n",
    "# No of elements inside a tuple and no of variable should be same\n",
    "tpl = (10, 10.20, True, None, 10+20j, 'Python')\n",
    "a,b,c,d,e,f = tpl             # Tuple unpacking\n",
    "print(a)\n",
    "print(b)\n",
    "print(c)\n",
    "print(d)\n",
    "print(e)\n",
    "print(f)\n",
    "\n"
   ]
  },
  {
   "cell_type": "code",
   "execution_count": 55,
   "metadata": {
    "ExecuteTime": {
     "end_time": "2021-04-23T03:50:29.805220Z",
     "start_time": "2021-04-23T03:50:29.793128Z"
    }
   },
   "outputs": [
    {
     "name": "stdout",
     "output_type": "stream",
     "text": [
      "['__add__', '__class__', '__contains__', '__delattr__', '__dir__', '__doc__', '__eq__', '__format__', '__ge__', '__getattribute__', '__getitem__', '__getnewargs__', '__gt__', '__hash__', '__init__', '__init_subclass__', '__iter__', '__le__', '__len__', '__lt__', '__mul__', '__ne__', '__new__', '__reduce__', '__reduce_ex__', '__repr__', '__rmul__', '__setattr__', '__sizeof__', '__str__', '__subclasshook__', 'count', 'index']\n"
     ]
    }
   ],
   "source": [
    "# Tuple methods\n",
    "# print(dir(tpl))\n",
    "\n",
    "\n",
    "# 'count', 'index'"
   ]
  },
  {
   "cell_type": "code",
   "execution_count": 57,
   "metadata": {
    "ExecuteTime": {
     "end_time": "2021-04-23T03:56:56.124482Z",
     "start_time": "2021-04-23T03:56:56.116516Z"
    }
   },
   "outputs": [
    {
     "name": "stdout",
     "output_type": "stream",
     "text": [
      "() <class 'tuple'>\n"
     ]
    }
   ],
   "source": [
    "tp = ()\n",
    "print(tp, type(tp))"
   ]
  },
  {
   "cell_type": "code",
   "execution_count": 2,
   "metadata": {
    "ExecuteTime": {
     "end_time": "2021-04-23T04:02:41.172702Z",
     "start_time": "2021-04-23T04:02:41.155382Z"
    }
   },
   "outputs": [
    {
     "ename": "SyntaxError",
     "evalue": "cannot assign to literal (<ipython-input-2-e55bd83a9031>, line 7)",
     "output_type": "error",
     "traceback": [
      "\u001b[0;36m  File \u001b[0;32m\"<ipython-input-2-e55bd83a9031>\"\u001b[0;36m, line \u001b[0;32m7\u001b[0m\n\u001b[0;31m    'a' = 10\u001b[0m\n\u001b[0m    ^\u001b[0m\n\u001b[0;31mSyntaxError\u001b[0m\u001b[0;31m:\u001b[0m cannot assign to literal\n"
     ]
    }
   ],
   "source": [
    "tpl = (10,10.20,True,None,10+20j,'Python')\n",
    "\n",
    "# a = ['a', 'b', 'c', 'd']\n",
    "# string, list, tuple\n",
    "# a[i]\n",
    "\n",
    "# 'a' = 10\n",
    "\n",
    "# for i in range(len(tpl)):\n",
    "#     a[i] = tpl\n",
    "#     print(a[i])"
   ]
  },
  {
   "cell_type": "code",
   "execution_count": 4,
   "metadata": {
    "ExecuteTime": {
     "end_time": "2021-04-23T04:03:48.931529Z",
     "start_time": "2021-04-23T04:03:48.918976Z"
    }
   },
   "outputs": [
    {
     "name": "stdout",
     "output_type": "stream",
     "text": [
      "10\n",
      "10.2\n",
      "True\n",
      "None\n",
      "(10+20j)\n",
      "Python\n"
     ]
    }
   ],
   "source": [
    "tpl = (10,10.20,True,None,10+20j,'Python')\n",
    "\n",
    "for i in range(len(tpl)):\n",
    "    print(tpl[i])"
   ]
  },
  {
   "cell_type": "code",
   "execution_count": 6,
   "metadata": {
    "ExecuteTime": {
     "end_time": "2021-04-23T04:05:25.422648Z",
     "start_time": "2021-04-23T04:05:25.418376Z"
    }
   },
   "outputs": [],
   "source": [
    "tpl = (10,10.20,True,None,10+20j,'Python')\n",
    "\n",
    "# for i in range(len(tpl)):\n",
    "#     a = tpl[i]\n",
    "#     print(a)"
   ]
  },
  {
   "cell_type": "code",
   "execution_count": 7,
   "metadata": {
    "ExecuteTime": {
     "end_time": "2021-04-23T04:06:17.996304Z",
     "start_time": "2021-04-23T04:06:17.990887Z"
    }
   },
   "outputs": [],
   "source": [
    "a = 10,20\n",
    "\n",
    "\n",
    "# x,y = a\n",
    "\n",
    "a, b = 10,20\n",
    "a, b = b, a"
   ]
  },
  {
   "cell_type": "code",
   "execution_count": null,
   "metadata": {},
   "outputs": [],
   "source": []
  },
  {
   "cell_type": "code",
   "execution_count": null,
   "metadata": {},
   "outputs": [],
   "source": []
  },
  {
   "cell_type": "code",
   "execution_count": null,
   "metadata": {},
   "outputs": [],
   "source": []
  },
  {
   "cell_type": "code",
   "execution_count": null,
   "metadata": {},
   "outputs": [],
   "source": []
  },
  {
   "cell_type": "code",
   "execution_count": null,
   "metadata": {},
   "outputs": [],
   "source": []
  },
  {
   "cell_type": "code",
   "execution_count": null,
   "metadata": {},
   "outputs": [],
   "source": []
  },
  {
   "cell_type": "code",
   "execution_count": null,
   "metadata": {},
   "outputs": [],
   "source": []
  },
  {
   "cell_type": "code",
   "execution_count": null,
   "metadata": {},
   "outputs": [],
   "source": []
  },
  {
   "cell_type": "code",
   "execution_count": null,
   "metadata": {},
   "outputs": [],
   "source": []
  },
  {
   "cell_type": "code",
   "execution_count": null,
   "metadata": {},
   "outputs": [],
   "source": []
  },
  {
   "cell_type": "code",
   "execution_count": null,
   "metadata": {},
   "outputs": [],
   "source": []
  },
  {
   "cell_type": "code",
   "execution_count": null,
   "metadata": {},
   "outputs": [],
   "source": []
  },
  {
   "cell_type": "code",
   "execution_count": null,
   "metadata": {},
   "outputs": [],
   "source": []
  },
  {
   "cell_type": "code",
   "execution_count": null,
   "metadata": {},
   "outputs": [],
   "source": []
  },
  {
   "cell_type": "code",
   "execution_count": null,
   "metadata": {},
   "outputs": [],
   "source": []
  },
  {
   "cell_type": "code",
   "execution_count": null,
   "metadata": {},
   "outputs": [],
   "source": []
  },
  {
   "cell_type": "code",
   "execution_count": null,
   "metadata": {},
   "outputs": [],
   "source": []
  },
  {
   "cell_type": "code",
   "execution_count": null,
   "metadata": {},
   "outputs": [],
   "source": []
  },
  {
   "cell_type": "code",
   "execution_count": null,
   "metadata": {},
   "outputs": [],
   "source": []
  },
  {
   "cell_type": "code",
   "execution_count": null,
   "metadata": {},
   "outputs": [],
   "source": []
  },
  {
   "cell_type": "code",
   "execution_count": null,
   "metadata": {},
   "outputs": [],
   "source": []
  },
  {
   "cell_type": "code",
   "execution_count": null,
   "metadata": {},
   "outputs": [],
   "source": []
  },
  {
   "cell_type": "code",
   "execution_count": null,
   "metadata": {},
   "outputs": [],
   "source": []
  },
  {
   "cell_type": "code",
   "execution_count": null,
   "metadata": {},
   "outputs": [],
   "source": []
  },
  {
   "cell_type": "code",
   "execution_count": null,
   "metadata": {},
   "outputs": [],
   "source": []
  },
  {
   "cell_type": "code",
   "execution_count": null,
   "metadata": {},
   "outputs": [],
   "source": []
  },
  {
   "cell_type": "code",
   "execution_count": null,
   "metadata": {},
   "outputs": [],
   "source": []
  },
  {
   "cell_type": "code",
   "execution_count": null,
   "metadata": {},
   "outputs": [],
   "source": []
  },
  {
   "cell_type": "code",
   "execution_count": null,
   "metadata": {},
   "outputs": [],
   "source": []
  },
  {
   "cell_type": "code",
   "execution_count": null,
   "metadata": {},
   "outputs": [],
   "source": []
  },
  {
   "cell_type": "code",
   "execution_count": null,
   "metadata": {},
   "outputs": [],
   "source": []
  },
  {
   "cell_type": "code",
   "execution_count": null,
   "metadata": {},
   "outputs": [],
   "source": []
  },
  {
   "cell_type": "code",
   "execution_count": null,
   "metadata": {},
   "outputs": [],
   "source": []
  },
  {
   "cell_type": "code",
   "execution_count": null,
   "metadata": {},
   "outputs": [],
   "source": []
  },
  {
   "cell_type": "code",
   "execution_count": null,
   "metadata": {},
   "outputs": [],
   "source": []
  },
  {
   "cell_type": "code",
   "execution_count": null,
   "metadata": {},
   "outputs": [],
   "source": []
  },
  {
   "cell_type": "code",
   "execution_count": null,
   "metadata": {},
   "outputs": [],
   "source": []
  },
  {
   "cell_type": "code",
   "execution_count": null,
   "metadata": {},
   "outputs": [],
   "source": []
  },
  {
   "cell_type": "code",
   "execution_count": null,
   "metadata": {},
   "outputs": [],
   "source": []
  },
  {
   "cell_type": "code",
   "execution_count": null,
   "metadata": {},
   "outputs": [],
   "source": []
  },
  {
   "cell_type": "code",
   "execution_count": null,
   "metadata": {},
   "outputs": [],
   "source": []
  },
  {
   "cell_type": "code",
   "execution_count": null,
   "metadata": {},
   "outputs": [],
   "source": []
  },
  {
   "cell_type": "code",
   "execution_count": null,
   "metadata": {},
   "outputs": [],
   "source": []
  },
  {
   "cell_type": "code",
   "execution_count": null,
   "metadata": {},
   "outputs": [],
   "source": []
  },
  {
   "cell_type": "code",
   "execution_count": null,
   "metadata": {},
   "outputs": [],
   "source": []
  },
  {
   "cell_type": "code",
   "execution_count": null,
   "metadata": {},
   "outputs": [],
   "source": []
  },
  {
   "cell_type": "code",
   "execution_count": null,
   "metadata": {},
   "outputs": [],
   "source": []
  },
  {
   "cell_type": "code",
   "execution_count": null,
   "metadata": {},
   "outputs": [],
   "source": []
  },
  {
   "cell_type": "code",
   "execution_count": null,
   "metadata": {},
   "outputs": [],
   "source": []
  },
  {
   "cell_type": "code",
   "execution_count": null,
   "metadata": {},
   "outputs": [],
   "source": []
  },
  {
   "cell_type": "code",
   "execution_count": null,
   "metadata": {},
   "outputs": [],
   "source": []
  },
  {
   "cell_type": "code",
   "execution_count": null,
   "metadata": {},
   "outputs": [],
   "source": []
  },
  {
   "cell_type": "code",
   "execution_count": null,
   "metadata": {},
   "outputs": [],
   "source": []
  },
  {
   "cell_type": "code",
   "execution_count": null,
   "metadata": {},
   "outputs": [],
   "source": []
  },
  {
   "cell_type": "code",
   "execution_count": null,
   "metadata": {},
   "outputs": [],
   "source": []
  },
  {
   "cell_type": "code",
   "execution_count": null,
   "metadata": {},
   "outputs": [],
   "source": []
  }
 ],
 "metadata": {
  "kernelspec": {
   "display_name": "Python 3",
   "language": "python",
   "name": "python3"
  },
  "language_info": {
   "codemirror_mode": {
    "name": "ipython",
    "version": 3
   },
   "file_extension": ".py",
   "mimetype": "text/x-python",
   "name": "python",
   "nbconvert_exporter": "python",
   "pygments_lexer": "ipython3",
   "version": "3.8.2"
  },
  "latex_envs": {
   "LaTeX_envs_menu_present": true,
   "autoclose": false,
   "autocomplete": true,
   "bibliofile": "biblio.bib",
   "cite_by": "apalike",
   "current_citInitial": 1,
   "eqLabelWithNumbers": true,
   "eqNumInitial": 1,
   "hotkeys": {
    "equation": "Ctrl-E",
    "itemize": "Ctrl-I"
   },
   "labels_anchors": false,
   "latex_user_defs": false,
   "report_style_numbering": false,
   "user_envs_cfg": false
  },
  "varInspector": {
   "cols": {
    "lenName": 16,
    "lenType": 16,
    "lenVar": 40
   },
   "kernels_config": {
    "python": {
     "delete_cmd_postfix": "",
     "delete_cmd_prefix": "del ",
     "library": "var_list.py",
     "varRefreshCmd": "print(var_dic_list())"
    },
    "r": {
     "delete_cmd_postfix": ") ",
     "delete_cmd_prefix": "rm(",
     "library": "var_list.r",
     "varRefreshCmd": "cat(var_dic_list()) "
    }
   },
   "types_to_exclude": [
    "module",
    "function",
    "builtin_function_or_method",
    "instance",
    "_Feature"
   ],
   "window_display": false
  }
 },
 "nbformat": 4,
 "nbformat_minor": 2
}
