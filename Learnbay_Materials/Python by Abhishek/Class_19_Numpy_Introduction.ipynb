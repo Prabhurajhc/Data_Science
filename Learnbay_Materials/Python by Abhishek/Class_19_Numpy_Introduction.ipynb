{
 "cells": [
  {
   "cell_type": "code",
   "execution_count": 2,
   "metadata": {
    "ExecuteTime": {
     "end_time": "2021-05-10T03:05:26.331158Z",
     "start_time": "2021-05-10T03:05:26.324092Z"
    }
   },
   "outputs": [
    {
     "data": {
      "text/plain": [
       "array([[0, 0, 0, 0, 0],\n",
       "       [0, 0, 0, 0, 0],\n",
       "       [0, 0, 0, 0, 0],\n",
       "       [0, 0, 0, 0, 0]])"
      ]
     },
     "execution_count": 2,
     "metadata": {},
     "output_type": "execute_result"
    }
   ],
   "source": [
    "# Creating an array\n",
    "import numpy as np\n",
    "np.zeros((4,5), dtype = int)"
   ]
  },
  {
   "cell_type": "code",
   "execution_count": 3,
   "metadata": {
    "ExecuteTime": {
     "end_time": "2021-05-10T03:05:27.843305Z",
     "start_time": "2021-05-10T03:05:27.832942Z"
    }
   },
   "outputs": [
    {
     "data": {
      "text/plain": [
       "array([[1., 1., 1., 1.],\n",
       "       [1., 1., 1., 1.],\n",
       "       [1., 1., 1., 1.],\n",
       "       [1., 1., 1., 1.],\n",
       "       [1., 1., 1., 1.]])"
      ]
     },
     "execution_count": 3,
     "metadata": {},
     "output_type": "execute_result"
    }
   ],
   "source": [
    "np.ones((5,4)) "
   ]
  },
  {
   "cell_type": "code",
   "execution_count": 4,
   "metadata": {
    "ExecuteTime": {
     "end_time": "2021-05-10T03:05:32.409972Z",
     "start_time": "2021-05-10T03:05:32.399321Z"
    }
   },
   "outputs": [
    {
     "data": {
      "text/plain": [
       "array([[1., 0., 0., 0.],\n",
       "       [0., 1., 0., 0.],\n",
       "       [0., 0., 1., 0.],\n",
       "       [0., 0., 0., 1.]])"
      ]
     },
     "execution_count": 4,
     "metadata": {},
     "output_type": "execute_result"
    }
   ],
   "source": [
    "np.eye(4)\n"
   ]
  },
  {
   "cell_type": "code",
   "execution_count": 6,
   "metadata": {
    "ExecuteTime": {
     "end_time": "2021-05-10T03:15:36.867237Z",
     "start_time": "2021-05-10T03:15:36.859570Z"
    }
   },
   "outputs": [
    {
     "data": {
      "text/plain": [
       "array([[0.00000000e+000, 0.00000000e+000, 2.96439388e-323,\n",
       "        0.00000000e+000, 1.48539705e-313, 5.74084271e+169],\n",
       "       [5.58171564e-091, 9.76835929e+165, 1.52410723e-052,\n",
       "        3.92588485e-033, 3.99910963e+252, 8.34403735e-309]])"
      ]
     },
     "execution_count": 6,
     "metadata": {},
     "output_type": "execute_result"
    }
   ],
   "source": [
    "np.empty((2,6))"
   ]
  },
  {
   "cell_type": "code",
   "execution_count": 8,
   "metadata": {
    "ExecuteTime": {
     "end_time": "2021-05-10T03:19:00.766040Z",
     "start_time": "2021-05-10T03:19:00.745063Z"
    }
   },
   "outputs": [
    {
     "data": {
      "text/plain": [
       "array([0, 1, 2, 3, 4, 5, 6, 7, 8, 9])"
      ]
     },
     "execution_count": 8,
     "metadata": {},
     "output_type": "execute_result"
    }
   ],
   "source": [
    "# Reshape an array\n",
    "\n",
    "a = np.arange(10)\n",
    "a"
   ]
  },
  {
   "cell_type": "code",
   "execution_count": 9,
   "metadata": {
    "ExecuteTime": {
     "end_time": "2021-05-10T03:19:06.375838Z",
     "start_time": "2021-05-10T03:19:06.367334Z"
    }
   },
   "outputs": [
    {
     "name": "stdout",
     "output_type": "stream",
     "text": [
      "(10,)\n"
     ]
    }
   ],
   "source": [
    "print(a.shape)"
   ]
  },
  {
   "cell_type": "code",
   "execution_count": 12,
   "metadata": {
    "ExecuteTime": {
     "end_time": "2021-05-10T03:20:08.193162Z",
     "start_time": "2021-05-10T03:20:08.182593Z"
    }
   },
   "outputs": [
    {
     "data": {
      "text/plain": [
       "array([[0, 1, 2, 3, 4],\n",
       "       [5, 6, 7, 8, 9]])"
      ]
     },
     "execution_count": 12,
     "metadata": {},
     "output_type": "execute_result"
    }
   ],
   "source": [
    "b = a.reshape(2,5)\n",
    "\n",
    "# Reshape function creates a new object\n",
    "\n",
    "b"
   ]
  },
  {
   "cell_type": "code",
   "execution_count": 11,
   "metadata": {
    "ExecuteTime": {
     "end_time": "2021-05-10T03:20:00.328994Z",
     "start_time": "2021-05-10T03:20:00.322280Z"
    }
   },
   "outputs": [
    {
     "data": {
      "text/plain": [
       "array([0, 1, 2, 3, 4, 5, 6, 7, 8, 9])"
      ]
     },
     "execution_count": 11,
     "metadata": {},
     "output_type": "execute_result"
    }
   ],
   "source": [
    "a"
   ]
  },
  {
   "cell_type": "code",
   "execution_count": 34,
   "metadata": {
    "ExecuteTime": {
     "end_time": "2021-05-10T03:41:21.931667Z",
     "start_time": "2021-05-10T03:41:21.922379Z"
    }
   },
   "outputs": [
    {
     "data": {
      "text/plain": [
       "array([[25, 26, 27, 28, 29, 30],\n",
       "       [31, 32, 33, 34, 35, 36],\n",
       "       [37, 38, 39, 40, 41, 42],\n",
       "       [43, 44, 45, 46, 47, 48],\n",
       "       [49, 50, 51, 52, 53, 54]])"
      ]
     },
     "execution_count": 34,
     "metadata": {},
     "output_type": "execute_result"
    }
   ],
   "source": [
    "arr = np.arange(25, 55).reshape(5,6)\n",
    "arr\n",
    "\n",
    "# While reshaping an array no of element in an array and product of rows and column while reshaoing should be same"
   ]
  },
  {
   "cell_type": "code",
   "execution_count": 18,
   "metadata": {
    "ExecuteTime": {
     "end_time": "2021-05-10T03:25:34.241698Z",
     "start_time": "2021-05-10T03:25:34.234080Z"
    }
   },
   "outputs": [
    {
     "data": {
      "text/plain": [
       "array([[[25, 26, 27],\n",
       "        [28, 29, 30],\n",
       "        [31, 32, 33],\n",
       "        [34, 35, 36],\n",
       "        [37, 38, 39]],\n",
       "\n",
       "       [[40, 41, 42],\n",
       "        [43, 44, 45],\n",
       "        [46, 47, 48],\n",
       "        [49, 50, 51],\n",
       "        [52, 53, 54]]])"
      ]
     },
     "execution_count": 18,
     "metadata": {},
     "output_type": "execute_result"
    }
   ],
   "source": [
    "# Reshaping using shape attribute\n",
    "\n",
    "arr.shape = 2, 5, 3\n",
    "arr\n",
    "\n",
    "# Makes the changes to existing array object"
   ]
  },
  {
   "cell_type": "code",
   "execution_count": 24,
   "metadata": {
    "ExecuteTime": {
     "end_time": "2021-05-10T03:33:16.183048Z",
     "start_time": "2021-05-10T03:33:16.176112Z"
    }
   },
   "outputs": [
    {
     "data": {
      "text/plain": [
       "array([25, 26, 27, 28, 29, 30, 31, 32, 33, 34, 35, 36, 37, 38, 39, 40, 41,\n",
       "       42, 43, 44, 45, 46, 47, 48, 49, 50, 51, 52, 53, 54])"
      ]
     },
     "execution_count": 24,
     "metadata": {},
     "output_type": "execute_result"
    }
   ],
   "source": [
    "# Reshaping 2D or 3D matrix to 1D Matrix\n",
    "arr1 = arr.ravel()\n",
    "arr1"
   ]
  },
  {
   "cell_type": "code",
   "execution_count": 29,
   "metadata": {
    "ExecuteTime": {
     "end_time": "2021-05-10T03:36:59.808908Z",
     "start_time": "2021-05-10T03:36:59.785112Z"
    }
   },
   "outputs": [
    {
     "ename": "ValueError",
     "evalue": "can only specify one unknown dimension",
     "output_type": "error",
     "traceback": [
      "\u001b[0;31m---------------------------------------------------------------------------\u001b[0m",
      "\u001b[0;31mValueError\u001b[0m                                Traceback (most recent call last)",
      "\u001b[0;32m<ipython-input-29-b1431efe205b>\u001b[0m in \u001b[0;36m<module>\u001b[0;34m\u001b[0m\n\u001b[0;32m----> 1\u001b[0;31m \u001b[0marr1\u001b[0m\u001b[0;34m.\u001b[0m\u001b[0mreshape\u001b[0m\u001b[0;34m(\u001b[0m\u001b[0;36m2\u001b[0m\u001b[0;34m,\u001b[0m \u001b[0;34m-\u001b[0m\u001b[0;36m1\u001b[0m\u001b[0;34m,\u001b[0m \u001b[0;34m-\u001b[0m\u001b[0;36m1\u001b[0m\u001b[0;34m)\u001b[0m\u001b[0;34m\u001b[0m\u001b[0;34m\u001b[0m\u001b[0m\n\u001b[0m\u001b[1;32m      2\u001b[0m \u001b[0;34m\u001b[0m\u001b[0m\n\u001b[1;32m      3\u001b[0m \u001b[0;31m# any one dimension, either, row, or coloumn or rank can be -negative\u001b[0m\u001b[0;34m\u001b[0m\u001b[0;34m\u001b[0m\u001b[0;34m\u001b[0m\u001b[0m\n",
      "\u001b[0;31mValueError\u001b[0m: can only specify one unknown dimension"
     ]
    }
   ],
   "source": [
    "# arr1.reshape(2, -1, -1)\n",
    "\n",
    "# any one dimension, either, row, or coloumn or rank can be -negative"
   ]
  },
  {
   "cell_type": "code",
   "execution_count": 38,
   "metadata": {
    "ExecuteTime": {
     "end_time": "2021-05-10T03:43:12.380046Z",
     "start_time": "2021-05-10T03:43:12.366291Z"
    }
   },
   "outputs": [],
   "source": [
    "# Transpose - Row converted to column and column converted to row\n",
    "\n",
    "# print(arr)\n",
    "# print()\n",
    "# print(arr.T)\n",
    "\n",
    "# print(arr)\n",
    "# arr.T\n"
   ]
  },
  {
   "cell_type": "code",
   "execution_count": 39,
   "metadata": {
    "ExecuteTime": {
     "end_time": "2021-05-10T03:44:33.623310Z",
     "start_time": "2021-05-10T03:44:33.610052Z"
    }
   },
   "outputs": [
    {
     "data": {
      "text/plain": [
       "array([10, 20, 30, 40, 50])"
      ]
     },
     "execution_count": 39,
     "metadata": {},
     "output_type": "execute_result"
    }
   ],
   "source": [
    "# Basic Operations on an array\n",
    "# Arithmetic, Compariosn, Equality, \n",
    "\n",
    "arr1 = np.array([10,20,30,40,50])\n",
    "arr2 = np.array([11,22,33,44,55])\n",
    "arr1"
   ]
  },
  {
   "cell_type": "code",
   "execution_count": 40,
   "metadata": {
    "ExecuteTime": {
     "end_time": "2021-05-10T03:44:36.063999Z",
     "start_time": "2021-05-10T03:44:36.056887Z"
    }
   },
   "outputs": [
    {
     "data": {
      "text/plain": [
       "array([11, 22, 33, 44, 55])"
      ]
     },
     "execution_count": 40,
     "metadata": {},
     "output_type": "execute_result"
    }
   ],
   "source": [
    "arr2"
   ]
  },
  {
   "cell_type": "code",
   "execution_count": 41,
   "metadata": {
    "ExecuteTime": {
     "end_time": "2021-05-10T03:44:52.411079Z",
     "start_time": "2021-05-10T03:44:52.402048Z"
    }
   },
   "outputs": [
    {
     "data": {
      "text/plain": [
       "array([ 21,  42,  63,  84, 105])"
      ]
     },
     "execution_count": 41,
     "metadata": {},
     "output_type": "execute_result"
    }
   ],
   "source": [
    "arr1 + arr2"
   ]
  },
  {
   "cell_type": "code",
   "execution_count": 45,
   "metadata": {
    "ExecuteTime": {
     "end_time": "2021-05-10T03:46:00.785518Z",
     "start_time": "2021-05-10T03:46:00.778058Z"
    }
   },
   "outputs": [
    {
     "data": {
      "text/plain": [
       "array([12, 22, 32, 42, 52])"
      ]
     },
     "execution_count": 45,
     "metadata": {},
     "output_type": "execute_result"
    }
   ],
   "source": [
    "arr1 + 2"
   ]
  },
  {
   "cell_type": "code",
   "execution_count": 42,
   "metadata": {
    "ExecuteTime": {
     "end_time": "2021-05-10T03:45:19.475164Z",
     "start_time": "2021-05-10T03:45:19.464052Z"
    }
   },
   "outputs": [
    {
     "data": {
      "text/plain": [
       "array([ 20,  40,  60,  80, 100])"
      ]
     },
     "execution_count": 42,
     "metadata": {},
     "output_type": "execute_result"
    }
   ],
   "source": [
    "arr1 * 2"
   ]
  },
  {
   "cell_type": "code",
   "execution_count": 43,
   "metadata": {
    "ExecuteTime": {
     "end_time": "2021-05-10T03:45:29.271394Z",
     "start_time": "2021-05-10T03:45:29.259935Z"
    }
   },
   "outputs": [
    {
     "data": {
      "text/plain": [
       "array([ 5., 10., 15., 20., 25.])"
      ]
     },
     "execution_count": 43,
     "metadata": {},
     "output_type": "execute_result"
    }
   ],
   "source": [
    "arr1 / 2"
   ]
  },
  {
   "cell_type": "code",
   "execution_count": 44,
   "metadata": {
    "ExecuteTime": {
     "end_time": "2021-05-10T03:45:39.257012Z",
     "start_time": "2021-05-10T03:45:39.244785Z"
    }
   },
   "outputs": [
    {
     "data": {
      "text/plain": [
       "array([0, 0, 0, 0, 0])"
      ]
     },
     "execution_count": 44,
     "metadata": {},
     "output_type": "execute_result"
    }
   ],
   "source": [
    "arr1 % 2"
   ]
  },
  {
   "cell_type": "code",
   "execution_count": 46,
   "metadata": {
    "ExecuteTime": {
     "end_time": "2021-05-10T03:46:39.116123Z",
     "start_time": "2021-05-10T03:46:39.102064Z"
    }
   },
   "outputs": [
    {
     "data": {
      "text/plain": [
       "array([False, False, False,  True,  True])"
      ]
     },
     "execution_count": 46,
     "metadata": {},
     "output_type": "execute_result"
    }
   ],
   "source": [
    "arr1 > 30"
   ]
  },
  {
   "cell_type": "code",
   "execution_count": 52,
   "metadata": {
    "ExecuteTime": {
     "end_time": "2021-05-10T03:51:21.502737Z",
     "start_time": "2021-05-10T03:51:21.485426Z"
    }
   },
   "outputs": [
    {
     "name": "stdout",
     "output_type": "stream",
     "text": [
      "[[ 75  78  81  84  87  90]\n",
      " [ 93  96  99 102 105 108]\n",
      " [111 114 117 120 123 126]\n",
      " [129 132 135 138 141 144]\n",
      " [147 150 153 156 159 162]]\n"
     ]
    },
    {
     "ename": "ValueError",
     "evalue": "operands could not be broadcast together with shapes (5,6) (5,) ",
     "output_type": "error",
     "traceback": [
      "\u001b[0;31m---------------------------------------------------------------------------\u001b[0m",
      "\u001b[0;31mValueError\u001b[0m                                Traceback (most recent call last)",
      "\u001b[0;32m<ipython-input-52-e1c35a4bdf0f>\u001b[0m in \u001b[0;36m<module>\u001b[0;34m\u001b[0m\n\u001b[1;32m      6\u001b[0m \u001b[0;31m# Scalar product\u001b[0m\u001b[0;34m\u001b[0m\u001b[0;34m\u001b[0m\u001b[0;34m\u001b[0m\u001b[0m\n\u001b[1;32m      7\u001b[0m \u001b[0mprint\u001b[0m\u001b[0;34m(\u001b[0m\u001b[0marr1\u001b[0m \u001b[0;34m*\u001b[0m \u001b[0;36m3\u001b[0m\u001b[0;34m)\u001b[0m\u001b[0;34m\u001b[0m\u001b[0;34m\u001b[0m\u001b[0m\n\u001b[0;32m----> 8\u001b[0;31m \u001b[0mprint\u001b[0m\u001b[0;34m(\u001b[0m\u001b[0marr1\u001b[0m \u001b[0;34m*\u001b[0m \u001b[0marr2\u001b[0m\u001b[0;34m)\u001b[0m   \u001b[0;31m# Shape of both the array should be same\u001b[0m\u001b[0;34m\u001b[0m\u001b[0;34m\u001b[0m\u001b[0m\n\u001b[0m\u001b[1;32m      9\u001b[0m \u001b[0;34m\u001b[0m\u001b[0m\n\u001b[1;32m     10\u001b[0m \u001b[0;34m\u001b[0m\u001b[0m\n",
      "\u001b[0;31mValueError\u001b[0m: operands could not be broadcast together with shapes (5,6) (5,) "
     ]
    }
   ],
   "source": [
    "# Multiplication on an array\n",
    "    # Scalar Mulltiplication\n",
    "    # Vector Multiplication - dot product\n",
    "\n",
    "    \n",
    "# Scalar product\n",
    "print(arr1 * 3)    \n",
    "# print(arr1 * arr2)   # Shape of both the array should be same\n",
    "\n",
    "\n",
    "# Vector product - np.dot(arr1, arr2)\n",
    "# np.dot(arr1, arr2)\n",
    "\n",
    "# Vector product on 2D matrix\n",
    "# no of columns in first matrix and no of rows in 2nd matrix should be same\n",
    "# Resultant matrix shape will be = (no of rows in first matrix, no of column in 2nd matrix)\n"
   ]
  },
  {
   "cell_type": "code",
   "execution_count": 65,
   "metadata": {
    "ExecuteTime": {
     "end_time": "2021-05-10T04:01:27.506938Z",
     "start_time": "2021-05-10T04:01:27.495928Z"
    }
   },
   "outputs": [
    {
     "data": {
      "text/plain": [
       "array([[2745, 2910, 3075, 3240, 3405, 3570],\n",
       "       [3321, 3522, 3723, 3924, 4125, 4326],\n",
       "       [3897, 4134, 4371, 4608, 4845, 5082],\n",
       "       [4473, 4746, 5019, 5292, 5565, 5838],\n",
       "       [5049, 5358, 5667, 5976, 6285, 6594]])"
      ]
     },
     "execution_count": 65,
     "metadata": {},
     "output_type": "execute_result"
    }
   ],
   "source": [
    "arr1 = np.arange(25, 55).reshape(5, 6)\n",
    "arr2 = np.arange(1, 37).reshape(6, 6)\n",
    "np.dot(arr1, arr2)"
   ]
  },
  {
   "cell_type": "code",
   "execution_count": 63,
   "metadata": {
    "ExecuteTime": {
     "end_time": "2021-05-10T04:00:48.635173Z",
     "start_time": "2021-05-10T04:00:48.627666Z"
    }
   },
   "outputs": [
    {
     "data": {
      "text/plain": [
       "array([[0, 2, 2, 0, 0, 2],\n",
       "       [2, 0, 0, 2, 2, 0],\n",
       "       [0, 2, 2, 0, 0, 2],\n",
       "       [2, 0, 0, 2, 2, 0],\n",
       "       [0, 2, 2, 0, 0, 2]])"
      ]
     },
     "execution_count": 63,
     "metadata": {},
     "output_type": "execute_result"
    }
   ],
   "source": [
    "# Compound assignment operation\n",
    "arr1 &= 2\n",
    "arr1"
   ]
  },
  {
   "cell_type": "code",
   "execution_count": 67,
   "metadata": {
    "ExecuteTime": {
     "end_time": "2021-05-10T04:01:35.574649Z",
     "start_time": "2021-05-10T04:01:35.563919Z"
    }
   },
   "outputs": [
    {
     "data": {
      "text/plain": [
       "1185"
      ]
     },
     "execution_count": 67,
     "metadata": {},
     "output_type": "execute_result"
    }
   ],
   "source": [
    "# unary operations - sum(), max, min\n",
    "arr1.sum()"
   ]
  },
  {
   "cell_type": "code",
   "execution_count": 69,
   "metadata": {
    "ExecuteTime": {
     "end_time": "2021-05-10T04:02:19.053240Z",
     "start_time": "2021-05-10T04:02:19.041787Z"
    }
   },
   "outputs": [
    {
     "data": {
      "text/plain": [
       "array([[25, 26, 27, 28, 29, 30],\n",
       "       [31, 32, 33, 34, 35, 36],\n",
       "       [37, 38, 39, 40, 41, 42],\n",
       "       [43, 44, 45, 46, 47, 48],\n",
       "       [49, 50, 51, 52, 53, 54]])"
      ]
     },
     "execution_count": 69,
     "metadata": {},
     "output_type": "execute_result"
    }
   ],
   "source": [
    "arr1"
   ]
  },
  {
   "cell_type": "code",
   "execution_count": 68,
   "metadata": {
    "ExecuteTime": {
     "end_time": "2021-05-10T04:02:11.824710Z",
     "start_time": "2021-05-10T04:02:11.812311Z"
    }
   },
   "outputs": [
    {
     "data": {
      "text/plain": [
       "array([185, 190, 195, 200, 205, 210])"
      ]
     },
     "execution_count": 68,
     "metadata": {},
     "output_type": "execute_result"
    }
   ],
   "source": [
    "# Finding sum of array elements in each row\n",
    "arr1.sum(axis = 0)"
   ]
  },
  {
   "cell_type": "code",
   "execution_count": 70,
   "metadata": {
    "ExecuteTime": {
     "end_time": "2021-05-10T04:02:34.694490Z",
     "start_time": "2021-05-10T04:02:34.681247Z"
    }
   },
   "outputs": [
    {
     "data": {
      "text/plain": [
       "array([165, 201, 237, 273, 309])"
      ]
     },
     "execution_count": 70,
     "metadata": {},
     "output_type": "execute_result"
    }
   ],
   "source": [
    "# Finding sum of array elements in each column\n",
    "arr1.sum(axis = 1)"
   ]
  },
  {
   "cell_type": "code",
   "execution_count": 71,
   "metadata": {
    "ExecuteTime": {
     "end_time": "2021-05-10T04:03:17.273594Z",
     "start_time": "2021-05-10T04:03:17.265893Z"
    }
   },
   "outputs": [
    {
     "data": {
      "text/plain": [
       "54"
      ]
     },
     "execution_count": 71,
     "metadata": {},
     "output_type": "execute_result"
    }
   ],
   "source": [
    "# Finding maximum value from an array\n",
    "arr.max()"
   ]
  },
  {
   "cell_type": "code",
   "execution_count": 72,
   "metadata": {
    "ExecuteTime": {
     "end_time": "2021-05-10T04:03:20.681376Z",
     "start_time": "2021-05-10T04:03:20.670171Z"
    }
   },
   "outputs": [
    {
     "data": {
      "text/plain": [
       "array([49, 50, 51, 52, 53, 54])"
      ]
     },
     "execution_count": 72,
     "metadata": {},
     "output_type": "execute_result"
    }
   ],
   "source": [
    "# Finding max element of array elements in each row\n",
    "arr1.max(axis = 0)"
   ]
  },
  {
   "cell_type": "code",
   "execution_count": 73,
   "metadata": {
    "ExecuteTime": {
     "end_time": "2021-05-10T04:03:31.704145Z",
     "start_time": "2021-05-10T04:03:31.689354Z"
    }
   },
   "outputs": [
    {
     "data": {
      "text/plain": [
       "array([30, 36, 42, 48, 54])"
      ]
     },
     "execution_count": 73,
     "metadata": {},
     "output_type": "execute_result"
    }
   ],
   "source": [
    "# Finding max element of array elements in each col\n",
    "arr1.max(axis = 1)"
   ]
  },
  {
   "cell_type": "code",
   "execution_count": 75,
   "metadata": {
    "ExecuteTime": {
     "end_time": "2021-05-10T04:06:33.959078Z",
     "start_time": "2021-05-10T04:06:33.955754Z"
    }
   },
   "outputs": [],
   "source": [
    "# arr1 and 2\n",
    "\n",
    "# &, |"
   ]
  },
  {
   "cell_type": "markdown",
   "metadata": {},
   "source": [
    "# Indexing and slicing\n"
   ]
  },
  {
   "cell_type": "code",
   "execution_count": 76,
   "metadata": {
    "ExecuteTime": {
     "end_time": "2021-05-10T04:07:06.313706Z",
     "start_time": "2021-05-10T04:07:06.306014Z"
    }
   },
   "outputs": [
    {
     "data": {
      "text/plain": [
       "array([25, 26, 27, 28, 29, 30, 31, 32, 33, 34])"
      ]
     },
     "execution_count": 76,
     "metadata": {},
     "output_type": "execute_result"
    }
   ],
   "source": [
    "arr1 = np.arange(25, 35)\n",
    "arr1"
   ]
  },
  {
   "cell_type": "code",
   "execution_count": 77,
   "metadata": {
    "ExecuteTime": {
     "end_time": "2021-05-10T04:07:11.249299Z",
     "start_time": "2021-05-10T04:07:11.238837Z"
    }
   },
   "outputs": [
    {
     "data": {
      "text/plain": [
       "25"
      ]
     },
     "execution_count": 77,
     "metadata": {},
     "output_type": "execute_result"
    }
   ],
   "source": [
    "arr1[0]"
   ]
  },
  {
   "cell_type": "code",
   "execution_count": 78,
   "metadata": {
    "ExecuteTime": {
     "end_time": "2021-05-10T04:07:14.839015Z",
     "start_time": "2021-05-10T04:07:14.831589Z"
    }
   },
   "outputs": [
    {
     "data": {
      "text/plain": [
       "34"
      ]
     },
     "execution_count": 78,
     "metadata": {},
     "output_type": "execute_result"
    }
   ],
   "source": [
    "arr1[-1]"
   ]
  },
  {
   "cell_type": "code",
   "execution_count": 82,
   "metadata": {
    "ExecuteTime": {
     "end_time": "2021-05-10T04:07:49.794064Z",
     "start_time": "2021-05-10T04:07:49.779923Z"
    }
   },
   "outputs": [
    {
     "data": {
      "text/plain": [
       "array([34, 33, 32, 31, 30, 29, 28, 27, 26, 25])"
      ]
     },
     "execution_count": 82,
     "metadata": {},
     "output_type": "execute_result"
    }
   ],
   "source": [
    "arr1[2:6:2]\n",
    "\n",
    "arr1[::-1]"
   ]
  },
  {
   "cell_type": "code",
   "execution_count": 83,
   "metadata": {
    "ExecuteTime": {
     "end_time": "2021-05-10T04:08:21.074719Z",
     "start_time": "2021-05-10T04:08:21.059225Z"
    }
   },
   "outputs": [
    {
     "data": {
      "text/plain": [
       "array([[25, 26, 27, 28, 29, 30],\n",
       "       [31, 32, 33, 34, 35, 36],\n",
       "       [37, 38, 39, 40, 41, 42],\n",
       "       [43, 44, 45, 46, 47, 48],\n",
       "       [49, 50, 51, 52, 53, 54],\n",
       "       [55, 56, 57, 58, 59, 60]])"
      ]
     },
     "execution_count": 83,
     "metadata": {},
     "output_type": "execute_result"
    }
   ],
   "source": [
    "# on 2D array\n",
    "arr2 = np.arange(25, 61).reshape(6, 6)\n",
    "arr2"
   ]
  },
  {
   "cell_type": "code",
   "execution_count": 85,
   "metadata": {
    "ExecuteTime": {
     "end_time": "2021-05-10T04:09:55.545183Z",
     "start_time": "2021-05-10T04:09:55.533075Z"
    }
   },
   "outputs": [
    {
     "data": {
      "text/plain": [
       "array([55, 56, 57, 58, 59, 60])"
      ]
     },
     "execution_count": 85,
     "metadata": {},
     "output_type": "execute_result"
    }
   ],
   "source": [
    "# While performing indexing or slicing on an array, then first element should be row and second should be column\n",
    "arr2[0]\n",
    "arr2[-1]\n"
   ]
  },
  {
   "cell_type": "code",
   "execution_count": 89,
   "metadata": {
    "ExecuteTime": {
     "end_time": "2021-05-10T04:11:29.416380Z",
     "start_time": "2021-05-10T04:11:29.404743Z"
    }
   },
   "outputs": [
    {
     "data": {
      "text/plain": [
       "array([25, 31, 37, 43, 49, 55])"
      ]
     },
     "execution_count": 89,
     "metadata": {},
     "output_type": "execute_result"
    }
   ],
   "source": [
    "arr2[::, 0]"
   ]
  },
  {
   "cell_type": "code",
   "execution_count": 91,
   "metadata": {
    "ExecuteTime": {
     "end_time": "2021-05-10T04:12:24.296321Z",
     "start_time": "2021-05-10T04:12:24.285952Z"
    }
   },
   "outputs": [
    {
     "data": {
      "text/plain": [
       "39"
      ]
     },
     "execution_count": 91,
     "metadata": {},
     "output_type": "execute_result"
    }
   ],
   "source": [
    "# To access a particular element\n",
    "arr2[2, 2]\n",
    "arr2[2][2]"
   ]
  },
  {
   "cell_type": "code",
   "execution_count": 98,
   "metadata": {
    "ExecuteTime": {
     "end_time": "2021-05-10T04:14:51.290778Z",
     "start_time": "2021-05-10T04:14:51.285956Z"
    }
   },
   "outputs": [],
   "source": [
    "# arr3 = arr2.reshape(3, 3, 4)\n",
    "# arr3[1][1][1]\n",
    "# arr3[1,1,1]"
   ]
  },
  {
   "cell_type": "code",
   "execution_count": 99,
   "metadata": {
    "ExecuteTime": {
     "end_time": "2021-05-10T04:15:23.334600Z",
     "start_time": "2021-05-10T04:15:23.324911Z"
    }
   },
   "outputs": [
    {
     "data": {
      "text/plain": [
       "array([[25, 26, 27, 28, 29, 30],\n",
       "       [31, 32, 33, 34, 35, 36],\n",
       "       [37, 38, 39, 40, 41, 42],\n",
       "       [43, 44, 45, 46, 47, 48],\n",
       "       [49, 50, 51, 52, 53, 54],\n",
       "       [55, 56, 57, 58, 59, 60]])"
      ]
     },
     "execution_count": 99,
     "metadata": {},
     "output_type": "execute_result"
    }
   ],
   "source": [
    "arr2"
   ]
  },
  {
   "cell_type": "code",
   "execution_count": 109,
   "metadata": {
    "ExecuteTime": {
     "end_time": "2021-05-10T04:25:30.271998Z",
     "start_time": "2021-05-10T04:25:30.261545Z"
    }
   },
   "outputs": [
    {
     "data": {
      "text/plain": [
       "array([[31, 33, 35],\n",
       "       [43, 45, 47]])"
      ]
     },
     "execution_count": 109,
     "metadata": {},
     "output_type": "execute_result"
    }
   ],
   "source": [
    "# [[31, 33, 35],\n",
    "# [43, 45, 47]]\n",
    "\n",
    "\n",
    "arr2[1:4:2, ::2]\n",
    "\n",
    "\n",
    "\n",
    "# arr2[3:, 3:]"
   ]
  },
  {
   "cell_type": "code",
   "execution_count": 104,
   "metadata": {
    "ExecuteTime": {
     "end_time": "2021-05-10T04:19:57.055645Z",
     "start_time": "2021-05-10T04:19:57.044762Z"
    }
   },
   "outputs": [
    {
     "data": {
      "text/plain": [
       "array([[46, 47, 48],\n",
       "       [52, 53, 54],\n",
       "       [58, 59, 60]])"
      ]
     },
     "execution_count": 104,
     "metadata": {},
     "output_type": "execute_result"
    }
   ],
   "source": [
    "arr2[3:6,3:6]"
   ]
  },
  {
   "cell_type": "code",
   "execution_count": 107,
   "metadata": {
    "ExecuteTime": {
     "end_time": "2021-05-10T04:24:27.250806Z",
     "start_time": "2021-05-10T04:24:27.238007Z"
    }
   },
   "outputs": [
    {
     "data": {
      "text/plain": [
       "array([[25, 26, 27, 28, 29, 30],\n",
       "       [31, 32, 33, 34, 35, 36],\n",
       "       [37, 38, 39, 40, 41, 42],\n",
       "       [43, 44, 45, 46, 47, 48],\n",
       "       [49, 50, 51, 52, 53, 54],\n",
       "       [55, 56, 57, 58, 59, 60]])"
      ]
     },
     "execution_count": 107,
     "metadata": {},
     "output_type": "execute_result"
    }
   ],
   "source": [
    "arr2\n",
    "\n",
    "# [33, 38, 45, 40]"
   ]
  },
  {
   "cell_type": "code",
   "execution_count": 110,
   "metadata": {
    "ExecuteTime": {
     "end_time": "2021-05-10T04:27:10.689554Z",
     "start_time": "2021-05-10T04:27:10.673380Z"
    }
   },
   "outputs": [
    {
     "data": {
      "text/plain": [
       "array([33, 38, 45, 40])"
      ]
     },
     "execution_count": 110,
     "metadata": {},
     "output_type": "execute_result"
    }
   ],
   "source": [
    "row_index = [1, 2, 3, 2]\n",
    "col_index = [2, 1, 2, 3]\n",
    "arr2[row_index, col_index]"
   ]
  },
  {
   "cell_type": "code",
   "execution_count": 111,
   "metadata": {
    "ExecuteTime": {
     "end_time": "2021-05-10T04:27:59.870366Z",
     "start_time": "2021-05-10T04:27:59.840269Z"
    }
   },
   "outputs": [
    {
     "data": {
      "text/plain": [
       "array([['Banana', 'Mango', 'Guava', 'Avacado'],\n",
       "       ['Papaya', 'Jack fruit', 'Plum', 'Strawberry'],\n",
       "       ['Apricot', 'Apple', 'Blue berry', 'Black berry']], dtype='<U11')"
      ]
     },
     "execution_count": 111,
     "metadata": {},
     "output_type": "execute_result"
    }
   ],
   "source": [
    "fruit = np.array([[\"Banana\",\"Mango\",\"Guava\",\"Avacado\"],\n",
    "            [\"Papaya\",\"Jack fruit\",\"Plum\",\"Strawberry\"],\n",
    "            [\"Apricot\",\"Apple\",\"Blue berry\",\"Black berry\"]])\n",
    "fruit"
   ]
  },
  {
   "cell_type": "code",
   "execution_count": 113,
   "metadata": {
    "ExecuteTime": {
     "end_time": "2021-05-10T04:29:08.916102Z",
     "start_time": "2021-05-10T04:29:08.911023Z"
    }
   },
   "outputs": [],
   "source": [
    "row_ind = [0, 1, 1, 2]\n",
    "col_ind = [0, 1, 3, 2]\n",
    "fruit[row_ind, col_ind] = 'Potato'"
   ]
  },
  {
   "cell_type": "code",
   "execution_count": 114,
   "metadata": {
    "ExecuteTime": {
     "end_time": "2021-05-10T04:29:12.490194Z",
     "start_time": "2021-05-10T04:29:12.480289Z"
    }
   },
   "outputs": [
    {
     "data": {
      "text/plain": [
       "array([['Potato', 'Mango', 'Guava', 'Avacado'],\n",
       "       ['Papaya', 'Potato', 'Plum', 'Potato'],\n",
       "       ['Apricot', 'Apple', 'Potato', 'Black berry']], dtype='<U11')"
      ]
     },
     "execution_count": 114,
     "metadata": {},
     "output_type": "execute_result"
    }
   ],
   "source": [
    "fruit"
   ]
  },
  {
   "cell_type": "code",
   "execution_count": 149,
   "metadata": {
    "ExecuteTime": {
     "end_time": "2021-05-10T04:40:30.203833Z",
     "start_time": "2021-05-10T04:40:30.193046Z"
    }
   },
   "outputs": [
    {
     "data": {
      "text/plain": [
       "array([[ 236.,  157., -159.,  -52.,  -32.,   44.],\n",
       "       [ -38.,   63.,   38.,  -93.,    5.,   14.],\n",
       "       [ -15.,  -99.,  -39.,  267.,   11.,  -20.],\n",
       "       [ -53.,  -91.,   42.,   38.,    7.,  105.],\n",
       "       [ -16., -130.,  -28.,   -9.,  -10.,  -74.]])"
      ]
     },
     "execution_count": 149,
     "metadata": {},
     "output_type": "execute_result"
    }
   ],
   "source": [
    "arr3 = np.random.randn(5,6)\n",
    "arr4 = (arr3 * 100)//1\n",
    "arr4\n"
   ]
  },
  {
   "cell_type": "code",
   "execution_count": 129,
   "metadata": {
    "ExecuteTime": {
     "end_time": "2021-05-10T04:35:17.546216Z",
     "start_time": "2021-05-10T04:35:17.534357Z"
    }
   },
   "outputs": [
    {
     "data": {
      "text/plain": [
       "array([ 36., 151.,  98.,  25.,  50.,  48., 103., 134.,   3., 122., 128.,\n",
       "       181.,  62.])"
      ]
     },
     "execution_count": 129,
     "metadata": {},
     "output_type": "execute_result"
    }
   ],
   "source": [
    "arr4[arr4 > 0]"
   ]
  },
  {
   "cell_type": "code",
   "execution_count": 157,
   "metadata": {
    "ExecuteTime": {
     "end_time": "2021-05-10T04:41:14.020393Z",
     "start_time": "2021-05-10T04:41:14.009122Z"
    }
   },
   "outputs": [
    {
     "data": {
      "text/plain": [
       "array([[ 0.74244639,  0.7212694 ,  0.42763974,  1.1791854 ,  0.03190388,\n",
       "         0.18075453],\n",
       "       [ 1.11341921, -1.03922691,  1.26116362,  1.53648136, -0.66109784,\n",
       "         0.26851711],\n",
       "       [ 1.41328196, -0.3167652 , -2.01328068, -0.70590105, -0.17789809,\n",
       "        -0.60355523],\n",
       "       [-0.43354864, -0.59179865,  1.71249811, -0.75459013,  0.71804592,\n",
       "         0.78268202],\n",
       "       [-1.18957189, -1.06297227,  1.36308803, -0.72694508, -0.62055751,\n",
       "        -0.12313351]])"
      ]
     },
     "execution_count": 157,
     "metadata": {},
     "output_type": "execute_result"
    }
   ],
   "source": [
    "arr3 = np.random.randn(5,6)\n",
    "arr3\n",
    "\n",
    "-3, +3"
   ]
  },
  {
   "cell_type": "code",
   "execution_count": null,
   "metadata": {},
   "outputs": [],
   "source": []
  },
  {
   "cell_type": "code",
   "execution_count": null,
   "metadata": {},
   "outputs": [],
   "source": []
  },
  {
   "cell_type": "code",
   "execution_count": null,
   "metadata": {},
   "outputs": [],
   "source": []
  },
  {
   "cell_type": "code",
   "execution_count": null,
   "metadata": {},
   "outputs": [],
   "source": []
  },
  {
   "cell_type": "code",
   "execution_count": null,
   "metadata": {},
   "outputs": [],
   "source": []
  },
  {
   "cell_type": "code",
   "execution_count": null,
   "metadata": {},
   "outputs": [],
   "source": []
  },
  {
   "cell_type": "code",
   "execution_count": null,
   "metadata": {},
   "outputs": [],
   "source": []
  },
  {
   "cell_type": "code",
   "execution_count": null,
   "metadata": {},
   "outputs": [],
   "source": []
  },
  {
   "cell_type": "code",
   "execution_count": null,
   "metadata": {},
   "outputs": [],
   "source": []
  },
  {
   "cell_type": "code",
   "execution_count": null,
   "metadata": {},
   "outputs": [],
   "source": []
  },
  {
   "cell_type": "code",
   "execution_count": null,
   "metadata": {},
   "outputs": [],
   "source": []
  },
  {
   "cell_type": "code",
   "execution_count": null,
   "metadata": {},
   "outputs": [],
   "source": []
  },
  {
   "cell_type": "code",
   "execution_count": null,
   "metadata": {},
   "outputs": [],
   "source": []
  },
  {
   "cell_type": "code",
   "execution_count": null,
   "metadata": {},
   "outputs": [],
   "source": []
  },
  {
   "cell_type": "code",
   "execution_count": null,
   "metadata": {},
   "outputs": [],
   "source": []
  },
  {
   "cell_type": "code",
   "execution_count": null,
   "metadata": {},
   "outputs": [],
   "source": []
  },
  {
   "cell_type": "code",
   "execution_count": null,
   "metadata": {},
   "outputs": [],
   "source": []
  },
  {
   "cell_type": "code",
   "execution_count": null,
   "metadata": {},
   "outputs": [],
   "source": []
  },
  {
   "cell_type": "code",
   "execution_count": null,
   "metadata": {},
   "outputs": [],
   "source": []
  },
  {
   "cell_type": "code",
   "execution_count": null,
   "metadata": {},
   "outputs": [],
   "source": []
  },
  {
   "cell_type": "code",
   "execution_count": null,
   "metadata": {},
   "outputs": [],
   "source": []
  }
 ],
 "metadata": {
  "kernelspec": {
   "display_name": "Python 3",
   "language": "python",
   "name": "python3"
  },
  "language_info": {
   "codemirror_mode": {
    "name": "ipython",
    "version": 3
   },
   "file_extension": ".py",
   "mimetype": "text/x-python",
   "name": "python",
   "nbconvert_exporter": "python",
   "pygments_lexer": "ipython3",
   "version": "3.8.2"
  },
  "latex_envs": {
   "LaTeX_envs_menu_present": true,
   "autoclose": false,
   "autocomplete": true,
   "bibliofile": "biblio.bib",
   "cite_by": "apalike",
   "current_citInitial": 1,
   "eqLabelWithNumbers": true,
   "eqNumInitial": 1,
   "hotkeys": {
    "equation": "Ctrl-E",
    "itemize": "Ctrl-I"
   },
   "labels_anchors": false,
   "latex_user_defs": false,
   "report_style_numbering": false,
   "user_envs_cfg": false
  },
  "varInspector": {
   "cols": {
    "lenName": 16,
    "lenType": 16,
    "lenVar": 40
   },
   "kernels_config": {
    "python": {
     "delete_cmd_postfix": "",
     "delete_cmd_prefix": "del ",
     "library": "var_list.py",
     "varRefreshCmd": "print(var_dic_list())"
    },
    "r": {
     "delete_cmd_postfix": ") ",
     "delete_cmd_prefix": "rm(",
     "library": "var_list.r",
     "varRefreshCmd": "cat(var_dic_list()) "
    }
   },
   "types_to_exclude": [
    "module",
    "function",
    "builtin_function_or_method",
    "instance",
    "_Feature"
   ],
   "window_display": false
  }
 },
 "nbformat": 4,
 "nbformat_minor": 2
}
