{
 "cells": [
  {
   "cell_type": "code",
   "execution_count": 2,
   "metadata": {
    "ExecuteTime": {
     "end_time": "2021-04-29T02:39:42.320170Z",
     "start_time": "2021-04-29T02:39:42.297509Z"
    }
   },
   "outputs": [
    {
     "data": {
      "text/plain": [
       "20"
      ]
     },
     "execution_count": 2,
     "metadata": {},
     "output_type": "execute_result"
    }
   ],
   "source": [
    "# a = 10\n",
    "# a * 2"
   ]
  },
  {
   "cell_type": "code",
   "execution_count": 5,
   "metadata": {
    "ExecuteTime": {
     "end_time": "2021-04-29T02:42:12.275913Z",
     "start_time": "2021-04-29T02:42:12.258397Z"
    }
   },
   "outputs": [
    {
     "name": "stdout",
     "output_type": "stream",
     "text": [
      "14\n"
     ]
    }
   ],
   "source": [
    "# def func(param = 12):\n",
    "#     print(param)\n",
    "# func(14)"
   ]
  },
  {
   "cell_type": "code",
   "execution_count": null,
   "metadata": {},
   "outputs": [],
   "source": [
    "# Closure\n",
    "# Annonymous Function\n",
    "# Filter, Map, Reduce"
   ]
  },
  {
   "cell_type": "code",
   "execution_count": 3,
   "metadata": {
    "ExecuteTime": {
     "end_time": "2021-04-29T02:46:50.188433Z",
     "start_time": "2021-04-29T02:46:50.181614Z"
    }
   },
   "outputs": [],
   "source": [
    "# def my_fun():\n",
    "#     def inner_fun():\n",
    "#         print('Inner Function')\n",
    "# inner_fun()\n",
    "\n",
    "# Identifier defined inside local namespace are not accessible in global namespace\n"
   ]
  },
  {
   "cell_type": "code",
   "execution_count": 8,
   "metadata": {
    "ExecuteTime": {
     "end_time": "2021-04-29T02:54:50.274374Z",
     "start_time": "2021-04-29T02:54:50.253256Z"
    }
   },
   "outputs": [
    {
     "name": "stdout",
     "output_type": "stream",
     "text": [
      "<function my_fun at 0x1153bbb80>\n",
      "<function my_fun at 0x1153bbb80>\n"
     ]
    }
   ],
   "source": [
    "# def my_fun():\n",
    "#     print('Hello World')\n",
    "# # print(my_fun)\n",
    "# print(my_fun)\n",
    "# f1 = my_fun\n",
    "# print(f1)"
   ]
  },
  {
   "cell_type": "code",
   "execution_count": 34,
   "metadata": {
    "ExecuteTime": {
     "end_time": "2021-04-29T03:43:49.588958Z",
     "start_time": "2021-04-29T03:43:49.576322Z"
    }
   },
   "outputs": [
    {
     "data": {
      "text/plain": [
       "[22, 24, 26, 28, 30]"
      ]
     },
     "execution_count": 34,
     "metadata": {},
     "output_type": "execute_result"
    }
   ],
   "source": [
    "# Python is Functional Programming Language\n",
    "#     - Function is treated as first class citizen\n",
    "\n",
    "# In The functional Programming Language, We can pass a function as an argument to another function and also we can\n",
    "# return a function as output from another function.\n",
    "\n",
    "def even_odd(num):\n",
    "    return True if num%2 == 0 else False\n",
    "\n",
    "lst = list(range(21, 31))\n",
    "out_lst = []\n",
    "def my_filter(func, seq):\n",
    "    for num in seq:\n",
    "        if func(num) == True:\n",
    "            out_lst.append(num)\n",
    "    return out_lst\n",
    "        \n",
    "my_filter(even_odd, lst)\n",
    "\n"
   ]
  },
  {
   "cell_type": "code",
   "execution_count": null,
   "metadata": {},
   "outputs": [],
   "source": [
    "# Structural Programming Languge\n",
    "# Procedural Programming Language\n",
    "# Functional Programming Language\n",
    "# Object Oriented Programming Language\n",
    "\n",
    "# Duck Typing - \n",
    "# Dynamically Typed Programming Language"
   ]
  },
  {
   "cell_type": "code",
   "execution_count": 20,
   "metadata": {
    "ExecuteTime": {
     "end_time": "2021-04-29T03:13:15.514670Z",
     "start_time": "2021-04-29T03:13:15.507160Z"
    }
   },
   "outputs": [
    {
     "name": "stdout",
     "output_type": "stream",
     "text": [
      "This is Outer function\n",
      "This is Inner function\n"
     ]
    }
   ],
   "source": [
    "# Closure - A function which returns another fuction or inner function as output\n",
    "\n",
    "def func_outer():\n",
    "    print('This is Outer function')\n",
    "    def func_inner():\n",
    "        print('This is Inner function')\n",
    "#     print(func_inner)\n",
    "    return func_inner, 10\n",
    "\n",
    "a, b = func_outer()\n",
    "# print(a)\n",
    "a()\n",
    "\n",
    "\n",
    "\n"
   ]
  },
  {
   "cell_type": "code",
   "execution_count": null,
   "metadata": {},
   "outputs": [],
   "source": [
    "# primitive  byte, short, int, long, float, double, char, \n",
    "# reference type - object"
   ]
  },
  {
   "cell_type": "code",
   "execution_count": 31,
   "metadata": {
    "ExecuteTime": {
     "end_time": "2021-04-29T03:33:59.812143Z",
     "start_time": "2021-04-29T03:33:59.803886Z"
    }
   },
   "outputs": [
    {
     "name": "stdout",
     "output_type": "stream",
     "text": [
      "gmail.com\n"
     ]
    }
   ],
   "source": [
    "# Annonymous Function - A function without any name\n",
    "# They are used for instantaneous purpose\n",
    "# You can write only one line of expression\n",
    "# expression result is the return value\n",
    "# No need to write the return statement\n",
    "# To define annonymous function, we use lambda keyword\n",
    "\n",
    "# Syntax - lambda var1, var2, var3...: expr\n",
    "\n",
    "# Find out the square of a number\n",
    "# a = lambda num : [i**2 for i in range(num)]\n",
    "# print(a)\n",
    "# a(4)\n",
    "\n",
    "email = 'abc@gmail.com'\n",
    "\n",
    "# write a lambda function which returns 'gmail.com' as output\n",
    "str_test = 'abc@gmail.com'\n",
    "a = lambda my_str : my_str[my_str.index('@') + 1 : ]\n",
    "print(a(str_test))\n",
    "\n"
   ]
  },
  {
   "cell_type": "code",
   "execution_count": 33,
   "metadata": {
    "ExecuteTime": {
     "end_time": "2021-04-29T03:39:40.734447Z",
     "start_time": "2021-04-29T03:39:40.696497Z"
    }
   },
   "outputs": [
    {
     "data": {
      "text/plain": [
       "'gmail.com'"
      ]
     },
     "execution_count": 33,
     "metadata": {},
     "output_type": "execute_result"
    }
   ],
   "source": [
    "(lambda my_str : my_str[my_str.index('@') + 1 : ])('abc@gmail.com')"
   ]
  },
  {
   "cell_type": "code",
   "execution_count": 60,
   "metadata": {
    "ExecuteTime": {
     "end_time": "2021-04-29T04:21:30.312687Z",
     "start_time": "2021-04-29T04:21:30.307681Z"
    }
   },
   "outputs": [],
   "source": [
    "# Filter\n",
    "# filter takes a function as first argument and a seq as 2nd argument and returns a filtered seq based on some condition.\n",
    "# Returns a filter object\n",
    "# In filter function, the expression will be finally evaluated as True or False\n",
    "# Sytntax - filter(func, seq)\n",
    "\n",
    "# list(filter(lambda num : num%2 == 0, list(range(21, 31))))\n",
    "\n",
    "# num = 24, False\n",
    "\n",
    "# filter [22, 24]\n",
    "\n",
    "# list(filter(lambda num : num%2, list(range(21, 31))))\n",
    "\n",
    "# num - 21, 1= True\n",
    "# [21, 23...]\n",
    "\n",
    "# lst = ['abhishek@gmail.com', 'afsan@hotmail.com', 'rahul@yahoo.com', 'krishna@rediffmail.com', 'diksha@gmail.com']\n",
    "\n",
    "# Filter above list of email id where the user name is greater than 6\n",
    "\n",
    "# ['abhishek@gmail.com','krishna@rediffmail.com']\n",
    "\n",
    "# list(filter(lambda x: len(x[0:x.find('@')])>6,lst))\n",
    "# x = 'krishna@rediffmail.com' len('krishna') > 6 = true\n",
    "# ['abhishek@gmail.com', 'krishna@rediffmail.com']\n",
    "\n",
    "# Map - Used to map a value to every element of a sequence\n",
    "# Syntax - map(func, seq)\n",
    "# This returns a map object\n",
    "# The expression result will be added to map sequence\n",
    "\n",
    "# lst = list(range(21, 31))\n",
    "# list(map(lambda num : num**2, lst))\n",
    "\n",
    "\n",
    "lst = ['abhishek@gmail.com', 'afsan@hotmail.com', 'rahul@yahoo.com', 'krishna@rediffmail.com', 'diksha@gmail.com']\n",
    "\n",
    "# 1. find the list of only user name using lambda and map function\n",
    "# 2. find the list of only user name where the length of user name is greater than 6 \n"
   ]
  },
  {
   "cell_type": "code",
   "execution_count": 64,
   "metadata": {
    "ExecuteTime": {
     "end_time": "2021-04-29T04:22:12.711235Z",
     "start_time": "2021-04-29T04:22:12.704651Z"
    }
   },
   "outputs": [],
   "source": [
    "# list(map(lambda my_str: my_str[0:my_str.index('@')],lst))\n",
    "\n",
    "# list(map(lambda my_str: my_str[0:my_str.index('@')],lst))\n",
    "\n",
    "# list(map(lambda x:x[:x.index('@')],list(lst)))\n",
    "\n",
    "# list(map(lambda x:x[:x.index('@')],list(lst)))# "
   ]
  },
  {
   "cell_type": "code",
   "execution_count": 65,
   "metadata": {
    "ExecuteTime": {
     "end_time": "2021-04-29T04:22:40.852734Z",
     "start_time": "2021-04-29T04:22:40.841490Z"
    }
   },
   "outputs": [
    {
     "data": {
      "text/plain": [
       "['abhishek@gmail.com', 'krishna@rediffmail.com']"
      ]
     },
     "execution_count": 65,
     "metadata": {},
     "output_type": "execute_result"
    }
   ],
   "source": [
    "list(filter(lambda id:len(id[0:id.index('@')])>6,lst))"
   ]
  },
  {
   "cell_type": "code",
   "execution_count": 67,
   "metadata": {
    "ExecuteTime": {
     "end_time": "2021-04-29T04:24:23.946981Z",
     "start_time": "2021-04-29T04:24:23.934462Z"
    }
   },
   "outputs": [
    {
     "name": "stdout",
     "output_type": "stream",
     "text": [
      "['abhishek', 'krishna']\n"
     ]
    }
   ],
   "source": [
    "print(list(filter(lambda x:len(x)>6,map(lambda x: x[0:x.find('@')],lst))))"
   ]
  },
  {
   "cell_type": "code",
   "execution_count": 71,
   "metadata": {
    "ExecuteTime": {
     "end_time": "2021-04-29T04:26:28.282561Z",
     "start_time": "2021-04-29T04:26:28.080412Z"
    }
   },
   "outputs": [
    {
     "data": {
      "text/plain": [
       "['abhishek', 'krishna']"
      ]
     },
     "execution_count": 71,
     "metadata": {},
     "output_type": "execute_result"
    }
   ],
   "source": [
    "list(filter(lambda x:len(x)>6, map(lambda x: x[0:x.find('@')],lst)))"
   ]
  },
  {
   "cell_type": "code",
   "execution_count": 73,
   "metadata": {
    "ExecuteTime": {
     "end_time": "2021-04-29T04:26:57.816220Z",
     "start_time": "2021-04-29T04:26:57.800487Z"
    }
   },
   "outputs": [
    {
     "data": {
      "text/plain": [
       "['abhishek', 'afsan', 'rahul', 'krishna', 'diksha']"
      ]
     },
     "execution_count": 73,
     "metadata": {},
     "output_type": "execute_result"
    }
   ],
   "source": [
    "list(map(lambda x: x[0:x.find('@')],lst))"
   ]
  },
  {
   "cell_type": "code",
   "execution_count": 75,
   "metadata": {
    "ExecuteTime": {
     "end_time": "2021-04-29T04:28:29.786543Z",
     "start_time": "2021-04-29T04:28:29.778583Z"
    }
   },
   "outputs": [],
   "source": [
    "# In gene expression, mRNA is transcribed from a DNA template. \n",
    "\n",
    "# The 4 nucleotide bases of A, T, C, G corresponds to the U, A, G, C bases of the mRNA. \n",
    "# Write a function that returns the mRNA transcript given the sequence of a DNA strand.\n",
    "\n",
    "# Use a dictionary to provide the mapping of DNA to RNA bases.\n",
    "\n",
    "\n",
    "# {'A':'U', 'T':'A', 'C':'G', 'G':'C'}"
   ]
  },
  {
   "cell_type": "code",
   "execution_count": null,
   "metadata": {},
   "outputs": [],
   "source": []
  },
  {
   "cell_type": "code",
   "execution_count": null,
   "metadata": {},
   "outputs": [],
   "source": []
  },
  {
   "cell_type": "code",
   "execution_count": null,
   "metadata": {},
   "outputs": [],
   "source": []
  },
  {
   "cell_type": "code",
   "execution_count": null,
   "metadata": {},
   "outputs": [],
   "source": []
  },
  {
   "cell_type": "code",
   "execution_count": null,
   "metadata": {},
   "outputs": [],
   "source": []
  },
  {
   "cell_type": "code",
   "execution_count": null,
   "metadata": {},
   "outputs": [],
   "source": []
  },
  {
   "cell_type": "code",
   "execution_count": null,
   "metadata": {},
   "outputs": [],
   "source": []
  },
  {
   "cell_type": "code",
   "execution_count": null,
   "metadata": {},
   "outputs": [],
   "source": []
  },
  {
   "cell_type": "code",
   "execution_count": null,
   "metadata": {},
   "outputs": [],
   "source": []
  },
  {
   "cell_type": "code",
   "execution_count": null,
   "metadata": {},
   "outputs": [],
   "source": []
  },
  {
   "cell_type": "code",
   "execution_count": null,
   "metadata": {},
   "outputs": [],
   "source": []
  },
  {
   "cell_type": "code",
   "execution_count": null,
   "metadata": {},
   "outputs": [],
   "source": []
  },
  {
   "cell_type": "code",
   "execution_count": null,
   "metadata": {},
   "outputs": [],
   "source": []
  },
  {
   "cell_type": "code",
   "execution_count": null,
   "metadata": {},
   "outputs": [],
   "source": []
  },
  {
   "cell_type": "code",
   "execution_count": null,
   "metadata": {},
   "outputs": [],
   "source": []
  },
  {
   "cell_type": "code",
   "execution_count": null,
   "metadata": {},
   "outputs": [],
   "source": []
  },
  {
   "cell_type": "code",
   "execution_count": null,
   "metadata": {},
   "outputs": [],
   "source": []
  },
  {
   "cell_type": "code",
   "execution_count": null,
   "metadata": {},
   "outputs": [],
   "source": []
  },
  {
   "cell_type": "code",
   "execution_count": null,
   "metadata": {},
   "outputs": [],
   "source": []
  },
  {
   "cell_type": "code",
   "execution_count": null,
   "metadata": {},
   "outputs": [],
   "source": []
  },
  {
   "cell_type": "code",
   "execution_count": null,
   "metadata": {},
   "outputs": [],
   "source": []
  },
  {
   "cell_type": "code",
   "execution_count": null,
   "metadata": {},
   "outputs": [],
   "source": []
  },
  {
   "cell_type": "code",
   "execution_count": null,
   "metadata": {},
   "outputs": [],
   "source": []
  },
  {
   "cell_type": "code",
   "execution_count": null,
   "metadata": {},
   "outputs": [],
   "source": []
  },
  {
   "cell_type": "code",
   "execution_count": null,
   "metadata": {},
   "outputs": [],
   "source": []
  },
  {
   "cell_type": "code",
   "execution_count": null,
   "metadata": {},
   "outputs": [],
   "source": []
  },
  {
   "cell_type": "code",
   "execution_count": null,
   "metadata": {},
   "outputs": [],
   "source": []
  },
  {
   "cell_type": "code",
   "execution_count": null,
   "metadata": {},
   "outputs": [],
   "source": []
  },
  {
   "cell_type": "code",
   "execution_count": null,
   "metadata": {},
   "outputs": [],
   "source": []
  },
  {
   "cell_type": "code",
   "execution_count": null,
   "metadata": {},
   "outputs": [],
   "source": []
  },
  {
   "cell_type": "code",
   "execution_count": null,
   "metadata": {},
   "outputs": [],
   "source": []
  },
  {
   "cell_type": "code",
   "execution_count": null,
   "metadata": {},
   "outputs": [],
   "source": []
  },
  {
   "cell_type": "code",
   "execution_count": null,
   "metadata": {},
   "outputs": [],
   "source": []
  },
  {
   "cell_type": "code",
   "execution_count": null,
   "metadata": {},
   "outputs": [],
   "source": []
  },
  {
   "cell_type": "code",
   "execution_count": null,
   "metadata": {},
   "outputs": [],
   "source": []
  },
  {
   "cell_type": "code",
   "execution_count": null,
   "metadata": {},
   "outputs": [],
   "source": []
  },
  {
   "cell_type": "code",
   "execution_count": null,
   "metadata": {},
   "outputs": [],
   "source": []
  },
  {
   "cell_type": "code",
   "execution_count": null,
   "metadata": {},
   "outputs": [],
   "source": []
  },
  {
   "cell_type": "code",
   "execution_count": null,
   "metadata": {},
   "outputs": [],
   "source": []
  },
  {
   "cell_type": "code",
   "execution_count": null,
   "metadata": {},
   "outputs": [],
   "source": []
  },
  {
   "cell_type": "code",
   "execution_count": null,
   "metadata": {},
   "outputs": [],
   "source": []
  },
  {
   "cell_type": "code",
   "execution_count": null,
   "metadata": {},
   "outputs": [],
   "source": []
  },
  {
   "cell_type": "code",
   "execution_count": null,
   "metadata": {},
   "outputs": [],
   "source": []
  },
  {
   "cell_type": "code",
   "execution_count": null,
   "metadata": {},
   "outputs": [],
   "source": []
  },
  {
   "cell_type": "code",
   "execution_count": null,
   "metadata": {},
   "outputs": [],
   "source": []
  },
  {
   "cell_type": "code",
   "execution_count": null,
   "metadata": {},
   "outputs": [],
   "source": []
  },
  {
   "cell_type": "code",
   "execution_count": null,
   "metadata": {},
   "outputs": [],
   "source": []
  },
  {
   "cell_type": "code",
   "execution_count": null,
   "metadata": {},
   "outputs": [],
   "source": []
  }
 ],
 "metadata": {
  "kernelspec": {
   "display_name": "Python 3",
   "language": "python",
   "name": "python3"
  },
  "language_info": {
   "codemirror_mode": {
    "name": "ipython",
    "version": 3
   },
   "file_extension": ".py",
   "mimetype": "text/x-python",
   "name": "python",
   "nbconvert_exporter": "python",
   "pygments_lexer": "ipython3",
   "version": "3.8.2"
  },
  "latex_envs": {
   "LaTeX_envs_menu_present": true,
   "autoclose": false,
   "autocomplete": true,
   "bibliofile": "biblio.bib",
   "cite_by": "apalike",
   "current_citInitial": 1,
   "eqLabelWithNumbers": true,
   "eqNumInitial": 1,
   "hotkeys": {
    "equation": "Ctrl-E",
    "itemize": "Ctrl-I"
   },
   "labels_anchors": false,
   "latex_user_defs": false,
   "report_style_numbering": false,
   "user_envs_cfg": false
  },
  "varInspector": {
   "cols": {
    "lenName": 16,
    "lenType": 16,
    "lenVar": 40
   },
   "kernels_config": {
    "python": {
     "delete_cmd_postfix": "",
     "delete_cmd_prefix": "del ",
     "library": "var_list.py",
     "varRefreshCmd": "print(var_dic_list())"
    },
    "r": {
     "delete_cmd_postfix": ") ",
     "delete_cmd_prefix": "rm(",
     "library": "var_list.r",
     "varRefreshCmd": "cat(var_dic_list()) "
    }
   },
   "types_to_exclude": [
    "module",
    "function",
    "builtin_function_or_method",
    "instance",
    "_Feature"
   ],
   "window_display": false
  }
 },
 "nbformat": 4,
 "nbformat_minor": 2
}
