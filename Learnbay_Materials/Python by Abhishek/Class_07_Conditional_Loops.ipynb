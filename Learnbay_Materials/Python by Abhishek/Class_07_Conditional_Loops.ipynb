{
 "cells": [
  {
   "cell_type": "code",
   "execution_count": 2,
   "metadata": {
    "ExecuteTime": {
     "end_time": "2021-04-21T02:40:19.900668Z",
     "start_time": "2021-04-21T02:40:19.896928Z"
    }
   },
   "outputs": [],
   "source": [
    "# Conditional Statements\n",
    "# if, elif, else\n",
    "\n",
    "\n",
    "# help('if')\n",
    "\n",
    "# if cond1:\n",
    "#     stat1\n",
    "#     stat2\n",
    "#     stat3\n",
    "# elif cond2:\n",
    "#     stat4\n",
    "#     stat5\n",
    "#     stat6\n",
    "# elif cond3:\n",
    "#     stat7\n",
    "#     stat8\n",
    "#     stat9\n",
    "# else:\n",
    "#     stat10\n",
    "#     stat11\n",
    "#     stat12\n",
    "\n",
    "\n",
    "# Nested Conditional Statement\n",
    "# if cond1:\n",
    "#     stat1\n",
    "#     stat2\n",
    "#     if cond2:\n",
    "#         stat3\n",
    "#         stat4\n",
    "#     else:\n",
    "#         stat5\n",
    "#         stat6\n",
    "# else:\n",
    "#     stat7\n",
    "#     stat8\n",
    "#     if cond3:\n",
    "#         stat9\n",
    "#         stat10\n",
    "#     else:\n",
    "#         stat11\n",
    "#         stat12\n",
    "\n",
    "\n",
    "\n"
   ]
  },
  {
   "cell_type": "code",
   "execution_count": null,
   "metadata": {},
   "outputs": [],
   "source": [
    "# Take 2 numbers and find which number is greater\n",
    "# Take a numbers and find wehther number is even or odd\n",
    "# Take 3 numbers and find which number is greater\n",
    "# Take an year as inout from the user and find whether the year is leap year\n",
    "# Take a number from user in the range 0-9 and print the number in words, If number is not in range then print that \n",
    "    # Number is outside of the range"
   ]
  },
  {
   "cell_type": "code",
   "execution_count": 3,
   "metadata": {
    "ExecuteTime": {
     "end_time": "2021-04-21T02:44:28.041201Z",
     "start_time": "2021-04-21T02:44:23.386280Z"
    }
   },
   "outputs": [
    {
     "name": "stdout",
     "output_type": "stream",
     "text": [
      "Enter 1st number: 10\n",
      "Enter 2nd number: 9\n",
      "num1:10 is greater than num2:9\n"
     ]
    }
   ],
   "source": [
    "# Take 2 numbers and find which number is greater\n",
    "num1 = int(input('Enter 1st number: '))\n",
    "num2 = int(input('Enter 2nd number: '))\n",
    "if num1>num2:\n",
    "    print(f'num1:{num1} is greater than num2:{num2}')\n",
    "else:\n",
    "    print(f'num2:{num2} is greater than num1:{num1}')"
   ]
  },
  {
   "cell_type": "code",
   "execution_count": 14,
   "metadata": {
    "ExecuteTime": {
     "end_time": "2021-04-21T02:56:38.017560Z",
     "start_time": "2021-04-21T02:56:36.810239Z"
    }
   },
   "outputs": [
    {
     "name": "stdout",
     "output_type": "stream",
     "text": [
      "Enter a number: 10\n",
      "Number is even\n"
     ]
    }
   ],
   "source": [
    "# Take a numbers and find wehther number is even or odd\n",
    "num1 = int(input('Enter a number: '))\n",
    "if num1%2==0:\n",
    "    print('Number is even')\n",
    "else:\n",
    "    print('Number is odd')\n",
    "\n",
    "\n"
   ]
  },
  {
   "cell_type": "code",
   "execution_count": 17,
   "metadata": {
    "ExecuteTime": {
     "end_time": "2021-04-21T03:02:24.574280Z",
     "start_time": "2021-04-21T03:02:20.097509Z"
    }
   },
   "outputs": [
    {
     "name": "stdout",
     "output_type": "stream",
     "text": [
      "Enter 1st number: 100\n",
      "Enter 2nd number: 200\n",
      "Enter 3rd number: 500\n",
      "Num3: 500 is greater than Num1: 100 and Num2: 200\n"
     ]
    }
   ],
   "source": [
    "# Take 3 numbers and find which number is greater\n",
    "num1 = int(input('Enter 1st number: '))\n",
    "num2 = int(input('Enter 2nd number: '))\n",
    "num3 = int(input('Enter 3rd number: '))\n",
    "if num1>num2 and num1>num3:\n",
    "    print(f'Num1: {num1} is greater than Num2: {num2} and Num3: {num3}')\n",
    "elif num2>num3:\n",
    "    print(f'Num2: {num2} is greater than Num1: {num1} and Num3: {num3}')\n",
    "else:\n",
    "    print(f'Num3: {num3} is greater than Num1: {num1} and Num2: {num2}')\n",
    "\n",
    "\n"
   ]
  },
  {
   "cell_type": "code",
   "execution_count": 22,
   "metadata": {
    "ExecuteTime": {
     "end_time": "2021-04-21T03:16:30.041207Z",
     "start_time": "2021-04-21T03:16:27.959438Z"
    }
   },
   "outputs": [
    {
     "name": "stdout",
     "output_type": "stream",
     "text": [
      "Enter an Year: 1800\n",
      "not leap yer\n"
     ]
    }
   ],
   "source": [
    "# Take an year as inout from the user and find whether the year is leap year\n",
    "# Any year which is divisible by 4 is a leap year\n",
    "# If any year is Hundred, then check the divisibilty by 400; if it is divisible then it is leap year\n",
    "\n",
    "year = int(input('Enter an Year: '))\n",
    "\n",
    "if year % 4 == 0:\n",
    "    if year % 100 == 0:\n",
    "        if year % 400 == 0:\n",
    "            print('leap year')\n",
    "        else:\n",
    "            print('not leap yer')\n",
    "    else:\n",
    "        print('leap year')\n",
    "else:\n",
    "    print(\"Not leap year\")\n",
    "\n",
    "\n",
    "\n"
   ]
  },
  {
   "cell_type": "code",
   "execution_count": 26,
   "metadata": {
    "ExecuteTime": {
     "end_time": "2021-04-21T03:20:58.162442Z",
     "start_time": "2021-04-21T03:20:55.767968Z"
    }
   },
   "outputs": [
    {
     "name": "stdout",
     "output_type": "stream",
     "text": [
      "Enter a number in the range(0-9): 11\n",
      "Number is outside of the range\n"
     ]
    }
   ],
   "source": [
    "# Take a number from user in the range 0-9 and print the number in words, If number is not in range then print that \n",
    "    # Number is outside of the range\n",
    "    \n",
    "num = int(input('Enter a number in the range(0-9): '))\n",
    "if num == 0:\n",
    "    print('Zero')\n",
    "elif num == 1:\n",
    "    print('One')\n",
    "elif num == 2:\n",
    "    print('Two')\n",
    "elif num == 3:\n",
    "    print('Three')\n",
    "elif num == 4:\n",
    "    print('Four')\n",
    "elif num == 5:\n",
    "    print('Five')\n",
    "elif num == 6:\n",
    "    print('Six')\n",
    "elif num == 7:\n",
    "    print('Seven')\n",
    "elif num == 8:\n",
    "    print('Eight')\n",
    "elif num == 9:\n",
    "    print('Nine')\n",
    "else:\n",
    "    print('Number is outside of the range')\n",
    "    "
   ]
  },
  {
   "cell_type": "code",
   "execution_count": null,
   "metadata": {},
   "outputs": [],
   "source": [
    "# Loops in Python\n",
    "#     For loop \n",
    "#         When the number of iteration are known to us in advance\n",
    "#         When we want to iterate over each element of the seq\n",
    "#     while loop\n",
    "#         We run this loop untill a condition is satisfied\n"
   ]
  },
  {
   "cell_type": "code",
   "execution_count": 29,
   "metadata": {
    "ExecuteTime": {
     "end_time": "2021-04-21T03:35:35.004311Z",
     "start_time": "2021-04-21T03:35:34.994859Z"
    }
   },
   "outputs": [],
   "source": [
    "# for i in range(10):\n",
    "#     print('Hi')\n"
   ]
  },
  {
   "cell_type": "code",
   "execution_count": 48,
   "metadata": {
    "ExecuteTime": {
     "end_time": "2021-04-21T03:56:52.217264Z",
     "start_time": "2021-04-21T03:56:52.211805Z"
    }
   },
   "outputs": [],
   "source": [
    "# Syntax of for loop\n",
    "# for var in iterable:\n",
    "#     stat1\n",
    "#     stat2\n",
    "#     stat3\n",
    "#     stat4\n",
    "\n",
    "\n",
    "# Iterable - string, list, tuple, dictionary, range, set, frozenset\n",
    "# print(dir(int))\n",
    "\n",
    "my_str = 'Python'\n",
    "# P\n",
    "# yy\n",
    "# ttt\n",
    "# hhhh\n",
    "# ooooo\n",
    "# nnnnnn\n",
    "\n",
    "# By running the loop on the string\n",
    "# fac = 1\n",
    "# for i in my_str:\n",
    "#     print(i * fac)\n",
    "#     fac += 1\n",
    "\n",
    "# for i in range(1,7):\n",
    "#     print(my_str[i-1] * i)\n",
    "\n",
    "# Using while loop\n",
    "# initialize a var\n",
    "# cond checking\n",
    "# increment/decrement\n",
    "\n",
    "# my_str = 'Python'\n",
    "# ind = 0\n",
    "# while ind < len(my_str):\n",
    "#     print(my_str[ind] * (ind+1))\n",
    "#     ind += 1\n",
    "\n",
    "# while True:\n",
    "#     print('Hi')\n",
    "\n",
    "\n",
    "Q1:-\n",
    "    # lst = [10,20,30,40,50]\n",
    "    # sum => 150\n",
    "    # prod => 12000000\n",
    "\n",
    "Q2:-\n",
    "    my_str = 'Python'\n",
    "    Output:-\n",
    "        n\n",
    "        oo\n",
    "        hhh\n",
    "        tttt\n",
    "        yyyyy\n",
    "        PPPPPP\n",
    "        \n",
    "Q3:-\n",
    "    1)\n",
    "        *\n",
    "        **\n",
    "        ***\n",
    "        ****\n",
    "        *****\n",
    "        \n",
    "    2)\n",
    "    *\n",
    "   * *\n",
    "  * * *\n",
    " * * * *\n",
    "* * * * *\n",
    "        \n",
    "Q4:-\n",
    "    my_str = 'peter pipre picked a peck of pickled peppers'\n",
    "    output = ['peter', 'piper', 'picked', 'a', 'peck', 'of', 'pickled', 'peppers']\n",
    "\n",
    "\n",
    "\n",
    "\n",
    "\n"
   ]
  },
  {
   "cell_type": "code",
   "execution_count": null,
   "metadata": {},
   "outputs": [],
   "source": [
    "my_str[0] * 1\n",
    "my_str[1] * 2\n",
    "my_str[2] * 3\n",
    "my_str[3] * 4\n",
    "my_str[4] * 5\n",
    "my_str[5] * 6"
   ]
  },
  {
   "cell_type": "code",
   "execution_count": 43,
   "metadata": {
    "ExecuteTime": {
     "end_time": "2021-04-21T03:49:40.623846Z",
     "start_time": "2021-04-21T03:49:40.612093Z"
    }
   },
   "outputs": [
    {
     "data": {
      "text/plain": [
       "[7, 6, 5, 4, 3, 2]"
      ]
     },
     "execution_count": 43,
     "metadata": {},
     "output_type": "execute_result"
    }
   ],
   "source": [
    "list(range(1, 10))\n",
    "list(range(10))\n",
    "list(range(1, 10, 2))\n",
    "list(range(7, 1, -1))"
   ]
  },
  {
   "cell_type": "code",
   "execution_count": 49,
   "metadata": {
    "ExecuteTime": {
     "end_time": "2021-04-21T04:08:00.682923Z",
     "start_time": "2021-04-21T04:08:00.676559Z"
    }
   },
   "outputs": [
    {
     "name": "stdout",
     "output_type": "stream",
     "text": [
      "Sum of all elements = 150\n",
      "Product of all elements = 12000000\n"
     ]
    }
   ],
   "source": [
    "# Q1:-\n",
    "    # lst = [10,20,30,40,50]\n",
    "    # sum => 150\n",
    "    # prod => 12000000\n",
    "    \n",
    "lst = [10,20,30,40,50]\n",
    "sum_total = 0\n",
    "prod_total = 1\n",
    "for i in lst:\n",
    "    sum_total += i\n",
    "    prod_total *= i\n",
    "print(f'Sum of all elements = {sum_total}')\n",
    "print(f'Product of all elements = {prod_total}')"
   ]
  },
  {
   "cell_type": "code",
   "execution_count": 50,
   "metadata": {
    "ExecuteTime": {
     "end_time": "2021-04-21T04:09:56.495511Z",
     "start_time": "2021-04-21T04:09:56.483905Z"
    }
   },
   "outputs": [
    {
     "name": "stdout",
     "output_type": "stream",
     "text": [
      "n\n",
      "oo\n",
      "hhh\n",
      "tttt\n",
      "yyyyy\n",
      "PPPPPP\n"
     ]
    }
   ],
   "source": [
    "# Q2:-\n",
    "#     my_str = 'Python'\n",
    "#     Output:-\n",
    "#         n\n",
    "#         oo\n",
    "#         hhh\n",
    "#         tttt\n",
    "#         yyyyy\n",
    "#         PPPPPP\n",
    "\n",
    "my_str = 'Python'\n",
    "ind = -1\n",
    "while ind >= -len(my_str):\n",
    "    print(my_str[ind] * -ind)\n",
    "    ind -= 1\n",
    "\n"
   ]
  },
  {
   "cell_type": "code",
   "execution_count": 53,
   "metadata": {
    "ExecuteTime": {
     "end_time": "2021-04-21T04:11:29.614112Z",
     "start_time": "2021-04-21T04:11:29.606984Z"
    }
   },
   "outputs": [
    {
     "name": "stdout",
     "output_type": "stream",
     "text": [
      "*\n",
      "**\n",
      "***\n",
      "****\n",
      "*****\n"
     ]
    }
   ],
   "source": [
    "# Q3:-\n",
    "#     1)\n",
    "#         *\n",
    "#         **\n",
    "#         ***\n",
    "#         ****\n",
    "#         *****\n",
    "\n",
    "for i in range(5):\n",
    "    print('*' * (i+1))\n",
    "\n"
   ]
  },
  {
   "cell_type": "code",
   "execution_count": 58,
   "metadata": {
    "ExecuteTime": {
     "end_time": "2021-04-21T04:18:18.169093Z",
     "start_time": "2021-04-21T04:18:18.155093Z"
    }
   },
   "outputs": [
    {
     "name": "stdout",
     "output_type": "stream",
     "text": [
      "    * \n",
      "   * * \n",
      "  * * * \n",
      " * * * * \n",
      "* * * * * \n"
     ]
    }
   ],
   "source": [
    "for i in range(1,6):\n",
    "    print(' ' * (5-i),end = '')\n",
    "    print('* ' * i)"
   ]
  },
  {
   "cell_type": "code",
   "execution_count": 62,
   "metadata": {
    "ExecuteTime": {
     "end_time": "2021-04-21T04:24:23.320248Z",
     "start_time": "2021-04-21T04:24:23.301757Z"
    }
   },
   "outputs": [
    {
     "name": "stdout",
     "output_type": "stream",
     "text": [
      "10\t20\t30\t40\n"
     ]
    }
   ],
   "source": [
    "print(10,20,30,40, sep = '\\t')"
   ]
  },
  {
   "cell_type": "code",
   "execution_count": 68,
   "metadata": {
    "ExecuteTime": {
     "end_time": "2021-04-21T04:26:40.788476Z",
     "start_time": "2021-04-21T04:26:40.778292Z"
    }
   },
   "outputs": [
    {
     "name": "stdout",
     "output_type": "stream",
     "text": [
      "10\t20\t30\t40\t50\t"
     ]
    }
   ],
   "source": [
    "print(10, end = '\\t')\n",
    "print(20, end = '\\t')\n",
    "print(30, end = '\\t')\n",
    "print(40, end = '\\t')\n",
    "print(50, end = '\\t')"
   ]
  },
  {
   "cell_type": "code",
   "execution_count": null,
   "metadata": {},
   "outputs": [],
   "source": []
  },
  {
   "cell_type": "code",
   "execution_count": null,
   "metadata": {},
   "outputs": [],
   "source": []
  },
  {
   "cell_type": "code",
   "execution_count": null,
   "metadata": {},
   "outputs": [],
   "source": []
  },
  {
   "cell_type": "code",
   "execution_count": null,
   "metadata": {},
   "outputs": [],
   "source": []
  },
  {
   "cell_type": "code",
   "execution_count": null,
   "metadata": {},
   "outputs": [],
   "source": []
  },
  {
   "cell_type": "code",
   "execution_count": null,
   "metadata": {},
   "outputs": [],
   "source": []
  },
  {
   "cell_type": "code",
   "execution_count": null,
   "metadata": {},
   "outputs": [],
   "source": []
  },
  {
   "cell_type": "code",
   "execution_count": null,
   "metadata": {},
   "outputs": [],
   "source": []
  },
  {
   "cell_type": "code",
   "execution_count": null,
   "metadata": {},
   "outputs": [],
   "source": []
  },
  {
   "cell_type": "code",
   "execution_count": null,
   "metadata": {},
   "outputs": [],
   "source": []
  },
  {
   "cell_type": "code",
   "execution_count": null,
   "metadata": {},
   "outputs": [],
   "source": []
  },
  {
   "cell_type": "code",
   "execution_count": null,
   "metadata": {},
   "outputs": [],
   "source": []
  },
  {
   "cell_type": "code",
   "execution_count": null,
   "metadata": {},
   "outputs": [],
   "source": []
  },
  {
   "cell_type": "code",
   "execution_count": null,
   "metadata": {},
   "outputs": [],
   "source": []
  },
  {
   "cell_type": "code",
   "execution_count": null,
   "metadata": {},
   "outputs": [],
   "source": []
  },
  {
   "cell_type": "code",
   "execution_count": null,
   "metadata": {},
   "outputs": [],
   "source": []
  },
  {
   "cell_type": "code",
   "execution_count": null,
   "metadata": {},
   "outputs": [],
   "source": []
  },
  {
   "cell_type": "code",
   "execution_count": null,
   "metadata": {},
   "outputs": [],
   "source": []
  },
  {
   "cell_type": "code",
   "execution_count": null,
   "metadata": {},
   "outputs": [],
   "source": []
  },
  {
   "cell_type": "code",
   "execution_count": null,
   "metadata": {},
   "outputs": [],
   "source": []
  },
  {
   "cell_type": "code",
   "execution_count": null,
   "metadata": {},
   "outputs": [],
   "source": []
  },
  {
   "cell_type": "code",
   "execution_count": null,
   "metadata": {},
   "outputs": [],
   "source": []
  },
  {
   "cell_type": "code",
   "execution_count": null,
   "metadata": {},
   "outputs": [],
   "source": []
  },
  {
   "cell_type": "code",
   "execution_count": null,
   "metadata": {},
   "outputs": [],
   "source": []
  },
  {
   "cell_type": "code",
   "execution_count": null,
   "metadata": {},
   "outputs": [],
   "source": []
  },
  {
   "cell_type": "code",
   "execution_count": null,
   "metadata": {},
   "outputs": [],
   "source": []
  },
  {
   "cell_type": "code",
   "execution_count": null,
   "metadata": {},
   "outputs": [],
   "source": []
  },
  {
   "cell_type": "code",
   "execution_count": null,
   "metadata": {},
   "outputs": [],
   "source": []
  },
  {
   "cell_type": "code",
   "execution_count": null,
   "metadata": {},
   "outputs": [],
   "source": []
  },
  {
   "cell_type": "code",
   "execution_count": null,
   "metadata": {},
   "outputs": [],
   "source": []
  },
  {
   "cell_type": "code",
   "execution_count": null,
   "metadata": {},
   "outputs": [],
   "source": []
  }
 ],
 "metadata": {
  "kernelspec": {
   "display_name": "Python 3",
   "language": "python",
   "name": "python3"
  },
  "language_info": {
   "codemirror_mode": {
    "name": "ipython",
    "version": 3
   },
   "file_extension": ".py",
   "mimetype": "text/x-python",
   "name": "python",
   "nbconvert_exporter": "python",
   "pygments_lexer": "ipython3",
   "version": "3.8.2"
  },
  "latex_envs": {
   "LaTeX_envs_menu_present": true,
   "autoclose": false,
   "autocomplete": true,
   "bibliofile": "biblio.bib",
   "cite_by": "apalike",
   "current_citInitial": 1,
   "eqLabelWithNumbers": true,
   "eqNumInitial": 1,
   "hotkeys": {
    "equation": "Ctrl-E",
    "itemize": "Ctrl-I"
   },
   "labels_anchors": false,
   "latex_user_defs": false,
   "report_style_numbering": false,
   "user_envs_cfg": false
  },
  "varInspector": {
   "cols": {
    "lenName": 16,
    "lenType": 16,
    "lenVar": 40
   },
   "kernels_config": {
    "python": {
     "delete_cmd_postfix": "",
     "delete_cmd_prefix": "del ",
     "library": "var_list.py",
     "varRefreshCmd": "print(var_dic_list())"
    },
    "r": {
     "delete_cmd_postfix": ") ",
     "delete_cmd_prefix": "rm(",
     "library": "var_list.r",
     "varRefreshCmd": "cat(var_dic_list()) "
    }
   },
   "types_to_exclude": [
    "module",
    "function",
    "builtin_function_or_method",
    "instance",
    "_Feature"
   ],
   "window_display": false
  }
 },
 "nbformat": 4,
 "nbformat_minor": 2
}
