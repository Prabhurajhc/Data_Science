{
 "cells": [
  {
   "cell_type": "markdown",
   "metadata": {},
   "source": [
    "# String Methods\n",
    "    -  'encode',  'expandtabs', 'format', 'format_map',\n",
    "    - '  ' 'maketrans', 'partition',\n",
    "    - 'rpartition', 'rsplit',  'splitlines',\n",
    "    -   'translate',  "
   ]
  },
  {
   "cell_type": "code",
   "execution_count": 19,
   "metadata": {
    "ExecuteTime": {
     "end_time": "2021-04-16T02:50:36.689817Z",
     "start_time": "2021-04-16T02:50:36.685028Z"
    }
   },
   "outputs": [],
   "source": [
    "#  'isalpha', 'isascii', 'isidentifier', 'islower', 'isnumeric',\n",
    "#  'isalnum', 'isprintable', 'isspace', 'istitle', 'isupper'\n",
    "\n",
    "my_str1 = 'Pythonclass'\n",
    "my_str2 = 'Python123'\n",
    "my_str3 = '12764812'\n",
    "my_str4 = 'Python`916378&^%$^#'\n",
    "my_str5 = 'FLIEßEN'\n",
    "\n",
    "# print(my_str1.isalpha())\n",
    "# print(my_str1.isalnum())\n",
    "# print(my_str2.isalnum())\n",
    "# print(my_str2.isalpha())\n",
    "# print(my_str3.isalpha())\n",
    "# print(my_str3.isalnum())\n",
    "\n",
    "# print(my_str4.isalnum())\n",
    "# print(my_str5.isalnum())\n",
    "\n",
    "# print(my_str3.isnumeric())\n",
    "\n",
    "# print(my_str5.isascii())\n",
    "\n",
    "\n",
    "# my_str6 = '\\n\\t \\t\\f'\n",
    "# print(my_str6.isspace())\n",
    "\n",
    "\n",
    "# isidentifier - checks whether the stringis valid identifier \n",
    "# Exception returns True for keywords\n",
    "# print('num1'.isidentifier())\n",
    "# print('1num'.isidentifier())\n",
    "# print('num$'.isidentifier())\n",
    "# print('for'.isidentifier())\n",
    "\n",
    "# '65'.isascii()\n",
    "\n",
    "\n",
    "# my_str1 = 'This is Python\\\\n class'\n",
    "# print(my_str1.isprintable())\n",
    "\n",
    "# my_str1 = 'This is Python class'\n",
    "# print(my_str1.isprintable())\n",
    "\n"
   ]
  },
  {
   "cell_type": "code",
   "execution_count": 28,
   "metadata": {
    "ExecuteTime": {
     "end_time": "2021-04-16T02:55:55.012664Z",
     "start_time": "2021-04-16T02:55:55.004624Z"
    }
   },
   "outputs": [
    {
     "name": "stdout",
     "output_type": "stream",
     "text": [
      "True\n",
      "True\n",
      "True\n"
     ]
    }
   ],
   "source": [
    "# startswith, endswith\n",
    "\n",
    "# startswith\n",
    "# S.startswith(prefix[, start[, end]]) -> bool\n",
    "\n",
    "# Return True if S starts with the specified prefix, False otherwise.\n",
    "# With optional start, test S beginning at that position.\n",
    "# With optional end, stop comparing S at that position.\n",
    "# prefix can also be a tuple of strings to try.\n",
    "\n",
    "my_str1 = 'This is Python class'\n",
    "print(my_str1.startswith('T'))\n",
    "# print(my_str1.startswith('Thi'))\n",
    "# print(my_str1.startswith('Thi', 0, -1))\n",
    "# print(my_str1.startswith('Thi', 5, 10))\n",
    "\n",
    "\n",
    "# print(my_str1.endswith('s'))\n",
    "# print(my_str1.endswith('class'))\n",
    "# print(my_str1.endswith('class', 14, 30))\n",
    "\n",
    "\n",
    "\n",
    "\n",
    "\n"
   ]
  },
  {
   "cell_type": "code",
   "execution_count": 42,
   "metadata": {
    "ExecuteTime": {
     "end_time": "2021-04-16T03:09:57.309746Z",
     "start_time": "2021-04-16T03:09:57.277022Z"
    }
   },
   "outputs": [
    {
     "name": "stdout",
     "output_type": "stream",
     "text": [
      "5\n",
      "5\n"
     ]
    },
    {
     "ename": "ValueError",
     "evalue": "substring not found",
     "output_type": "error",
     "traceback": [
      "\u001b[0;31m---------------------------------------------------------------------------\u001b[0m",
      "\u001b[0;31mValueError\u001b[0m                                Traceback (most recent call last)",
      "\u001b[0;32m<ipython-input-42-5a59f4feb766>\u001b[0m in \u001b[0;36m<module>\u001b[0;34m\u001b[0m\n\u001b[1;32m     51\u001b[0m \u001b[0mprint\u001b[0m\u001b[0;34m(\u001b[0m\u001b[0mmy_str1\u001b[0m\u001b[0;34m.\u001b[0m\u001b[0mrindex\u001b[0m\u001b[0;34m(\u001b[0m\u001b[0;34m'is'\u001b[0m\u001b[0;34m)\u001b[0m\u001b[0;34m)\u001b[0m\u001b[0;34m\u001b[0m\u001b[0;34m\u001b[0m\u001b[0m\n\u001b[1;32m     52\u001b[0m \u001b[0mprint\u001b[0m\u001b[0;34m(\u001b[0m\u001b[0mmy_str1\u001b[0m\u001b[0;34m.\u001b[0m\u001b[0mrindex\u001b[0m\u001b[0;34m(\u001b[0m\u001b[0;34m'is'\u001b[0m\u001b[0;34m,\u001b[0m \u001b[0;36m4\u001b[0m\u001b[0;34m)\u001b[0m\u001b[0;34m)\u001b[0m\u001b[0;34m\u001b[0m\u001b[0;34m\u001b[0m\u001b[0m\n\u001b[0;32m---> 53\u001b[0;31m \u001b[0mprint\u001b[0m\u001b[0;34m(\u001b[0m\u001b[0mmy_str1\u001b[0m\u001b[0;34m.\u001b[0m\u001b[0mrindex\u001b[0m\u001b[0;34m(\u001b[0m\u001b[0;34m'is'\u001b[0m\u001b[0;34m,\u001b[0m \u001b[0;36m7\u001b[0m\u001b[0;34m,\u001b[0m\u001b[0;34m)\u001b[0m\u001b[0;34m)\u001b[0m\u001b[0;34m\u001b[0m\u001b[0;34m\u001b[0m\u001b[0m\n\u001b[0m\u001b[1;32m     54\u001b[0m \u001b[0;34m\u001b[0m\u001b[0m\n\u001b[1;32m     55\u001b[0m \u001b[0;34m\u001b[0m\u001b[0m\n",
      "\u001b[0;31mValueError\u001b[0m: substring not found"
     ]
    }
   ],
   "source": [
    "# find, rfind, index, rindex\n",
    "\n",
    "# find\n",
    "# Docstring:\n",
    "# S.find(sub[, start[, end]]) -> int\n",
    "\n",
    "# Return the lowest index in S where substring sub is found,\n",
    "# such that sub is contained within S[start:end].  Optional\n",
    "# arguments start and end are interpreted as in slice notation.\n",
    "\n",
    "# Return -1 on failure.\n",
    "\n",
    "# rfind\n",
    "# S.rfind(sub[, start[, end]]) -> int\n",
    "\n",
    "# Return the highest index in S where substring sub is found,\n",
    "# such that sub is contained within S[start:end].  Optional\n",
    "# arguments start and end are interpreted as in slice notation.\n",
    "\n",
    "# Return -1 on failure.\n",
    "my_str1 = 'This is Python class'\n",
    "# print(my_str1.find(' is '))\n",
    "# print(my_str1.find('is', 4))\n",
    "# print(my_str1.find('is', 7))\n",
    "# print(my_str1.rfind('is'))\n",
    "# print(my_str1.rfind('is', 4))\n",
    "\n",
    "\n",
    "# index\n",
    "# Docstring:\n",
    "# S.index(sub[, start[, end]]) -> int\n",
    "\n",
    "# Return the lowest index in S where substring sub is found,\n",
    "# such that sub is contained within S[start:end].  Optional\n",
    "# arguments start and end are interpreted as in slice notation.\n",
    "\n",
    "# Return ValueError on failure.\n",
    "# print(my_str1.index('is'))\n",
    "# print(my_str1.index('is', 4))\n",
    "# print(my_str1.index('is', 7,))\n",
    "\n",
    "# rindex\n",
    "# Docstring:\n",
    "# S.rindex(sub[, start[, end]]) -> int\n",
    "\n",
    "# Return the higher index in S where substring sub is found,\n",
    "# such that sub is contained within S[start:end].  Optional\n",
    "# arguments start and end are interpreted as in slice notation.\n",
    "\n",
    "# Return ValueError on failure.\n",
    "# print(my_str1.rindex('is'))\n",
    "# print(my_str1.rindex('is', 4))\n",
    "# print(my_str1.rindex('is', 7,))\n",
    "\n",
    "\n"
   ]
  },
  {
   "cell_type": "code",
   "execution_count": 48,
   "metadata": {
    "ExecuteTime": {
     "end_time": "2021-04-16T03:16:35.320872Z",
     "start_time": "2021-04-16T03:16:35.309708Z"
    }
   },
   "outputs": [
    {
     "name": "stdout",
     "output_type": "stream",
     "text": [
      "This is       Python      class\n",
      "         This is       Python      class         \n",
      "This is       Python      class         \n",
      "         This is       Python      class\n"
     ]
    }
   ],
   "source": [
    "# strip, lstrip, rstrip\n",
    "\n",
    "my_str1 = '         This is       Python      class         '\n",
    "# strip - returns the unneccessary spaces from the string ends\n",
    "# Signature: my_str1.strip(chars=None, /)\n",
    "# Docstring:\n",
    "# Return a copy of the string with leading and trailing whitespace removed.\n",
    "\n",
    "# If chars is given and not None, remove characters in chars instead.\n",
    "print(my_str1.strip())\n",
    "print(my_str1)\n",
    "# lstrip - returns the unneccessary spaces from the left end of the string\n",
    "# Signature: my_str1.lstrip(chars=None, /)\n",
    "# Docstring:\n",
    "# Return a copy of the string with leading whitespace removed.\n",
    "\n",
    "# If chars is given and not None, remove characters in chars instead.\n",
    "print(my_str1.lstrip())\n",
    "# rstrip - returns the unneccessary spaces from the right end of the string\n",
    "# Signature: my_str1.rstrip(chars=None, /)\n",
    "# Docstring:\n",
    "# Return a copy of the string with trailing whitespace removed.\n",
    "\n",
    "# If chars is given and not None, remove characters in chars instead.\n",
    "print(my_str1.rstrip())\n",
    "\n"
   ]
  },
  {
   "cell_type": "code",
   "execution_count": 52,
   "metadata": {
    "ExecuteTime": {
     "end_time": "2021-04-16T03:18:09.235609Z",
     "start_time": "2021-04-16T03:18:09.227978Z"
    }
   },
   "outputs": [
    {
     "name": "stdout",
     "output_type": "stream",
     "text": [
      "4\n",
      "2\n",
      "1\n",
      "0\n"
     ]
    }
   ],
   "source": [
    "# Count\n",
    "my_str1 = 'This is Python class'\n",
    "# print(my_str1.count('s'))\n",
    "# print(my_str1.count('is'))\n",
    "# print(my_str1.count('is', 4, 20))\n",
    "# print(my_str1.count('is', 14, 20))\n",
    "\n"
   ]
  },
  {
   "cell_type": "code",
   "execution_count": 56,
   "metadata": {
    "ExecuteTime": {
     "end_time": "2021-04-16T03:20:44.146331Z",
     "start_time": "2021-04-16T03:20:44.136099Z"
    }
   },
   "outputs": [
    {
     "name": "stdout",
     "output_type": "stream",
     "text": [
      "***Python***\n"
     ]
    }
   ],
   "source": [
    "# center\n",
    "# Signature: my_str1.center(width, fillchar=' ', /)\n",
    "# Docstring:\n",
    "# Return a centered string of length width.\n",
    "\n",
    "# Padding is done using the specified fill character (default is a space).\n",
    "my_str1 = 'Python'\n",
    "\n",
    "# I want a string with length 10 and 'Python' shouldbe in moddle and rest all characters should be padded with ' ' or '*'\n",
    "\n",
    "print(my_str1.center(12, '*'))\n",
    "\n",
    "\n",
    "\n"
   ]
  },
  {
   "cell_type": "code",
   "execution_count": 68,
   "metadata": {
    "ExecuteTime": {
     "end_time": "2021-04-16T03:29:19.775343Z",
     "start_time": "2021-04-16T03:29:19.765048Z"
    }
   },
   "outputs": [
    {
     "name": "stdout",
     "output_type": "stream",
     "text": [
      "Python88888888888888\n",
      "****Python\n"
     ]
    }
   ],
   "source": [
    "# ljust, rjust\n",
    "\n",
    "my_str1 = 'Python'\n",
    "# my_str1.ljust(20)\n",
    "# my_str1.ljust(20, '*')\n",
    "\n",
    "# my_str1.rjust(20)\n",
    "# my_str1.rjust(20, '*')\n",
    "\n",
    "print(my_str1.ljust(20, '8'))\n",
    "print(my_str1.rjust(10, '*'))\n",
    "\n"
   ]
  },
  {
   "cell_type": "code",
   "execution_count": 66,
   "metadata": {
    "ExecuteTime": {
     "end_time": "2021-04-16T03:28:00.648623Z",
     "start_time": "2021-04-16T03:28:00.638399Z"
    }
   },
   "outputs": [
    {
     "data": {
      "text/plain": [
       "'00000000000000000100'"
      ]
     },
     "execution_count": 66,
     "metadata": {},
     "output_type": "execute_result"
    }
   ],
   "source": [
    "my_str1 = '100'\n",
    "my_str1.zfill(20)"
   ]
  },
  {
   "cell_type": "code",
   "execution_count": 71,
   "metadata": {
    "ExecuteTime": {
     "end_time": "2021-04-16T03:31:36.666509Z",
     "start_time": "2021-04-16T03:31:36.658649Z"
    }
   },
   "outputs": [
    {
     "name": "stdout",
     "output_type": "stream",
     "text": [
      "Thz z Python class\n",
      "This is Python class\n"
     ]
    }
   ],
   "source": [
    "# replace\n",
    "# Signature: my_str1.replace(old, new, count=-1, /)\n",
    "# Docstring:\n",
    "# Return a copy with all occurrences of substring old replaced by new.\n",
    "\n",
    "#   count\n",
    "#     Maximum number of occurrences to replace.\n",
    "#     -1 (the default value) means replace all occurrences.\n",
    "\n",
    "# If the optional argument count is given, only the first count occurrences are\n",
    "# replaced.\n",
    "\n",
    "my_str1 = 'This is Python class'\n",
    "print(my_str1.replace('is','z', 2))\n",
    "print(my_str1)\n",
    "\n",
    "\n"
   ]
  },
  {
   "cell_type": "code",
   "execution_count": 76,
   "metadata": {
    "ExecuteTime": {
     "end_time": "2021-04-16T03:36:01.830382Z",
     "start_time": "2021-04-16T03:36:01.821937Z"
    }
   },
   "outputs": [
    {
     "name": "stdout",
     "output_type": "stream",
     "text": [
      "['         Thi', ' i', '       Python      cla', '', '         ']\n",
      "         Thi--> i-->       Python      cla-->-->         \n"
     ]
    }
   ],
   "source": [
    "# split, join\n",
    "my_str1 = '         This is       Python      class         '\n",
    "res_lst = my_str1.split('s')\n",
    "print(res_lst)\n",
    "print('-->'.join(res_lst))\n",
    "\n"
   ]
  },
  {
   "cell_type": "code",
   "execution_count": 93,
   "metadata": {
    "ExecuteTime": {
     "end_time": "2021-04-16T03:52:09.654066Z",
     "start_time": "2021-04-16T03:52:09.644112Z"
    }
   },
   "outputs": [
    {
     "data": {
      "text/plain": [
       "'sihT si nohtyP ssalc'"
      ]
     },
     "execution_count": 93,
     "metadata": {},
     "output_type": "execute_result"
    }
   ],
   "source": [
    "my_str1 = 'This is Python class'\n",
    "\n",
    "# output1 - 'ssalc nohtyP si sihT'\n",
    "# output2 - 'sihT si nohtyP ssalc'\n",
    "# output2 - 'class Python is This'\n",
    "\n",
    "# print(my_str1[::-1])\n",
    "\n",
    "' '.join([ele[::-1] for ele in my_str1.split()])\n",
    "# [ele[::-1] for ele in my_str1.split()]\n",
    "\n",
    "\n",
    "# print(' '.join(my_str1.split()[::-1]))\n",
    "\n",
    "# ' '.join(my_str1.split()[::-1])\n",
    "\n",
    "' '.join(my_str1[::-1].split()[::-1])\n",
    "\n"
   ]
  },
  {
   "cell_type": "code",
   "execution_count": null,
   "metadata": {},
   "outputs": [],
   "source": []
  },
  {
   "cell_type": "code",
   "execution_count": null,
   "metadata": {},
   "outputs": [],
   "source": [
    "# learnbay8thapril@gmail.com"
   ]
  },
  {
   "cell_type": "code",
   "execution_count": null,
   "metadata": {},
   "outputs": [],
   "source": []
  },
  {
   "cell_type": "code",
   "execution_count": null,
   "metadata": {},
   "outputs": [],
   "source": []
  },
  {
   "cell_type": "code",
   "execution_count": null,
   "metadata": {},
   "outputs": [],
   "source": []
  },
  {
   "cell_type": "code",
   "execution_count": null,
   "metadata": {},
   "outputs": [],
   "source": []
  },
  {
   "cell_type": "code",
   "execution_count": null,
   "metadata": {},
   "outputs": [],
   "source": []
  },
  {
   "cell_type": "code",
   "execution_count": null,
   "metadata": {},
   "outputs": [],
   "source": []
  },
  {
   "cell_type": "code",
   "execution_count": null,
   "metadata": {},
   "outputs": [],
   "source": []
  },
  {
   "cell_type": "code",
   "execution_count": null,
   "metadata": {},
   "outputs": [],
   "source": []
  },
  {
   "cell_type": "code",
   "execution_count": null,
   "metadata": {},
   "outputs": [],
   "source": []
  },
  {
   "cell_type": "code",
   "execution_count": null,
   "metadata": {},
   "outputs": [],
   "source": []
  },
  {
   "cell_type": "code",
   "execution_count": null,
   "metadata": {},
   "outputs": [],
   "source": []
  },
  {
   "cell_type": "code",
   "execution_count": null,
   "metadata": {},
   "outputs": [],
   "source": []
  },
  {
   "cell_type": "code",
   "execution_count": null,
   "metadata": {},
   "outputs": [],
   "source": []
  },
  {
   "cell_type": "code",
   "execution_count": null,
   "metadata": {},
   "outputs": [],
   "source": []
  },
  {
   "cell_type": "code",
   "execution_count": null,
   "metadata": {},
   "outputs": [],
   "source": []
  },
  {
   "cell_type": "code",
   "execution_count": null,
   "metadata": {},
   "outputs": [],
   "source": []
  },
  {
   "cell_type": "code",
   "execution_count": null,
   "metadata": {},
   "outputs": [],
   "source": []
  },
  {
   "cell_type": "code",
   "execution_count": null,
   "metadata": {},
   "outputs": [],
   "source": []
  },
  {
   "cell_type": "code",
   "execution_count": null,
   "metadata": {},
   "outputs": [],
   "source": []
  },
  {
   "cell_type": "code",
   "execution_count": null,
   "metadata": {},
   "outputs": [],
   "source": []
  },
  {
   "cell_type": "code",
   "execution_count": null,
   "metadata": {},
   "outputs": [],
   "source": []
  },
  {
   "cell_type": "code",
   "execution_count": null,
   "metadata": {},
   "outputs": [],
   "source": []
  },
  {
   "cell_type": "code",
   "execution_count": null,
   "metadata": {},
   "outputs": [],
   "source": []
  },
  {
   "cell_type": "code",
   "execution_count": null,
   "metadata": {},
   "outputs": [],
   "source": []
  },
  {
   "cell_type": "code",
   "execution_count": null,
   "metadata": {},
   "outputs": [],
   "source": []
  },
  {
   "cell_type": "code",
   "execution_count": null,
   "metadata": {},
   "outputs": [],
   "source": []
  },
  {
   "cell_type": "code",
   "execution_count": null,
   "metadata": {},
   "outputs": [],
   "source": []
  },
  {
   "cell_type": "code",
   "execution_count": null,
   "metadata": {},
   "outputs": [],
   "source": []
  },
  {
   "cell_type": "code",
   "execution_count": null,
   "metadata": {},
   "outputs": [],
   "source": []
  },
  {
   "cell_type": "code",
   "execution_count": null,
   "metadata": {},
   "outputs": [],
   "source": []
  },
  {
   "cell_type": "code",
   "execution_count": null,
   "metadata": {},
   "outputs": [],
   "source": []
  },
  {
   "cell_type": "code",
   "execution_count": null,
   "metadata": {},
   "outputs": [],
   "source": []
  },
  {
   "cell_type": "code",
   "execution_count": null,
   "metadata": {},
   "outputs": [],
   "source": []
  },
  {
   "cell_type": "code",
   "execution_count": null,
   "metadata": {},
   "outputs": [],
   "source": []
  },
  {
   "cell_type": "code",
   "execution_count": null,
   "metadata": {},
   "outputs": [],
   "source": []
  },
  {
   "cell_type": "code",
   "execution_count": null,
   "metadata": {},
   "outputs": [],
   "source": []
  },
  {
   "cell_type": "code",
   "execution_count": null,
   "metadata": {},
   "outputs": [],
   "source": []
  },
  {
   "cell_type": "code",
   "execution_count": null,
   "metadata": {},
   "outputs": [],
   "source": []
  },
  {
   "cell_type": "code",
   "execution_count": null,
   "metadata": {},
   "outputs": [],
   "source": []
  },
  {
   "cell_type": "code",
   "execution_count": null,
   "metadata": {},
   "outputs": [],
   "source": []
  },
  {
   "cell_type": "code",
   "execution_count": null,
   "metadata": {},
   "outputs": [],
   "source": []
  },
  {
   "cell_type": "code",
   "execution_count": null,
   "metadata": {},
   "outputs": [],
   "source": []
  },
  {
   "cell_type": "code",
   "execution_count": null,
   "metadata": {},
   "outputs": [],
   "source": []
  },
  {
   "cell_type": "code",
   "execution_count": null,
   "metadata": {},
   "outputs": [],
   "source": []
  },
  {
   "cell_type": "code",
   "execution_count": null,
   "metadata": {},
   "outputs": [],
   "source": []
  },
  {
   "cell_type": "code",
   "execution_count": null,
   "metadata": {},
   "outputs": [],
   "source": []
  },
  {
   "cell_type": "code",
   "execution_count": null,
   "metadata": {},
   "outputs": [],
   "source": []
  },
  {
   "cell_type": "code",
   "execution_count": null,
   "metadata": {},
   "outputs": [],
   "source": []
  },
  {
   "cell_type": "code",
   "execution_count": null,
   "metadata": {},
   "outputs": [],
   "source": []
  },
  {
   "cell_type": "code",
   "execution_count": null,
   "metadata": {},
   "outputs": [],
   "source": []
  },
  {
   "cell_type": "code",
   "execution_count": null,
   "metadata": {},
   "outputs": [],
   "source": []
  },
  {
   "cell_type": "code",
   "execution_count": null,
   "metadata": {},
   "outputs": [],
   "source": []
  },
  {
   "cell_type": "code",
   "execution_count": null,
   "metadata": {},
   "outputs": [],
   "source": []
  },
  {
   "cell_type": "code",
   "execution_count": null,
   "metadata": {},
   "outputs": [],
   "source": []
  },
  {
   "cell_type": "code",
   "execution_count": null,
   "metadata": {},
   "outputs": [],
   "source": []
  },
  {
   "cell_type": "code",
   "execution_count": null,
   "metadata": {},
   "outputs": [],
   "source": []
  },
  {
   "cell_type": "code",
   "execution_count": null,
   "metadata": {},
   "outputs": [],
   "source": []
  },
  {
   "cell_type": "code",
   "execution_count": null,
   "metadata": {},
   "outputs": [],
   "source": []
  },
  {
   "cell_type": "code",
   "execution_count": null,
   "metadata": {},
   "outputs": [],
   "source": []
  },
  {
   "cell_type": "code",
   "execution_count": null,
   "metadata": {},
   "outputs": [],
   "source": []
  },
  {
   "cell_type": "code",
   "execution_count": null,
   "metadata": {},
   "outputs": [],
   "source": []
  },
  {
   "cell_type": "code",
   "execution_count": null,
   "metadata": {},
   "outputs": [],
   "source": []
  },
  {
   "cell_type": "code",
   "execution_count": null,
   "metadata": {},
   "outputs": [],
   "source": []
  }
 ],
 "metadata": {
  "kernelspec": {
   "display_name": "Python 3",
   "language": "python",
   "name": "python3"
  },
  "language_info": {
   "codemirror_mode": {
    "name": "ipython",
    "version": 3
   },
   "file_extension": ".py",
   "mimetype": "text/x-python",
   "name": "python",
   "nbconvert_exporter": "python",
   "pygments_lexer": "ipython3",
   "version": "3.8.2"
  },
  "latex_envs": {
   "LaTeX_envs_menu_present": true,
   "autoclose": false,
   "autocomplete": true,
   "bibliofile": "biblio.bib",
   "cite_by": "apalike",
   "current_citInitial": 1,
   "eqLabelWithNumbers": true,
   "eqNumInitial": 1,
   "hotkeys": {
    "equation": "Ctrl-E",
    "itemize": "Ctrl-I"
   },
   "labels_anchors": false,
   "latex_user_defs": false,
   "report_style_numbering": false,
   "user_envs_cfg": false
  },
  "varInspector": {
   "cols": {
    "lenName": 16,
    "lenType": 16,
    "lenVar": 40
   },
   "kernels_config": {
    "python": {
     "delete_cmd_postfix": "",
     "delete_cmd_prefix": "del ",
     "library": "var_list.py",
     "varRefreshCmd": "print(var_dic_list())"
    },
    "r": {
     "delete_cmd_postfix": ") ",
     "delete_cmd_prefix": "rm(",
     "library": "var_list.r",
     "varRefreshCmd": "cat(var_dic_list()) "
    }
   },
   "types_to_exclude": [
    "module",
    "function",
    "builtin_function_or_method",
    "instance",
    "_Feature"
   ],
   "window_display": false
  }
 },
 "nbformat": 4,
 "nbformat_minor": 2
}
