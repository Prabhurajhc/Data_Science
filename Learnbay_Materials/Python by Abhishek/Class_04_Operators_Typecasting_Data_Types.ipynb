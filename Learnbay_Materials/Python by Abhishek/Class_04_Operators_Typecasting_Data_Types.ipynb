{
 "cells": [
  {
   "cell_type": "code",
   "execution_count": null,
   "metadata": {},
   "outputs": [],
   "source": [
    "# and -> False\n",
    "True and True = True\n",
    "True and False = False\n",
    "False and True = False\n",
    "False and False = False\n"
   ]
  },
  {
   "cell_type": "code",
   "execution_count": 1,
   "metadata": {
    "ExecuteTime": {
     "end_time": "2021-04-14T02:35:55.403438Z",
     "start_time": "2021-04-14T02:35:55.385514Z"
    }
   },
   "outputs": [
    {
     "data": {
      "text/plain": [
       "False"
      ]
     },
     "execution_count": 1,
     "metadata": {},
     "output_type": "execute_result"
    }
   ],
   "source": [
    "# 10 and 20\n"
   ]
  },
  {
   "cell_type": "code",
   "execution_count": null,
   "metadata": {},
   "outputs": [],
   "source": [
    "# Operators\n",
    "    # Comaprison -> <, <=, >, >=\n",
    "    # Equality -> ==, !=\n",
    "    # Assignment -> =\n",
    "    # Compound Assignment -> +=, -=, *=, /=, //=, **=, %=, &=, |=, ^=, ~=, <<=, >>=\n",
    "    # Identity -> is, is not\n",
    "    # Membership - in, not in\n",
    "    # Ternary - expr if else expr"
   ]
  },
  {
   "cell_type": "code",
   "execution_count": 53,
   "metadata": {
    "ExecuteTime": {
     "end_time": "2021-04-14T03:25:30.361401Z",
     "start_time": "2021-04-14T03:25:30.347094Z"
    }
   },
   "outputs": [
    {
     "name": "stdout",
     "output_type": "stream",
     "text": [
      "100\n",
      "100\n"
     ]
    }
   ],
   "source": [
    "# Comaprison -> <, <=, >, >=\n",
    "# It always returns Boolean Value - True/False\n",
    "# Comparison between the different data type is not possible except int and float.\n",
    "\n",
    "# print(10<20)\n",
    "# print(10<10.20)\n",
    "# print(10<20+30j)\n",
    "\n",
    "# ord and chr\n",
    "# print(ord('A'))\n",
    "# print(ord('a'))\n",
    "# print(ord('='))\n",
    "\n",
    "# print(ord('AB'))\n",
    "\n",
    "# print(chr(65))\n",
    "# print(chr(61))\n",
    "# print(chr(97))\n",
    "# print(chr(130))\n",
    "\n",
    "# print(chr(3000))\n",
    "\n",
    "# print('A'<=65)\n",
    "\n",
    "# print('pythOnt' >= 'python')\n",
    "\n",
    "\n",
    "# Equality Operator - ==, !=\n",
    "# These operatpors also returns boolean values\n",
    "# Comparison between dfferent data types is possible.\n",
    "# It compares the content\n",
    "\n",
    "# print(10 == 10)\n",
    "# print(10 != 20)\n",
    "# print(10 == 10+20j)\n",
    "\n",
    "# print('A'== 65)\n",
    "\n",
    "\n",
    "# Assignment Operator -> =\n",
    "# It is used to assign the value to a variable\n",
    "\n",
    "# name = 'Abhishek'\n",
    "# age = 35\n",
    "\n",
    "\n",
    "# Compound Assignment Operators - +=, -=, *=, /=, //=, **=, %=, &=, |=, ^=, ~=, <<=, >>=\n",
    "# a = 10\n",
    "# a += 2                                                    # a = a+2\n",
    "# print(a)\n",
    "\n",
    "# Identity Operator - is , is not\n",
    "# These operators returns Boolean Value\n",
    "# These operators compares the address of the objects\n",
    "# a = 10\n",
    "# b = 10\n",
    "# print(a == b)\n",
    "# print(a is b)\n",
    "# print(id(a))\n",
    "# print(id(b))\n",
    "\n",
    "# a = 1000\n",
    "# b = 1000\n",
    "# print(a == b)\n",
    "# print(a is b)\n",
    "# print(id(a))\n",
    "# print(id(b))\n",
    "\n",
    "# Object Reusability\n",
    "# In Python object creation is very expensive\n",
    "# 10 -> 28 bytes \n",
    "# Integeres -> -5 to 256\n",
    "# None, True, False\n",
    "# String - A-Z, a-z, 0-9, _\n",
    "\n",
    "# Rest all does not follow the object reusability concept\n",
    "# Why it does not provide the Oobject Reusability concept to float, complex or other derived Data Types?\n",
    "\n",
    "\n",
    "# Membership Operator -> in, not in\n",
    "# These Operators returns Boolean value\n",
    "# These operators check whetehr an element is part of an iterable or not.\n",
    "\n",
    "# What is an Iterable?\n",
    "# Iterable is an object in Python which implements __iter__ method or we can run the for loop over these objects.\n",
    "# e.g - Seq -> String, List, Tuple, range Bytes, Bytearray, Iterator and Generator and Mapping objects - Set, Frozenset, Dictionary\n",
    "# print(dir(str))\n",
    "# print(dir(list))\n",
    "# print(dir(set))\n",
    "# print(dir(dict))\n",
    "\n",
    "# print(dir(int))\n",
    "\n",
    "# my_str = 'This is Python class'\n",
    "# my_lst = [10,20,30,40]\n",
    "# my_tuple = (1,2,3,4)\n",
    "# my_range = range(30, 50)\n",
    "# my_set = {11,22,33,44,55}\n",
    "# my_dict = {1:100, 10.20:10+20j, 'A':[10,20,30], (1,2,3):'Python', None:True}\n",
    "\n",
    "# print('i' in my_str)\n",
    "# print('Class' not in my_str)\n",
    "# print(20 in my_lst)\n",
    "# print(200 in my_lst)\n",
    "# print(1 in my_dict)\n",
    "# print((10+20j in my_dict) and 10 not in my_lst)\n",
    "# 10,20\n",
    "\n",
    "# res = 10+20j, 'A' in my_dict\n",
    "# print(res)\n",
    "\n",
    "\n",
    "# Ternary Operator\n",
    "# expr1 if cond else expr2 => Result will be expr1 if cond is True else Result will be expr2\n",
    "\n",
    "# expr1 if cond1 else expr2 if cond2 else expr3 => \n",
    "# Result will be expr1 if cond1 is True else Result will be expr2 if cond1 is False and cond2 is True else result will be expr3\n",
    "\n",
    "# num1 = 10\n",
    "# num2 = 100\n",
    "# num3 = 5\n",
    "# print(num1 if num1>num2 else num2)\n",
    "# print(num1 if num1>num2 and num1>num3 else num2 if num2 > num3 else num3)\n",
    "\n"
   ]
  },
  {
   "cell_type": "code",
   "execution_count": 72,
   "metadata": {
    "ExecuteTime": {
     "end_time": "2021-04-14T03:42:46.790896Z",
     "start_time": "2021-04-14T03:42:46.779908Z"
    }
   },
   "outputs": [
    {
     "name": "stdout",
     "output_type": "stream",
     "text": [
      "[None, None, None, None]\n",
      "['abc', 'xyz', 'mno', 'pqr']\n"
     ]
    }
   ],
   "source": [
    "# None Data Type\n",
    "# a = None\n",
    "# print(type(a))\n",
    "# print(help(a))\n",
    "\n",
    "# int a;\n",
    "\n",
    "# x = None\n",
    "\n",
    "# list\n",
    "# lst = [None] * 10\n",
    "# print(lst)\n",
    "# lst[3] = 'Python'\n",
    "# print(lst)\n",
    "\n",
    "# None is used to represent missing values\n",
    "# Emp_name   Emp_id   Emp_sal\n",
    "# 'ABC'       101       10000\n",
    "# 'XYZ'       None       8000\n",
    "\n",
    "# print(print())\n",
    "\n",
    "# lst = ['abc@gmail.com', 'xyz@yahoo.com', 'mno@rediffmail.com', 'pqr@hotmail.com']\n",
    "# out_lst = [None] * len(lst)\n",
    "# print(out_lst)\n",
    "# out_lst[0] = lst[0][:lst[0].index('@')]\n",
    "# out_lst[1] = lst[1][:lst[1].index('@')]\n",
    "# out_lst[2] = lst[2][:lst[2].index('@')]\n",
    "# out_lst[3] = lst[3][:lst[3].index('@')]\n",
    "# print(out_lst)\n",
    "\n",
    "# a = None\n",
    "# print(id(a))\n",
    "# print(id(None))\n",
    "# a = 10\n",
    "\n",
    "\n",
    "\n",
    "\n",
    "\n"
   ]
  },
  {
   "cell_type": "code",
   "execution_count": 84,
   "metadata": {
    "ExecuteTime": {
     "end_time": "2021-04-14T03:49:16.258547Z",
     "start_time": "2021-04-14T03:49:16.252689Z"
    }
   },
   "outputs": [],
   "source": [
    "# Boolean Data Type - True, False\n",
    "# True == 1 and False == 0\n",
    "# print(True + True)\n",
    "# print(True + False)\n",
    "\n",
    "# int to Boolean -> 0 is always False rest all True\n",
    "# Float to Boolean -> 0.0 is always False rest all True\n",
    "# complex to Boolean -> 0.0+0.0j is always False rest all True\n",
    "# None is always False\n",
    "# String - '' is always False and rest all True\n",
    "# List, Tuple, Set, Frsozenset, Dictionary - [], (), set(), frozenset(), {} - False rest all True\n",
    "\n",
    "# print(bool(0))\n",
    "# print(bool(-10))\n",
    "# print(bool(0.000000000))\n",
    "# print(bool(0.0000000001))\n",
    "# print(bool(set()))\n",
    "# print(bool({}))\n",
    "# print(bool(''))\n",
    "# print(bool(' '))\n",
    " \n",
    "\n"
   ]
  },
  {
   "cell_type": "code",
   "execution_count": 115,
   "metadata": {
    "ExecuteTime": {
     "end_time": "2021-04-14T04:13:05.174350Z",
     "start_time": "2021-04-14T04:13:05.160555Z"
    }
   },
   "outputs": [
    {
     "data": {
      "text/plain": [
       "'10'"
      ]
     },
     "execution_count": 115,
     "metadata": {},
     "output_type": "execute_result"
    }
   ],
   "source": [
    "# Typecasting - int, float, complex, bool, str\n",
    "#\n",
    "\n",
    "# int()\n",
    "# print(int(10))\n",
    "# print(int('10'))\n",
    "# print(int(True))\n",
    "# print(int(10.20))\n",
    "# print(int(0b10001))\n",
    "\n",
    "\n",
    "\n",
    "# print(int('10.20'))\n",
    "# print(int(10+20j))\n",
    "# print(int('A'))\n",
    "# print(int('True'))\n",
    "# print(int('0b10101'))\n",
    "\n",
    "\n",
    "# float\n",
    "# print(float(10))\n",
    "# print(float('10'))\n",
    "# print(float(10.20))\n",
    "# print(float('10.20'))\n",
    "# print(float(True))\n",
    "# print(float(0b10101))\n",
    "\n",
    "# print(float(10+20j))\n",
    "# print(float('A'))\n",
    "# print(float('True'))\n",
    "# print(float('0b10101'))\n",
    "\n",
    "# complex - real, imag\n",
    "# complex(real) - real + 0j\n",
    "# complex(real, imag) - real + imag j\n",
    "# If first value is string then second value is not allowed\n",
    "# Second value we can not pass as string\n",
    "# print(complex(10))\n",
    "# print(complex('10'))\n",
    "# print(complex(10.20))\n",
    "# print(complex('10.2'))\n",
    "# print(complex(0b10101))\n",
    "# print(complex(True))\n",
    "\n",
    "# print(complex('0b10101'))\n",
    "# print(complex('True'))\n",
    "\n",
    "\n",
    "# print(complex(10, 20))\n",
    "# print(complex(10.20, 30))\n",
    "# print(complex(0b10101))\n",
    "# print(complex(True))\n",
    "\n",
    "\n",
    "# print(complex('10'))\n",
    "# print(complex(0, '10.2'))\n",
    "\n",
    "\n",
    "# str()\n",
    "# Pass any value, it will be converted to string\n",
    "# print(str(10))\n",
    "# print(str(10.20))\n",
    "# print(str(10.20+30j))\n",
    "# print(str('10.20+30j'))\n",
    "# print(int(10))\n",
    "\n",
    "# j = square root of -1\n",
    "\n",
    "# j = 10 +20j\n",
    "\n",
    "# j = 1\n",
    "# a = (10+1j)+20*j\n",
    "\n",
    "\n",
    "# # str('10.20+30j')\n",
    "# str(10.20+30j)\n",
    "# # str('A')\n",
    "# str(10)\n",
    "\n"
   ]
  },
  {
   "cell_type": "code",
   "execution_count": 122,
   "metadata": {
    "ExecuteTime": {
     "end_time": "2021-04-14T04:16:51.991813Z",
     "start_time": "2021-04-14T04:16:44.107075Z"
    }
   },
   "outputs": [
    {
     "name": "stdout",
     "output_type": "stream",
     "text": [
      "Enetr your age: 'A'\n",
      "A <class 'str'>\n"
     ]
    }
   ],
   "source": [
    "# Input and output function\n",
    "\n",
    "# To take the input from user - input\n",
    "# it converts everything to string type\n",
    "\n",
    "# num = int(input('Enter a number: '))\n",
    "# print(num, type(num))\n",
    "\n",
    "age = eval(input('Enetr your age: '))\n",
    "print(age, type(age))\n",
    "\n"
   ]
  },
  {
   "cell_type": "code",
   "execution_count": 140,
   "metadata": {
    "ExecuteTime": {
     "end_time": "2021-04-14T04:30:13.810882Z",
     "start_time": "2021-04-14T04:30:12.680860Z"
    }
   },
   "outputs": [
    {
     "name": "stdout",
     "output_type": "stream",
     "text": [
      "Enter a complex number: 10\n"
     ]
    },
    {
     "ename": "SystemExit",
     "evalue": "",
     "output_type": "error",
     "traceback": [
      "An exception has occurred, use %tb to see the full traceback.\n",
      "\u001b[0;31mSystemExit\u001b[0m\n"
     ]
    },
    {
     "name": "stderr",
     "output_type": "stream",
     "text": [
      "/Library/Frameworks/Python.framework/Versions/3.8/lib/python3.8/site-packages/IPython/core/interactiveshell.py:3435: UserWarning: To exit: use 'exit', 'quit', or Ctrl-D.\n",
      "  warn(\"To exit: use 'exit', 'quit', or Ctrl-D.\", stacklevel=1)\n"
     ]
    }
   ],
   "source": [
    "# eval -> evaluate\n",
    "# It evaluates the expression\n",
    "# It takes the expression only in string format\n",
    "# It parses, Compiles and evaluate the expression\n",
    "\n",
    "\n",
    "# a = eval('10')\n",
    "# print(a, type(a))\n",
    "\n",
    "# b = eval('10+20')\n",
    "# print(b, type(b))\n",
    "\n",
    "# c = eval('[10,20,30,40]')\n",
    "# print(c, type(c))\n",
    "\n",
    "\n",
    "# Taking int input from the user\n",
    "# a = int(input('Enter a number: '))\n",
    "# print(a, type(a))\n",
    "\n",
    "# Taking list input from the user\n",
    "# a = list(input('Enter a list: '))\n",
    "# print(a, type(a))\n",
    "# '[10,20,30,40]'\n",
    "\n",
    "\n",
    "# a = eval(input('Enter a list: '))\n",
    "# print(a, type(a))\n",
    "\n",
    "import sys\n",
    "a = eval(input('Enter a complex number: '))\n",
    "if type(a) != complex:\n",
    "    sys.exit()\n",
    "else:\n",
    "    print(a)\n",
    "               "
   ]
  },
  {
   "cell_type": "code",
   "execution_count": 134,
   "metadata": {
    "ExecuteTime": {
     "end_time": "2021-04-14T04:25:05.014315Z",
     "start_time": "2021-04-14T04:25:05.006761Z"
    }
   },
   "outputs": [
    {
     "data": {
      "text/plain": [
       "('P', 'y', 't', 'h', 'o', 'n')"
      ]
     },
     "execution_count": 134,
     "metadata": {},
     "output_type": "execute_result"
    }
   ],
   "source": [
    "tuple('Python')"
   ]
  },
  {
   "cell_type": "code",
   "execution_count": null,
   "metadata": {},
   "outputs": [],
   "source": [
    "list()"
   ]
  },
  {
   "cell_type": "code",
   "execution_count": null,
   "metadata": {},
   "outputs": [],
   "source": []
  },
  {
   "cell_type": "code",
   "execution_count": null,
   "metadata": {},
   "outputs": [],
   "source": []
  },
  {
   "cell_type": "code",
   "execution_count": null,
   "metadata": {},
   "outputs": [],
   "source": []
  },
  {
   "cell_type": "code",
   "execution_count": null,
   "metadata": {},
   "outputs": [],
   "source": []
  },
  {
   "cell_type": "code",
   "execution_count": null,
   "metadata": {},
   "outputs": [],
   "source": []
  },
  {
   "cell_type": "code",
   "execution_count": null,
   "metadata": {},
   "outputs": [],
   "source": []
  },
  {
   "cell_type": "code",
   "execution_count": null,
   "metadata": {},
   "outputs": [],
   "source": []
  },
  {
   "cell_type": "code",
   "execution_count": null,
   "metadata": {},
   "outputs": [],
   "source": []
  },
  {
   "cell_type": "code",
   "execution_count": null,
   "metadata": {},
   "outputs": [],
   "source": []
  },
  {
   "cell_type": "code",
   "execution_count": null,
   "metadata": {},
   "outputs": [],
   "source": []
  },
  {
   "cell_type": "code",
   "execution_count": null,
   "metadata": {},
   "outputs": [],
   "source": []
  },
  {
   "cell_type": "code",
   "execution_count": null,
   "metadata": {},
   "outputs": [],
   "source": []
  },
  {
   "cell_type": "code",
   "execution_count": null,
   "metadata": {},
   "outputs": [],
   "source": []
  },
  {
   "cell_type": "code",
   "execution_count": null,
   "metadata": {},
   "outputs": [],
   "source": []
  },
  {
   "cell_type": "code",
   "execution_count": null,
   "metadata": {},
   "outputs": [],
   "source": []
  },
  {
   "cell_type": "code",
   "execution_count": null,
   "metadata": {},
   "outputs": [],
   "source": []
  },
  {
   "cell_type": "code",
   "execution_count": null,
   "metadata": {},
   "outputs": [],
   "source": []
  },
  {
   "cell_type": "code",
   "execution_count": null,
   "metadata": {},
   "outputs": [],
   "source": []
  },
  {
   "cell_type": "code",
   "execution_count": null,
   "metadata": {},
   "outputs": [],
   "source": []
  },
  {
   "cell_type": "code",
   "execution_count": null,
   "metadata": {},
   "outputs": [],
   "source": []
  },
  {
   "cell_type": "code",
   "execution_count": null,
   "metadata": {},
   "outputs": [],
   "source": []
  },
  {
   "cell_type": "code",
   "execution_count": null,
   "metadata": {},
   "outputs": [],
   "source": []
  },
  {
   "cell_type": "code",
   "execution_count": null,
   "metadata": {},
   "outputs": [],
   "source": []
  },
  {
   "cell_type": "code",
   "execution_count": null,
   "metadata": {},
   "outputs": [],
   "source": []
  },
  {
   "cell_type": "code",
   "execution_count": null,
   "metadata": {},
   "outputs": [],
   "source": []
  },
  {
   "cell_type": "code",
   "execution_count": null,
   "metadata": {},
   "outputs": [],
   "source": []
  },
  {
   "cell_type": "code",
   "execution_count": null,
   "metadata": {},
   "outputs": [],
   "source": []
  },
  {
   "cell_type": "code",
   "execution_count": null,
   "metadata": {},
   "outputs": [],
   "source": []
  },
  {
   "cell_type": "code",
   "execution_count": null,
   "metadata": {},
   "outputs": [],
   "source": []
  },
  {
   "cell_type": "code",
   "execution_count": null,
   "metadata": {},
   "outputs": [],
   "source": []
  },
  {
   "cell_type": "code",
   "execution_count": null,
   "metadata": {},
   "outputs": [],
   "source": []
  },
  {
   "cell_type": "code",
   "execution_count": null,
   "metadata": {},
   "outputs": [],
   "source": []
  },
  {
   "cell_type": "code",
   "execution_count": null,
   "metadata": {},
   "outputs": [],
   "source": []
  },
  {
   "cell_type": "code",
   "execution_count": null,
   "metadata": {},
   "outputs": [],
   "source": []
  },
  {
   "cell_type": "code",
   "execution_count": null,
   "metadata": {},
   "outputs": [],
   "source": []
  },
  {
   "cell_type": "code",
   "execution_count": null,
   "metadata": {},
   "outputs": [],
   "source": []
  },
  {
   "cell_type": "code",
   "execution_count": null,
   "metadata": {},
   "outputs": [],
   "source": []
  },
  {
   "cell_type": "code",
   "execution_count": null,
   "metadata": {},
   "outputs": [],
   "source": []
  },
  {
   "cell_type": "code",
   "execution_count": null,
   "metadata": {},
   "outputs": [],
   "source": []
  },
  {
   "cell_type": "code",
   "execution_count": null,
   "metadata": {},
   "outputs": [],
   "source": []
  },
  {
   "cell_type": "code",
   "execution_count": null,
   "metadata": {},
   "outputs": [],
   "source": []
  },
  {
   "cell_type": "code",
   "execution_count": null,
   "metadata": {},
   "outputs": [],
   "source": []
  },
  {
   "cell_type": "code",
   "execution_count": null,
   "metadata": {},
   "outputs": [],
   "source": []
  },
  {
   "cell_type": "code",
   "execution_count": null,
   "metadata": {},
   "outputs": [],
   "source": []
  },
  {
   "cell_type": "code",
   "execution_count": null,
   "metadata": {},
   "outputs": [],
   "source": []
  },
  {
   "cell_type": "code",
   "execution_count": null,
   "metadata": {},
   "outputs": [],
   "source": []
  },
  {
   "cell_type": "code",
   "execution_count": null,
   "metadata": {},
   "outputs": [],
   "source": []
  },
  {
   "cell_type": "code",
   "execution_count": null,
   "metadata": {},
   "outputs": [],
   "source": []
  },
  {
   "cell_type": "code",
   "execution_count": null,
   "metadata": {},
   "outputs": [],
   "source": []
  },
  {
   "cell_type": "code",
   "execution_count": null,
   "metadata": {},
   "outputs": [],
   "source": []
  },
  {
   "cell_type": "code",
   "execution_count": null,
   "metadata": {},
   "outputs": [],
   "source": []
  },
  {
   "cell_type": "code",
   "execution_count": null,
   "metadata": {},
   "outputs": [],
   "source": []
  },
  {
   "cell_type": "code",
   "execution_count": null,
   "metadata": {},
   "outputs": [],
   "source": []
  },
  {
   "cell_type": "code",
   "execution_count": null,
   "metadata": {},
   "outputs": [],
   "source": []
  },
  {
   "cell_type": "code",
   "execution_count": null,
   "metadata": {},
   "outputs": [],
   "source": []
  },
  {
   "cell_type": "code",
   "execution_count": null,
   "metadata": {},
   "outputs": [],
   "source": []
  },
  {
   "cell_type": "code",
   "execution_count": null,
   "metadata": {},
   "outputs": [],
   "source": []
  },
  {
   "cell_type": "code",
   "execution_count": null,
   "metadata": {},
   "outputs": [],
   "source": []
  },
  {
   "cell_type": "code",
   "execution_count": null,
   "metadata": {},
   "outputs": [],
   "source": []
  }
 ],
 "metadata": {
  "kernelspec": {
   "display_name": "Python 3",
   "language": "python",
   "name": "python3"
  },
  "language_info": {
   "codemirror_mode": {
    "name": "ipython",
    "version": 3
   },
   "file_extension": ".py",
   "mimetype": "text/x-python",
   "name": "python",
   "nbconvert_exporter": "python",
   "pygments_lexer": "ipython3",
   "version": "3.8.2"
  },
  "latex_envs": {
   "LaTeX_envs_menu_present": true,
   "autoclose": false,
   "autocomplete": true,
   "bibliofile": "biblio.bib",
   "cite_by": "apalike",
   "current_citInitial": 1,
   "eqLabelWithNumbers": true,
   "eqNumInitial": 1,
   "hotkeys": {
    "equation": "Ctrl-E",
    "itemize": "Ctrl-I"
   },
   "labels_anchors": false,
   "latex_user_defs": false,
   "report_style_numbering": false,
   "user_envs_cfg": false
  },
  "varInspector": {
   "cols": {
    "lenName": 16,
    "lenType": 16,
    "lenVar": 40
   },
   "kernels_config": {
    "python": {
     "delete_cmd_postfix": "",
     "delete_cmd_prefix": "del ",
     "library": "var_list.py",
     "varRefreshCmd": "print(var_dic_list())"
    },
    "r": {
     "delete_cmd_postfix": ") ",
     "delete_cmd_prefix": "rm(",
     "library": "var_list.r",
     "varRefreshCmd": "cat(var_dic_list()) "
    }
   },
   "types_to_exclude": [
    "module",
    "function",
    "builtin_function_or_method",
    "instance",
    "_Feature"
   ],
   "window_display": false
  }
 },
 "nbformat": 4,
 "nbformat_minor": 2
}
