{
 "cells": [
  {
   "cell_type": "code",
   "execution_count": null,
   "metadata": {},
   "outputs": [],
   "source": [
    "# Comments\n",
    "# Data Types\n",
    "    # Fundamental Data Types - Int, Float, Complex, Boolean, None, Strings\n",
    "    # Derived Data Types - List, Tuples, Set, Dictionary, range, frozenset, Bytes, Bytearray\n",
    "    \n",
    "# In Python, everything is an object"
   ]
  },
  {
   "cell_type": "code",
   "execution_count": 2,
   "metadata": {
    "ExecuteTime": {
     "end_time": "2021-04-13T03:28:56.337395Z",
     "start_time": "2021-04-13T03:28:56.318788Z"
    },
    "scrolled": false
   },
   "outputs": [
    {
     "data": {
      "text/plain": [
       "10"
      ]
     },
     "execution_count": 2,
     "metadata": {},
     "output_type": "execute_result"
    }
   ],
   "source": [
    "# Comments - \n",
    "\n",
    "# This Function takes 2 numbers \n",
    "# as argument and returns the sum of both\n",
    "'''def my_fun(a,b):\n",
    "    return a+b'''\n",
    "\n",
    "# Function call\n",
    "# my_fun(10,20)\n",
    "\n",
    "a = 10\n",
    "a\n",
    "\n",
    "\n",
    "# Where should we use comments\n",
    "#     1. To explain yourself\n",
    "#     2. To skip few lines of code\n",
    "\n",
    "\n"
   ]
  },
  {
   "cell_type": "code",
   "execution_count": 43,
   "metadata": {
    "ExecuteTime": {
     "end_time": "2021-04-13T04:31:57.320154Z",
     "start_time": "2021-04-13T04:31:57.307180Z"
    }
   },
   "outputs": [
    {
     "name": "stdout",
     "output_type": "stream",
     "text": [
      "10\n",
      "0\n",
      "10\n",
      "0.0\n"
     ]
    }
   ],
   "source": [
    "# Data Types\n",
    "    # Fundamental Data Types - Int, Float, Complex, Boolean, None, Strings\n",
    "    \n",
    "    \n",
    "# Integers\n",
    "    # Any number in python without a decimal point\n",
    "    # e.g. - 10, -10, 0\n",
    "    # id(), type(), sys.getsizeof(), dir(), help()\n",
    "    \n",
    "a = 10\n",
    "# print(a)\n",
    "# print(id(a))\n",
    "# print(type(a))\n",
    "# print(dir(a))\n",
    "# print(help(a))\n",
    "# import sys\n",
    "# print(sys.getsizeof(a))\n",
    "\n",
    "# Float\n",
    "    # Any number with a decimal point\n",
    "    # 10.20, -10.20, 0.20\n",
    "    # id(), type(), sys.getsizeof(), dir(), help()\n",
    "    \n",
    "# f = 10.20\n",
    "# print(f)\n",
    "# print(id(f))\n",
    "# print(type(f))\n",
    "# print(dir(f))\n",
    "# import sys\n",
    "# print(sys.getsizeof(f))\n",
    "# print(help(f))\n",
    "\n",
    "# Complex\n",
    "    # Any number in the format a+bj where a is real part, b is imaginary part and j is imaginary value(sqrt(-1))\n",
    "    # 10+20j, 10-20j, -10-20j\n",
    "    # 10 is real and 20 is imaginary part\n",
    "# c = 10+20j\n",
    "# print(c)\n",
    "# print(id(c))\n",
    "# print(type(c))\n",
    "# print(dir(c))\n",
    "# import sys\n",
    "# print(getsizeof(c))\n",
    "# print(c.real)\n",
    "# print(c.imag)\n",
    "# print(help(c))\n",
    "\n",
    "# print(dir(c))\n",
    "\n",
    "\n",
    "# Operators\n",
    "    # Arithmetic -> +, -, *, /(FLoat Division), //(Floor Division), **(Exponent), %(Modulo- returns Remainder) - \n",
    "    # Bitwise -> &, |, ^, ~, <<, >>\n",
    "    # Logical -> and or not\n",
    "    # Comaprison -> <, <=, >, >=\n",
    "    # Equality -> ==, !=\n",
    "    # Assignment -> =\n",
    "    # Compound Assignment -> +=, -=, *=, /=, //=, **=, %=, &=, |=, ^=, ~=, <<=, >>=\n",
    "    # Identity -> is, is not\n",
    "    # Membership - in, not in\n",
    "    # Ternary - expr if else expr\n",
    "\n",
    "# Arithmetic -> +, -, *, /(FLoat Division), //(Floor Division), **(Exponent), %(Modulo- returns Remainder)\n",
    "# num1 = int(input('Enter 1st Number: '))\n",
    "# num2 = int(input('Enter 2nd Number: '))\n",
    "# print(num1+num2)\n",
    "# print(num1-num2)\n",
    "# print(num1*num2)\n",
    "\n",
    "# Floor vs Float Division\n",
    "# print(num1/num2)       # Float value after division\n",
    "# print(num1//num2)      # Floor value after division - Quotient\n",
    "# print(num1%num2)       # Returns remainder\n",
    "\n",
    "# Exponet - a**b -> a id base, b is exponent\n",
    "# print(num1**num2)\n",
    "\n",
    "# To find the Absolute value\n",
    "# print(abs(-10))\n",
    "# print(pow(10, 3))               # pow(base, exp)\n",
    "# print(dir(__builtins__))\n",
    "\n",
    "# print(round(math.pi,5))\n",
    "\n",
    "\n",
    "# import math    # Math is a module - it is a .py file\n",
    "# print(dir(int))\n",
    "# print(dir(math))\n",
    "# print(math.sqrt(4))\n",
    "# print(math.ceil(3.0001))\n",
    "# print(math.floor(3.0001))\n",
    "\n",
    "\n",
    "# ceil = higest nearest whole number - 4\n",
    "# num = 3.01\n",
    "# floor = lowest nearest whole number - 3\n",
    "\n",
    "# Bitwise Operators \n",
    "    # These operators works on bits or binary input - 0 & 1\n",
    "    # These operators works only with integers\n",
    "    # &, |, ^, ~, <<, >>\n",
    "    \n",
    "# Bitwise & - Truth Table\n",
    "# 0 & 0 = 0\n",
    "# 0 & 1 = 0\n",
    "# 1 & 0 = 0\n",
    "# 1 & 1 = 1\n",
    "\n",
    "# Bitwise | - Truth Table\n",
    "# 0 | 0 = 0\n",
    "# 0 | 1 = 1\n",
    "# 1 | 0 = 1\n",
    "# 1 | 1 = 1\n",
    "\n",
    "# Bitwise ^ - Truth Table\n",
    "# 0 ^ 0 = 0\n",
    "# 0 ^ 1 = 1\n",
    "# 1 ^ 0 = 1\n",
    "# 1 ^ 1 = 0\n",
    "\n",
    "# print(37 & 57)\n",
    "# print(37 | 57)\n",
    "# print(37 ^ 57)\n",
    "\n",
    "\n",
    "# Step 1 converts both the numbers to bits - take the remainder va;ue from. bottom to top\n",
    "# Step 2 do the bitwise operation\n",
    "# To get the deciaml equivalent\n",
    "# num      divide by 2      quo        rem\n",
    "# 37          2              18         1\n",
    "# 18          2               9         0\n",
    "# 9           2               4         1\n",
    "# 4           2               2         0\n",
    "# 2           2               1         0\n",
    "# 1           2               0         1\n",
    "\n",
    "# print(bin(57))\n",
    "\n",
    "# 37 => 100101\n",
    "# 57 => 111001\n",
    "# ===============\n",
    "# &  => 100001\n",
    "# |  => 111101\n",
    "# ^  => 11100\n",
    "\n",
    "# 1    0       0       0      0      1\n",
    "# 32 + 2^4  + 2^3  + 2^2  + 2^1  +   1\n",
    "\n",
    "\n",
    "# print(0b11100)\n",
    "\n",
    "\n",
    "# Bitwise Negation - ~\n",
    "# ~num = -(num+1)\n",
    "# print(~10)\n",
    "# print(~-9)\n",
    "# print(~True)\n",
    "\n",
    "\n",
    "# << - left shift - num << no_of_bits => (num*(2**no_of_bits))\n",
    "# print(57 << 3)\n",
    "# print(57 * (2**3))\n",
    "\n",
    "# >> right shift operation - num >> no_of_bits => (num//(2**no_of_bits))\n",
    "# print(57 >> 3)\n",
    "# print(57 // (2**3))\n",
    "\n",
    "\n",
    "# Logical Operations - and or not\n",
    "# and Truth Table - False\n",
    "# False and False = False\n",
    "# False and True = False\n",
    "# True and False = False\n",
    "# True and True = True\n",
    "\n",
    "# or Truth Table - True\n",
    "# False and False = False\n",
    "# False and True = True\n",
    "# True and False = True\n",
    "# True and True = True\n",
    "\n",
    "# not Truth Table\n",
    "# not True = False\n",
    "# not False = True\n",
    "\n",
    "# print((10<20) and (10==10))\n",
    "# print((10<20) and (10!=10))\n",
    "\n",
    "# print((10<20) or (10==10))\n",
    "# print((10<20) or (10!=10))\n",
    "\n",
    "\n",
    "# if (A and B are some object or value except booelan)\n",
    "# A and B => if A is False the result will be A otherwise result will be B\n",
    "# A or B => if A is True the result will be A otherwise result will be B\n",
    "\n",
    "\n",
    "\n",
    "# print(20 and 10)\n",
    "# 1. Boolean True/False\n",
    "# 2. 10/20   -> Correct\n",
    "# 3. Error\n",
    "\n",
    "\n",
    "# In the case of numbers apart from 0 everyythong is True\n",
    "# print(bool(0))\n",
    "# print(bool(10))\n",
    "# print(bool(10.20))\n",
    "# print(bool(0.0))\n",
    "\n",
    "# print(0 and 0.0)\n",
    "\n",
    "# print(10 or 0)\n",
    "# print(0 or 0.0)\n",
    "\n",
    "\n",
    "    "
   ]
  },
  {
   "cell_type": "code",
   "execution_count": 21,
   "metadata": {
    "ExecuteTime": {
     "end_time": "2021-04-13T03:24:59.178278Z",
     "start_time": "2021-04-13T03:24:59.153363Z"
    }
   },
   "outputs": [
    {
     "name": "stdout",
     "output_type": "stream",
     "text": [
      "[20 40 60 80]\n"
     ]
    }
   ],
   "source": [
    "# lst = [10,20,30,40]\n",
    "# lst*2\n",
    "\n",
    "# import numpy as np\n",
    "# arr = np.array(lst)\n",
    "# print(arr * 2)"
   ]
  },
  {
   "cell_type": "code",
   "execution_count": 6,
   "metadata": {
    "ExecuteTime": {
     "end_time": "2021-04-13T03:34:06.265291Z",
     "start_time": "2021-04-13T03:34:06.257589Z"
    }
   },
   "outputs": [
    {
     "name": "stdout",
     "output_type": "stream",
     "text": [
      "['__add__', '__class__', '__contains__', '__delattr__', '__dir__', '__doc__', '__eq__', '__format__', '__ge__', '__getattribute__', '__getitem__', '__getnewargs__', '__gt__', '__hash__', '__init__', '__init_subclass__', '__iter__', '__le__', '__len__', '__lt__', '__mod__', '__mul__', '__ne__', '__new__', '__reduce__', '__reduce_ex__', '__repr__', '__rmod__', '__rmul__', '__setattr__', '__sizeof__', '__str__', '__subclasshook__', 'capitalize', 'casefold', 'center', 'count', 'encode', 'endswith', 'expandtabs', 'find', 'format', 'format_map', 'index', 'isalnum', 'isalpha', 'isascii', 'isdecimal', 'isdigit', 'isidentifier', 'islower', 'isnumeric', 'isprintable', 'isspace', 'istitle', 'isupper', 'join', 'ljust', 'lower', 'lstrip', 'maketrans', 'partition', 'replace', 'rfind', 'rindex', 'rjust', 'rpartition', 'rsplit', 'rstrip', 'split', 'splitlines', 'startswith', 'strip', 'swapcase', 'title', 'translate', 'upper', 'zfill']\n"
     ]
    }
   ],
   "source": [
    "print(dir(__doc__))\n",
    "# math.sqrt(4)"
   ]
  },
  {
   "cell_type": "code",
   "execution_count": null,
   "metadata": {},
   "outputs": [],
   "source": [
    "# Object Reusability"
   ]
  },
  {
   "cell_type": "code",
   "execution_count": 10,
   "metadata": {
    "ExecuteTime": {
     "end_time": "2021-04-13T03:41:19.901875Z",
     "start_time": "2021-04-13T03:41:18.816915Z"
    }
   },
   "outputs": [
    {
     "name": "stdout",
     "output_type": "stream",
     "text": [
      "Enter your age: 10\n",
      "10\n",
      "<class 'int'>\n"
     ]
    }
   ],
   "source": [
    "# Signature: input(prompt=None, /)\n",
    "# Docstring:\n",
    "# Read a string from standard input.  The trailing newline is stripped.\n",
    "\n",
    "# The prompt string, if given, is printed to standard output without a\n",
    "# trailing newline before reading input.\n",
    "\n",
    "# If the user hits EOF (*nix: Ctrl-D, Windows: Ctrl-Z+Return), raise EOFError.\n",
    "# On *nix systems, readline is used if available.\n",
    "\n",
    "age = input('Enter your age: ')\n",
    "print(age)\n",
    "print(type(age))"
   ]
  },
  {
   "cell_type": "code",
   "execution_count": 15,
   "metadata": {
    "ExecuteTime": {
     "end_time": "2021-04-13T03:45:09.709193Z",
     "start_time": "2021-04-13T03:44:57.363202Z"
    }
   },
   "outputs": [
    {
     "name": "stdout",
     "output_type": "stream",
     "text": [
      "Enter 1st Number: 100\n",
      "Enter 2nd Number: 's'\n"
     ]
    },
    {
     "ename": "ValueError",
     "evalue": "invalid literal for int() with base 10: \"'s'\"",
     "output_type": "error",
     "traceback": [
      "\u001b[0;31m---------------------------------------------------------------------------\u001b[0m",
      "\u001b[0;31mValueError\u001b[0m                                Traceback (most recent call last)",
      "\u001b[0;32m<ipython-input-15-0f2cd6a85ed4>\u001b[0m in \u001b[0;36m<module>\u001b[0;34m\u001b[0m\n\u001b[1;32m      1\u001b[0m \u001b[0mnum1\u001b[0m \u001b[0;34m=\u001b[0m \u001b[0mint\u001b[0m\u001b[0;34m(\u001b[0m\u001b[0minput\u001b[0m\u001b[0;34m(\u001b[0m\u001b[0;34m'Enter 1st Number: '\u001b[0m\u001b[0;34m)\u001b[0m\u001b[0;34m)\u001b[0m\u001b[0;34m\u001b[0m\u001b[0;34m\u001b[0m\u001b[0m\n\u001b[0;32m----> 2\u001b[0;31m \u001b[0mnum2\u001b[0m \u001b[0;34m=\u001b[0m \u001b[0mint\u001b[0m\u001b[0;34m(\u001b[0m\u001b[0minput\u001b[0m\u001b[0;34m(\u001b[0m\u001b[0;34m'Enter 2nd Number: '\u001b[0m\u001b[0;34m)\u001b[0m\u001b[0;34m)\u001b[0m\u001b[0;34m\u001b[0m\u001b[0;34m\u001b[0m\u001b[0m\n\u001b[0m\u001b[1;32m      3\u001b[0m \u001b[0mprint\u001b[0m\u001b[0;34m(\u001b[0m\u001b[0mnum1\u001b[0m\u001b[0;34m,\u001b[0m \u001b[0mtype\u001b[0m\u001b[0;34m(\u001b[0m\u001b[0mnum1\u001b[0m\u001b[0;34m)\u001b[0m\u001b[0;34m)\u001b[0m\u001b[0;34m\u001b[0m\u001b[0;34m\u001b[0m\u001b[0m\n\u001b[1;32m      4\u001b[0m \u001b[0mprint\u001b[0m\u001b[0;34m(\u001b[0m\u001b[0mnum2\u001b[0m\u001b[0;34m,\u001b[0m \u001b[0mtype\u001b[0m\u001b[0;34m(\u001b[0m\u001b[0mnum2\u001b[0m\u001b[0;34m)\u001b[0m\u001b[0;34m)\u001b[0m\u001b[0;34m\u001b[0m\u001b[0;34m\u001b[0m\u001b[0m\n\u001b[1;32m      5\u001b[0m \u001b[0mprint\u001b[0m\u001b[0;34m(\u001b[0m\u001b[0mnum1\u001b[0m\u001b[0;34m+\u001b[0m\u001b[0mnum2\u001b[0m\u001b[0;34m)\u001b[0m\u001b[0;34m\u001b[0m\u001b[0;34m\u001b[0m\u001b[0m\n",
      "\u001b[0;31mValueError\u001b[0m: invalid literal for int() with base 10: \"'s'\""
     ]
    }
   ],
   "source": [
    "num1 = int(input('Enter 1st Number: '))\n",
    "num2 = int(input('Enter 2nd Number: '))\n",
    "print(num1, type(num1))\n",
    "print(num2, type(num2))\n",
    "print(num1+num2)\n",
    "print(int(num1) + int(num2))"
   ]
  },
  {
   "cell_type": "code",
   "execution_count": null,
   "metadata": {},
   "outputs": [],
   "source": []
  },
  {
   "cell_type": "code",
   "execution_count": null,
   "metadata": {},
   "outputs": [],
   "source": []
  },
  {
   "cell_type": "code",
   "execution_count": null,
   "metadata": {},
   "outputs": [],
   "source": []
  },
  {
   "cell_type": "code",
   "execution_count": null,
   "metadata": {},
   "outputs": [],
   "source": []
  },
  {
   "cell_type": "code",
   "execution_count": null,
   "metadata": {},
   "outputs": [],
   "source": []
  },
  {
   "cell_type": "code",
   "execution_count": null,
   "metadata": {},
   "outputs": [],
   "source": []
  },
  {
   "cell_type": "code",
   "execution_count": null,
   "metadata": {},
   "outputs": [],
   "source": []
  },
  {
   "cell_type": "code",
   "execution_count": null,
   "metadata": {},
   "outputs": [],
   "source": []
  },
  {
   "cell_type": "code",
   "execution_count": null,
   "metadata": {},
   "outputs": [],
   "source": []
  },
  {
   "cell_type": "code",
   "execution_count": null,
   "metadata": {},
   "outputs": [],
   "source": []
  },
  {
   "cell_type": "code",
   "execution_count": null,
   "metadata": {},
   "outputs": [],
   "source": []
  },
  {
   "cell_type": "code",
   "execution_count": null,
   "metadata": {},
   "outputs": [],
   "source": []
  },
  {
   "cell_type": "code",
   "execution_count": null,
   "metadata": {},
   "outputs": [],
   "source": []
  },
  {
   "cell_type": "code",
   "execution_count": null,
   "metadata": {},
   "outputs": [],
   "source": []
  },
  {
   "cell_type": "code",
   "execution_count": null,
   "metadata": {},
   "outputs": [],
   "source": []
  },
  {
   "cell_type": "code",
   "execution_count": null,
   "metadata": {},
   "outputs": [],
   "source": []
  },
  {
   "cell_type": "code",
   "execution_count": null,
   "metadata": {},
   "outputs": [],
   "source": []
  },
  {
   "cell_type": "code",
   "execution_count": null,
   "metadata": {},
   "outputs": [],
   "source": []
  },
  {
   "cell_type": "code",
   "execution_count": null,
   "metadata": {},
   "outputs": [],
   "source": []
  },
  {
   "cell_type": "code",
   "execution_count": null,
   "metadata": {},
   "outputs": [],
   "source": []
  },
  {
   "cell_type": "code",
   "execution_count": null,
   "metadata": {},
   "outputs": [],
   "source": []
  },
  {
   "cell_type": "code",
   "execution_count": null,
   "metadata": {},
   "outputs": [],
   "source": []
  },
  {
   "cell_type": "code",
   "execution_count": null,
   "metadata": {},
   "outputs": [],
   "source": []
  },
  {
   "cell_type": "code",
   "execution_count": null,
   "metadata": {},
   "outputs": [],
   "source": []
  },
  {
   "cell_type": "code",
   "execution_count": null,
   "metadata": {},
   "outputs": [],
   "source": []
  },
  {
   "cell_type": "code",
   "execution_count": null,
   "metadata": {},
   "outputs": [],
   "source": []
  },
  {
   "cell_type": "code",
   "execution_count": null,
   "metadata": {},
   "outputs": [],
   "source": []
  },
  {
   "cell_type": "code",
   "execution_count": null,
   "metadata": {},
   "outputs": [],
   "source": []
  },
  {
   "cell_type": "code",
   "execution_count": null,
   "metadata": {},
   "outputs": [],
   "source": []
  },
  {
   "cell_type": "code",
   "execution_count": null,
   "metadata": {},
   "outputs": [],
   "source": []
  },
  {
   "cell_type": "code",
   "execution_count": null,
   "metadata": {},
   "outputs": [],
   "source": []
  },
  {
   "cell_type": "code",
   "execution_count": null,
   "metadata": {},
   "outputs": [],
   "source": []
  }
 ],
 "metadata": {
  "kernelspec": {
   "display_name": "Python 3",
   "language": "python",
   "name": "python3"
  },
  "language_info": {
   "codemirror_mode": {
    "name": "ipython",
    "version": 3
   },
   "file_extension": ".py",
   "mimetype": "text/x-python",
   "name": "python",
   "nbconvert_exporter": "python",
   "pygments_lexer": "ipython3",
   "version": "3.8.2"
  },
  "latex_envs": {
   "LaTeX_envs_menu_present": true,
   "autoclose": false,
   "autocomplete": true,
   "bibliofile": "biblio.bib",
   "cite_by": "apalike",
   "current_citInitial": 1,
   "eqLabelWithNumbers": true,
   "eqNumInitial": 1,
   "hotkeys": {
    "equation": "Ctrl-E",
    "itemize": "Ctrl-I"
   },
   "labels_anchors": false,
   "latex_user_defs": false,
   "report_style_numbering": false,
   "user_envs_cfg": false
  },
  "varInspector": {
   "cols": {
    "lenName": 16,
    "lenType": 16,
    "lenVar": 40
   },
   "kernels_config": {
    "python": {
     "delete_cmd_postfix": "",
     "delete_cmd_prefix": "del ",
     "library": "var_list.py",
     "varRefreshCmd": "print(var_dic_list())"
    },
    "r": {
     "delete_cmd_postfix": ") ",
     "delete_cmd_prefix": "rm(",
     "library": "var_list.r",
     "varRefreshCmd": "cat(var_dic_list()) "
    }
   },
   "types_to_exclude": [
    "module",
    "function",
    "builtin_function_or_method",
    "instance",
    "_Feature"
   ],
   "window_display": false
  }
 },
 "nbformat": 4,
 "nbformat_minor": 2
}
