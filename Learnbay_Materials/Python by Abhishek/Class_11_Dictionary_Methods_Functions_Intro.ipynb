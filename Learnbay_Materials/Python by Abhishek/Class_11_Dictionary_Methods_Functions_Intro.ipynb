{
 "cells": [
  {
   "cell_type": "markdown",
   "metadata": {},
   "source": [
    "# Dictionary Methods"
   ]
  },
  {
   "cell_type": "code",
   "execution_count": 5,
   "metadata": {
    "ExecuteTime": {
     "end_time": "2021-04-27T02:53:14.600890Z",
     "start_time": "2021-04-27T02:53:14.593222Z"
    }
   },
   "outputs": [
    {
     "name": "stdout",
     "output_type": "stream",
     "text": [
      "0.0\n",
      "{True: 100, 10.2: 100.23, (10+20j): (20+30j), 'a': 'Python', None: True, (1, 2, 3): [10, 20, 30], 'c': 0.0}\n"
     ]
    }
   ],
   "source": [
    "# setdefault - Similar to get method, but it updates the dictionary\n",
    "my_dict = {True:111,1:100, 10.20:100.23, 10+20j:20+30j, 'a':'Python', None:True,  (1,2,3):[10,20,30]}\n",
    "# print(my_dict.setdefault('a'))\n",
    "# print(my_dict)\n",
    "# print(my_dict.setdefault('b'))\n",
    "# print(my_dict)\n",
    "print(my_dict.setdefault('c', 0.0))\n",
    "print(my_dict)"
   ]
  },
  {
   "cell_type": "code",
   "execution_count": 6,
   "metadata": {
    "ExecuteTime": {
     "end_time": "2021-04-27T02:55:01.663727Z",
     "start_time": "2021-04-27T02:55:01.657696Z"
    }
   },
   "outputs": [
    {
     "name": "stdout",
     "output_type": "stream",
     "text": [
      "{True: 100, 10.2: 100.23, (10+20j): (20+30j), 'a': 'Python', None: True, (1, 2, 3): [10, 20, 30], 2: 200, 3: 300}\n"
     ]
    }
   ],
   "source": [
    "# 'update', - Similar to extend method in list\n",
    "my_dict = {True:111,1:100, 10.20:100.23, 10+20j:20+30j, 'a':'Python', None:True,  (1,2,3):[10,20,30]}\n",
    "d1 = {1:100, 2:200, 3:300}\n",
    "my_dict.update(d1)\n",
    "print(my_dict)\n"
   ]
  },
  {
   "cell_type": "code",
   "execution_count": 10,
   "metadata": {
    "ExecuteTime": {
     "end_time": "2021-04-27T02:59:41.580553Z",
     "start_time": "2021-04-27T02:59:41.569794Z"
    }
   },
   "outputs": [
    {
     "name": "stdout",
     "output_type": "stream",
     "text": [
      "This is key is not present\n"
     ]
    }
   ],
   "source": [
    "# 'pop', 'popitem',  - Used to remove the element from the dictionary\n",
    "\n",
    "# popitem - removes the last entry fom the dictionary and returns a key-value pair\n",
    "my_dict = {True:111,1:100, 10.20:100.23, 10+20j:20+30j, 'a':'Python', None:True,  (1,2,3):[10,20,30]}\n",
    "# print(my_dict.popitem())\n",
    "# print(my_dict)\n",
    "\n",
    "# pop - removes the key provided as argument to this method and returns the value associated\n",
    "# If key is not present then it raises the key error if 2nd arg is not provided, else returns the 2nd argument as output if key is not present\n",
    "\n",
    "# print(my_dict.pop('a'))\n",
    "# print(my_dict)\n",
    "\n",
    "# print(my_dict.pop('b'))\n",
    "\n",
    "print(my_dict.pop('b', 'This is key is not present'))\n",
    "\n",
    "\n"
   ]
  },
  {
   "cell_type": "code",
   "execution_count": 11,
   "metadata": {
    "ExecuteTime": {
     "end_time": "2021-04-27T03:00:56.281593Z",
     "start_time": "2021-04-27T03:00:56.273760Z"
    }
   },
   "outputs": [
    {
     "name": "stdout",
     "output_type": "stream",
     "text": [
      "{}\n"
     ]
    }
   ],
   "source": [
    "# clear - removes all elemenet from the dictionary and leaves the empty dictionary behind\n",
    "my_dict = {True:111,1:100, 10.20:100.23, 10+20j:20+30j, 'a':'Python', None:True,  (1,2,3):[10,20,30]}\n",
    "my_dict.clear()\n",
    "print(my_dict)"
   ]
  },
  {
   "cell_type": "code",
   "execution_count": 17,
   "metadata": {
    "ExecuteTime": {
     "end_time": "2021-04-27T03:04:10.537372Z",
     "start_time": "2021-04-27T03:04:10.528412Z"
    }
   },
   "outputs": [
    {
     "name": "stdout",
     "output_type": "stream",
     "text": [
      "{1: (10, 20, 30, 40), 2: (10, 20, 30, 40), 3: (10, 20, 30, 40), 4: (10, 20, 30, 40), 5: (10, 20, 30, 40)}\n"
     ]
    }
   ],
   "source": [
    "# fromkeys - Used to create a dictionary where the keys will be takes from iterables elements and a default value is provided to every key.\n",
    "d = {}\n",
    "d = d.fromkeys([1,2,3,4,5],(10,20,30,40))\n",
    "print(d)\n",
    "\n",
    "\n"
   ]
  },
  {
   "cell_type": "code",
   "execution_count": 32,
   "metadata": {
    "ExecuteTime": {
     "end_time": "2021-04-27T03:31:09.408507Z",
     "start_time": "2021-04-27T03:31:09.394316Z"
    }
   },
   "outputs": [
    {
     "name": "stdout",
     "output_type": "stream",
     "text": [
      "4561367232\n",
      "4783022128\n"
     ]
    }
   ],
   "source": [
    "# copy method\n",
    "# Aliasing, Shallow copy, Deep copy\n",
    "\n",
    "lst = [10,20,30,40,50]\n",
    "# lst1 = lst                # Aliasing - giving a different name to an existing object\n",
    "# print(lst is lst1)\n",
    "# print(id(lst))\n",
    "# print(id(lst1))\n",
    "# lst1[0] = 111\n",
    "# print(lst)\n",
    "# print(lst1)\n",
    "\n",
    "# Shallow copy - slicing, or copy\n",
    "# lst2 = lst[::]\n",
    "# print(lst)\n",
    "# print(lst2)\n",
    "# print(lst is lst2)\n",
    "# print(id(lst))\n",
    "# print(id(lst2))\n",
    "# lst2[0] = 111\n",
    "# print(lst)\n",
    "# print(lst2)\n",
    "\n",
    "# Deepcopy - \n",
    "lst = [10,20,30,40,[50,60,70],80,90]\n",
    "lst3 = lst.copy()\n",
    "# print(lst is lst3)\n",
    "# print(id(lst))\n",
    "# print(id(lst3))\n",
    "# lst[-3][0] = 555\n",
    "# print(lst)\n",
    "# print(lst3)\n",
    "# print(id(lst[-3][0]))\n",
    "# print(id(lst3[-3][0]))\n",
    "\n",
    "# Deepcopy\n",
    "from copy import deepcopy\n",
    "lst = [10,20,30,40,[50,60,70],80,90]\n",
    "lst4 = deepcopy(lst)\n",
    "lst4[-3][0] = 555\n",
    "print(id(lst[-3][0]))\n",
    "print(id(lst4[-3][0]))\n",
    "# print(lst is lst4)\n",
    "# print(id(lst))\n",
    "# print(id(lst4))\n",
    "\n",
    "\n"
   ]
  },
  {
   "cell_type": "code",
   "execution_count": 36,
   "metadata": {
    "ExecuteTime": {
     "end_time": "2021-04-27T03:39:43.678141Z",
     "start_time": "2021-04-27T03:39:43.674512Z"
    }
   },
   "outputs": [],
   "source": [
    "# people = {1: {'name': 'John', 'age': '27', 'sex': 'Male'},\n",
    "#           2: {'name': 'Marie', 'age': '22', 'sex': 'Female'},\n",
    "#           3: {'name': 'Luna', 'age': '24', 'sex': 'Female'},\n",
    "#           4: {'name': 'Peter', 'age': '29', 'sex': 'Male'}}\n",
    "# for i in people:\n",
    "#     print(people[i]['age'])"
   ]
  },
  {
   "cell_type": "code",
   "execution_count": 39,
   "metadata": {
    "ExecuteTime": {
     "end_time": "2021-04-27T03:45:16.436835Z",
     "start_time": "2021-04-27T03:45:16.424150Z"
    }
   },
   "outputs": [
    {
     "data": {
      "text/plain": [
       "{0: 0, 1: 1, 2: 4, 3: 9, 4: 16, 5: 25, 6: 36, 7: 49, 8: 64, 9: 81}"
      ]
     },
     "execution_count": 39,
     "metadata": {},
     "output_type": "execute_result"
    }
   ],
   "source": [
    "# Dictionary Comprehension\n",
    "# {key:value for loop if cond}\n",
    "\n",
    "# Creating a key value of square of all even number from 1 to 10 where the number will be key and square will be values\n",
    "\n",
    "# {num:num**2 for num in range(1, 11) if num%2 == 0}\n",
    "\n",
    "{i:i*j for i in range(10) for j in range(10) if i == j}\n"
   ]
  },
  {
   "cell_type": "code",
   "execution_count": null,
   "metadata": {},
   "outputs": [],
   "source": [
    "# [\n",
    "#     [[0,0,0,0,0,0],[0,0,0,0,0,0],[0,0,0,0,0,0],[0,0,0,0,0,0]],\n",
    "#     [[0,0,0,0,0,0],[1,1,1,1,1,1],[2,2,2,2,2,2],[3,3,3,3,3,3]],\n",
    "#     [[0,0,0,0,0,0],[2,2,2,2,2,2],[4,4,4,4,4,4],[6,6,6,6,6,6]]\n",
    "# ]\n",
    "# (3X4X6)"
   ]
  },
  {
   "cell_type": "code",
   "execution_count": 48,
   "metadata": {
    "ExecuteTime": {
     "end_time": "2021-04-27T03:54:12.428715Z",
     "start_time": "2021-04-27T03:54:12.418842Z"
    }
   },
   "outputs": [
    {
     "data": {
      "text/plain": [
       "[[[0, 0, 0, 0, 0, 0],\n",
       "  [0, 0, 0, 0, 0, 0],\n",
       "  [0, 0, 0, 0, 0, 0],\n",
       "  [0, 0, 0, 0, 0, 0]],\n",
       " [[0, 0, 0, 0, 0, 0],\n",
       "  [1, 1, 1, 1, 1, 1],\n",
       "  [2, 2, 2, 2, 2, 2],\n",
       "  [3, 3, 3, 3, 3, 3]],\n",
       " [[0, 0, 0, 0, 0, 0],\n",
       "  [2, 2, 2, 2, 2, 2],\n",
       "  [4, 4, 4, 4, 4, 4],\n",
       "  [6, 6, 6, 6, 6, 6]]]"
      ]
     },
     "execution_count": 48,
     "metadata": {},
     "output_type": "execute_result"
    }
   ],
   "source": [
    "out_lst = []\n",
    "for i in range(3):\n",
    "    in_lst1 = []\n",
    "    for j in range(4):\n",
    "        in_lst2 = []\n",
    "        for k in range(6):\n",
    "            in_lst2.append(i*j)\n",
    "        in_lst1.append(in_lst2)\n",
    "    out_lst.append(in_lst1)\n",
    "out_lst\n",
    "\n",
    "# [[[(i*j) for k in range(6)]for j in range(4)]for i in range(3)]\n",
    "i = 1\n",
    "j = 3\n",
    "k = 5\n",
    "in_lst2 = [0, 0, 0, 0, 0, 0]\n",
    "in_lst1 = [[0, 0, 0, 0, 0, 0], [0, 0, 0, 0, 0, 0], [0, 0, 0, 0, 0, 0], [0, 0, 0, 0, 0, 0]]\n",
    "out_lst = [\n",
    "    [[0, 0, 0, 0, 0, 0], [0, 0, 0, 0, 0, 0], [0, 0, 0, 0, 0, 0], [0, 0, 0, 0, 0, 0]],\n",
    "    \n",
    "]\n",
    "\n",
    "\n"
   ]
  },
  {
   "cell_type": "code",
   "execution_count": 52,
   "metadata": {
    "ExecuteTime": {
     "end_time": "2021-04-27T04:06:11.916133Z",
     "start_time": "2021-04-27T04:06:11.905186Z"
    }
   },
   "outputs": [
    {
     "name": "stdout",
     "output_type": "stream",
     "text": [
      "index is 29\n"
     ]
    }
   ],
   "source": [
    "# Write a python program to implement index method using loop. If\n",
    "# sub_str is found in my_str then it will print the index\n",
    "# of first occurrence of first character of matching string in my_str:-\n",
    "# Input:- my_str = 'Peter Piper Picked A Peck Of Pickled Peppers.',\n",
    "# sub_str = 'Pickl'\n",
    "# Output:- 29\n",
    "my_str = 'Peter Piper Picked A Peck Of Pickled Peppers.'\n",
    "sub_str = 'Pickl'\n",
    "new_str = ''\n",
    "j = 0\n",
    "for i in range(len(my_str)):\n",
    "    if my_str[i] == sub_str[j]:\n",
    "        new_str += my_str[i]\n",
    "        j += 1\n",
    "        if new_str == sub_str:\n",
    "            print('index is', i-4)\n",
    "            break\n",
    "    elif i == len(my_str)-1 and new_str == '':\n",
    "        print('Substring is not found')\n",
    "    else:\n",
    "        new_str = ''\n",
    "        j = 0\n",
    "\n",
    "i = 8\n",
    "j = 2\n",
    "\n",
    "\n"
   ]
  },
  {
   "cell_type": "code",
   "execution_count": 53,
   "metadata": {
    "ExecuteTime": {
     "end_time": "2021-04-27T04:10:43.765533Z",
     "start_time": "2021-04-27T04:10:43.759109Z"
    }
   },
   "outputs": [
    {
     "name": "stdout",
     "output_type": "stream",
     "text": [
      "[10, 1, 11, 29, 876, 768, 92]\n"
     ]
    }
   ],
   "source": [
    "# Write a Python program to remove duplicate element from a list using loop.\n",
    "# Input:- [10,1,11,1,29,876,768,10,11,1,92,29,876]\n",
    "# Output:- [10,1,11,29,876,768,92]\n",
    "\n",
    "# lst = [10,1,11,1,29,876,768,10,11,1,92,29,876]\n",
    "# out_lst = []\n",
    "# for i in range(len(lst)):\n",
    "#     if lst[i] not in out_lst:\n",
    "#         out_lst.append(lst[i])\n",
    "# print(out_lst)"
   ]
  },
  {
   "cell_type": "code",
   "execution_count": null,
   "metadata": {},
   "outputs": [],
   "source": [
    "#Write a python program to find below output (implements rjust and ljust):-\n",
    "\n",
    "#Input:- 'Peter Piper Picked A Peck Of Pickled Peppers.', sub_str = 'Peck', \n",
    "#Output:- '*********************Peck********************'\n",
    "\n",
    "\n",
    "\n",
    "\n",
    "\n",
    "\n"
   ]
  },
  {
   "cell_type": "code",
   "execution_count": null,
   "metadata": {},
   "outputs": [],
   "source": [
    "# Q. Write a python program to implement replace method using loop. If sub_str is found in my_str then it will \n",
    "# replace the first occurrence of sub_str with new_str else it will will print sub_str not found:\n",
    "# Input:- my_str = 'Peter Piper Picked A Peck Of Pickled Peppers.', sub_str = 'Peck', new_str = 'Pack'\n",
    "# Output:- 'Peter Piper Picked A Pack Of Pickled Peppers.'"
   ]
  },
  {
   "cell_type": "code",
   "execution_count": 57,
   "metadata": {
    "ExecuteTime": {
     "end_time": "2021-04-27T04:28:34.501295Z",
     "start_time": "2021-04-27T04:28:34.489611Z"
    }
   },
   "outputs": [
    {
     "data": {
      "text/plain": [
       "('Th', 'is', ' is Python class')"
      ]
     },
     "execution_count": 57,
     "metadata": {},
     "output_type": "execute_result"
    }
   ],
   "source": [
    "# Q. Write a python program to find below output using loop:-\n",
    "# Input:- 'This is Python class', sep = 'is',\n",
    "# Output:- ['This', 'is', 'Python class']\n",
    "\n",
    "my_str = 'This is Python class'\n",
    "sep = 'is'\n",
    "# out_lst = []\n",
    "# my_str1 = ''\n",
    "# for i in my_str:\n",
    "#     if i != ' ':\n",
    "#         my_str1 += i\n",
    "#     else:\n",
    "#         if sep not in out_lst:\n",
    "#             out_lst += [my_str1]\n",
    "#             my_str1 = ''\n",
    "#         else:\n",
    "#             my_str1 += ' '\n",
    "# out_lst += [my_str1.strip()]\n",
    "# print(out_lst)\n",
    "# my_str.partition('is')\n"
   ]
  },
  {
   "cell_type": "code",
   "execution_count": 58,
   "metadata": {
    "ExecuteTime": {
     "end_time": "2021-04-27T04:31:57.821865Z",
     "start_time": "2021-04-27T04:31:57.813039Z"
    }
   },
   "outputs": [
    {
     "name": "stdout",
     "output_type": "stream",
     "text": [
      "4\n"
     ]
    }
   ],
   "source": [
    "my_str = 'This is Python class'\n",
    "ind = -1\n",
    "count = 0\n",
    "while True:\n",
    "    ind = my_str.find('s', ind+1)\n",
    "    if ind == -1:\n",
    "        break\n",
    "    else:\n",
    "        count += 1\n",
    "print(count)\n",
    "\n"
   ]
  },
  {
   "cell_type": "code",
   "execution_count": null,
   "metadata": {},
   "outputs": [],
   "source": []
  },
  {
   "cell_type": "code",
   "execution_count": null,
   "metadata": {},
   "outputs": [],
   "source": []
  },
  {
   "cell_type": "code",
   "execution_count": null,
   "metadata": {},
   "outputs": [],
   "source": []
  },
  {
   "cell_type": "code",
   "execution_count": null,
   "metadata": {},
   "outputs": [],
   "source": []
  },
  {
   "cell_type": "code",
   "execution_count": null,
   "metadata": {},
   "outputs": [],
   "source": []
  },
  {
   "cell_type": "code",
   "execution_count": null,
   "metadata": {},
   "outputs": [],
   "source": []
  },
  {
   "cell_type": "code",
   "execution_count": null,
   "metadata": {},
   "outputs": [],
   "source": []
  },
  {
   "cell_type": "code",
   "execution_count": null,
   "metadata": {},
   "outputs": [],
   "source": []
  },
  {
   "cell_type": "code",
   "execution_count": null,
   "metadata": {},
   "outputs": [],
   "source": []
  },
  {
   "cell_type": "code",
   "execution_count": null,
   "metadata": {},
   "outputs": [],
   "source": []
  },
  {
   "cell_type": "code",
   "execution_count": null,
   "metadata": {},
   "outputs": [],
   "source": []
  },
  {
   "cell_type": "code",
   "execution_count": null,
   "metadata": {},
   "outputs": [],
   "source": []
  },
  {
   "cell_type": "code",
   "execution_count": null,
   "metadata": {},
   "outputs": [],
   "source": []
  },
  {
   "cell_type": "code",
   "execution_count": null,
   "metadata": {},
   "outputs": [],
   "source": []
  },
  {
   "cell_type": "code",
   "execution_count": null,
   "metadata": {},
   "outputs": [],
   "source": []
  },
  {
   "cell_type": "code",
   "execution_count": null,
   "metadata": {},
   "outputs": [],
   "source": []
  },
  {
   "cell_type": "code",
   "execution_count": null,
   "metadata": {},
   "outputs": [],
   "source": []
  },
  {
   "cell_type": "code",
   "execution_count": null,
   "metadata": {},
   "outputs": [],
   "source": []
  },
  {
   "cell_type": "code",
   "execution_count": null,
   "metadata": {},
   "outputs": [],
   "source": []
  },
  {
   "cell_type": "code",
   "execution_count": null,
   "metadata": {},
   "outputs": [],
   "source": []
  },
  {
   "cell_type": "code",
   "execution_count": null,
   "metadata": {},
   "outputs": [],
   "source": []
  },
  {
   "cell_type": "code",
   "execution_count": null,
   "metadata": {},
   "outputs": [],
   "source": []
  },
  {
   "cell_type": "code",
   "execution_count": null,
   "metadata": {},
   "outputs": [],
   "source": []
  },
  {
   "cell_type": "code",
   "execution_count": null,
   "metadata": {},
   "outputs": [],
   "source": []
  },
  {
   "cell_type": "code",
   "execution_count": null,
   "metadata": {},
   "outputs": [],
   "source": []
  },
  {
   "cell_type": "code",
   "execution_count": null,
   "metadata": {},
   "outputs": [],
   "source": []
  },
  {
   "cell_type": "code",
   "execution_count": null,
   "metadata": {},
   "outputs": [],
   "source": []
  },
  {
   "cell_type": "code",
   "execution_count": null,
   "metadata": {},
   "outputs": [],
   "source": []
  },
  {
   "cell_type": "code",
   "execution_count": null,
   "metadata": {},
   "outputs": [],
   "source": []
  }
 ],
 "metadata": {
  "kernelspec": {
   "display_name": "Python 3",
   "language": "python",
   "name": "python3"
  },
  "language_info": {
   "codemirror_mode": {
    "name": "ipython",
    "version": 3
   },
   "file_extension": ".py",
   "mimetype": "text/x-python",
   "name": "python",
   "nbconvert_exporter": "python",
   "pygments_lexer": "ipython3",
   "version": "3.8.2"
  },
  "latex_envs": {
   "LaTeX_envs_menu_present": true,
   "autoclose": false,
   "autocomplete": true,
   "bibliofile": "biblio.bib",
   "cite_by": "apalike",
   "current_citInitial": 1,
   "eqLabelWithNumbers": true,
   "eqNumInitial": 1,
   "hotkeys": {
    "equation": "Ctrl-E",
    "itemize": "Ctrl-I"
   },
   "labels_anchors": false,
   "latex_user_defs": false,
   "report_style_numbering": false,
   "user_envs_cfg": false
  },
  "varInspector": {
   "cols": {
    "lenName": 16,
    "lenType": 16,
    "lenVar": 40
   },
   "kernels_config": {
    "python": {
     "delete_cmd_postfix": "",
     "delete_cmd_prefix": "del ",
     "library": "var_list.py",
     "varRefreshCmd": "print(var_dic_list())"
    },
    "r": {
     "delete_cmd_postfix": ") ",
     "delete_cmd_prefix": "rm(",
     "library": "var_list.r",
     "varRefreshCmd": "cat(var_dic_list()) "
    }
   },
   "types_to_exclude": [
    "module",
    "function",
    "builtin_function_or_method",
    "instance",
    "_Feature"
   ],
   "window_display": false
  }
 },
 "nbformat": 4,
 "nbformat_minor": 2
}
