{
 "cells": [
  {
   "cell_type": "markdown",
   "metadata": {},
   "source": [
    "# Strings"
   ]
  },
  {
   "cell_type": "code",
   "execution_count": 10,
   "metadata": {
    "ExecuteTime": {
     "end_time": "2021-04-15T02:48:31.800094Z",
     "start_time": "2021-04-15T02:48:31.790804Z"
    }
   },
   "outputs": [
    {
     "name": "stdout",
     "output_type": "stream",
     "text": [
      "24\n",
      "24\n",
      "False\n",
      "True\n",
      "4494508080\n",
      "4494508080\n"
     ]
    }
   ],
   "source": [
    "import sys\n",
    "a = 10.20\n",
    "b = 10.20\n",
    "print(sys.getsizeof(a))\n",
    "print(sys.getsizeof(b))\n",
    "print(a is b)\n",
    "\n",
    "# Object Reusability\n",
    "# Int -> -5 to 256\n",
    "# None True, False\n",
    "# Strings - A-Z, a-z, 0-9, _\n",
    "\n",
    "# Float, Complex - 0-1\n",
    "\n",
    "my_str1 = 'PythonClass'\n",
    "my_str2 = 'PythonClass'\n",
    "print(my_str1 is my_str2)\n",
    "print(id(my_str1[0]))\n",
    "print(id(my_str2[0]))\n",
    "\n",
    "# a = 10\n",
    "# b = 10\n",
    "# print(id(a))\n",
    "# print(id(b))\n",
    "\n",
    "# There are different implementation of Python\n",
    "#     Cpython\n",
    "#     Jython\n",
    "#     Iron Python \n",
    "#     Ruby Python\n",
    "\n",
    "\n",
    "\n",
    "\n"
   ]
  },
  {
   "cell_type": "code",
   "execution_count": 14,
   "metadata": {
    "ExecuteTime": {
     "end_time": "2021-04-15T02:55:07.246523Z",
     "start_time": "2021-04-15T02:55:07.235366Z"
    }
   },
   "outputs": [
    {
     "data": {
      "text/plain": [
       "20"
      ]
     },
     "execution_count": 14,
     "metadata": {},
     "output_type": "execute_result"
    }
   ],
   "source": [
    "# Operator Precedence\n",
    "# ()\tParentheses\n",
    "# **\tExponent\n",
    "# +x, -x, ~x\tUnary plus, Unary minus, Bitwise NOT\n",
    "# *, /, //, %\tMultiplication, Division, Floor division, Modulus\n",
    "# +, -\tAddition, Subtraction\n",
    "# <<, >>\tBitwise shift operators\n",
    "# &\tBitwise AND\n",
    "# ^\tBitwise XOR\n",
    "# |\tBitwise OR\n",
    "# ==, !=, >, >=, <, <=, is, is not, in, not in\tComparisons, Identity, Membership operators\n",
    "# not\tLogical NOT\n",
    "# and\tLogical AND\n",
    "# or\tLogical OR\n",
    "\n",
    "\n",
    "# 10+(10*32)//2**5&20+(~(-10))<<2\n",
    "# 10+320//2**5&20+9<<2\n",
    "# 10+320//32&20+9<<2\n",
    "# 10+10&20+9<<2\n",
    "# 20&29<<2\n",
    "# 20&116\n",
    "\n",
    "\n"
   ]
  },
  {
   "cell_type": "code",
   "execution_count": 77,
   "metadata": {
    "ExecuteTime": {
     "end_time": "2021-04-15T04:06:01.372672Z",
     "start_time": "2021-04-15T04:06:01.338763Z"
    }
   },
   "outputs": [
    {
     "name": "stdout",
     "output_type": "stream",
     "text": [
      "['__add__', '__class__', '__contains__', '__delattr__', '__dir__', '__doc__', '__eq__', '__format__', '__ge__', '__getattribute__', '__getitem__', '__getnewargs__', '__gt__', '__hash__', '__init__', '__init_subclass__', '__iter__', '__le__', '__len__', '__lt__', '__mod__', '__mul__', '__ne__', '__new__', '__reduce__', '__reduce_ex__', '__repr__', '__rmod__', '__rmul__', '__setattr__', '__sizeof__', '__str__', '__subclasshook__', 'capitalize', 'casefold', 'center', 'count', 'encode', 'endswith', 'expandtabs', 'find', 'format', 'format_map', 'index', 'isalnum', 'isalpha', 'isascii', 'isdecimal', 'isdigit', 'isidentifier', 'islower', 'isnumeric', 'isprintable', 'isspace', 'istitle', 'isupper', 'join', 'ljust', 'lower', 'lstrip', 'maketrans', 'partition', 'replace', 'rfind', 'rindex', 'rjust', 'rpartition', 'rsplit', 'rstrip', 'split', 'splitlines', 'startswith', 'strip', 'swapcase', 'title', 'translate', 'upper', 'zfill']\n"
     ]
    },
    {
     "data": {
      "text/plain": [
       "'PythonClass'"
      ]
     },
     "execution_count": 77,
     "metadata": {},
     "output_type": "execute_result"
    }
   ],
   "source": [
    "# Strings - Anything kept inside the '...', \"...\", '''...''', \"\"\"...\"\"\"\n",
    "# my_str1 = 'Python9'\n",
    "# print(my_str1, type(my_str1))\n",
    "\n",
    "# my_str2 = \"Python\"\n",
    "# print(my_str2, type(my_str2))\n",
    "\n",
    "# my_str3 = '''Python'''\n",
    "# print(my_str3, type(my_str3))\n",
    "\n",
    "# my_str4 = \"\"\"Python\"\"\"\n",
    "# print(my_str4, type(my_str4))\n",
    "\n",
    "# Significance of different quotations in string\n",
    "# my_str1 = \"This isn't Python class\"\n",
    "# print(my_str1, type(my_str1))\n",
    "\n",
    "# my_str1 = 'This is \"Python\" class'\n",
    "# print(my_str1, type(my_str1))\n",
    "\n",
    "# my_str1 = '''This is \"Python\" class and isn't Java Class'''\n",
    "# print(my_str1, type(my_str1))\n",
    "\n",
    "# my_str1 = \"\"\"This is \"Python\" class and isn't Java Class\"\"\"\n",
    "# print(my_str1, type(my_str1))\n",
    "\n",
    "# Single and souble quotes are ysed to define single line strings\n",
    "# my_str1 = '''This \n",
    "# is \n",
    "# Python \n",
    "# class'''\n",
    "# print(my_str1)\n",
    "# my_str2 = \"\"\"This \n",
    "# is \n",
    "# Python \n",
    "# class\"\"\"\n",
    "# print(my_str2)\n",
    "\n",
    "\n",
    "# Triple quotation is also used for writing function or class docs\n",
    "# def password_checker(pwd):\n",
    "#     '''This Function takes an arguments and print it is a valid password'''\n",
    "#     print('Valid Password')\n",
    "    \n",
    "# password_checker('Python')\n",
    "\n",
    "# print(password_checker.__doc__)\n",
    "\n",
    "# Propertes of Strings\n",
    "# 1. String is a sequence \n",
    "#     1. Sequnece in Python have +ve and -ve index both\n",
    "#     2. +ve index starts from 0 from Left side\n",
    "#     3. -ve index start from -1 from right side\n",
    "#     4. All sequence follows below operations\n",
    "#         1. Indexing\n",
    "#         2. Slicing\n",
    "#         3. length\n",
    "#         4. Mebership\n",
    "#         5. Concatenation\n",
    "#         6. Repetition\n",
    "\n",
    "\n",
    "# Indexing - Accessing one element at a time\n",
    "# We use square bracket notation for indexing\n",
    "# Synatx - str_name[index]\n",
    "\n",
    "my_str1 = 'Python Class'\n",
    "# print(len(my_str1))\n",
    "\n",
    "# Accessing first element from the sequence using indexing\n",
    "# print(my_str1[0])\n",
    "# print(my_str1[-12])\n",
    "# print(my_str1[-len(my_str1)])\n",
    "\n",
    "# Accessing last element from the sequence using indexing\n",
    "# print(my_str1[11])\n",
    "# print(my_str1[-1])\n",
    "# print(my_str1[(len(my_str1)-1)//2])\n",
    "\n",
    "# print(my_str1[6])\n",
    "\n",
    "# Slicing in Python - Taking a piece out of string\n",
    "# Accessing multiple elements from the string\n",
    "# Syntax -> my_str1[start_index:stop_index:step]\n",
    "# Default start index = 0\n",
    "# Default stop index = len(str)\n",
    "# Default step = 1\n",
    "\n",
    "my_str2 = 'This is Python class'\n",
    "# Start index is inclusive and stop index is exclusive\n",
    "# print(my_str2[8:14:1])\n",
    "# print(my_str2[::])\n",
    "# print(my_str2[0:len(my_str2):1])\n",
    "\n",
    "# SLicing every 2nd character from the string\n",
    "# print(my_str2[::2])\n",
    "\n",
    "# step = +ve => Left to right\n",
    "# Empty string\n",
    "# When step is +ve then your start index should be on left side compared to stop index\n",
    "# print(my_str2[10:5:])\n",
    "\n",
    "\n",
    "# Slicing in reverse direction\n",
    "# When step is -ve \n",
    "# Default start is -1\n",
    "# Default stop is -len(str)-1\n",
    "# print(my_str2[::-1])\n",
    "# print(my_str2[-1:-len(my_str2)-1:-1])\n",
    "\n",
    "# print(my_str2[::-2])\n",
    "\n",
    "# When step is -ve then your start index should be on right side compared to stop index\n",
    "# print(my_str2[10:5:-1])\n",
    "# print(my_str2[-5:-10:-1])\n",
    "\n",
    "# my_str2[1:-1:]\n",
    "# my_str2[1:len(my_str2)-1:]\n",
    "\n",
    "\n",
    "# Concatenation - +\n",
    "# Both the operand shoudl be string\n",
    "\n",
    "# my_str1 = 'Python'\n",
    "# my_str2 = 'Class'\n",
    "# print(my_str1 + my_str2)\n",
    "\n",
    "# print(my_str1 + 10)\n",
    "# print(my_str1 + [1,2,3])\n",
    "\n",
    "\n",
    "# Repetition - *\n",
    "# One operand should be string object and other should be integer\n",
    "# print(my_str1 * 3)\n",
    "# print(my_str2 * 3.0)\n",
    "\n",
    "# Membership Operation - in, not in\n",
    "# Returns boolena values\n",
    "\n",
    "# print('i' in my_str2)\n",
    "# print('is' in my_str2)\n",
    "# print('This' in my_str2)\n",
    "# print('this' in my_str2)\n",
    "\n",
    "\n",
    "# String Methods\n",
    "print(dir(str))\n",
    "# 'capitalize', 'casefold', 'center', 'count', 'encode', 'endswith', 'expandtabs', 'find', 'format', 'format_map',\n",
    "# 'index', 'isalnum', 'isalpha', 'isascii', 'isdecimal', 'isdigit', 'isidentifier', 'islower', 'isnumeric',\n",
    "# 'isprintable', 'isspace', 'istitle', 'isupper', 'join', 'ljust', 'lower', 'lstrip', 'maketrans', 'partition',\n",
    "# 'replace', 'rfind', 'rindex', 'rjust', 'rpartition', 'rsplit', 'rstrip', 'split', 'splitlines', 'startswith',\n",
    "# 'strip', 'swapcase', 'title', 'translate', 'upper', 'zfill'\n",
    "\n",
    "# ('Python').__add__('Class')\n",
    "\n",
    "\n",
    "\n"
   ]
  },
  {
   "cell_type": "code",
   "execution_count": 82,
   "metadata": {
    "ExecuteTime": {
     "end_time": "2021-04-15T04:10:40.843332Z",
     "start_time": "2021-04-15T04:10:40.834608Z"
    }
   },
   "outputs": [
    {
     "name": "stdout",
     "output_type": "stream",
     "text": [
      "9877654\n",
      "ABC\n",
      "12345\n"
     ]
    }
   ],
   "source": [
    "# Function and methods are same except methods are function defined inside class\n",
    "\n",
    "def emp_mob(emp_mob):\n",
    "    print(emp_mob)\n",
    "    \n",
    "emp_mob(9877654)\n",
    "    \n",
    "\n",
    "class Employee:\n",
    "    def __init__(self,emp_name):\n",
    "        self.emp_name = emp_name\n",
    "    def emp_info(self, mob_no):\n",
    "        print(self.emp_name)\n",
    "        print(mob_no)\n",
    "        \n",
    "e1 = Employee('ABC')\n",
    "e1.emp_info(12345)\n",
    "\n",
    "\n"
   ]
  },
  {
   "cell_type": "code",
   "execution_count": null,
   "metadata": {},
   "outputs": [],
   "source": [
    "# String Methods\n",
    "# 'center', 'count', 'encode', 'endswith', 'expandtabs', 'find', 'format', 'format_map',\n",
    "# 'index', 'isalnum', 'isalpha', 'isascii', 'isdecimal', 'isdigit', 'isidentifier', 'islower', 'isnumeric',\n",
    "# 'isprintable', 'isspace', 'istitle', 'isupper', 'join', 'ljust',  'lstrip', 'maketrans', 'partition',\n",
    "# 'replace', 'rfind', 'rindex', 'rjust', 'rpartition', 'rsplit', 'rstrip', 'split', 'splitlines', 'startswith',\n",
    "# 'strip',  'translate',  'zfill'"
   ]
  },
  {
   "cell_type": "code",
   "execution_count": 95,
   "metadata": {
    "ExecuteTime": {
     "end_time": "2021-04-15T04:23:31.577840Z",
     "start_time": "2021-04-15T04:23:31.565597Z"
    }
   },
   "outputs": [
    {
     "name": "stdout",
     "output_type": "stream",
     "text": [
      "fließen\n",
      "fliessen\n"
     ]
    },
    {
     "data": {
      "text/plain": [
       "'this is pYTHON CLASS'"
      ]
     },
     "execution_count": 95,
     "metadata": {},
     "output_type": "execute_result"
    }
   ],
   "source": [
    "# Methods which are used to change the case of the string\n",
    "# capitalize, lower, casefold, upper, swapcase, title\n",
    "\n",
    "\n",
    "# Capitalize\n",
    "# Signature: my_str1.capitalize()\n",
    "# Docstring:\n",
    "# Return a capitalized version of the string.\n",
    "\n",
    "# More specifically, make the first character have upper case and the rest lower\n",
    "# case.\n",
    "my_str1 = 'this is python class'\n",
    "# my_str1.capitalize()\n",
    "\n",
    "# title\n",
    "# Signature: my_str1.title()\n",
    "# Docstring:\n",
    "# Return a version of the string where each word is titlecased.\n",
    "\n",
    "# More specifically, words start with uppercased characters and all remaining\n",
    "# cased characters have lower case.\n",
    "my_str1.title()\n",
    "\n",
    "\n",
    "# upper\n",
    "# Signature: my_str1.upper()\n",
    "# Docstring: Return a copy of the string converted to uppercase.\n",
    "my_str1.upper()\n",
    "\n",
    "\n",
    "# lower\n",
    "# Signature: my_str2.lower()\n",
    "# Docstring: Return a copy of the string converted to lowercase.\n",
    "my_str2 = 'THIS IS Python class'\n",
    "my_str2.lower()\n",
    "\n",
    "\n",
    "# casefold\n",
    "# Signature: my_str2.casefold()\n",
    "# Docstring: Return a version of the string suitable for caseless comparisons.\n",
    "my_str2.casefold()\n",
    "\n",
    "my_str3 = 'FLIEßEN'\n",
    "print(my_str3.lower())\n",
    "print(my_str3.casefold())\n",
    "\n",
    "# 'fließen' == 'fließen'\n",
    "\n",
    "# swapcase\n",
    "# Signature: my_str2.swapcase()\n",
    "# Docstring: Convert uppercase characters to lowercase and lowercase characters to uppercase.\n",
    "my_str2.swapcase()\n",
    "\n",
    "\n",
    "\n"
   ]
  },
  {
   "cell_type": "code",
   "execution_count": null,
   "metadata": {},
   "outputs": [],
   "source": []
  },
  {
   "cell_type": "code",
   "execution_count": null,
   "metadata": {},
   "outputs": [],
   "source": []
  },
  {
   "cell_type": "code",
   "execution_count": null,
   "metadata": {},
   "outputs": [],
   "source": []
  },
  {
   "cell_type": "code",
   "execution_count": null,
   "metadata": {},
   "outputs": [],
   "source": []
  },
  {
   "cell_type": "code",
   "execution_count": null,
   "metadata": {},
   "outputs": [],
   "source": []
  },
  {
   "cell_type": "code",
   "execution_count": null,
   "metadata": {},
   "outputs": [],
   "source": []
  },
  {
   "cell_type": "code",
   "execution_count": null,
   "metadata": {},
   "outputs": [],
   "source": []
  },
  {
   "cell_type": "code",
   "execution_count": null,
   "metadata": {},
   "outputs": [],
   "source": []
  },
  {
   "cell_type": "code",
   "execution_count": null,
   "metadata": {},
   "outputs": [],
   "source": []
  },
  {
   "cell_type": "code",
   "execution_count": null,
   "metadata": {},
   "outputs": [],
   "source": []
  },
  {
   "cell_type": "code",
   "execution_count": null,
   "metadata": {},
   "outputs": [],
   "source": []
  },
  {
   "cell_type": "code",
   "execution_count": null,
   "metadata": {},
   "outputs": [],
   "source": []
  },
  {
   "cell_type": "code",
   "execution_count": null,
   "metadata": {},
   "outputs": [],
   "source": []
  },
  {
   "cell_type": "code",
   "execution_count": null,
   "metadata": {},
   "outputs": [],
   "source": []
  },
  {
   "cell_type": "code",
   "execution_count": null,
   "metadata": {},
   "outputs": [],
   "source": []
  },
  {
   "cell_type": "code",
   "execution_count": null,
   "metadata": {},
   "outputs": [],
   "source": []
  },
  {
   "cell_type": "code",
   "execution_count": null,
   "metadata": {},
   "outputs": [],
   "source": []
  },
  {
   "cell_type": "code",
   "execution_count": null,
   "metadata": {},
   "outputs": [],
   "source": []
  },
  {
   "cell_type": "code",
   "execution_count": null,
   "metadata": {},
   "outputs": [],
   "source": []
  },
  {
   "cell_type": "code",
   "execution_count": null,
   "metadata": {},
   "outputs": [],
   "source": []
  },
  {
   "cell_type": "code",
   "execution_count": null,
   "metadata": {},
   "outputs": [],
   "source": []
  },
  {
   "cell_type": "code",
   "execution_count": null,
   "metadata": {},
   "outputs": [],
   "source": []
  },
  {
   "cell_type": "code",
   "execution_count": null,
   "metadata": {},
   "outputs": [],
   "source": []
  },
  {
   "cell_type": "code",
   "execution_count": null,
   "metadata": {},
   "outputs": [],
   "source": []
  },
  {
   "cell_type": "code",
   "execution_count": null,
   "metadata": {},
   "outputs": [],
   "source": []
  },
  {
   "cell_type": "code",
   "execution_count": null,
   "metadata": {},
   "outputs": [],
   "source": []
  },
  {
   "cell_type": "code",
   "execution_count": null,
   "metadata": {},
   "outputs": [],
   "source": []
  },
  {
   "cell_type": "code",
   "execution_count": null,
   "metadata": {},
   "outputs": [],
   "source": []
  },
  {
   "cell_type": "code",
   "execution_count": null,
   "metadata": {},
   "outputs": [],
   "source": []
  },
  {
   "cell_type": "code",
   "execution_count": null,
   "metadata": {},
   "outputs": [],
   "source": []
  },
  {
   "cell_type": "code",
   "execution_count": null,
   "metadata": {},
   "outputs": [],
   "source": []
  },
  {
   "cell_type": "code",
   "execution_count": null,
   "metadata": {},
   "outputs": [],
   "source": []
  },
  {
   "cell_type": "code",
   "execution_count": null,
   "metadata": {},
   "outputs": [],
   "source": []
  },
  {
   "cell_type": "code",
   "execution_count": null,
   "metadata": {},
   "outputs": [],
   "source": []
  },
  {
   "cell_type": "code",
   "execution_count": null,
   "metadata": {},
   "outputs": [],
   "source": []
  },
  {
   "cell_type": "code",
   "execution_count": null,
   "metadata": {},
   "outputs": [],
   "source": []
  },
  {
   "cell_type": "code",
   "execution_count": null,
   "metadata": {},
   "outputs": [],
   "source": []
  },
  {
   "cell_type": "code",
   "execution_count": null,
   "metadata": {},
   "outputs": [],
   "source": []
  },
  {
   "cell_type": "code",
   "execution_count": null,
   "metadata": {},
   "outputs": [],
   "source": []
  },
  {
   "cell_type": "code",
   "execution_count": null,
   "metadata": {},
   "outputs": [],
   "source": []
  },
  {
   "cell_type": "code",
   "execution_count": null,
   "metadata": {},
   "outputs": [],
   "source": []
  },
  {
   "cell_type": "code",
   "execution_count": null,
   "metadata": {},
   "outputs": [],
   "source": []
  },
  {
   "cell_type": "code",
   "execution_count": null,
   "metadata": {},
   "outputs": [],
   "source": []
  },
  {
   "cell_type": "code",
   "execution_count": null,
   "metadata": {},
   "outputs": [],
   "source": []
  },
  {
   "cell_type": "code",
   "execution_count": null,
   "metadata": {},
   "outputs": [],
   "source": []
  },
  {
   "cell_type": "code",
   "execution_count": null,
   "metadata": {},
   "outputs": [],
   "source": []
  },
  {
   "cell_type": "code",
   "execution_count": null,
   "metadata": {},
   "outputs": [],
   "source": []
  },
  {
   "cell_type": "code",
   "execution_count": null,
   "metadata": {},
   "outputs": [],
   "source": []
  },
  {
   "cell_type": "code",
   "execution_count": null,
   "metadata": {},
   "outputs": [],
   "source": []
  },
  {
   "cell_type": "code",
   "execution_count": null,
   "metadata": {},
   "outputs": [],
   "source": []
  },
  {
   "cell_type": "code",
   "execution_count": null,
   "metadata": {},
   "outputs": [],
   "source": []
  },
  {
   "cell_type": "code",
   "execution_count": null,
   "metadata": {},
   "outputs": [],
   "source": []
  },
  {
   "cell_type": "code",
   "execution_count": null,
   "metadata": {},
   "outputs": [],
   "source": []
  },
  {
   "cell_type": "code",
   "execution_count": null,
   "metadata": {},
   "outputs": [],
   "source": []
  },
  {
   "cell_type": "code",
   "execution_count": null,
   "metadata": {},
   "outputs": [],
   "source": []
  },
  {
   "cell_type": "code",
   "execution_count": null,
   "metadata": {},
   "outputs": [],
   "source": []
  },
  {
   "cell_type": "code",
   "execution_count": null,
   "metadata": {},
   "outputs": [],
   "source": []
  },
  {
   "cell_type": "code",
   "execution_count": null,
   "metadata": {},
   "outputs": [],
   "source": []
  },
  {
   "cell_type": "code",
   "execution_count": null,
   "metadata": {},
   "outputs": [],
   "source": []
  },
  {
   "cell_type": "code",
   "execution_count": null,
   "metadata": {},
   "outputs": [],
   "source": []
  },
  {
   "cell_type": "code",
   "execution_count": null,
   "metadata": {},
   "outputs": [],
   "source": []
  },
  {
   "cell_type": "code",
   "execution_count": null,
   "metadata": {},
   "outputs": [],
   "source": []
  },
  {
   "cell_type": "code",
   "execution_count": null,
   "metadata": {},
   "outputs": [],
   "source": []
  },
  {
   "cell_type": "code",
   "execution_count": null,
   "metadata": {},
   "outputs": [],
   "source": []
  },
  {
   "cell_type": "code",
   "execution_count": null,
   "metadata": {},
   "outputs": [],
   "source": []
  },
  {
   "cell_type": "code",
   "execution_count": null,
   "metadata": {},
   "outputs": [],
   "source": []
  },
  {
   "cell_type": "code",
   "execution_count": null,
   "metadata": {},
   "outputs": [],
   "source": []
  },
  {
   "cell_type": "code",
   "execution_count": null,
   "metadata": {},
   "outputs": [],
   "source": []
  },
  {
   "cell_type": "code",
   "execution_count": null,
   "metadata": {},
   "outputs": [],
   "source": []
  },
  {
   "cell_type": "code",
   "execution_count": null,
   "metadata": {},
   "outputs": [],
   "source": []
  },
  {
   "cell_type": "code",
   "execution_count": null,
   "metadata": {},
   "outputs": [],
   "source": []
  },
  {
   "cell_type": "code",
   "execution_count": null,
   "metadata": {},
   "outputs": [],
   "source": []
  },
  {
   "cell_type": "code",
   "execution_count": null,
   "metadata": {},
   "outputs": [],
   "source": []
  },
  {
   "cell_type": "code",
   "execution_count": null,
   "metadata": {},
   "outputs": [],
   "source": []
  },
  {
   "cell_type": "code",
   "execution_count": null,
   "metadata": {},
   "outputs": [],
   "source": []
  },
  {
   "cell_type": "code",
   "execution_count": null,
   "metadata": {},
   "outputs": [],
   "source": []
  },
  {
   "cell_type": "code",
   "execution_count": null,
   "metadata": {},
   "outputs": [],
   "source": []
  },
  {
   "cell_type": "code",
   "execution_count": null,
   "metadata": {},
   "outputs": [],
   "source": []
  },
  {
   "cell_type": "code",
   "execution_count": null,
   "metadata": {},
   "outputs": [],
   "source": []
  },
  {
   "cell_type": "code",
   "execution_count": null,
   "metadata": {},
   "outputs": [],
   "source": []
  },
  {
   "cell_type": "code",
   "execution_count": null,
   "metadata": {},
   "outputs": [],
   "source": []
  },
  {
   "cell_type": "code",
   "execution_count": null,
   "metadata": {},
   "outputs": [],
   "source": []
  },
  {
   "cell_type": "code",
   "execution_count": null,
   "metadata": {},
   "outputs": [],
   "source": []
  },
  {
   "cell_type": "code",
   "execution_count": null,
   "metadata": {},
   "outputs": [],
   "source": []
  },
  {
   "cell_type": "code",
   "execution_count": null,
   "metadata": {},
   "outputs": [],
   "source": []
  },
  {
   "cell_type": "code",
   "execution_count": null,
   "metadata": {},
   "outputs": [],
   "source": []
  },
  {
   "cell_type": "code",
   "execution_count": null,
   "metadata": {},
   "outputs": [],
   "source": []
  },
  {
   "cell_type": "code",
   "execution_count": null,
   "metadata": {},
   "outputs": [],
   "source": []
  },
  {
   "cell_type": "code",
   "execution_count": null,
   "metadata": {},
   "outputs": [],
   "source": []
  },
  {
   "cell_type": "code",
   "execution_count": null,
   "metadata": {},
   "outputs": [],
   "source": []
  },
  {
   "cell_type": "code",
   "execution_count": null,
   "metadata": {},
   "outputs": [],
   "source": []
  },
  {
   "cell_type": "code",
   "execution_count": null,
   "metadata": {},
   "outputs": [],
   "source": []
  },
  {
   "cell_type": "code",
   "execution_count": null,
   "metadata": {},
   "outputs": [],
   "source": []
  },
  {
   "cell_type": "code",
   "execution_count": null,
   "metadata": {},
   "outputs": [],
   "source": []
  },
  {
   "cell_type": "code",
   "execution_count": null,
   "metadata": {},
   "outputs": [],
   "source": []
  },
  {
   "cell_type": "code",
   "execution_count": null,
   "metadata": {},
   "outputs": [],
   "source": []
  },
  {
   "cell_type": "code",
   "execution_count": null,
   "metadata": {},
   "outputs": [],
   "source": []
  },
  {
   "cell_type": "code",
   "execution_count": null,
   "metadata": {},
   "outputs": [],
   "source": []
  },
  {
   "cell_type": "code",
   "execution_count": null,
   "metadata": {},
   "outputs": [],
   "source": []
  },
  {
   "cell_type": "code",
   "execution_count": null,
   "metadata": {},
   "outputs": [],
   "source": []
  },
  {
   "cell_type": "code",
   "execution_count": null,
   "metadata": {},
   "outputs": [],
   "source": []
  },
  {
   "cell_type": "code",
   "execution_count": null,
   "metadata": {},
   "outputs": [],
   "source": []
  },
  {
   "cell_type": "code",
   "execution_count": null,
   "metadata": {},
   "outputs": [],
   "source": []
  },
  {
   "cell_type": "code",
   "execution_count": null,
   "metadata": {},
   "outputs": [],
   "source": []
  },
  {
   "cell_type": "code",
   "execution_count": null,
   "metadata": {},
   "outputs": [],
   "source": []
  },
  {
   "cell_type": "code",
   "execution_count": null,
   "metadata": {},
   "outputs": [],
   "source": []
  },
  {
   "cell_type": "code",
   "execution_count": null,
   "metadata": {},
   "outputs": [],
   "source": []
  },
  {
   "cell_type": "code",
   "execution_count": null,
   "metadata": {},
   "outputs": [],
   "source": []
  },
  {
   "cell_type": "code",
   "execution_count": null,
   "metadata": {},
   "outputs": [],
   "source": []
  },
  {
   "cell_type": "code",
   "execution_count": null,
   "metadata": {},
   "outputs": [],
   "source": []
  },
  {
   "cell_type": "code",
   "execution_count": null,
   "metadata": {},
   "outputs": [],
   "source": []
  }
 ],
 "metadata": {
  "kernelspec": {
   "display_name": "Python 3",
   "language": "python",
   "name": "python3"
  },
  "language_info": {
   "codemirror_mode": {
    "name": "ipython",
    "version": 3
   },
   "file_extension": ".py",
   "mimetype": "text/x-python",
   "name": "python",
   "nbconvert_exporter": "python",
   "pygments_lexer": "ipython3",
   "version": "3.8.2"
  },
  "latex_envs": {
   "LaTeX_envs_menu_present": true,
   "autoclose": false,
   "autocomplete": true,
   "bibliofile": "biblio.bib",
   "cite_by": "apalike",
   "current_citInitial": 1,
   "eqLabelWithNumbers": true,
   "eqNumInitial": 1,
   "hotkeys": {
    "equation": "Ctrl-E",
    "itemize": "Ctrl-I"
   },
   "labels_anchors": false,
   "latex_user_defs": false,
   "report_style_numbering": false,
   "user_envs_cfg": false
  },
  "varInspector": {
   "cols": {
    "lenName": 16,
    "lenType": 16,
    "lenVar": 40
   },
   "kernels_config": {
    "python": {
     "delete_cmd_postfix": "",
     "delete_cmd_prefix": "del ",
     "library": "var_list.py",
     "varRefreshCmd": "print(var_dic_list())"
    },
    "r": {
     "delete_cmd_postfix": ") ",
     "delete_cmd_prefix": "rm(",
     "library": "var_list.r",
     "varRefreshCmd": "cat(var_dic_list()) "
    }
   },
   "types_to_exclude": [
    "module",
    "function",
    "builtin_function_or_method",
    "instance",
    "_Feature"
   ],
   "window_display": false
  }
 },
 "nbformat": 4,
 "nbformat_minor": 2
}
