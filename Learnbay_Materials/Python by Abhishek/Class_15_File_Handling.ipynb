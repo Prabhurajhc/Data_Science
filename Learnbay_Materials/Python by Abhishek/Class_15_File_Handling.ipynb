{
 "cells": [
  {
   "cell_type": "code",
   "execution_count": 17,
   "metadata": {
    "ExecuteTime": {
     "end_time": "2021-05-03T02:43:51.708440Z",
     "start_time": "2021-05-03T02:43:51.704866Z"
    }
   },
   "outputs": [],
   "source": [
    "# my_str = 'Python'\n",
    "# for i in range(5, -1, -1):\n",
    "#     print(my_str[i] * (i+1))\n",
    "# Why this is out of range?"
   ]
  },
  {
   "cell_type": "code",
   "execution_count": null,
   "metadata": {
    "ExecuteTime": {
     "end_time": "2021-05-03T02:43:00.705646Z",
     "start_time": "2021-05-03T02:43:00.688498Z"
    }
   },
   "outputs": [],
   "source": [
    "# File Handling\n",
    "#     Text file\n",
    "#     Binary file"
   ]
  },
  {
   "cell_type": "code",
   "execution_count": null,
   "metadata": {},
   "outputs": [],
   "source": [
    "# MOdes of Operations for text file\n",
    "    read mode - 'r'\n",
    "    read and write mode - 'r+'\n",
    "    write mode - 'w'\n",
    "    write and read mode - 'w+'\n",
    "    append mode - 'a'\n",
    "    append and read mode - 'a+'\n",
    "    \n",
    "# MOdes of Operations for Binary file - images, video, pdf\n",
    "    read mode - 'rb'\n",
    "    read and write mode - 'r+b'\n",
    "    write mode - 'wb'\n",
    "    write and read mode - 'w+b'\n",
    "    append mode - 'ab'\n",
    "    append and read mode - 'a+b'"
   ]
  },
  {
   "cell_type": "code",
   "execution_count": null,
   "metadata": {},
   "outputs": [],
   "source": [
    "# Methods to do the opeartions on file\n",
    "    1. open('File_name.ext', 'mode') - opens a file and returns a file object\n",
    "    2. close()\n",
    "    3. read() - reads the content of the file and retruns a string object\n",
    "    4. write('Str') - write the content into the file\n",
    "    5. tell() - curent cursor position in the file.\n",
    "    6. seek(index) - it moves the cursor to the specified position in the file."
   ]
  },
  {
   "cell_type": "code",
   "execution_count": 25,
   "metadata": {
    "ExecuteTime": {
     "end_time": "2021-05-03T03:03:03.572599Z",
     "start_time": "2021-05-03T03:03:03.564772Z"
    }
   },
   "outputs": [],
   "source": [
    "# read mode - 'r'\n",
    "# 1. If file exist then it opens teh file in read mode and places the curosr at the begining of the file.\n",
    "# 2. If file does not exist then it will raise the FileNotFoundError.\n",
    "# 3. In this mode, you are allowed only to read from the file but not allowed to write into the file.\n",
    "\n",
    "# f = open('my_mod.py', 'r')\n",
    "# print(f.tell())   # Gives us the current surosr position\n",
    "# print(type(f.read()))   # Read the whole content of the file and places the cursor at the end of the file\n",
    "# print(f.tell())\n",
    "# f.seek(0)\n",
    "# print(f.tell())\n",
    "# f.close()         # Closing the file in mandatory\n",
    "\n",
    "# If file does not exist\n",
    "# f = open('my_mod.txt', 'r')   # FileNotFoundError: [Errno 2] No such file or directory: 'my_mod.txt'\n",
    "# f.close()  \n",
    "\n",
    "# Gives error if we try to write into a file which is opened in read mode\n",
    "# f = open('my_mod.py', 'r')\n",
    "# f.write('Hello World')   # UnsupportedOperation: not writable\n",
    "# f.close() \n",
    "\n",
    "\n",
    "# read and write mode - 'r+'\n",
    "# 1. If file exist then it opens teh file in read mode and places the curosr at the begining of the file.\n",
    "# 2. If file does not exist then it will raise the FileNotFoundError.\n",
    "# 3. In this mode, you are allowed to read and write both.\n",
    "\n",
    "# Gives error if we try to write into a file which is opened in read mode\n",
    "# f = open('my_mod.py', 'r+')\n",
    "# f.seek(len(f.read()))\n",
    "# f.write('Hello World')   # UnsupportedOperation: not writable\n",
    "# f.close()\n",
    "\n"
   ]
  },
  {
   "cell_type": "code",
   "execution_count": 31,
   "metadata": {
    "ExecuteTime": {
     "end_time": "2021-05-03T03:13:59.058655Z",
     "start_time": "2021-05-03T03:13:59.048738Z"
    }
   },
   "outputs": [],
   "source": [
    "# Write Mode - 'w'\n",
    "# 1. If file exist then it will first deletes the content of the file and places the cursor in the begining of the file\n",
    "# 2. If file does not exist then it will create a file with the given name of the file.\n",
    "# 3. In this mode, you are allowed only to write but not allowed to read from the file.\n",
    "\n",
    "# If file does not exist\n",
    "# f = open('my_mod.txt', 'w')\n",
    "# f.close()\n",
    "\n",
    "# If file is existing and there is some content into the file\n",
    "# f = open('my_mod.txt', 'w')\n",
    "# print(f.tell())\n",
    "# # print(f.read())  # UnsupportedOperation: not readable\n",
    "# f.write('hello World')\n",
    "# f.close()\n",
    "\n",
    "\n",
    "# Write and read Mode - 'w+'\n",
    "# 1. If file exist then it will first deletes the content of the file and places the cursor in the begining of the file\n",
    "# 2. If file does not exist then it will create a file with the given name of the file.\n",
    "# 3. In this mode, you are allowed to read and write both.\n",
    "\n",
    "# If file does not exist\n",
    "# f = open('my_mod.txt', 'w')\n",
    "# f.close()\n",
    "\n",
    "# f = open('my_mod.txt', 'w+')\n",
    "# print(f.tell())\n",
    "# print(f.read())\n",
    "# f.write('Hello World')\n",
    "# f.seek(0)\n",
    "# print(f.read())\n",
    "# f.close()\n",
    "\n"
   ]
  },
  {
   "cell_type": "code",
   "execution_count": 43,
   "metadata": {
    "ExecuteTime": {
     "end_time": "2021-05-03T03:25:38.474969Z",
     "start_time": "2021-05-03T03:25:38.470285Z"
    }
   },
   "outputs": [],
   "source": [
    "# append mode - 'a'\n",
    "# 1. If file exist then it opens the file in append mode and places the cursor at the end of the file\n",
    "# 2. If file does not exist then it will create a file with the given name of the file.\n",
    "# 3. In this mode, you are allowed only to write but not allowed to read from the file.\n",
    "\n",
    "# f = open('my_mod.py', 'a')\n",
    "# print(f.tell())\n",
    "# f.write('\\nHello World')\n",
    "# # print(f.read())\n",
    "# f.close()\n",
    "\n",
    "# Note - If any errors may come before closing the file then the content may not be updated into the file.\n",
    "\n",
    "# append and read mode - 'a+'\n",
    "# 1. If file exist then it opens the file in append mode and places the cursor at the end of the file\n",
    "# 2. If file does not exist then it will create a file with the given name of the file.\n",
    "# 3. In this mode, you are allowed to read and write both.\n",
    "\n",
    "# f = open('my_mod.py', 'a+')\n",
    "# print(f.tell())\n",
    "# f.write('\\nHello World')\n",
    "# print(f.read())\n",
    "# print(f.seek(0))\n",
    "# print(f.read())\n",
    "# f.close()"
   ]
  },
  {
   "cell_type": "code",
   "execution_count": 45,
   "metadata": {
    "ExecuteTime": {
     "end_time": "2021-05-03T03:29:31.750075Z",
     "start_time": "2021-05-03T03:29:31.730190Z"
    }
   },
   "outputs": [
    {
     "name": "stdout",
     "output_type": "stream",
     "text": [
      "619\n"
     ]
    },
    {
     "ename": "UnsupportedOperation",
     "evalue": "not readable",
     "output_type": "error",
     "traceback": [
      "\u001b[0;31m---------------------------------------------------------------------------\u001b[0m",
      "\u001b[0;31mUnsupportedOperation\u001b[0m                      Traceback (most recent call last)",
      "\u001b[0;32m<ipython-input-45-010f7bf9806f>\u001b[0m in \u001b[0;36m<module>\u001b[0;34m\u001b[0m\n\u001b[1;32m      4\u001b[0m     \u001b[0mfile_obj\u001b[0m\u001b[0;34m.\u001b[0m\u001b[0mwrite\u001b[0m\u001b[0;34m(\u001b[0m\u001b[0;34m'\\n\\tHello World with tab space'\u001b[0m\u001b[0;34m)\u001b[0m\u001b[0;34m\u001b[0m\u001b[0;34m\u001b[0m\u001b[0m\n\u001b[1;32m      5\u001b[0m     \u001b[0mfile_obj\u001b[0m\u001b[0;34m.\u001b[0m\u001b[0mseek\u001b[0m\u001b[0;34m(\u001b[0m\u001b[0;36m0\u001b[0m\u001b[0;34m)\u001b[0m\u001b[0;34m\u001b[0m\u001b[0;34m\u001b[0m\u001b[0m\n\u001b[0;32m----> 6\u001b[0;31m     \u001b[0mprint\u001b[0m\u001b[0;34m(\u001b[0m\u001b[0mfile_obj\u001b[0m\u001b[0;34m.\u001b[0m\u001b[0mread\u001b[0m\u001b[0;34m(\u001b[0m\u001b[0;34m)\u001b[0m\u001b[0;34m)\u001b[0m\u001b[0;34m\u001b[0m\u001b[0;34m\u001b[0m\u001b[0m\n\u001b[0m",
      "\u001b[0;31mUnsupportedOperation\u001b[0m: not readable"
     ]
    }
   ],
   "source": [
    "# Syntax of opening the file using with statement\n",
    "with open('my_mod.py', 'a') as file_obj:\n",
    "    print(file_obj.tell())\n",
    "    file_obj.write('\\n\\tHello World with tab space')\n",
    "    file_obj.seek(0)\n",
    "    print(file_obj.read())\n",
    "    print()\n"
   ]
  },
  {
   "cell_type": "code",
   "execution_count": 50,
   "metadata": {
    "ExecuteTime": {
     "end_time": "2021-05-03T03:37:37.653482Z",
     "start_time": "2021-05-03T03:37:37.641807Z"
    }
   },
   "outputs": [
    {
     "name": "stdout",
     "output_type": "stream",
     "text": [
      "['import re\\n', 'def email_verification(email):\\n', \"    if '@' in email and '.' in email:\\n\", \"        print('Correct email address')\\n\", '    else:\\n', \"        print('Incorrect Email Address')\\n\", '\\n', '        \\n', '\\n', 'def password_validation(pwd):\\n', \"    if re.findall(r'[A-Z]', pwd) and re.findall(r'[a-z]', pwd) and re.findall(r'[0-9]', pwd) and len(pwd) > 6 and \\n\", \"    re.findall(r'[@#!$%^&*(){}[]]', pwd):\\n\", \"        print('Valid Password')\\n\", '    else:\\n', \"        print('Invalid Password')\\n\", '\\n', \"if __name__ == '__main__':\\n\", \"    email_verification('abc@gmail.com')\\n\", \"    password_validation('Python#123')\\n\", \"    password_validation('Python#')\\n\"]\n",
      "20\n",
      "<class 'list'>\n"
     ]
    }
   ],
   "source": [
    "# Methods of file handling\n",
    "# For reading\n",
    "#     read() - Reads the whole content of the file and returns the string object\n",
    "#     read(no of char) - It reads no of specified characters from current cursor position\n",
    "#     readline() - reads the current line from current cursor position\n",
    "#     readlines() - Reads the whole content of the file and returns list of string where every string is a line from teh file\n",
    "\n",
    "# with open('my_mod.py', 'r') as f:\n",
    "#     content = f.read()\n",
    "#     print(content)\n",
    "#     print(len(content))\n",
    "#     print(type(content))\n",
    "    \n",
    "# with open('my_mod.py', 'r') as f:\n",
    "#     f.seek(80)\n",
    "#     content = f.read(20)\n",
    "#     print(content)\n",
    "#     print(len(content))\n",
    "#     print(type(content))\n",
    "\n",
    "# with open('my_mod.py', 'r') as f:\n",
    "#     f.seek(80)\n",
    "#     content = f.readline()\n",
    "#     print(content)\n",
    "#     print(len(content))\n",
    "#     print(type(content))\n",
    "\n",
    "# with open('my_mod.py', 'r') as f:\n",
    "#     content = f.readlines()\n",
    "#     print(content)\n",
    "#     print(len(content))\n",
    "#     print(type(content))\n",
    "\n",
    "\n",
    "  \n",
    "# For writing\n",
    "# 1. write('str') - writes the string in file\n",
    "# 2. writelines(['str1\\n', 'str2\\n', 'str3\\n', 'str4\\n'])"
   ]
  },
  {
   "cell_type": "code",
   "execution_count": null,
   "metadata": {},
   "outputs": [],
   "source": [
    "What is Lorem Ipsum?\n",
    "Lorem Ipsum is simply dummy text of the printing and typesetting industry. \n",
    "Lorem Ipsum has been the industrys standard dummy text ever since the 1500s, when an unknown printer took a galley of type and scrambled it to make a type specimen book. \n",
    "It has survived not only five centuries, but also the leap into electronic typesetting, remaining essentially unchanged. \n",
    "It was popularised in the 1960s with the release of Letraset sheets containing Lorem Ipsum passages, and more recently with desktop publishing software like Aldus PageMaker including versions of Lorem Ipsum.\n",
    "Why do we use it?\n",
    "It is a long established fact that a reader will be distracted by the readable content of a page when looking at its layout. \n",
    "The point of using Lorem Ipsum is that it has a more-or-less normal distribution of letters, as opposed to using Content here, content here, making it look like readable English. \n",
    "Many desktop publishing packages and web page editors now use Lorem Ipsum as their default model text, and a search for lorem ipsum will uncover many web sites still in their infancy. \n",
    "Various versions have evolved over the years, sometimes by accident, sometimes on purpose (injected humour and the like).\n",
    "\n",
    "\n",
    "\n",
    "\n"
   ]
  },
  {
   "cell_type": "code",
   "execution_count": 52,
   "metadata": {
    "ExecuteTime": {
     "end_time": "2021-05-03T04:14:40.179832Z",
     "start_time": "2021-05-03T04:14:40.166785Z"
    }
   },
   "outputs": [
    {
     "name": "stdout",
     "output_type": "stream",
     "text": [
      "No of characters =  1240\n",
      "No of words =  206\n",
      "No of lines =  11\n"
     ]
    }
   ],
   "source": [
    "# W.A.P which count the no of letters, no of word and no of lines from the file\n",
    "with open('my_mod.txt', 'w+') as f:\n",
    "    f.write('''What is Lorem Ipsum?\n",
    "Lorem Ipsum is simply dummy text of the printing and typesetting industry. \n",
    "Lorem Ipsum has been the industrys standard dummy text ever since the 1500s, when an unknown printer took a galley of type and scrambled it to make a type specimen book. \n",
    "It has survived not only five centuries, but also the leap into electronic typesetting, remaining essentially unchanged. \n",
    "It was popularised in the 1960s with the release of Letraset sheets containing Lorem Ipsum passages, and more recently with desktop publishing software like Aldus PageMaker including versions of Lorem Ipsum.\n",
    "hello world\n",
    "Why do we use it?\n",
    "It is a long established fact that a reader will be distracted by the readable content of a page when looking at its layout. \n",
    "The point of using Lorem Ipsum is that it has a more-or-less normal distribution of letters, as opposed to using Content here, content here, making it look like readable English. \n",
    "Many desktop publishing packages and web page editors now use Lorem Ipsum as their default model text, and a search for lorem ipsum will uncover many web sites still in their infancy. \n",
    "Various versions have evolved over the years, sometimes by accident, sometimes on purpose (injected humour and the like).''')\n",
    "    no_chars = 0\n",
    "    no_words = 0\n",
    "    no_lines = 0\n",
    "    f.seek(0)\n",
    "    no_chars = len(f.read())\n",
    "    f.seek(0)\n",
    "    no_words = len(f.read().split())\n",
    "    f.seek(0)\n",
    "    no_lines = len(f.readlines())\n",
    "    print('No of characters = ', no_chars)\n",
    "    print('No of words = ', no_words)\n",
    "    print('No of lines = ', no_lines)\n"
   ]
  },
  {
   "cell_type": "code",
   "execution_count": 53,
   "metadata": {
    "ExecuteTime": {
     "end_time": "2021-05-03T04:15:41.594718Z",
     "start_time": "2021-05-03T04:15:41.586394Z"
    }
   },
   "outputs": [],
   "source": [
    "# W.A.P. to copy the content of python.jpeg to new.png\n",
    "with open('python.jpeg', 'rb') as f1:\n",
    "    with open('new.png', 'wb') as f2:\n",
    "        f2.write(f1.read())\n",
    "\n",
    "\n",
    "\n"
   ]
  },
  {
   "cell_type": "code",
   "execution_count": 56,
   "metadata": {
    "ExecuteTime": {
     "end_time": "2021-05-03T04:18:55.953588Z",
     "start_time": "2021-05-03T04:18:55.945005Z"
    }
   },
   "outputs": [],
   "source": [
    "# Insert \"hello World\" at line no 6, do not replace\n",
    "\n",
    "with open('my_mod.txt', 'r+') as f:\n",
    "    content_lst = f.readlines()\n",
    "    content_lst.insert(5, 'Hello World\\n')\n",
    "    f.seek(0)\n",
    "    f.writelines(content_lst)"
   ]
  },
  {
   "cell_type": "code",
   "execution_count": null,
   "metadata": {},
   "outputs": [],
   "source": []
  },
  {
   "cell_type": "code",
   "execution_count": null,
   "metadata": {},
   "outputs": [],
   "source": []
  },
  {
   "cell_type": "code",
   "execution_count": null,
   "metadata": {},
   "outputs": [],
   "source": []
  },
  {
   "cell_type": "code",
   "execution_count": null,
   "metadata": {},
   "outputs": [],
   "source": []
  },
  {
   "cell_type": "code",
   "execution_count": null,
   "metadata": {},
   "outputs": [],
   "source": []
  },
  {
   "cell_type": "code",
   "execution_count": null,
   "metadata": {},
   "outputs": [],
   "source": []
  },
  {
   "cell_type": "code",
   "execution_count": null,
   "metadata": {},
   "outputs": [],
   "source": []
  },
  {
   "cell_type": "code",
   "execution_count": null,
   "metadata": {},
   "outputs": [],
   "source": []
  },
  {
   "cell_type": "code",
   "execution_count": null,
   "metadata": {},
   "outputs": [],
   "source": []
  },
  {
   "cell_type": "code",
   "execution_count": null,
   "metadata": {},
   "outputs": [],
   "source": []
  },
  {
   "cell_type": "code",
   "execution_count": null,
   "metadata": {},
   "outputs": [],
   "source": []
  },
  {
   "cell_type": "code",
   "execution_count": null,
   "metadata": {},
   "outputs": [],
   "source": []
  },
  {
   "cell_type": "code",
   "execution_count": null,
   "metadata": {},
   "outputs": [],
   "source": []
  },
  {
   "cell_type": "code",
   "execution_count": null,
   "metadata": {},
   "outputs": [],
   "source": []
  },
  {
   "cell_type": "code",
   "execution_count": null,
   "metadata": {},
   "outputs": [],
   "source": []
  },
  {
   "cell_type": "code",
   "execution_count": null,
   "metadata": {},
   "outputs": [],
   "source": []
  },
  {
   "cell_type": "code",
   "execution_count": null,
   "metadata": {},
   "outputs": [],
   "source": []
  },
  {
   "cell_type": "code",
   "execution_count": null,
   "metadata": {},
   "outputs": [],
   "source": []
  },
  {
   "cell_type": "code",
   "execution_count": null,
   "metadata": {},
   "outputs": [],
   "source": []
  },
  {
   "cell_type": "code",
   "execution_count": null,
   "metadata": {},
   "outputs": [],
   "source": []
  },
  {
   "cell_type": "code",
   "execution_count": null,
   "metadata": {},
   "outputs": [],
   "source": []
  },
  {
   "cell_type": "code",
   "execution_count": null,
   "metadata": {},
   "outputs": [],
   "source": []
  },
  {
   "cell_type": "code",
   "execution_count": null,
   "metadata": {},
   "outputs": [],
   "source": []
  },
  {
   "cell_type": "code",
   "execution_count": null,
   "metadata": {},
   "outputs": [],
   "source": []
  },
  {
   "cell_type": "code",
   "execution_count": null,
   "metadata": {},
   "outputs": [],
   "source": []
  },
  {
   "cell_type": "code",
   "execution_count": null,
   "metadata": {},
   "outputs": [],
   "source": []
  },
  {
   "cell_type": "code",
   "execution_count": null,
   "metadata": {},
   "outputs": [],
   "source": []
  },
  {
   "cell_type": "code",
   "execution_count": null,
   "metadata": {},
   "outputs": [],
   "source": []
  },
  {
   "cell_type": "code",
   "execution_count": null,
   "metadata": {},
   "outputs": [],
   "source": []
  },
  {
   "cell_type": "code",
   "execution_count": null,
   "metadata": {},
   "outputs": [],
   "source": []
  },
  {
   "cell_type": "code",
   "execution_count": null,
   "metadata": {},
   "outputs": [],
   "source": []
  },
  {
   "cell_type": "code",
   "execution_count": null,
   "metadata": {},
   "outputs": [],
   "source": []
  },
  {
   "cell_type": "code",
   "execution_count": null,
   "metadata": {},
   "outputs": [],
   "source": []
  },
  {
   "cell_type": "code",
   "execution_count": null,
   "metadata": {},
   "outputs": [],
   "source": []
  },
  {
   "cell_type": "code",
   "execution_count": null,
   "metadata": {},
   "outputs": [],
   "source": []
  },
  {
   "cell_type": "code",
   "execution_count": null,
   "metadata": {},
   "outputs": [],
   "source": []
  },
  {
   "cell_type": "code",
   "execution_count": null,
   "metadata": {},
   "outputs": [],
   "source": []
  },
  {
   "cell_type": "code",
   "execution_count": null,
   "metadata": {},
   "outputs": [],
   "source": []
  },
  {
   "cell_type": "code",
   "execution_count": null,
   "metadata": {},
   "outputs": [],
   "source": []
  },
  {
   "cell_type": "code",
   "execution_count": null,
   "metadata": {},
   "outputs": [],
   "source": []
  },
  {
   "cell_type": "code",
   "execution_count": null,
   "metadata": {},
   "outputs": [],
   "source": []
  },
  {
   "cell_type": "code",
   "execution_count": null,
   "metadata": {},
   "outputs": [],
   "source": []
  },
  {
   "cell_type": "code",
   "execution_count": null,
   "metadata": {},
   "outputs": [],
   "source": []
  },
  {
   "cell_type": "code",
   "execution_count": null,
   "metadata": {},
   "outputs": [],
   "source": []
  },
  {
   "cell_type": "code",
   "execution_count": null,
   "metadata": {},
   "outputs": [],
   "source": []
  },
  {
   "cell_type": "code",
   "execution_count": null,
   "metadata": {},
   "outputs": [],
   "source": []
  },
  {
   "cell_type": "code",
   "execution_count": null,
   "metadata": {},
   "outputs": [],
   "source": []
  },
  {
   "cell_type": "code",
   "execution_count": null,
   "metadata": {},
   "outputs": [],
   "source": []
  },
  {
   "cell_type": "code",
   "execution_count": null,
   "metadata": {},
   "outputs": [],
   "source": []
  },
  {
   "cell_type": "code",
   "execution_count": null,
   "metadata": {},
   "outputs": [],
   "source": []
  },
  {
   "cell_type": "code",
   "execution_count": null,
   "metadata": {},
   "outputs": [],
   "source": []
  },
  {
   "cell_type": "code",
   "execution_count": null,
   "metadata": {},
   "outputs": [],
   "source": []
  },
  {
   "cell_type": "code",
   "execution_count": null,
   "metadata": {},
   "outputs": [],
   "source": []
  },
  {
   "cell_type": "code",
   "execution_count": null,
   "metadata": {},
   "outputs": [],
   "source": []
  },
  {
   "cell_type": "code",
   "execution_count": null,
   "metadata": {},
   "outputs": [],
   "source": []
  },
  {
   "cell_type": "code",
   "execution_count": null,
   "metadata": {},
   "outputs": [],
   "source": []
  },
  {
   "cell_type": "code",
   "execution_count": null,
   "metadata": {},
   "outputs": [],
   "source": []
  },
  {
   "cell_type": "code",
   "execution_count": null,
   "metadata": {},
   "outputs": [],
   "source": []
  },
  {
   "cell_type": "code",
   "execution_count": null,
   "metadata": {},
   "outputs": [],
   "source": []
  },
  {
   "cell_type": "code",
   "execution_count": null,
   "metadata": {},
   "outputs": [],
   "source": []
  },
  {
   "cell_type": "code",
   "execution_count": null,
   "metadata": {},
   "outputs": [],
   "source": []
  },
  {
   "cell_type": "code",
   "execution_count": null,
   "metadata": {},
   "outputs": [],
   "source": []
  },
  {
   "cell_type": "code",
   "execution_count": null,
   "metadata": {},
   "outputs": [],
   "source": []
  }
 ],
 "metadata": {
  "kernelspec": {
   "display_name": "Python 3",
   "language": "python",
   "name": "python3"
  },
  "language_info": {
   "codemirror_mode": {
    "name": "ipython",
    "version": 3
   },
   "file_extension": ".py",
   "mimetype": "text/x-python",
   "name": "python",
   "nbconvert_exporter": "python",
   "pygments_lexer": "ipython3",
   "version": "3.8.2"
  },
  "latex_envs": {
   "LaTeX_envs_menu_present": true,
   "autoclose": false,
   "autocomplete": true,
   "bibliofile": "biblio.bib",
   "cite_by": "apalike",
   "current_citInitial": 1,
   "eqLabelWithNumbers": true,
   "eqNumInitial": 1,
   "hotkeys": {
    "equation": "Ctrl-E",
    "itemize": "Ctrl-I"
   },
   "labels_anchors": false,
   "latex_user_defs": false,
   "report_style_numbering": false,
   "user_envs_cfg": false
  },
  "varInspector": {
   "cols": {
    "lenName": 16,
    "lenType": 16,
    "lenVar": 40
   },
   "kernels_config": {
    "python": {
     "delete_cmd_postfix": "",
     "delete_cmd_prefix": "del ",
     "library": "var_list.py",
     "varRefreshCmd": "print(var_dic_list())"
    },
    "r": {
     "delete_cmd_postfix": ") ",
     "delete_cmd_prefix": "rm(",
     "library": "var_list.r",
     "varRefreshCmd": "cat(var_dic_list()) "
    }
   },
   "types_to_exclude": [
    "module",
    "function",
    "builtin_function_or_method",
    "instance",
    "_Feature"
   ],
   "window_display": false
  }
 },
 "nbformat": 4,
 "nbformat_minor": 2
}
