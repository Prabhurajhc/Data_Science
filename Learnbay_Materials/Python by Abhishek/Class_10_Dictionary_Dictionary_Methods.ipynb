{
 "cells": [
  {
   "cell_type": "code",
   "execution_count": null,
   "metadata": {},
   "outputs": [],
   "source": []
  },
  {
   "cell_type": "code",
   "execution_count": null,
   "metadata": {},
   "outputs": [],
   "source": [
    "lst = [10, 20, 30, 10, 40, 50, 10, 1, 100, 10, 20, 10,100]\n",
    "lst[0:2].pop(1)\n",
    "print(lst)"
   ]
  },
  {
   "cell_type": "code",
   "execution_count": null,
   "metadata": {},
   "outputs": [],
   "source": [
    "Q. Write a python program to find below output using loop:-\n",
    "Input:- 'This is Python class', sep = ' is',\n",
    "Output:- ['This', 'is', 'Python class']"
   ]
  },
  {
   "cell_type": "code",
   "execution_count": null,
   "metadata": {
    "ExecuteTime": {
     "end_time": "2021-04-26T02:42:07.670057Z",
     "start_time": "2021-04-26T02:42:07.661225Z"
    }
   },
   "outputs": [],
   "source": [
    "#Write a Python program to create a 3X4X6 3D matrix wiith below elements using loop\n",
    "#Output:- \n",
    "# [\n",
    "#     [[0,0,0,0,0,0],[0,0,0,0,0,0],[0,0,0,0,0,0],[0,0,0,0,0,0]],\n",
    "#     [[0,0,0,0,0,0],[1,1,1,1,1,1],[2,2,2,2,2,2],[3,3,3,3,3,3]],\n",
    "#     [[0,0,0,0,0,0],[2,2,2,2,2,2],[4,4,4,4,4,4],[6,6,6,6,6,6]]\n",
    "# ]"
   ]
  },
  {
   "cell_type": "code",
   "execution_count": 6,
   "metadata": {
    "ExecuteTime": {
     "end_time": "2021-04-26T02:45:34.578354Z",
     "start_time": "2021-04-26T02:45:31.015571Z"
    }
   },
   "outputs": [
    {
     "name": "stdout",
     "output_type": "stream",
     "text": [
      "'Python'\n"
     ]
    },
    {
     "data": {
      "text/plain": [
       "'Python'"
      ]
     },
     "execution_count": 6,
     "metadata": {},
     "output_type": "execute_result"
    }
   ],
   "source": [
    "# ~num = -(num+1)\n",
    "# ~1\n",
    "\n",
    "eval('10+20')\n",
    "eval(input())"
   ]
  },
  {
   "cell_type": "markdown",
   "metadata": {},
   "source": [
    "# Dictionary"
   ]
  },
  {
   "cell_type": "code",
   "execution_count": 11,
   "metadata": {
    "ExecuteTime": {
     "end_time": "2021-04-26T02:53:31.228906Z",
     "start_time": "2021-04-26T02:53:31.220618Z"
    }
   },
   "outputs": [
    {
     "data": {
      "text/plain": [
       "101"
      ]
     },
     "execution_count": 11,
     "metadata": {},
     "output_type": "execute_result"
    }
   ],
   "source": [
    "# emp_info = [['ABC', 101, 20000],['XYZ', 102, 30000],['PQR', 103, 40000]]\n",
    "# emp_info[0][1]"
   ]
  },
  {
   "cell_type": "code",
   "execution_count": null,
   "metadata": {},
   "outputs": [],
   "source": [
    "# Dictionary - is a collection of key value pair where every value is mapped to a key, Key and value are separated by a colon,\n",
    "# One key value pair is called one item\n",
    "# Every item is separated by a comma\n",
    "# We can not have a duplicate key in a dictionary\n",
    "# Value may be duplicated\n",
    "# key should be immutable type\n",
    "# Dictionary is mutable\n",
    "# Dictionary is not a seq - Indexing and slicing"
   ]
  },
  {
   "cell_type": "code",
   "execution_count": 14,
   "metadata": {
    "ExecuteTime": {
     "end_time": "2021-04-26T03:02:13.721493Z",
     "start_time": "2021-04-26T03:02:13.712035Z"
    }
   },
   "outputs": [
    {
     "name": "stdout",
     "output_type": "stream",
     "text": [
      "['XYZ', 102, 30000]\n",
      "102\n"
     ]
    }
   ],
   "source": [
    "emp_info = {'emp1':['ABC', 101, 20000],'emp2':['XYZ', 102, 30000], 'emp3':['PQR', 103, 40000]}\n",
    "print(emp_info['emp2'])\n",
    "print(emp_info['emp2'][1])"
   ]
  },
  {
   "cell_type": "code",
   "execution_count": 16,
   "metadata": {
    "ExecuteTime": {
     "end_time": "2021-04-26T03:04:41.977092Z",
     "start_time": "2021-04-26T03:04:41.970060Z"
    }
   },
   "outputs": [
    {
     "name": "stdout",
     "output_type": "stream",
     "text": [
      "{'e_name': 'XYZ', 'e_id': 102, 'e_sal': 30000}\n",
      "102\n"
     ]
    }
   ],
   "source": [
    "emp_info = {'emp1':{'e_name':'ABC', 'e_id':101, 'e_sal': 20000},\n",
    "            'emp2':{'e_name':'XYZ', 'e_id':102, 'e_sal': 30000},\n",
    "            'emp3':{'e_name':'PQR', 'e_id':103, 'e_sal': 40000}}\n",
    "print(emp_info['emp2'])\n",
    "print(emp_info['emp2']['e_id'])\n"
   ]
  },
  {
   "cell_type": "code",
   "execution_count": 20,
   "metadata": {
    "ExecuteTime": {
     "end_time": "2021-04-26T03:12:28.814911Z",
     "start_time": "2021-04-26T03:12:28.804945Z"
    }
   },
   "outputs": [
    {
     "data": {
      "text/plain": [
       "dict_items([('emp1', {'e_name': 'ABC', 'e_id': 101, 'e_sal': 20000}), ('emp2', {'e_name': 'XYZ', 'e_id': 102, 'e_sal': 30000}), ('emp3', {'e_name': 'PQR', 'e_id': 103, 'e_sal': 40000})])"
      ]
     },
     "execution_count": 20,
     "metadata": {},
     "output_type": "execute_result"
    }
   ],
   "source": [
    "# Methods to access the keys\n",
    "emp_info.keys()\n",
    "\n",
    "# Methods to access the values\n",
    "emp_info.values()\n",
    "\n",
    "# Methods to access the items\n",
    "emp_info.items()"
   ]
  },
  {
   "cell_type": "code",
   "execution_count": 22,
   "metadata": {
    "ExecuteTime": {
     "end_time": "2021-04-26T03:15:12.489521Z",
     "start_time": "2021-04-26T03:15:12.481024Z"
    }
   },
   "outputs": [
    {
     "name": "stdout",
     "output_type": "stream",
     "text": [
      "{1: 111, 10.2: 100.23, (10+20j): (20+30j), 'a': 'Python', None: True, (1, 2, 3): [10, 20, 30]}\n"
     ]
    }
   ],
   "source": [
    "my_dict = {1:100, 10.20:100.23, 10+20j:20+30j, 'a':'Python', None:True, True:111, (1,2,3):[10,20,30]}\n",
    "print(my_dict)"
   ]
  },
  {
   "cell_type": "code",
   "execution_count": null,
   "metadata": {},
   "outputs": [],
   "source": [
    "key     --> value\n",
    "1       --> 111\n",
    "10.20   --> 100.23\n",
    "10+20j  --> 20+30j\n",
    "'a'     --> 'Python'\n",
    "None    --> True\n",
    "(1,2,3) --> [10,20,30]"
   ]
  },
  {
   "cell_type": "code",
   "execution_count": 23,
   "metadata": {
    "ExecuteTime": {
     "end_time": "2021-04-26T03:21:56.303283Z",
     "start_time": "2021-04-26T03:21:56.294140Z"
    }
   },
   "outputs": [
    {
     "data": {
      "text/plain": [
       "2"
      ]
     },
     "execution_count": 23,
     "metadata": {},
     "output_type": "execute_result"
    }
   ],
   "source": [
    "True + True"
   ]
  },
  {
   "cell_type": "code",
   "execution_count": 24,
   "metadata": {
    "ExecuteTime": {
     "end_time": "2021-04-26T03:23:40.601802Z",
     "start_time": "2021-04-26T03:23:40.589574Z"
    }
   },
   "outputs": [
    {
     "name": "stdout",
     "output_type": "stream",
     "text": [
      "Before Operation\n",
      "{1: 111, 10.2: 100.23, (10+20j): (20+30j), 'a': 'Python', None: True, (1, 2, 3): [10, 20, 30]} 4637389184\n",
      "After Operation\n",
      "{1: 111, 10.2: 100.23, (10+20j): (20+30j), 'a': 'Class', None: True, (1, 2, 3): [10, 20, 30]} 4637389184\n"
     ]
    }
   ],
   "source": [
    "# Dictionary is mutable\n",
    "my_dict = {1:100, 10.20:100.23, 10+20j:20+30j, 'a':'Python', None:True, True:111, (1,2,3):[10,20,30]}\n",
    "print('Before Operation')\n",
    "print(my_dict, id(my_dict))\n",
    "my_dict['a'] = 'Class'\n",
    "print('After Operation')\n",
    "print(my_dict, id(my_dict))"
   ]
  },
  {
   "cell_type": "code",
   "execution_count": 26,
   "metadata": {
    "ExecuteTime": {
     "end_time": "2021-04-26T03:25:13.488530Z",
     "start_time": "2021-04-26T03:25:13.480968Z"
    }
   },
   "outputs": [
    {
     "name": "stdout",
     "output_type": "stream",
     "text": [
      "{} <class 'dict'>\n",
      "{} <class 'dict'>\n"
     ]
    }
   ],
   "source": [
    "# Creating an empty dictionary\n",
    "# my_dict = {}\n",
    "# print(my_dict, type(my_dict))\n",
    "# my_dict = dict()\n",
    "# print(my_dict, type(my_dict))"
   ]
  },
  {
   "cell_type": "code",
   "execution_count": 29,
   "metadata": {
    "ExecuteTime": {
     "end_time": "2021-04-26T03:27:28.808759Z",
     "start_time": "2021-04-26T03:27:18.633284Z"
    }
   },
   "outputs": [
    {
     "name": "stdout",
     "output_type": "stream",
     "text": [
      "Enter a dictionary: {1:200, 3:300, 2:200}\n",
      "{1: 200, 3: 300, 2: 200} <class 'dict'>\n"
     ]
    }
   ],
   "source": [
    "# Taking the dictionary input from user\n",
    "my_dict = eval(input('Enter a dictionary: '))\n",
    "print(my_dict, type(my_dict))"
   ]
  },
  {
   "cell_type": "code",
   "execution_count": 34,
   "metadata": {
    "ExecuteTime": {
     "end_time": "2021-04-26T03:30:37.691676Z",
     "start_time": "2021-04-26T03:30:37.686496Z"
    }
   },
   "outputs": [
    {
     "name": "stdout",
     "output_type": "stream",
     "text": [
      "{10: 10.2, (10+20j): 'Pyton', True: None}\n"
     ]
    }
   ],
   "source": [
    "# Creating a dictionary using dict()\n",
    "# my_dict = dict([(10, 10.20),(10+20j, 'Pyton'),(True, None)])\n",
    "# print(my_dict)"
   ]
  },
  {
   "cell_type": "code",
   "execution_count": 32,
   "metadata": {
    "ExecuteTime": {
     "end_time": "2021-04-26T03:29:49.848514Z",
     "start_time": "2021-04-26T03:29:49.839676Z"
    }
   },
   "outputs": [
    {
     "name": "stdout",
     "output_type": "stream",
     "text": [
      "{True: 100, 10.2: 100.23, (10+20j): (20+30j), 'a': 'Python', None: True, (1, 2, 3): [10, 20, 30]}\n"
     ]
    }
   ],
   "source": [
    "# my_dict = {True:111,1:100, 10.20:100.23, 10+20j:20+30j, 'a':'Python', None:True,  (1,2,3):[10,20,30]}\n",
    "# print(my_dict)"
   ]
  },
  {
   "cell_type": "code",
   "execution_count": 74,
   "metadata": {
    "ExecuteTime": {
     "end_time": "2021-04-26T03:58:18.432759Z",
     "start_time": "2021-04-26T03:58:18.396362Z"
    }
   },
   "outputs": [],
   "source": [
    "# zip - zips together the ietrable element by element\n",
    "lst = ['ename','eid', 'esal', 'eaddr']\n",
    "emp1 = ['ABC', 101, 10000, 'BLR']\n",
    "emp2 = ['XYZ', 102, 20000]\n",
    "emp3 = ['PQR', 103, 30000]\n",
    "emp_lst = ['emp1', 'emp2', 'emp3']\n",
    "\n",
    "emp1_lst = dict(zip(lst, emp1))\n",
    "emp2_lst = dict(zip(lst, emp2))\n",
    "emp3_lst = dict(zip(lst, emp3))\n",
    "# print(emp1_lst)\n",
    "# print(emp2_lst)\n",
    "# print(emp3_lst)\n",
    "emp_infos =[emp1_lst, emp2_lst, emp3_lst]\n",
    "\n",
    "\n",
    "\n",
    "emp_dict = dict(zip(emp_lst, emp_infos))\n",
    "\n",
    "# dict([zip(lst,i) for i in emp_infos ])"
   ]
  },
  {
   "cell_type": "code",
   "execution_count": 68,
   "metadata": {
    "ExecuteTime": {
     "end_time": "2021-04-26T03:54:09.253420Z",
     "start_time": "2021-04-26T03:54:09.233436Z"
    }
   },
   "outputs": [
    {
     "name": "stdout",
     "output_type": "stream",
     "text": [
      "{0: 10, 1: 10.2, 2: (10+20j), 3: 'Python', 4: True, 5: None, 6: (1, 2, 3), 7: [10, 20, 30]}\n"
     ]
    }
   ],
   "source": [
    "# enumerate - takes an iterable and returns a enumerate object which has tupeles of index and value at the index\n",
    "lst = [10,10.20, 10+20j, 'Python', True, None, (1,2,3),[10,20,30]]\n",
    "print(dict(enumerate(lst)))\n",
    "\n"
   ]
  },
  {
   "cell_type": "code",
   "execution_count": 70,
   "metadata": {
    "ExecuteTime": {
     "end_time": "2021-04-26T03:55:15.854548Z",
     "start_time": "2021-04-26T03:55:15.844749Z"
    }
   },
   "outputs": [
    {
     "data": {
      "text/plain": [
       "{0: 10, 1: 20, 2: 30}"
      ]
     },
     "execution_count": 70,
     "metadata": {},
     "output_type": "execute_result"
    }
   ],
   "source": [
    "lst = [10,20,30]\n",
    "dict(enumerate(lst))"
   ]
  },
  {
   "cell_type": "code",
   "execution_count": 73,
   "metadata": {
    "ExecuteTime": {
     "end_time": "2021-04-26T03:56:30.104081Z",
     "start_time": "2021-04-26T03:56:30.093822Z"
    }
   },
   "outputs": [
    {
     "data": {
      "text/plain": [
       "{10: 10.2, 'a': 'Python', (10+20j): 'Hello'}"
      ]
     },
     "execution_count": 73,
     "metadata": {},
     "output_type": "execute_result"
    }
   ],
   "source": [
    "dict(((10, 10.20), ('a','Python'), (10+20j, 'Hello')))"
   ]
  },
  {
   "cell_type": "code",
   "execution_count": 84,
   "metadata": {
    "ExecuteTime": {
     "end_time": "2021-04-26T04:02:35.178843Z",
     "start_time": "2021-04-26T04:02:35.165005Z"
    }
   },
   "outputs": [
    {
     "ename": "KeyError",
     "evalue": "'eaddr'",
     "output_type": "error",
     "traceback": [
      "\u001b[0;31m---------------------------------------------------------------------------\u001b[0m",
      "\u001b[0;31mKeyError\u001b[0m                                  Traceback (most recent call last)",
      "\u001b[0;32m<ipython-input-84-9ff66ca203b4>\u001b[0m in \u001b[0;36m<module>\u001b[0;34m\u001b[0m\n\u001b[1;32m      1\u001b[0m \u001b[0;31m# How to access the data from the dictionary\u001b[0m\u001b[0;34m\u001b[0m\u001b[0;34m\u001b[0m\u001b[0;34m\u001b[0m\u001b[0m\n\u001b[0;32m----> 2\u001b[0;31m \u001b[0memp_dict\u001b[0m\u001b[0;34m[\u001b[0m\u001b[0;34m'emp2'\u001b[0m\u001b[0;34m]\u001b[0m\u001b[0;34m[\u001b[0m\u001b[0;34m'eaddr'\u001b[0m\u001b[0;34m]\u001b[0m\u001b[0;34m\u001b[0m\u001b[0;34m\u001b[0m\u001b[0m\n\u001b[0m",
      "\u001b[0;31mKeyError\u001b[0m: 'eaddr'"
     ]
    }
   ],
   "source": [
    "# How to access the data from the dictionary\n",
    "emp_dict['emp2']['eaddr']\n"
   ]
  },
  {
   "cell_type": "code",
   "execution_count": 78,
   "metadata": {
    "ExecuteTime": {
     "end_time": "2021-04-26T03:59:20.140472Z",
     "start_time": "2021-04-26T03:59:20.133289Z"
    }
   },
   "outputs": [
    {
     "name": "stdout",
     "output_type": "stream",
     "text": [
      "['__class__', '__contains__', '__delattr__', '__delitem__', '__dir__', '__doc__', '__eq__', '__format__', '__ge__', '__getattribute__', '__getitem__', '__gt__', '__hash__', '__init__', '__init_subclass__', '__iter__', '__le__', '__len__', '__lt__', '__ne__', '__new__', '__reduce__', '__reduce_ex__', '__repr__', '__reversed__', '__setattr__', '__setitem__', '__sizeof__', '__str__', '__subclasshook__', 'clear', 'copy', 'fromkeys', 'get', 'items', 'keys', 'pop', 'popitem', 'setdefault', 'update', 'values']\n"
     ]
    }
   ],
   "source": [
    "print(dir(dict))\n",
    "\n",
    "#  'copy', "
   ]
  },
  {
   "cell_type": "code",
   "execution_count": 83,
   "metadata": {
    "ExecuteTime": {
     "end_time": "2021-04-26T04:01:54.505737Z",
     "start_time": "2021-04-26T04:01:54.494443Z"
    }
   },
   "outputs": [
    {
     "name": "stdout",
     "output_type": "stream",
     "text": [
      "None\n",
      "No key present\n",
      "{True: 100, 10.2: 100.23, (10+20j): (20+30j), 'a': 'Python', None: True, (1, 2, 3): [10, 20, 30]}\n"
     ]
    }
   ],
   "source": [
    "# 'get', 'setdefault',\n",
    "\n",
    "# get\n",
    "# Signature: my_dict.get(key, default=None, /)\n",
    "# Docstring: Return the value for key if key is in the dictionary, else default.\n",
    "my_dict = {True:111,1:100, 10.20:100.23, 10+20j:20+30j, 'a':'Python', None:True,  (1,2,3):[10,20,30]}\n",
    "my_dict.get('a')\n",
    "print(my_dict.get('b'))\n",
    "print(my_dict.get('b', 'No key present'))\n",
    "\n",
    "print(my_dict)\n",
    "\n"
   ]
  },
  {
   "cell_type": "code",
   "execution_count": null,
   "metadata": {},
   "outputs": [],
   "source": []
  },
  {
   "cell_type": "code",
   "execution_count": null,
   "metadata": {},
   "outputs": [],
   "source": []
  },
  {
   "cell_type": "code",
   "execution_count": null,
   "metadata": {},
   "outputs": [],
   "source": []
  },
  {
   "cell_type": "code",
   "execution_count": null,
   "metadata": {},
   "outputs": [],
   "source": []
  },
  {
   "cell_type": "code",
   "execution_count": null,
   "metadata": {},
   "outputs": [],
   "source": []
  },
  {
   "cell_type": "code",
   "execution_count": null,
   "metadata": {},
   "outputs": [],
   "source": []
  },
  {
   "cell_type": "code",
   "execution_count": null,
   "metadata": {},
   "outputs": [],
   "source": []
  },
  {
   "cell_type": "code",
   "execution_count": null,
   "metadata": {},
   "outputs": [],
   "source": []
  },
  {
   "cell_type": "code",
   "execution_count": null,
   "metadata": {},
   "outputs": [],
   "source": []
  },
  {
   "cell_type": "code",
   "execution_count": null,
   "metadata": {},
   "outputs": [],
   "source": []
  },
  {
   "cell_type": "code",
   "execution_count": null,
   "metadata": {},
   "outputs": [],
   "source": []
  },
  {
   "cell_type": "code",
   "execution_count": null,
   "metadata": {},
   "outputs": [],
   "source": []
  },
  {
   "cell_type": "code",
   "execution_count": null,
   "metadata": {},
   "outputs": [],
   "source": []
  },
  {
   "cell_type": "code",
   "execution_count": null,
   "metadata": {},
   "outputs": [],
   "source": []
  },
  {
   "cell_type": "code",
   "execution_count": null,
   "metadata": {},
   "outputs": [],
   "source": []
  },
  {
   "cell_type": "code",
   "execution_count": null,
   "metadata": {},
   "outputs": [],
   "source": []
  },
  {
   "cell_type": "code",
   "execution_count": null,
   "metadata": {},
   "outputs": [],
   "source": []
  },
  {
   "cell_type": "code",
   "execution_count": null,
   "metadata": {},
   "outputs": [],
   "source": []
  },
  {
   "cell_type": "code",
   "execution_count": null,
   "metadata": {},
   "outputs": [],
   "source": []
  },
  {
   "cell_type": "code",
   "execution_count": null,
   "metadata": {},
   "outputs": [],
   "source": []
  },
  {
   "cell_type": "code",
   "execution_count": null,
   "metadata": {},
   "outputs": [],
   "source": []
  },
  {
   "cell_type": "code",
   "execution_count": null,
   "metadata": {},
   "outputs": [],
   "source": []
  },
  {
   "cell_type": "code",
   "execution_count": null,
   "metadata": {},
   "outputs": [],
   "source": []
  },
  {
   "cell_type": "code",
   "execution_count": null,
   "metadata": {},
   "outputs": [],
   "source": []
  },
  {
   "cell_type": "code",
   "execution_count": null,
   "metadata": {},
   "outputs": [],
   "source": []
  },
  {
   "cell_type": "code",
   "execution_count": null,
   "metadata": {},
   "outputs": [],
   "source": []
  },
  {
   "cell_type": "code",
   "execution_count": null,
   "metadata": {},
   "outputs": [],
   "source": []
  },
  {
   "cell_type": "code",
   "execution_count": null,
   "metadata": {},
   "outputs": [],
   "source": []
  },
  {
   "cell_type": "code",
   "execution_count": null,
   "metadata": {},
   "outputs": [],
   "source": []
  },
  {
   "cell_type": "code",
   "execution_count": null,
   "metadata": {},
   "outputs": [],
   "source": []
  },
  {
   "cell_type": "code",
   "execution_count": null,
   "metadata": {},
   "outputs": [],
   "source": []
  },
  {
   "cell_type": "code",
   "execution_count": null,
   "metadata": {},
   "outputs": [],
   "source": []
  },
  {
   "cell_type": "code",
   "execution_count": null,
   "metadata": {},
   "outputs": [],
   "source": []
  },
  {
   "cell_type": "code",
   "execution_count": null,
   "metadata": {},
   "outputs": [],
   "source": []
  },
  {
   "cell_type": "code",
   "execution_count": null,
   "metadata": {},
   "outputs": [],
   "source": []
  },
  {
   "cell_type": "code",
   "execution_count": null,
   "metadata": {},
   "outputs": [],
   "source": []
  },
  {
   "cell_type": "code",
   "execution_count": null,
   "metadata": {},
   "outputs": [],
   "source": []
  },
  {
   "cell_type": "code",
   "execution_count": null,
   "metadata": {},
   "outputs": [],
   "source": []
  },
  {
   "cell_type": "code",
   "execution_count": null,
   "metadata": {},
   "outputs": [],
   "source": []
  },
  {
   "cell_type": "code",
   "execution_count": null,
   "metadata": {},
   "outputs": [],
   "source": []
  },
  {
   "cell_type": "code",
   "execution_count": null,
   "metadata": {},
   "outputs": [],
   "source": []
  },
  {
   "cell_type": "code",
   "execution_count": null,
   "metadata": {},
   "outputs": [],
   "source": []
  }
 ],
 "metadata": {
  "kernelspec": {
   "display_name": "Python 3",
   "language": "python",
   "name": "python3"
  },
  "language_info": {
   "codemirror_mode": {
    "name": "ipython",
    "version": 3
   },
   "file_extension": ".py",
   "mimetype": "text/x-python",
   "name": "python",
   "nbconvert_exporter": "python",
   "pygments_lexer": "ipython3",
   "version": "3.8.2"
  },
  "latex_envs": {
   "LaTeX_envs_menu_present": true,
   "autoclose": false,
   "autocomplete": true,
   "bibliofile": "biblio.bib",
   "cite_by": "apalike",
   "current_citInitial": 1,
   "eqLabelWithNumbers": true,
   "eqNumInitial": 1,
   "hotkeys": {
    "equation": "Ctrl-E",
    "itemize": "Ctrl-I"
   },
   "labels_anchors": false,
   "latex_user_defs": false,
   "report_style_numbering": false,
   "user_envs_cfg": false
  },
  "varInspector": {
   "cols": {
    "lenName": 16,
    "lenType": 16,
    "lenVar": 40
   },
   "kernels_config": {
    "python": {
     "delete_cmd_postfix": "",
     "delete_cmd_prefix": "del ",
     "library": "var_list.py",
     "varRefreshCmd": "print(var_dic_list())"
    },
    "r": {
     "delete_cmd_postfix": ") ",
     "delete_cmd_prefix": "rm(",
     "library": "var_list.r",
     "varRefreshCmd": "cat(var_dic_list()) "
    }
   },
   "types_to_exclude": [
    "module",
    "function",
    "builtin_function_or_method",
    "instance",
    "_Feature"
   ],
   "window_display": false
  }
 },
 "nbformat": 4,
 "nbformat_minor": 2
}
