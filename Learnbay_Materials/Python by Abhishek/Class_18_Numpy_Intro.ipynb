{
 "cells": [
  {
   "cell_type": "code",
   "execution_count": 5,
   "metadata": {
    "ExecuteTime": {
     "end_time": "2021-05-07T02:54:42.220860Z",
     "start_time": "2021-05-07T02:54:42.211190Z"
    }
   },
   "outputs": [
    {
     "data": {
      "text/plain": [
       "array([ 10.  +0.j,  10.2 +0.j,  10. +20.j, 100.  +0.j])"
      ]
     },
     "execution_count": 5,
     "metadata": {},
     "output_type": "execute_result"
    }
   ],
   "source": [
    "# Array is collection of homogeneous elements\n",
    "lst = [10,20.30,30+40j,'Python']\n",
    "lst\n",
    "\n",
    "import numpy as np\n",
    "arr = np.array([10,10.20, 10+20j, 100])\n",
    "arr"
   ]
  },
  {
   "cell_type": "code",
   "execution_count": 7,
   "metadata": {
    "ExecuteTime": {
     "end_time": "2021-05-07T02:54:57.631620Z",
     "start_time": "2021-05-07T02:54:57.618082Z"
    }
   },
   "outputs": [
    {
     "data": {
      "text/plain": [
       "[20, 40.6, (60+80j), 'PythonPython']"
      ]
     },
     "execution_count": 7,
     "metadata": {},
     "output_type": "execute_result"
    }
   ],
   "source": [
    "# Storage of array is efficient\n",
    "# Doing operation on array is more easier than list.\n",
    "\n",
    "# Multiplying every element of a list by 2\n",
    "[i*2 for i in lst]"
   ]
  },
  {
   "cell_type": "code",
   "execution_count": 8,
   "metadata": {
    "ExecuteTime": {
     "end_time": "2021-05-07T02:55:10.155049Z",
     "start_time": "2021-05-07T02:55:10.142546Z"
    }
   },
   "outputs": [
    {
     "data": {
      "text/plain": [
       "array([ 20.  +0.j,  20.4 +0.j,  20. +40.j, 200.  +0.j])"
      ]
     },
     "execution_count": 8,
     "metadata": {},
     "output_type": "execute_result"
    }
   ],
   "source": [
    "arr * 2"
   ]
  },
  {
   "cell_type": "code",
   "execution_count": 9,
   "metadata": {
    "ExecuteTime": {
     "end_time": "2021-05-07T03:01:25.091785Z",
     "start_time": "2021-05-07T03:01:25.087658Z"
    }
   },
   "outputs": [],
   "source": [
    "# Create an array using numpy\n",
    "import numpy as np"
   ]
  },
  {
   "cell_type": "code",
   "execution_count": 34,
   "metadata": {
    "ExecuteTime": {
     "end_time": "2021-05-07T03:17:01.888540Z",
     "start_time": "2021-05-07T03:17:01.867427Z"
    }
   },
   "outputs": [
    {
     "name": "stdout",
     "output_type": "stream",
     "text": [
      "[list([10]) list([40, 50])]\n",
      "<class 'numpy.ndarray'>\n"
     ]
    },
    {
     "name": "stderr",
     "output_type": "stream",
     "text": [
      "<ipython-input-34-0c34c9170a22>:2: VisibleDeprecationWarning: Creating an ndarray from ragged nested sequences (which is a list-or-tuple of lists-or-tuples-or ndarrays with different lengths or shapes) is deprecated. If you meant to do this, you must specify 'dtype=object' when creating the ndarray.\n",
      "  arr = np.array([[10],[40,50]])\n"
     ]
    }
   ],
   "source": [
    "# Create a 1D array using list\n",
    "arr = np.array([[10],[40,50]])\n",
    "print(arr)\n",
    "\n",
    "# Data type of arr\n",
    "print(type(arr))"
   ]
  },
  {
   "cell_type": "code",
   "execution_count": 35,
   "metadata": {
    "ExecuteTime": {
     "end_time": "2021-05-07T03:17:09.259156Z",
     "start_time": "2021-05-07T03:17:09.247951Z"
    }
   },
   "outputs": [
    {
     "name": "stdout",
     "output_type": "stream",
     "text": [
      "object\n",
      "(2,)\n",
      "2\n"
     ]
    }
   ],
   "source": [
    "# Check the type of each element in an array\n",
    "print(arr.dtype)\n",
    "\n",
    "# Check the shape of an array\n",
    "print(arr.shape)\n",
    "\n",
    "# Check the size of an array\n",
    "print(arr.size)"
   ]
  },
  {
   "cell_type": "code",
   "execution_count": 33,
   "metadata": {
    "ExecuteTime": {
     "end_time": "2021-05-07T03:16:47.085526Z",
     "start_time": "2021-05-07T03:16:47.075497Z"
    }
   },
   "outputs": [
    {
     "name": "stdout",
     "output_type": "stream",
     "text": [
      "[[10 20 30]\n",
      " [40 50 60]\n",
      " [70 80 90]]\n",
      "<class 'numpy.ndarray'>\n"
     ]
    }
   ],
   "source": [
    "# Create a 2D array using tuple\n",
    "arr = np.array(((10,20,30),(40,50,60), (70,80,90)), dtype = 'int8')\n",
    "print(arr)\n",
    "\n",
    "# Data type of arr\n",
    "print(type(arr))"
   ]
  },
  {
   "cell_type": "code",
   "execution_count": 24,
   "metadata": {
    "ExecuteTime": {
     "end_time": "2021-05-07T03:10:45.398959Z",
     "start_time": "2021-05-07T03:10:45.390124Z"
    }
   },
   "outputs": [
    {
     "name": "stdout",
     "output_type": "stream",
     "text": [
      "int8\n",
      "(3, 3)\n",
      "9\n"
     ]
    }
   ],
   "source": [
    "# Check the type of each element in an array\n",
    "print(arr.dtype)\n",
    "\n",
    "# Check the shape of an array\n",
    "print(arr.shape)\n",
    "\n",
    "# Check the size of an array\n",
    "print(arr.size)"
   ]
  },
  {
   "cell_type": "code",
   "execution_count": 25,
   "metadata": {
    "ExecuteTime": {
     "end_time": "2021-05-07T03:10:57.853584Z",
     "start_time": "2021-05-07T03:10:57.847639Z"
    }
   },
   "outputs": [],
   "source": [
    "# Numpy - C\n",
    "Boolean\n",
    "int8\n",
    "in16\n",
    "int32\n",
    "int64\n",
    "float32\n",
    "float64\n",
    "complex128\n",
    "complex256\n",
    "u8\n",
    "u16\n",
    "u32\n",
    "object"
   ]
  },
  {
   "cell_type": "code",
   "execution_count": 28,
   "metadata": {
    "ExecuteTime": {
     "end_time": "2021-05-07T03:12:34.496099Z",
     "start_time": "2021-05-07T03:12:34.483974Z"
    }
   },
   "outputs": [
    {
     "name": "stdout",
     "output_type": "stream",
     "text": [
      "{1: 190, 2: 200, 3: 300}\n",
      "<class 'numpy.ndarray'>\n"
     ]
    },
    {
     "data": {
      "text/plain": [
       "array({1: 190, 2: 200, 3: 300}, dtype=object)"
      ]
     },
     "execution_count": 28,
     "metadata": {},
     "output_type": "execute_result"
    }
   ],
   "source": [
    "# Create a 1D array using dictionary\n",
    "arr = np.array({1:190, 2:200, 3:300})\n",
    "print(arr)\n",
    "\n",
    "# Data type of arr\n",
    "print(type(arr))\n",
    "\n",
    "arr"
   ]
  },
  {
   "cell_type": "code",
   "execution_count": 27,
   "metadata": {
    "ExecuteTime": {
     "end_time": "2021-05-07T03:12:18.096888Z",
     "start_time": "2021-05-07T03:12:18.088043Z"
    }
   },
   "outputs": [
    {
     "name": "stdout",
     "output_type": "stream",
     "text": [
      "object\n",
      "()\n",
      "1\n"
     ]
    }
   ],
   "source": [
    "# Check the type of each element in an array\n",
    "print(arr.dtype)\n",
    "\n",
    "# Check the shape of an array\n",
    "print(arr.shape)\n",
    "\n",
    "# Check the size of an array\n",
    "print(arr.size)"
   ]
  },
  {
   "cell_type": "code",
   "execution_count": 29,
   "metadata": {
    "ExecuteTime": {
     "end_time": "2021-05-07T03:13:26.899471Z",
     "start_time": "2021-05-07T03:13:26.888024Z"
    }
   },
   "outputs": [
    {
     "data": {
      "text/plain": [
       "array(10)"
      ]
     },
     "execution_count": 29,
     "metadata": {},
     "output_type": "execute_result"
    }
   ],
   "source": [
    "arr = np.array(10)\n",
    "arr"
   ]
  },
  {
   "cell_type": "code",
   "execution_count": 31,
   "metadata": {
    "ExecuteTime": {
     "end_time": "2021-05-07T03:13:39.004898Z",
     "start_time": "2021-05-07T03:13:38.970472Z"
    }
   },
   "outputs": [
    {
     "data": {
      "text/plain": [
       "1"
      ]
     },
     "execution_count": 31,
     "metadata": {},
     "output_type": "execute_result"
    }
   ],
   "source": [
    "arr.shape\n",
    "arr.size"
   ]
  },
  {
   "cell_type": "code",
   "execution_count": 39,
   "metadata": {
    "ExecuteTime": {
     "end_time": "2021-05-07T03:22:20.226914Z",
     "start_time": "2021-05-07T03:22:20.214657Z"
    }
   },
   "outputs": [
    {
     "data": {
      "text/plain": [
       "array([20. , 18.5, 17. , 15.5, 14. , 12.5, 11. ])"
      ]
     },
     "execution_count": 39,
     "metadata": {},
     "output_type": "execute_result"
    }
   ],
   "source": [
    "# Create an array using arange\n",
    "# Syantax - arange(start, stop, step)\n",
    "# Step value can be a fraction\n",
    "\n",
    "arr = np.arange(11, 21, 1)\n",
    "arr\n",
    "\n",
    "arr = np.arange(11, 21, 2)\n",
    "arr\n",
    "\n",
    "arr = np.arange(20, 10, -1)\n",
    "arr\n",
    "\n",
    "arr = np.arange(20, 10, -1.5)\n",
    "arr"
   ]
  },
  {
   "cell_type": "code",
   "execution_count": 44,
   "metadata": {
    "ExecuteTime": {
     "end_time": "2021-05-07T03:25:30.236919Z",
     "start_time": "2021-05-07T03:25:30.229366Z"
    }
   },
   "outputs": [
    {
     "data": {
      "text/plain": [
       "array([11, 12, 13, 14, 15, 16, 17, 18, 19, 20])"
      ]
     },
     "execution_count": 44,
     "metadata": {},
     "output_type": "execute_result"
    }
   ],
   "source": [
    "# Create an array using linspace\n",
    "# Syntax - linspace(start, stop, no of values)\n",
    "# Stop value is inclusive\n",
    "\n",
    "arr = np.linspace(11, 20, 10, dtype = int)\n",
    "arr\n",
    "\n",
    "# arr = np.linspace(11, 20, 100)\n",
    "# arr\n",
    "\n",
    "# arr = np.linspace(11, 20, 1000)\n",
    "# arr"
   ]
  },
  {
   "cell_type": "code",
   "execution_count": null,
   "metadata": {},
   "outputs": [],
   "source": []
  },
  {
   "cell_type": "code",
   "execution_count": null,
   "metadata": {},
   "outputs": [],
   "source": []
  },
  {
   "cell_type": "code",
   "execution_count": null,
   "metadata": {},
   "outputs": [],
   "source": []
  },
  {
   "cell_type": "code",
   "execution_count": null,
   "metadata": {},
   "outputs": [],
   "source": []
  },
  {
   "cell_type": "code",
   "execution_count": null,
   "metadata": {},
   "outputs": [],
   "source": []
  },
  {
   "cell_type": "code",
   "execution_count": null,
   "metadata": {},
   "outputs": [],
   "source": []
  },
  {
   "cell_type": "code",
   "execution_count": null,
   "metadata": {},
   "outputs": [],
   "source": []
  },
  {
   "cell_type": "code",
   "execution_count": null,
   "metadata": {},
   "outputs": [],
   "source": []
  },
  {
   "cell_type": "code",
   "execution_count": null,
   "metadata": {},
   "outputs": [],
   "source": []
  },
  {
   "cell_type": "code",
   "execution_count": null,
   "metadata": {},
   "outputs": [],
   "source": []
  },
  {
   "cell_type": "code",
   "execution_count": null,
   "metadata": {},
   "outputs": [],
   "source": []
  },
  {
   "cell_type": "code",
   "execution_count": null,
   "metadata": {},
   "outputs": [],
   "source": []
  },
  {
   "cell_type": "code",
   "execution_count": null,
   "metadata": {},
   "outputs": [],
   "source": []
  },
  {
   "cell_type": "code",
   "execution_count": null,
   "metadata": {},
   "outputs": [],
   "source": []
  },
  {
   "cell_type": "code",
   "execution_count": null,
   "metadata": {},
   "outputs": [],
   "source": []
  },
  {
   "cell_type": "code",
   "execution_count": null,
   "metadata": {},
   "outputs": [],
   "source": []
  },
  {
   "cell_type": "code",
   "execution_count": null,
   "metadata": {},
   "outputs": [],
   "source": []
  },
  {
   "cell_type": "code",
   "execution_count": null,
   "metadata": {},
   "outputs": [],
   "source": []
  },
  {
   "cell_type": "code",
   "execution_count": null,
   "metadata": {},
   "outputs": [],
   "source": []
  },
  {
   "cell_type": "code",
   "execution_count": null,
   "metadata": {},
   "outputs": [],
   "source": []
  },
  {
   "cell_type": "code",
   "execution_count": null,
   "metadata": {},
   "outputs": [],
   "source": []
  },
  {
   "cell_type": "code",
   "execution_count": null,
   "metadata": {},
   "outputs": [],
   "source": []
  },
  {
   "cell_type": "code",
   "execution_count": null,
   "metadata": {},
   "outputs": [],
   "source": []
  },
  {
   "cell_type": "code",
   "execution_count": null,
   "metadata": {},
   "outputs": [],
   "source": []
  },
  {
   "cell_type": "code",
   "execution_count": null,
   "metadata": {},
   "outputs": [],
   "source": []
  },
  {
   "cell_type": "code",
   "execution_count": null,
   "metadata": {},
   "outputs": [],
   "source": []
  },
  {
   "cell_type": "code",
   "execution_count": null,
   "metadata": {},
   "outputs": [],
   "source": []
  },
  {
   "cell_type": "code",
   "execution_count": null,
   "metadata": {},
   "outputs": [],
   "source": []
  },
  {
   "cell_type": "code",
   "execution_count": null,
   "metadata": {},
   "outputs": [],
   "source": []
  },
  {
   "cell_type": "code",
   "execution_count": null,
   "metadata": {},
   "outputs": [],
   "source": []
  },
  {
   "cell_type": "code",
   "execution_count": null,
   "metadata": {},
   "outputs": [],
   "source": []
  },
  {
   "cell_type": "code",
   "execution_count": null,
   "metadata": {},
   "outputs": [],
   "source": []
  },
  {
   "cell_type": "code",
   "execution_count": null,
   "metadata": {},
   "outputs": [],
   "source": []
  },
  {
   "cell_type": "code",
   "execution_count": null,
   "metadata": {},
   "outputs": [],
   "source": []
  },
  {
   "cell_type": "code",
   "execution_count": null,
   "metadata": {},
   "outputs": [],
   "source": []
  }
 ],
 "metadata": {
  "kernelspec": {
   "display_name": "Python 3",
   "language": "python",
   "name": "python3"
  },
  "language_info": {
   "codemirror_mode": {
    "name": "ipython",
    "version": 3
   },
   "file_extension": ".py",
   "mimetype": "text/x-python",
   "name": "python",
   "nbconvert_exporter": "python",
   "pygments_lexer": "ipython3",
   "version": "3.8.2"
  },
  "latex_envs": {
   "LaTeX_envs_menu_present": true,
   "autoclose": false,
   "autocomplete": true,
   "bibliofile": "biblio.bib",
   "cite_by": "apalike",
   "current_citInitial": 1,
   "eqLabelWithNumbers": true,
   "eqNumInitial": 1,
   "hotkeys": {
    "equation": "Ctrl-E",
    "itemize": "Ctrl-I"
   },
   "labels_anchors": false,
   "latex_user_defs": false,
   "report_style_numbering": false,
   "user_envs_cfg": false
  },
  "varInspector": {
   "cols": {
    "lenName": 16,
    "lenType": 16,
    "lenVar": 40
   },
   "kernels_config": {
    "python": {
     "delete_cmd_postfix": "",
     "delete_cmd_prefix": "del ",
     "library": "var_list.py",
     "varRefreshCmd": "print(var_dic_list())"
    },
    "r": {
     "delete_cmd_postfix": ") ",
     "delete_cmd_prefix": "rm(",
     "library": "var_list.r",
     "varRefreshCmd": "cat(var_dic_list()) "
    }
   },
   "types_to_exclude": [
    "module",
    "function",
    "builtin_function_or_method",
    "instance",
    "_Feature"
   ],
   "window_display": false
  }
 },
 "nbformat": 4,
 "nbformat_minor": 2
}
