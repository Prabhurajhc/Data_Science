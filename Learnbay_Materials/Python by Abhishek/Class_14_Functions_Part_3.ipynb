{
 "cells": [
  {
   "cell_type": "code",
   "execution_count": null,
   "metadata": {},
   "outputs": [],
   "source": [
    "# filter, map\n",
    "# reduce, \n"
   ]
  },
  {
   "cell_type": "code",
   "execution_count": 5,
   "metadata": {
    "ExecuteTime": {
     "end_time": "2021-04-30T02:50:24.707492Z",
     "start_time": "2021-04-30T02:50:24.703806Z"
    }
   },
   "outputs": [],
   "source": [
    "# reduce - aggregate - sum, prod, max, min (seq)\n",
    "# Syntax - reduce(function, seq)\n",
    "\n",
    "# lst = list(range(21, 31))\n",
    "# from functools import reduce\n",
    "# print(reduce(lambda x,y:x+y, lst))\n",
    "\n",
    "# print(reduce(lambda x,y:x*y, lst))\n",
    "# print(reduce(lambda x,y: x if x>y else y,lst))\n",
    "# print(reduce(lambda x,y: x if x<y else y,lst))\n",
    "\n"
   ]
  },
  {
   "cell_type": "code",
   "execution_count": 38,
   "metadata": {
    "ExecuteTime": {
     "end_time": "2021-04-30T03:31:56.564677Z",
     "start_time": "2021-04-30T03:31:56.550837Z"
    }
   },
   "outputs": [
    {
     "name": "stdout",
     "output_type": "stream",
     "text": [
      "<generator object my_range.<locals>.<genexpr> at 0x11270aba0>\n",
      "1\n",
      "2\n",
      "3\n",
      "4\n",
      "5\n",
      "6\n",
      "7\n",
      "8\n",
      "9\n"
     ]
    }
   ],
   "source": [
    "# Iterators and Generators\n",
    "\n",
    "# Iterable - Any object which implements __iter__, This is called an iterable object.\n",
    "# print(dir(lst))\n",
    "# print(dir(str))\n",
    "# print(dir(dict))\n",
    "# print(dir(int))\n",
    "\n",
    "# lst = [10,20,30,40]\n",
    "# my_iter = iter(lst)\n",
    "# print(my_iter)\n",
    "# print(next(my_iter))\n",
    "# print(next(my_iter))\n",
    "# print(next(my_iter))\n",
    "# print(next(my_iter))\n",
    "# print(next(my_iter))\n",
    "\n",
    "# num = 10\n",
    "# my_iter = iter(num)\n",
    "# print(my_iter)\n",
    "\n",
    "# zip()\n",
    "# filter()\n",
    "# map()\n",
    "\n",
    "# for i in [10]:\n",
    "#     print(i)\n",
    "\n",
    "from sys import getsizeof\n",
    "# lst = list(range(1000))\n",
    "# print(getsizeof(lst))\n",
    "\n",
    "# lst = [i for i in range(1000)]\n",
    "# print(type(lst),getsizeof(lst))\n",
    "\n",
    "# gen = (i for i in range(1000))\n",
    "# print(type(gen),getsizeof(gen))\n",
    "# tpl = 10,20,30\n",
    "# print(tpl)\n",
    "# print(gen)\n",
    "\n",
    "\n",
    "# sum(lst)\n",
    "# sum(tpl)\n",
    "\n",
    "# for i in tpl:\n",
    "#     print(i)\n",
    "\n",
    "# def my_gen():\n",
    "#     yield 10\n",
    "#     yield 10.20\n",
    "#     yield 10+20j\n",
    "#     yield None\n",
    "#     yield True\n",
    "#     yield 'Python'\n",
    "#     yield [10,20,30,40]\n",
    "# gen = my_gen()\n",
    "# # print(gen, getsizeof(gen))\n",
    "\n",
    "# for i in gen:\n",
    "#     print(i)\n",
    "\n",
    "# my_range(start, stop, step)\n",
    "\n",
    "# def my_range(start, stop, step = 1):\n",
    "#     while start <= stop:\n",
    "#         yield start\n",
    "#         start = start + step\n",
    "# g = my_range(1, 10, 2)\n",
    "\n",
    "# for i in g:\n",
    "#     print(i)\n",
    "\n",
    "# def my_range(start,stop,step):\n",
    "#     gen=(i for i in range(start,stop,step))\n",
    "#     return gen\n",
    "\n",
    "# a = my_range(1,10,1)\n",
    "# print(a)\n",
    "# for i in a:\n",
    "#     print(i)\n"
   ]
  },
  {
   "cell_type": "code",
   "execution_count": null,
   "metadata": {},
   "outputs": [],
   "source": [
    "# Modules - .py extension - module\n",
    "# Modular Programming Languages - collection of function\n",
    "\n",
    "Types of modules\n",
    "    1. Built-in Modules - math, sys, os, datetime, functools, numpy, matplotlib\n",
    "    2. User defined modules - \n",
    "\n",
    "\n",
    "\n",
    "\n"
   ]
  },
  {
   "cell_type": "code",
   "execution_count": 39,
   "metadata": {
    "ExecuteTime": {
     "end_time": "2021-04-30T03:37:53.776958Z",
     "start_time": "2021-04-30T03:37:53.771610Z"
    }
   },
   "outputs": [
    {
     "name": "stdout",
     "output_type": "stream",
     "text": [
      "2.0\n"
     ]
    }
   ],
   "source": [
    "# from math import sqrt\n",
    "# print(sqrt(4))"
   ]
  },
  {
   "cell_type": "code",
   "execution_count": 5,
   "metadata": {
    "ExecuteTime": {
     "end_time": "2021-04-30T03:47:58.052287Z",
     "start_time": "2021-04-30T03:47:58.035814Z"
    }
   },
   "outputs": [
    {
     "name": "stdout",
     "output_type": "stream",
     "text": [
      "['In', 'NamespaceMagics', 'Out', '_', '_2', '_Jupyter', '__', '___', '__builtin__', '__builtins__', '__doc__', '__loader__', '__name__', '__package__', '__spec__', '_dh', '_getshapeof', '_getsizeof', '_i', '_i1', '_i2', '_i3', '_i4', '_i5', '_ih', '_ii', '_iii', '_nms', '_oh', 'a', 'exit', 'get_ipython', 'getsizeof', 'json', 'math', 'np', 'quit', 'var_dic_list']\n",
      "['__doc__', '__file__', '__loader__', '__name__', '__package__', '__spec__', 'acos', 'acosh', 'asin', 'asinh', 'atan', 'atan2', 'atanh', 'ceil', 'comb', 'copysign', 'cos', 'cosh', 'degrees', 'dist', 'e', 'erf', 'erfc', 'exp', 'expm1', 'fabs', 'factorial', 'floor', 'fmod', 'frexp', 'fsum', 'gamma', 'gcd', 'hypot', 'inf', 'isclose', 'isfinite', 'isinf', 'isnan', 'isqrt', 'ldexp', 'lgamma', 'log', 'log10', 'log1p', 'log2', 'modf', 'nan', 'perm', 'pi', 'pow', 'prod', 'radians', 'remainder', 'sin', 'sinh', 'sqrt', 'tan', 'tanh', 'tau', 'trunc']\n"
     ]
    },
    {
     "data": {
      "text/plain": [
       "2.0"
      ]
     },
     "execution_count": 5,
     "metadata": {},
     "output_type": "execute_result"
    }
   ],
   "source": [
    "# print(dir())\n",
    "# # import math\n",
    "# # print()\n",
    "# print(dir(math))\n",
    "\n",
    "# math.sqrt(4)"
   ]
  },
  {
   "cell_type": "code",
   "execution_count": 1,
   "metadata": {
    "ExecuteTime": {
     "end_time": "2021-04-30T03:48:35.393925Z",
     "start_time": "2021-04-30T03:48:35.382185Z"
    }
   },
   "outputs": [],
   "source": [
    "# print(dir())\n",
    "# a = 10\n",
    "# print(a)\n",
    "# print(dir())"
   ]
  },
  {
   "cell_type": "code",
   "execution_count": 2,
   "metadata": {
    "ExecuteTime": {
     "end_time": "2021-04-30T03:49:49.235887Z",
     "start_time": "2021-04-30T03:49:49.224495Z"
    }
   },
   "outputs": [
    {
     "name": "stdout",
     "output_type": "stream",
     "text": [
      "['In', 'NamespaceMagics', 'Out', '_', '_Jupyter', '__', '___', '__builtin__', '__builtins__', '__doc__', '__loader__', '__name__', '__package__', '__spec__', '_dh', '_getshapeof', '_getsizeof', '_i', '_i1', '_i2', '_ih', '_ii', '_iii', '_nms', '_oh', 'exit', 'get_ipython', 'getsizeof', 'json', 'np', 'quit', 'sqrt', 'var_dic_list']\n",
      "2.0\n",
      "['In', 'NamespaceMagics', 'Out', '_', '_Jupyter', '__', '___', '__builtin__', '__builtins__', '__doc__', '__loader__', '__name__', '__package__', '__spec__', '_dh', '_getshapeof', '_getsizeof', '_i', '_i1', '_i2', '_ih', '_ii', '_iii', '_nms', '_oh', 'exit', 'get_ipython', 'getsizeof', 'json', 'np', 'quit', 'sqrt', 'var_dic_list']\n"
     ]
    }
   ],
   "source": [
    "print(dir())\n",
    "from math import sqrt\n",
    "print(sqrt(4))\n",
    "print(dir())"
   ]
  },
  {
   "cell_type": "code",
   "execution_count": 5,
   "metadata": {
    "ExecuteTime": {
     "end_time": "2021-04-30T03:50:14.392195Z",
     "start_time": "2021-04-30T03:50:14.386618Z"
    }
   },
   "outputs": [],
   "source": [
    "# math.ceil(4.5)"
   ]
  },
  {
   "cell_type": "code",
   "execution_count": 1,
   "metadata": {
    "ExecuteTime": {
     "end_time": "2021-04-30T03:50:49.390243Z",
     "start_time": "2021-04-30T03:50:49.380043Z"
    }
   },
   "outputs": [
    {
     "name": "stdout",
     "output_type": "stream",
     "text": [
      "['In', 'NamespaceMagics', 'Out', '_', '_Jupyter', '__', '___', '__builtin__', '__builtins__', '__doc__', '__loader__', '__name__', '__package__', '__spec__', '_dh', '_getshapeof', '_getsizeof', '_i', '_i1', '_ih', '_ii', '_iii', '_nms', '_oh', 'exit', 'get_ipython', 'getsizeof', 'json', 'np', 'quit', 'var_dic_list']\n",
      "\n",
      "['In', 'NamespaceMagics', 'Out', '_', '_Jupyter', '__', '___', '__builtin__', '__builtins__', '__doc__', '__loader__', '__name__', '__package__', '__spec__', '_dh', '_getshapeof', '_getsizeof', '_i', '_i1', '_ih', '_ii', '_iii', '_nms', '_oh', 'acos', 'acosh', 'asin', 'asinh', 'atan', 'atan2', 'atanh', 'ceil', 'comb', 'copysign', 'cos', 'cosh', 'degrees', 'dist', 'e', 'erf', 'erfc', 'exit', 'exp', 'expm1', 'fabs', 'factorial', 'floor', 'fmod', 'frexp', 'fsum', 'gamma', 'gcd', 'get_ipython', 'getsizeof', 'hypot', 'inf', 'isclose', 'isfinite', 'isinf', 'isnan', 'isqrt', 'json', 'ldexp', 'lgamma', 'log', 'log10', 'log1p', 'log2', 'modf', 'nan', 'np', 'perm', 'pi', 'pow', 'prod', 'quit', 'radians', 'remainder', 'sin', 'sinh', 'sqrt', 'tan', 'tanh', 'tau', 'trunc', 'var_dic_list']\n"
     ]
    }
   ],
   "source": [
    "print(dir())\n",
    "from math import *\n",
    "print()\n",
    "print(dir())"
   ]
  },
  {
   "cell_type": "code",
   "execution_count": 3,
   "metadata": {
    "ExecuteTime": {
     "end_time": "2021-04-30T03:53:17.200147Z",
     "start_time": "2021-04-30T03:53:17.042809Z"
    }
   },
   "outputs": [
    {
     "ename": "NameError",
     "evalue": "name 'math' is not defined",
     "output_type": "error",
     "traceback": [
      "\u001b[0;31m---------------------------------------------------------------------------\u001b[0m",
      "\u001b[0;31mNameError\u001b[0m                                 Traceback (most recent call last)",
      "\u001b[0;32m<ipython-input-3-8a06cb8b5333>\u001b[0m in \u001b[0;36m<module>\u001b[0;34m\u001b[0m\n\u001b[1;32m      5\u001b[0m \u001b[0;34m\u001b[0m\u001b[0m\n\u001b[1;32m      6\u001b[0m \u001b[0mm\u001b[0m\u001b[0;34m.\u001b[0m\u001b[0msqrt\u001b[0m\u001b[0;34m(\u001b[0m\u001b[0;36m4\u001b[0m\u001b[0;34m)\u001b[0m\u001b[0;34m\u001b[0m\u001b[0;34m\u001b[0m\u001b[0m\n\u001b[0;32m----> 7\u001b[0;31m \u001b[0mmath\u001b[0m\u001b[0;34m.\u001b[0m\u001b[0msqrt\u001b[0m\u001b[0;34m(\u001b[0m\u001b[0;36m4\u001b[0m\u001b[0;34m)\u001b[0m\u001b[0;34m\u001b[0m\u001b[0;34m\u001b[0m\u001b[0m\n\u001b[0m",
      "\u001b[0;31mNameError\u001b[0m: name 'math' is not defined"
     ]
    }
   ],
   "source": [
    "# print(dir())\n",
    "# import math as m\n",
    "# print()\n",
    "# print(dir())\n",
    "\n",
    "# m.sqrt(4)\n",
    "# math.sqrt(4)"
   ]
  },
  {
   "cell_type": "code",
   "execution_count": 1,
   "metadata": {
    "ExecuteTime": {
     "end_time": "2021-04-30T03:58:41.476997Z",
     "start_time": "2021-04-30T03:58:41.464461Z"
    }
   },
   "outputs": [],
   "source": [
    "# print(dir())\n",
    "# import my_mod\n",
    "# print()\n",
    "# print(dir())"
   ]
  },
  {
   "cell_type": "code",
   "execution_count": 3,
   "metadata": {
    "ExecuteTime": {
     "end_time": "2021-04-30T03:58:51.761993Z",
     "start_time": "2021-04-30T03:58:51.750568Z"
    }
   },
   "outputs": [
    {
     "name": "stdout",
     "output_type": "stream",
     "text": [
      "Correct email address\n",
      "Valid Password\n",
      "Invalid Password\n"
     ]
    }
   ],
   "source": [
    "# my_mod.email_verification('abc@gmail.com')\n",
    "# my_mod.password_validation('Python#123')\n",
    "# my_mod.password_validation('Python#')"
   ]
  },
  {
   "cell_type": "code",
   "execution_count": 5,
   "metadata": {
    "ExecuteTime": {
     "end_time": "2021-04-30T03:58:03.956112Z",
     "start_time": "2021-04-30T03:58:03.931577Z"
    }
   },
   "outputs": [
    {
     "data": {
      "text/plain": [
       "['P']"
      ]
     },
     "execution_count": 5,
     "metadata": {},
     "output_type": "execute_result"
    }
   ],
   "source": [
    "# import re\n",
    "# pwd = 'Python#123'\n",
    "# re.findall(r'[A-Z]', pwd)\n"
   ]
  },
  {
   "cell_type": "code",
   "execution_count": 4,
   "metadata": {
    "ExecuteTime": {
     "end_time": "2021-04-30T04:00:52.993172Z",
     "start_time": "2021-04-30T04:00:52.984684Z"
    }
   },
   "outputs": [
    {
     "name": "stdout",
     "output_type": "stream",
     "text": [
      "['In', 'NamespaceMagics', 'Out', '_', '_Jupyter', '__', '___', '__builtin__', '__builtins__', '__doc__', '__loader__', '__name__', '__package__', '__spec__', '_dh', '_getshapeof', '_getsizeof', '_i', '_i1', '_i2', '_i3', '_i4', '_ih', '_ii', '_iii', '_nms', '_oh', 'exit', 'get_ipython', 'getsizeof', 'json', 'np', 'password_validation', 'quit', 'var_dic_list']\n",
      "Valid Password\n"
     ]
    }
   ],
   "source": [
    "from my_mod import password_validation\n",
    "print(dir())\n",
    "password_validation('Python#123')\n",
    "# email_verification('abc@gmail.com')"
   ]
  },
  {
   "cell_type": "code",
   "execution_count": 7,
   "metadata": {
    "ExecuteTime": {
     "end_time": "2021-04-30T04:03:25.690839Z",
     "start_time": "2021-04-30T04:03:25.684683Z"
    }
   },
   "outputs": [
    {
     "name": "stdout",
     "output_type": "stream",
     "text": [
      "2.0\n",
      "10\n"
     ]
    }
   ],
   "source": [
    "import math as m\n",
    "print(m.sqrt(4))\n",
    "m = 10\n",
    "print(m)"
   ]
  },
  {
   "cell_type": "code",
   "execution_count": 1,
   "metadata": {
    "ExecuteTime": {
     "end_time": "2021-04-30T04:06:26.772616Z",
     "start_time": "2021-04-30T04:06:26.753191Z"
    }
   },
   "outputs": [],
   "source": [
    "import my_mod"
   ]
  },
  {
   "cell_type": "code",
   "execution_count": 2,
   "metadata": {
    "ExecuteTime": {
     "end_time": "2021-04-30T04:05:43.993439Z",
     "start_time": "2021-04-30T04:05:43.989640Z"
    }
   },
   "outputs": [],
   "source": [
    "import math"
   ]
  },
  {
   "cell_type": "code",
   "execution_count": 2,
   "metadata": {
    "ExecuteTime": {
     "end_time": "2021-04-30T04:07:08.434735Z",
     "start_time": "2021-04-30T04:07:08.425097Z"
    }
   },
   "outputs": [
    {
     "name": "stdout",
     "output_type": "stream",
     "text": [
      "__main__\n"
     ]
    }
   ],
   "source": [
    "print(__name__)"
   ]
  },
  {
   "cell_type": "code",
   "execution_count": 3,
   "metadata": {
    "ExecuteTime": {
     "end_time": "2021-04-30T04:08:14.652521Z",
     "start_time": "2021-04-30T04:08:14.645965Z"
    }
   },
   "outputs": [
    {
     "name": "stdout",
     "output_type": "stream",
     "text": [
      "['__builtins__', '__cached__', '__doc__', '__file__', '__loader__', '__name__', '__package__', '__spec__', 'email_verification', 'password_validation', 're']\n"
     ]
    }
   ],
   "source": [
    "print(dir(my_mod))"
   ]
  },
  {
   "cell_type": "code",
   "execution_count": null,
   "metadata": {},
   "outputs": [],
   "source": [
    "# File Handling\n",
    "# Exception Handling\n",
    "# Regex\n",
    "# Numpy\n",
    "# Pandas\n",
    "# Matplotlib\n",
    "# Seaborn"
   ]
  },
  {
   "cell_type": "code",
   "execution_count": null,
   "metadata": {},
   "outputs": [],
   "source": []
  },
  {
   "cell_type": "code",
   "execution_count": null,
   "metadata": {},
   "outputs": [],
   "source": []
  },
  {
   "cell_type": "code",
   "execution_count": null,
   "metadata": {},
   "outputs": [],
   "source": []
  },
  {
   "cell_type": "code",
   "execution_count": null,
   "metadata": {},
   "outputs": [],
   "source": []
  },
  {
   "cell_type": "code",
   "execution_count": null,
   "metadata": {},
   "outputs": [],
   "source": []
  },
  {
   "cell_type": "code",
   "execution_count": null,
   "metadata": {},
   "outputs": [],
   "source": []
  },
  {
   "cell_type": "code",
   "execution_count": null,
   "metadata": {},
   "outputs": [],
   "source": []
  },
  {
   "cell_type": "code",
   "execution_count": null,
   "metadata": {},
   "outputs": [],
   "source": []
  },
  {
   "cell_type": "code",
   "execution_count": null,
   "metadata": {},
   "outputs": [],
   "source": []
  },
  {
   "cell_type": "code",
   "execution_count": null,
   "metadata": {},
   "outputs": [],
   "source": []
  },
  {
   "cell_type": "code",
   "execution_count": null,
   "metadata": {},
   "outputs": [],
   "source": []
  },
  {
   "cell_type": "code",
   "execution_count": null,
   "metadata": {},
   "outputs": [],
   "source": []
  },
  {
   "cell_type": "code",
   "execution_count": null,
   "metadata": {},
   "outputs": [],
   "source": []
  },
  {
   "cell_type": "code",
   "execution_count": null,
   "metadata": {},
   "outputs": [],
   "source": []
  },
  {
   "cell_type": "code",
   "execution_count": null,
   "metadata": {},
   "outputs": [],
   "source": []
  },
  {
   "cell_type": "code",
   "execution_count": null,
   "metadata": {},
   "outputs": [],
   "source": []
  },
  {
   "cell_type": "code",
   "execution_count": null,
   "metadata": {},
   "outputs": [],
   "source": []
  },
  {
   "cell_type": "code",
   "execution_count": null,
   "metadata": {},
   "outputs": [],
   "source": []
  },
  {
   "cell_type": "code",
   "execution_count": null,
   "metadata": {},
   "outputs": [],
   "source": []
  },
  {
   "cell_type": "code",
   "execution_count": null,
   "metadata": {},
   "outputs": [],
   "source": []
  },
  {
   "cell_type": "code",
   "execution_count": null,
   "metadata": {},
   "outputs": [],
   "source": []
  },
  {
   "cell_type": "code",
   "execution_count": null,
   "metadata": {},
   "outputs": [],
   "source": []
  },
  {
   "cell_type": "code",
   "execution_count": null,
   "metadata": {},
   "outputs": [],
   "source": []
  },
  {
   "cell_type": "code",
   "execution_count": null,
   "metadata": {},
   "outputs": [],
   "source": []
  },
  {
   "cell_type": "code",
   "execution_count": null,
   "metadata": {},
   "outputs": [],
   "source": []
  },
  {
   "cell_type": "code",
   "execution_count": null,
   "metadata": {},
   "outputs": [],
   "source": []
  },
  {
   "cell_type": "code",
   "execution_count": null,
   "metadata": {},
   "outputs": [],
   "source": []
  },
  {
   "cell_type": "code",
   "execution_count": null,
   "metadata": {},
   "outputs": [],
   "source": []
  },
  {
   "cell_type": "code",
   "execution_count": null,
   "metadata": {},
   "outputs": [],
   "source": []
  },
  {
   "cell_type": "code",
   "execution_count": null,
   "metadata": {},
   "outputs": [],
   "source": []
  },
  {
   "cell_type": "code",
   "execution_count": null,
   "metadata": {},
   "outputs": [],
   "source": []
  },
  {
   "cell_type": "code",
   "execution_count": null,
   "metadata": {},
   "outputs": [],
   "source": []
  },
  {
   "cell_type": "code",
   "execution_count": null,
   "metadata": {},
   "outputs": [],
   "source": []
  },
  {
   "cell_type": "code",
   "execution_count": null,
   "metadata": {},
   "outputs": [],
   "source": []
  }
 ],
 "metadata": {
  "kernelspec": {
   "display_name": "Python 3",
   "language": "python",
   "name": "python3"
  },
  "language_info": {
   "codemirror_mode": {
    "name": "ipython",
    "version": 3
   },
   "file_extension": ".py",
   "mimetype": "text/x-python",
   "name": "python",
   "nbconvert_exporter": "python",
   "pygments_lexer": "ipython3",
   "version": "3.8.2"
  },
  "latex_envs": {
   "LaTeX_envs_menu_present": true,
   "autoclose": false,
   "autocomplete": true,
   "bibliofile": "biblio.bib",
   "cite_by": "apalike",
   "current_citInitial": 1,
   "eqLabelWithNumbers": true,
   "eqNumInitial": 1,
   "hotkeys": {
    "equation": "Ctrl-E",
    "itemize": "Ctrl-I"
   },
   "labels_anchors": false,
   "latex_user_defs": false,
   "report_style_numbering": false,
   "user_envs_cfg": false
  },
  "varInspector": {
   "cols": {
    "lenName": 16,
    "lenType": 16,
    "lenVar": 40
   },
   "kernels_config": {
    "python": {
     "delete_cmd_postfix": "",
     "delete_cmd_prefix": "del ",
     "library": "var_list.py",
     "varRefreshCmd": "print(var_dic_list())"
    },
    "r": {
     "delete_cmd_postfix": ") ",
     "delete_cmd_prefix": "rm(",
     "library": "var_list.r",
     "varRefreshCmd": "cat(var_dic_list()) "
    }
   },
   "types_to_exclude": [
    "module",
    "function",
    "builtin_function_or_method",
    "instance",
    "_Feature"
   ],
   "window_display": false
  }
 },
 "nbformat": 4,
 "nbformat_minor": 2
}
