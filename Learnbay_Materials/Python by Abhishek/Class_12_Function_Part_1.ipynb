{
 "cells": [
  {
   "cell_type": "code",
   "execution_count": null,
   "metadata": {},
   "outputs": [],
   "source": [
    "LMS\n",
    "Send Email - User, Group, Community, Batch"
   ]
  },
  {
   "cell_type": "code",
   "execution_count": null,
   "metadata": {},
   "outputs": [],
   "source": [
    "main.py\n",
    "    def send_Email():\n",
    "        pass"
   ]
  },
  {
   "cell_type": "code",
   "execution_count": null,
   "metadata": {},
   "outputs": [],
   "source": [
    "User_Module.py\n",
    "from main import send_email\n",
    "send_Email()"
   ]
  },
  {
   "cell_type": "code",
   "execution_count": null,
   "metadata": {},
   "outputs": [],
   "source": [
    "Group_Module.py\n",
    "from main import send_email\n",
    "send_Email()"
   ]
  },
  {
   "cell_type": "code",
   "execution_count": null,
   "metadata": {},
   "outputs": [],
   "source": [
    "Community_Module.py"
   ]
  },
  {
   "cell_type": "code",
   "execution_count": null,
   "metadata": {},
   "outputs": [],
   "source": [
    "Batch_Module.py"
   ]
  },
  {
   "cell_type": "code",
   "execution_count": null,
   "metadata": {},
   "outputs": [],
   "source": [
    "DRY - Do not Repeat Yourself"
   ]
  },
  {
   "cell_type": "code",
   "execution_count": null,
   "metadata": {},
   "outputs": [],
   "source": [
    "Structural Programming - if, elif, else, loop\n",
    "Functional Programming - Functions related to List, String, Tuple, Dictionary\n",
    "Procedural Programming - User defined Function"
   ]
  },
  {
   "cell_type": "code",
   "execution_count": null,
   "metadata": {},
   "outputs": [],
   "source": [
    "LMS\n",
    "    All Pages\n",
    "        What all Functions\n",
    "        Batches\n",
    "            Create batch\n",
    "            Add students to batch\n",
    "            add videos to batches\n",
    "            add content tobatches"
   ]
  },
  {
   "cell_type": "code",
   "execution_count": null,
   "metadata": {},
   "outputs": [],
   "source": [
    "# Types of Function\n",
    "    1. Built-in Function - len, max, min, sum, int, print, float, complex, input\n",
    "    2. User Defined Fuction"
   ]
  },
  {
   "cell_type": "code",
   "execution_count": 2,
   "metadata": {
    "ExecuteTime": {
     "end_time": "2021-04-28T02:53:57.173963Z",
     "start_time": "2021-04-28T02:53:57.168027Z"
    }
   },
   "outputs": [],
   "source": [
    "# To find list of builtin functions\n",
    "# print(dir(__builtins__))"
   ]
  },
  {
   "cell_type": "code",
   "execution_count": null,
   "metadata": {},
   "outputs": [],
   "source": [
    "# User Defined Function\n",
    "# Syntax of function definition\n",
    "def funcName(param):\n",
    "    stats\n",
    "    stats\n",
    "    stats\n",
    "    return stat1, stat2, stat3 \n",
    "\n",
    "# def - keyword, used to define a function, PVM identifies that it is a function definition, Function definition is not Function Execution\n",
    "# func_name - Name of the function should be meaningful, camelCase notation\n",
    "# () - This is mandatory\n",
    "# Param - var which store the values or input to the function, Not writing the param then function will not take any input\n",
    "# : - mandatory\n",
    "# return stat - is optional, If we don't write it then default return value is None else it returns written value\n",
    "#     You may return multiple values, You may return only once\n",
    "\n",
    "# Function call\n",
    "a = funcName(args)\n",
    "\n",
    "# Function call is the function execution\n",
    "\n",
    "\n"
   ]
  },
  {
   "cell_type": "code",
   "execution_count": 5,
   "metadata": {
    "ExecuteTime": {
     "end_time": "2021-04-28T03:11:05.448895Z",
     "start_time": "2021-04-28T03:11:02.911863Z"
    }
   },
   "outputs": [
    {
     "name": "stdout",
     "output_type": "stream",
     "text": [
      "Enter a number: 78\n",
      "Number is even\n",
      "ChecKing prime number\n",
      "None\n"
     ]
    }
   ],
   "source": [
    "def evenOdd():\n",
    "    num1 = int(input('Enter a number: '))\n",
    "    if num1%2==0:\n",
    "        print('Number is even')\n",
    "    else:\n",
    "        print('Number is odd')\n",
    "    def primyCheck(my_num):\n",
    "        print('ChecKing prime number')\n",
    "    primyCheck(num1)\n",
    "        \n",
    "a = evenOdd()\n",
    "print(a)"
   ]
  },
  {
   "cell_type": "code",
   "execution_count": 11,
   "metadata": {
    "ExecuteTime": {
     "end_time": "2021-04-28T03:21:58.461934Z",
     "start_time": "2021-04-28T03:21:58.445642Z"
    }
   },
   "outputs": [
    {
     "name": "stdout",
     "output_type": "stream",
     "text": [
      "Sending email to abc@gmail.com\n"
     ]
    }
   ],
   "source": [
    "# Parameters and Arguments\n",
    "# They are called the input ot the function\n",
    "# Parameter/s - Variable name, used while defining the function, It holds the values which are passed while calling the function\n",
    "# Argument/s - Value, which we pass while calling the function, we work on these value in function\n",
    "\n",
    "\n",
    "def sendEmail(email):\n",
    "    print(f'Sending email to {email}')\n",
    "    \n",
    "sendEmail('abc@gmail.com')\n",
    "# sendEmail('xyzgmail.com')   \n",
    "\n"
   ]
  },
  {
   "cell_type": "code",
   "execution_count": null,
   "metadata": {},
   "outputs": [],
   "source": [
    "\n",
    "def sendEmail():\n",
    "    print(f'Sending email')\n",
    "    \n",
    "# sendEmail('xyzgmail.com')  #TypeError: sendEmail() takes 0 positional arguments but 1 was given\n"
   ]
  },
  {
   "cell_type": "code",
   "execution_count": 14,
   "metadata": {
    "ExecuteTime": {
     "end_time": "2021-04-28T03:32:04.471084Z",
     "start_time": "2021-04-28T03:30:36.570579Z"
    }
   },
   "outputs": [
    {
     "name": "stdout",
     "output_type": "stream",
     "text": [
      "Enter the emploee name: ABC\n",
      "Enter the emploee id: 101\n",
      "Enter the emploee salary: 20000\n",
      "ABC\n",
      "101\n",
      "20000\n",
      "\n",
      "Enter the emploee name: 101\n",
      "Enter the emploee id: ABC\n",
      "Enter the emploee salary: 30000\n",
      "101\n",
      "ABC\n",
      "30000\n",
      "\n",
      "Enter the emploee name: BVC\n",
      "Enter the emploee id: 765\n",
      "Enter the emploee salary: 70000\n",
      "BVC\n",
      "765\n",
      "70000\n",
      "\n"
     ]
    }
   ],
   "source": [
    "# Type of Parameters and arguments\n",
    "#     1. Postional Arguments\n",
    "#     2. Default argument\n",
    "#     3. Keyworded Argument\n",
    "#     4. Variable length argument\n",
    "    \n",
    "# Positional Argument - \n",
    "#     1. Order is important \n",
    "#     2. No of argument and no of parameters should match\n",
    "    \n",
    "def emp_info(emp_name, emp_id, emp_sal):\n",
    "    emp_dict = {'ename':emp_name, \n",
    "                'eid':emp_id,\n",
    "                'esal':emp_sal}\n",
    "    print(emp_dict['ename'])\n",
    "    print(emp_dict['eid'])\n",
    "    print(emp_dict['esal'])\n",
    "    \n",
    "for i in range(3):\n",
    "    name = input('Enter the emploee name: ')\n",
    "    id_no = input('Enter the emploee id: ')\n",
    "    sal = input('Enter the emploee salary: ')\n",
    "    emp_info(name, id_no, sal)\n",
    "    print()\n",
    "    \n",
    "# Argument should be in same order otherwise the values may differ  \n",
    "    "
   ]
  },
  {
   "cell_type": "code",
   "execution_count": 18,
   "metadata": {
    "ExecuteTime": {
     "end_time": "2021-04-28T03:34:28.253328Z",
     "start_time": "2021-04-28T03:34:28.247321Z"
    }
   },
   "outputs": [],
   "source": [
    "# def emp_info(emp_name, emp_id, emp_sal):\n",
    "#     emp_dict = {'ename':emp_name, \n",
    "#                 'eid':emp_id,\n",
    "#                 'esal':emp_sal}\n",
    "#     print(emp_dict['ename'])\n",
    "#     print(emp_dict['eid'])\n",
    "#     print(emp_dict['esal'])\n",
    "    \n",
    "# for i in range(3):\n",
    "#     name = input('Enter the emploee name: ')\n",
    "#     id_no = input('Enter the emploee id: ')\n",
    "#     sal = input('Enter the emploee salary: ')\n",
    "#     emp_info(name, id_no, sal, 'BLR')       # TypeError: emp_info() takes 3 positional arguments but 4 were given\n",
    "#     print()"
   ]
  },
  {
   "cell_type": "code",
   "execution_count": 19,
   "metadata": {
    "ExecuteTime": {
     "end_time": "2021-04-28T03:34:31.464818Z",
     "start_time": "2021-04-28T03:34:31.458120Z"
    }
   },
   "outputs": [],
   "source": [
    "# def emp_info(emp_name, emp_id, emp_sal):\n",
    "#     emp_dict = {'ename':emp_name, \n",
    "#                 'eid':emp_id,\n",
    "#                 'esal':emp_sal}\n",
    "#     print(emp_dict['ename'])\n",
    "#     print(emp_dict['eid'])\n",
    "#     print(emp_dict['esal'])\n",
    "    \n",
    "# for i in range(3):\n",
    "#     name = input('Enter the emploee name: ')\n",
    "#     id_no = input('Enter the emploee id: ')\n",
    "#     sal = input('Enter the emploee salary: ')\n",
    "#     emp_info(name, id_no,)               # TypeError: emp_info() missing 1 required positional argument: 'emp_sal'\n",
    "#     print()"
   ]
  },
  {
   "cell_type": "code",
   "execution_count": 28,
   "metadata": {
    "ExecuteTime": {
     "end_time": "2021-04-28T03:48:49.280351Z",
     "start_time": "2021-04-28T03:48:49.263371Z"
    }
   },
   "outputs": [
    {
     "name": "stdout",
     "output_type": "stream",
     "text": [
      "ABC\n",
      "101\n",
      "BLR\n",
      "TCS\n",
      "\n",
      "ABC\n",
      "101\n",
      "Mumbai\n",
      "TCS\n",
      "\n",
      "ABC\n",
      "101\n",
      "Mumbai\n",
      "TM\n",
      "\n"
     ]
    }
   ],
   "source": [
    "#     2. Default argument\n",
    "\n",
    "# def sendEmailTCS(name, email, org_code = 'TCS0987'):\n",
    "#     print(f'Sending email to {name} at {email} with org code {org_code}')\n",
    "    \n",
    "# sendEmailTCS('ABC', 'abc@tcs.com')\n",
    "# sendEmailTCS('ABC', 'abc@tcs.com', 'TM6543')\n",
    "\n",
    "# Default Argument should always follow the positional argument\n",
    "\n",
    "# def sendEmailTCS(org_code = 'TCS0987', name, email,):   # SyntaxError: non-default argument follows default argument\n",
    "#     print(f'Sending email to {name} at {email} with org code {org_code}')\n",
    "    \n",
    "# sendEmailTCS('ABC', 'abc@tcs.com')\n",
    "# sendEmailTCS('ABC', 'abc@tcs.com', 'TM6543')\n",
    "\n",
    "# you can have multiple default argument\n",
    "def emp_info(emp_name, emp_id, emp_addr = 'BLR', emp_org = 'TCS'):\n",
    "    print(emp_name)\n",
    "    print(emp_id)\n",
    "    print(emp_addr)\n",
    "    print(emp_org)\n",
    "    print()\n",
    "\n",
    "# emp_info('ABC')   # TypeError: emp_info() missing 1 required positional argument: 'emp_id'\n",
    "emp_info('ABC', 101)    \n",
    "emp_info('ABC', 101, 'Mumbai') \n",
    "emp_info('ABC', 101, 'Mumbai', 'TM') \n",
    "\n",
    "\n"
   ]
  },
  {
   "cell_type": "code",
   "execution_count": 34,
   "metadata": {
    "ExecuteTime": {
     "end_time": "2021-04-28T03:52:15.285112Z",
     "start_time": "2021-04-28T03:52:15.272178Z"
    }
   },
   "outputs": [
    {
     "name": "stdout",
     "output_type": "stream",
     "text": [
      "ABC\n",
      "101\n",
      "BLR\n",
      "TM\n",
      "\n",
      "ABC\n",
      "101\n",
      "BLR\n",
      "TM\n",
      "\n",
      "ABC\n",
      "101\n",
      "BLR\n",
      "TM\n",
      "\n"
     ]
    }
   ],
   "source": [
    "# 3. Keyworded Argument\n",
    "\n",
    "# def emp_info(emp_name, emp_id, emp_addr = 'BLR', emp_org = 'TCS'):\n",
    "#     print(emp_name)\n",
    "#     print(emp_id)\n",
    "#     print(emp_addr)\n",
    "#     print(emp_org)\n",
    "#     print()\n",
    "\n",
    "\n",
    "# emp_info(emp_name = 'ABC', emp_id = 101, emp_org = 'TM')\n",
    "# emp_info('ABC', 101, emp_org = 'TM')\n",
    "# emp_info(emp_id = 101, emp_org = 'TM', emp_name = 'ABC')"
   ]
  },
  {
   "cell_type": "code",
   "execution_count": 55,
   "metadata": {
    "ExecuteTime": {
     "end_time": "2021-04-28T04:11:02.392957Z",
     "start_time": "2021-04-28T04:11:02.385315Z"
    }
   },
   "outputs": [],
   "source": [
    "# Variable length argument - function can take any length of argument\n",
    "# *var - Variable legth argument - store the multiple values in the form of tuple\n",
    "\n",
    "# def my_sum(num1, num2, *var):\n",
    "#     total = num1+num2\n",
    "#     if len(var) >= 1:\n",
    "#         for ele in var:\n",
    "#             total += ele\n",
    "#     return total\n",
    "\n",
    "# print(my_sum(10,20))\n",
    "# print(my_sum(10,20,30))\n",
    "# print(my_sum(10,20,30,40))\n",
    "# print(my_sum(10,20,30,40, 50))\n",
    "\n",
    "# **kwargs - Variable legth keyworded argument - store the multiple values in the form of dictionary\n",
    "# def emp_info(emp_name, emp_id, emp_sal, **kwargs):\n",
    "#     print(emp_name)\n",
    "#     print(emp_id)\n",
    "#     print(emp_sal)\n",
    "#     print(kwargs)\n",
    "#     if len(kwargs) >= 1:\n",
    "#         for i in kwargs:\n",
    "#             print(kwargs[i])\n",
    "#     print()\n",
    "            \n",
    "# emp_info('ABC', 101, 30000)\n",
    "# emp_info('ABC', 101, 30000, city = 'BLR')\n",
    "# emp_info('ABC', 101, 30000, city = 'BLR', state = 'Karnataka')\n",
    "# emp_info('ABC', 101, 30000, city = 'BLR', state = 'Karnataka', pin = 506103)\n",
    "\n",
    "\n",
    "\n",
    "\n"
   ]
  },
  {
   "cell_type": "code",
   "execution_count": null,
   "metadata": {},
   "outputs": [],
   "source": [
    "# Namespace and scope\n",
    "\n",
    "# Namespace - container - which holds the refrence variables - it created or maintained separately for different function, classes and objects\n",
    "# Scope - is a rule which says that in which order the refernec should be searched\n",
    "\n",
    "\n",
    "Nampespace:-\n",
    "\n",
    "    Builtin \n",
    "    Global\n",
    "    Extended\n",
    "    Local\n",
    "\n",
    "Scope -> Local -> Extended -> Global -> Builtin -> NameError\n",
    "\n",
    "\n"
   ]
  },
  {
   "cell_type": "code",
   "execution_count": 47,
   "metadata": {
    "ExecuteTime": {
     "end_time": "2021-04-28T04:04:17.550917Z",
     "start_time": "2021-04-28T04:04:17.544088Z"
    }
   },
   "outputs": [
    {
     "data": {
      "text/plain": [
       "()"
      ]
     },
     "execution_count": 47,
     "metadata": {},
     "output_type": "execute_result"
    }
   ],
   "source": [
    "a = 10\n",
    "b = 20\n",
    "def my_func():\n",
    "    a = 11\n",
    "    x = 22\n",
    "    def inner_func():\n",
    "        m = 99\n",
    "        z = 98\n",
    "        print(a,b,x,m,z)\n",
    "        print(abs(-10))\n",
    "    print(a,b,x,m,z)\n",
    "    print(abs(-10))\n",
    "print(a,b,x,m,z)\n",
    "print(abs(-10))"
   ]
  },
  {
   "cell_type": "code",
   "execution_count": 56,
   "metadata": {
    "ExecuteTime": {
     "end_time": "2021-04-28T04:19:35.712879Z",
     "start_time": "2021-04-28T04:19:35.707645Z"
    }
   },
   "outputs": [
    {
     "name": "stdout",
     "output_type": "stream",
     "text": [
      "['ArithmeticError', 'AssertionError', 'AttributeError', 'BaseException', 'BlockingIOError', 'BrokenPipeError', 'BufferError', 'BytesWarning', 'ChildProcessError', 'ConnectionAbortedError', 'ConnectionError', 'ConnectionRefusedError', 'ConnectionResetError', 'DeprecationWarning', 'EOFError', 'Ellipsis', 'EnvironmentError', 'Exception', 'False', 'FileExistsError', 'FileNotFoundError', 'FloatingPointError', 'FutureWarning', 'GeneratorExit', 'IOError', 'ImportError', 'ImportWarning', 'IndentationError', 'IndexError', 'InterruptedError', 'IsADirectoryError', 'KeyError', 'KeyboardInterrupt', 'LookupError', 'MemoryError', 'ModuleNotFoundError', 'NameError', 'None', 'NotADirectoryError', 'NotImplemented', 'NotImplementedError', 'OSError', 'OverflowError', 'PendingDeprecationWarning', 'PermissionError', 'ProcessLookupError', 'RecursionError', 'ReferenceError', 'ResourceWarning', 'RuntimeError', 'RuntimeWarning', 'StopAsyncIteration', 'StopIteration', 'SyntaxError', 'SyntaxWarning', 'SystemError', 'SystemExit', 'TabError', 'TimeoutError', 'True', 'TypeError', 'UnboundLocalError', 'UnicodeDecodeError', 'UnicodeEncodeError', 'UnicodeError', 'UnicodeTranslateError', 'UnicodeWarning', 'UserWarning', 'ValueError', 'Warning', 'ZeroDivisionError', '__IPYTHON__', '__build_class__', '__debug__', '__doc__', '__import__', '__loader__', '__name__', '__package__', '__spec__', 'abs', 'all', 'any', 'ascii', 'bin', 'bool', 'breakpoint', 'bytearray', 'bytes', 'callable', 'chr', 'classmethod', 'compile', 'complex', 'copyright', 'credits', 'delattr', 'dict', 'dir', 'display', 'divmod', 'enumerate', 'eval', 'exec', 'filter', 'float', 'format', 'frozenset', 'get_ipython', 'getattr', 'globals', 'hasattr', 'hash', 'help', 'hex', 'id', 'input', 'int', 'isinstance', 'issubclass', 'iter', 'len', 'license', 'list', 'locals', 'map', 'max', 'memoryview', 'min', 'next', 'object', 'oct', 'open', 'ord', 'pow', 'print', 'property', 'range', 'repr', 'reversed', 'round', 'set', 'setattr', 'slice', 'sorted', 'staticmethod', 'str', 'sum', 'super', 'tuple', 'type', 'vars', 'zip']\n"
     ]
    }
   ],
   "source": [
    "print(dir(__builtins__))"
   ]
  },
  {
   "cell_type": "code",
   "execution_count": null,
   "metadata": {},
   "outputs": [],
   "source": []
  },
  {
   "cell_type": "code",
   "execution_count": null,
   "metadata": {},
   "outputs": [],
   "source": []
  },
  {
   "cell_type": "code",
   "execution_count": null,
   "metadata": {},
   "outputs": [],
   "source": []
  },
  {
   "cell_type": "code",
   "execution_count": null,
   "metadata": {},
   "outputs": [],
   "source": []
  },
  {
   "cell_type": "code",
   "execution_count": null,
   "metadata": {},
   "outputs": [],
   "source": []
  },
  {
   "cell_type": "code",
   "execution_count": null,
   "metadata": {},
   "outputs": [],
   "source": []
  },
  {
   "cell_type": "code",
   "execution_count": null,
   "metadata": {},
   "outputs": [],
   "source": []
  },
  {
   "cell_type": "code",
   "execution_count": null,
   "metadata": {},
   "outputs": [],
   "source": []
  },
  {
   "cell_type": "code",
   "execution_count": null,
   "metadata": {},
   "outputs": [],
   "source": []
  },
  {
   "cell_type": "code",
   "execution_count": null,
   "metadata": {},
   "outputs": [],
   "source": []
  }
 ],
 "metadata": {
  "kernelspec": {
   "display_name": "Python 3",
   "language": "python",
   "name": "python3"
  },
  "language_info": {
   "codemirror_mode": {
    "name": "ipython",
    "version": 3
   },
   "file_extension": ".py",
   "mimetype": "text/x-python",
   "name": "python",
   "nbconvert_exporter": "python",
   "pygments_lexer": "ipython3",
   "version": "3.8.2"
  },
  "latex_envs": {
   "LaTeX_envs_menu_present": true,
   "autoclose": false,
   "autocomplete": true,
   "bibliofile": "biblio.bib",
   "cite_by": "apalike",
   "current_citInitial": 1,
   "eqLabelWithNumbers": true,
   "eqNumInitial": 1,
   "hotkeys": {
    "equation": "Ctrl-E",
    "itemize": "Ctrl-I"
   },
   "labels_anchors": false,
   "latex_user_defs": false,
   "report_style_numbering": false,
   "user_envs_cfg": false
  },
  "varInspector": {
   "cols": {
    "lenName": 16,
    "lenType": 16,
    "lenVar": 40
   },
   "kernels_config": {
    "python": {
     "delete_cmd_postfix": "",
     "delete_cmd_prefix": "del ",
     "library": "var_list.py",
     "varRefreshCmd": "print(var_dic_list())"
    },
    "r": {
     "delete_cmd_postfix": ") ",
     "delete_cmd_prefix": "rm(",
     "library": "var_list.r",
     "varRefreshCmd": "cat(var_dic_list()) "
    }
   },
   "types_to_exclude": [
    "module",
    "function",
    "builtin_function_or_method",
    "instance",
    "_Feature"
   ],
   "window_display": false
  }
 },
 "nbformat": 4,
 "nbformat_minor": 2
}
