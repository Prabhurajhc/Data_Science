{
  "nbformat": 4,
  "nbformat_minor": 0,
  "metadata": {
    "kernelspec": {
      "display_name": "Python 3",
      "language": "python",
      "name": "python3"
    },
    "language_info": {
      "codemirror_mode": {
        "name": "ipython",
        "version": 3
      },
      "file_extension": ".py",
      "mimetype": "text/x-python",
      "name": "python",
      "nbconvert_exporter": "python",
      "pygments_lexer": "ipython3",
      "version": "3.7.6"
    },
    "papermill": {
      "duration": 41.343645,
      "end_time": "2021-01-26T11:35:31.484599",
      "environment_variables": {},
      "exception": null,
      "input_path": "__notebook__.ipynb",
      "output_path": "__notebook__.ipynb",
      "parameters": {},
      "start_time": "2021-01-26T11:34:50.140954",
      "version": "2.1.0"
    },
    "colab": {
      "name": "titanic-eda-tutorial.ipynb",
      "provenance": [],
      "collapsed_sections": [],
      "toc_visible": true
    }
  },
  "cells": [
    {
      "cell_type": "code",
      "metadata": {
        "_kg_hide-input": true,
        "execution": {
          "iopub.execute_input": "2021-01-26T11:34:54.937836Z",
          "iopub.status.busy": "2021-01-26T11:34:54.937175Z",
          "iopub.status.idle": "2021-01-26T11:34:55.853556Z",
          "shell.execute_reply": "2021-01-26T11:34:55.852362Z"
        },
        "papermill": {
          "duration": 0.97628,
          "end_time": "2021-01-26T11:34:55.853770",
          "exception": false,
          "start_time": "2021-01-26T11:34:54.877490",
          "status": "completed"
        },
        "tags": [],
        "id": "6iFxmDFZndGu"
      },
      "source": [
        "import pandas as pd\n",
        "import seaborn as sns\n",
        "import matplotlib.pyplot as plt\n",
        "import numpy as np"
      ],
      "execution_count": null,
      "outputs": []
    },
    {
      "cell_type": "code",
      "metadata": {
        "_kg_hide-input": true,
        "execution": {
          "iopub.execute_input": "2021-01-26T11:34:56.081201Z",
          "iopub.status.busy": "2021-01-26T11:34:56.080586Z",
          "iopub.status.idle": "2021-01-26T11:34:56.104154Z",
          "shell.execute_reply": "2021-01-26T11:34:56.104726Z"
        },
        "papermill": {
          "duration": 0.086149,
          "end_time": "2021-01-26T11:34:56.104877",
          "exception": false,
          "start_time": "2021-01-26T11:34:56.018728",
          "status": "completed"
        },
        "tags": [],
        "colab": {
          "base_uri": "https://localhost:8080/"
        },
        "id": "-oR2rPowndGv",
        "outputId": "3974f190-c941-4246-de95-8443e43475f8"
      },
      "source": [
        "# path to train dataset\n",
        "data_path = 'train.csv'\n",
        "\n",
        "# Read a comma-separated values (csv) file into pandas DataFrame\n",
        "all_data = pd.read_csv(data_path)\n",
        "\n",
        "# shape of tha data\n",
        "print('Data shape: ', all_data.shape)"
      ],
      "execution_count": null,
      "outputs": [
        {
          "output_type": "stream",
          "text": [
            "Data shape:  (891, 12)\n"
          ],
          "name": "stdout"
        }
      ]
    },
    {
      "cell_type": "code",
      "metadata": {
        "_kg_hide-input": true,
        "execution": {
          "iopub.execute_input": "2021-01-26T11:34:56.351703Z",
          "iopub.status.busy": "2021-01-26T11:34:56.342743Z",
          "iopub.status.idle": "2021-01-26T11:34:56.364535Z",
          "shell.execute_reply": "2021-01-26T11:34:56.364024Z"
        },
        "papermill": {
          "duration": 0.094744,
          "end_time": "2021-01-26T11:34:56.364649",
          "exception": false,
          "start_time": "2021-01-26T11:34:56.269905",
          "status": "completed"
        },
        "tags": [],
        "colab": {
          "base_uri": "https://localhost:8080/",
          "height": 207
        },
        "id": "s9sCn3pondGw",
        "outputId": "284a3324-a825-4971-a231-9695dfb99f1b"
      },
      "source": [
        "all_data.head(4)"
      ],
      "execution_count": null,
      "outputs": [
        {
          "output_type": "execute_result",
          "data": {
            "text/html": [
              "<div>\n",
              "<style scoped>\n",
              "    .dataframe tbody tr th:only-of-type {\n",
              "        vertical-align: middle;\n",
              "    }\n",
              "\n",
              "    .dataframe tbody tr th {\n",
              "        vertical-align: top;\n",
              "    }\n",
              "\n",
              "    .dataframe thead th {\n",
              "        text-align: right;\n",
              "    }\n",
              "</style>\n",
              "<table border=\"1\" class=\"dataframe\">\n",
              "  <thead>\n",
              "    <tr style=\"text-align: right;\">\n",
              "      <th></th>\n",
              "      <th>PassengerId</th>\n",
              "      <th>Survived</th>\n",
              "      <th>Pclass</th>\n",
              "      <th>Name</th>\n",
              "      <th>Sex</th>\n",
              "      <th>Age</th>\n",
              "      <th>SibSp</th>\n",
              "      <th>Parch</th>\n",
              "      <th>Ticket</th>\n",
              "      <th>Fare</th>\n",
              "      <th>Cabin</th>\n",
              "      <th>Embarked</th>\n",
              "    </tr>\n",
              "  </thead>\n",
              "  <tbody>\n",
              "    <tr>\n",
              "      <th>0</th>\n",
              "      <td>1</td>\n",
              "      <td>0</td>\n",
              "      <td>3</td>\n",
              "      <td>Braund, Mr. Owen Harris</td>\n",
              "      <td>male</td>\n",
              "      <td>22.0</td>\n",
              "      <td>1</td>\n",
              "      <td>0</td>\n",
              "      <td>A/5 21171</td>\n",
              "      <td>7.2500</td>\n",
              "      <td>NaN</td>\n",
              "      <td>S</td>\n",
              "    </tr>\n",
              "    <tr>\n",
              "      <th>1</th>\n",
              "      <td>2</td>\n",
              "      <td>1</td>\n",
              "      <td>1</td>\n",
              "      <td>Cumings, Mrs. John Bradley (Florence Briggs Th...</td>\n",
              "      <td>female</td>\n",
              "      <td>38.0</td>\n",
              "      <td>1</td>\n",
              "      <td>0</td>\n",
              "      <td>PC 17599</td>\n",
              "      <td>71.2833</td>\n",
              "      <td>C85</td>\n",
              "      <td>C</td>\n",
              "    </tr>\n",
              "    <tr>\n",
              "      <th>2</th>\n",
              "      <td>3</td>\n",
              "      <td>1</td>\n",
              "      <td>3</td>\n",
              "      <td>Heikkinen, Miss. Laina</td>\n",
              "      <td>female</td>\n",
              "      <td>26.0</td>\n",
              "      <td>0</td>\n",
              "      <td>0</td>\n",
              "      <td>STON/O2. 3101282</td>\n",
              "      <td>7.9250</td>\n",
              "      <td>NaN</td>\n",
              "      <td>S</td>\n",
              "    </tr>\n",
              "    <tr>\n",
              "      <th>3</th>\n",
              "      <td>4</td>\n",
              "      <td>1</td>\n",
              "      <td>1</td>\n",
              "      <td>Futrelle, Mrs. Jacques Heath (Lily May Peel)</td>\n",
              "      <td>female</td>\n",
              "      <td>35.0</td>\n",
              "      <td>1</td>\n",
              "      <td>0</td>\n",
              "      <td>113803</td>\n",
              "      <td>53.1000</td>\n",
              "      <td>C123</td>\n",
              "      <td>S</td>\n",
              "    </tr>\n",
              "  </tbody>\n",
              "</table>\n",
              "</div>"
            ],
            "text/plain": [
              "   PassengerId  Survived  Pclass  ...     Fare Cabin  Embarked\n",
              "0            1         0       3  ...   7.2500   NaN         S\n",
              "1            2         1       1  ...  71.2833   C85         C\n",
              "2            3         1       3  ...   7.9250   NaN         S\n",
              "3            4         1       1  ...  53.1000  C123         S\n",
              "\n",
              "[4 rows x 12 columns]"
            ]
          },
          "metadata": {
            "tags": []
          },
          "execution_count": 4
        }
      ]
    },
    {
      "cell_type": "markdown",
      "metadata": {
        "papermill": {
          "duration": 0.055457,
          "end_time": "2021-01-26T11:34:56.585585",
          "exception": false,
          "start_time": "2021-01-26T11:34:56.530128",
          "status": "completed"
        },
        "tags": [],
        "id": "UW4Jq9A1ndGx"
      },
      "source": [
        "# 5. First look: variables, NAs\n",
        "\n",
        "> Indented block\n",
        "\n",
        "\n",
        "## 5.1 Variables\n",
        "From the data overview of the competition, we have a description of each variable:\n",
        "* PassengerId - unique identifier\n",
        "* Survived:\n",
        "        0 = No\n",
        "        1 = Yes\n",
        "* Pclass: Ticket class\n",
        "        1 = 1st, Upper\n",
        "        2 = 2nd, Middle\n",
        "        3 = 3rd, Lower\n",
        "* Name: full name with a title\n",
        "* Sex: gender\n",
        "* Age: Age is fractional if less than 1. If the age is estimated, is it in the form of xx.5\n",
        "* Sibsp: Number of siblings / spouses aboard the Titanic. The dataset defines family relations in this way:\n",
        "        Sibling = brother, sister, stepbrother, stepsister\n",
        "        Spouse = husband, wife (mistresses and fiancés were ignored)\n",
        "* Parch: Number of parents / children aboard the Titanic. The dataset defines family relations in this way:\n",
        "        Parent = mother, father\n",
        "        Child = daughter, son, stepdaughter, stepson\n",
        "        Some children travelled only with a nanny, therefore parch=0 for them.\n",
        "* Ticket: Ticket number.\n",
        "* Fare: Passenger fare.\n",
        "* Cabin: Cabin number.\n",
        "* Embarked: Port of Embarkation:\n",
        "        C = Cherbourg\n",
        "        Q = Queenstown\n",
        "        S = Southampton"
      ]
    },
    {
      "cell_type": "markdown",
      "metadata": {
        "papermill": {
          "duration": 0.054963,
          "end_time": "2021-01-26T11:34:56.696115",
          "exception": false,
          "start_time": "2021-01-26T11:34:56.641152",
          "status": "completed"
        },
        "tags": [],
        "id": "p5V-qUcKndGy"
      },
      "source": [
        "## 5.2 Types of the variables"
      ]
    },
    {
      "cell_type": "markdown",
      "metadata": {
        "papermill": {
          "duration": 0.055576,
          "end_time": "2021-01-26T11:34:56.807962",
          "exception": false,
          "start_time": "2021-01-26T11:34:56.752386",
          "status": "completed"
        },
        "tags": [],
        "id": "fAyYwWxGndGy"
      },
      "source": [
        "Data types, non-null values count:"
      ]
    },
    {
      "cell_type": "code",
      "metadata": {
        "_kg_hide-input": true,
        "execution": {
          "iopub.execute_input": "2021-01-26T11:34:56.925051Z",
          "iopub.status.busy": "2021-01-26T11:34:56.924258Z",
          "iopub.status.idle": "2021-01-26T11:34:56.938561Z",
          "shell.execute_reply": "2021-01-26T11:34:56.937492Z"
        },
        "papermill": {
          "duration": 0.074643,
          "end_time": "2021-01-26T11:34:56.938743",
          "exception": false,
          "start_time": "2021-01-26T11:34:56.864100",
          "status": "completed"
        },
        "tags": [],
        "colab": {
          "base_uri": "https://localhost:8080/"
        },
        "id": "4GJ8vqefndGy",
        "outputId": "ea6a7fdd-55a3-47c9-f54d-16f97d38fc89"
      },
      "source": [
        "all_data.info()"
      ],
      "execution_count": null,
      "outputs": [
        {
          "output_type": "stream",
          "text": [
            "<class 'pandas.core.frame.DataFrame'>\n",
            "RangeIndex: 891 entries, 0 to 890\n",
            "Data columns (total 12 columns):\n",
            " #   Column       Non-Null Count  Dtype  \n",
            "---  ------       --------------  -----  \n",
            " 0   PassengerId  891 non-null    int64  \n",
            " 1   Survived     891 non-null    int64  \n",
            " 2   Pclass       891 non-null    int64  \n",
            " 3   Name         891 non-null    object \n",
            " 4   Sex          891 non-null    object \n",
            " 5   Age          714 non-null    float64\n",
            " 6   SibSp        891 non-null    int64  \n",
            " 7   Parch        891 non-null    int64  \n",
            " 8   Ticket       891 non-null    object \n",
            " 9   Fare         891 non-null    float64\n",
            " 10  Cabin        204 non-null    object \n",
            " 11  Embarked     889 non-null    object \n",
            "dtypes: float64(2), int64(5), object(5)\n",
            "memory usage: 83.7+ KB\n"
          ],
          "name": "stdout"
        }
      ]
    },
    {
      "cell_type": "markdown",
      "metadata": {
        "papermill": {
          "duration": 0.055922,
          "end_time": "2021-01-26T11:34:57.052277",
          "exception": false,
          "start_time": "2021-01-26T11:34:56.996355",
          "status": "completed"
        },
        "tags": [],
        "id": "_d3-bNW3ndGy"
      },
      "source": [
        "\n",
        "\n",
        "Age and Fare are continuous numeric variables.  \n",
        "Pclass is integer, but in fact it is categorical variable, represented by 3 numbers.  \n"
      ]
    },
    {
      "cell_type": "markdown",
      "metadata": {
        "papermill": {
          "duration": 0.055677,
          "end_time": "2021-01-26T11:34:57.163828",
          "exception": false,
          "start_time": "2021-01-26T11:34:57.108151",
          "status": "completed"
        },
        "tags": [],
        "id": "5HOZ0k01ndGz"
      },
      "source": [
        "## 5.3 Check data for NA\n",
        "To check the dataset for NAs I am using **isna()** dataframe function, which returns a boolean same-sized object indicating if the values are NA and then I am calculating the number of True values for each variable.   \n",
        "NA values for each dataframe (train, test, all) presented in the table below:"
      ]
    },
    {
      "cell_type": "code",
      "metadata": {
        "_kg_hide-input": true,
        "execution": {
          "iopub.execute_input": "2021-01-26T11:34:57.293526Z",
          "iopub.status.busy": "2021-01-26T11:34:57.292555Z",
          "iopub.status.idle": "2021-01-26T11:34:57.297372Z",
          "shell.execute_reply": "2021-01-26T11:34:57.297976Z"
        },
        "papermill": {
          "duration": 0.078836,
          "end_time": "2021-01-26T11:34:57.298196",
          "exception": false,
          "start_time": "2021-01-26T11:34:57.219360",
          "status": "completed"
        },
        "tags": [],
        "id": "6Fia29IBndGz"
      },
      "source": [
        "# check data for NA values\n",
        "all_data_NA = all_data.isna().sum()\n",
        "#train_NA = train_data.isna().sum()\n",
        "#test_NA = test_data.isna().sum()\n",
        "\n",
        "#pd.concat([train_NA, test_NA, all_data_NA], axis=1, sort = False, keys = ['Train NA', 'Test NA', 'All NA'])"
      ],
      "execution_count": null,
      "outputs": []
    },
    {
      "cell_type": "code",
      "metadata": {
        "colab": {
          "base_uri": "https://localhost:8080/"
        },
        "id": "Pkkc2i-youik",
        "outputId": "56375b77-cf7e-4178-a581-5671bc06596a"
      },
      "source": [
        "all_data_NA"
      ],
      "execution_count": null,
      "outputs": [
        {
          "output_type": "execute_result",
          "data": {
            "text/plain": [
              "PassengerId      0\n",
              "Survived         0\n",
              "Pclass           0\n",
              "Name             0\n",
              "Sex              0\n",
              "Age            177\n",
              "SibSp            0\n",
              "Parch            0\n",
              "Ticket           0\n",
              "Fare             0\n",
              "Cabin          687\n",
              "Embarked         2\n",
              "dtype: int64"
            ]
          },
          "metadata": {
            "tags": []
          },
          "execution_count": 10
        }
      ]
    },
    {
      "cell_type": "markdown",
      "metadata": {
        "papermill": {
          "duration": 0.056049,
          "end_time": "2021-01-26T11:34:57.526383",
          "exception": false,
          "start_time": "2021-01-26T11:34:57.470334",
          "status": "completed"
        },
        "tags": [],
        "id": "-E-etiUmndGz"
      },
      "source": [
        "# 6. Exploring the data"
      ]
    },
    {
      "cell_type": "markdown",
      "metadata": {
        "papermill": {
          "duration": 0.055662,
          "end_time": "2021-01-26T11:34:57.638360",
          "exception": false,
          "start_time": "2021-01-26T11:34:57.582698",
          "status": "completed"
        },
        "tags": [],
        "id": "bkfswXt2ndG0"
      },
      "source": [
        "## 6.1 Survivals - target value\n",
        "Let's calculate and visualise distribution of our target variable - 'Survived'.  \n",
        "A countplot of seaborn module is a very useful way to show the counts of observations in each category.  \n",
        "Since we have target only for the training part, these numbers don't include all passengers."
      ]
    },
    {
      "cell_type": "code",
      "metadata": {
        "_kg_hide-input": true,
        "execution": {
          "iopub.execute_input": "2021-01-26T11:34:57.758471Z",
          "iopub.status.busy": "2021-01-26T11:34:57.757856Z",
          "iopub.status.idle": "2021-01-26T11:34:57.926482Z",
          "shell.execute_reply": "2021-01-26T11:34:57.927016Z"
        },
        "papermill": {
          "duration": 0.232574,
          "end_time": "2021-01-26T11:34:57.927167",
          "exception": false,
          "start_time": "2021-01-26T11:34:57.694593",
          "status": "completed"
        },
        "tags": [],
        "colab": {
          "base_uri": "https://localhost:8080/",
          "height": 341
        },
        "id": "K_eivE5zndG0",
        "outputId": "4f8660c1-364c-4084-fcfb-0d3f3710fed3"
      },
      "source": [
        "# set size of the plot\n",
        "plt.figure(figsize=(6, 4.5)) \n",
        "\n",
        "# countplot shows the counts of observations in each categorical bin using bars.\n",
        "# x - name of the categorical variable\n",
        "ax = sns.countplot(x = 'Survived', data = all_data, palette=[\"#3f3e6fd1\", \"#85c6a9\"])\n",
        "\n",
        "# set the current tick locations and labels of the x-axis.\n",
        "plt.xticks(np.array([0,1]), ['drowned', 'survived'] )\n",
        "# set title\n",
        "plt.title('Overall survival (training dataset)',fontsize= 14)\n",
        "# set x label\n",
        "plt.xlabel('Passenger status after the tragedy')\n",
        "# set y label\n",
        "plt.ylabel('Number of passengers')\n",
        "\n",
        "# calculate passengers for each category\n",
        "#labels = (all_data['Survived'].value_counts())\n",
        "\n",
        "#print(labels)"
      ],
      "execution_count": null,
      "outputs": [
        {
          "output_type": "execute_result",
          "data": {
            "text/plain": [
              "Text(0, 0.5, 'Number of passengers')"
            ]
          },
          "metadata": {
            "tags": []
          },
          "execution_count": 16
        },
        {
          "output_type": "display_data",
          "data": {
            "image/png": "[encoded data removed]",
            "text/plain": [
              "<Figure size 432x324 with 1 Axes>"
            ]
          },
          "metadata": {
            "tags": [],
            "needs_background": "light"
          }
        }
      ]
    },
    {
      "cell_type": "code",
      "metadata": {
        "execution": {
          "iopub.execute_input": "2021-01-26T11:34:58.045163Z",
          "iopub.status.busy": "2021-01-26T11:34:58.044537Z",
          "iopub.status.idle": "2021-01-26T11:34:58.070709Z",
          "shell.execute_reply": "2021-01-26T11:34:58.071221Z"
        },
        "papermill": {
          "duration": 0.086398,
          "end_time": "2021-01-26T11:34:58.071361",
          "exception": false,
          "start_time": "2021-01-26T11:34:57.984963",
          "status": "completed"
        },
        "tags": [],
        "colab": {
          "base_uri": "https://localhost:8080/"
        },
        "id": "IvdWo7tvndG0",
        "outputId": "9da0249b-4722-4c12-d96c-a59a255b7dab"
      },
      "source": [
        "all_data['Survived'].value_counts(normalize=True)"
      ],
      "execution_count": null,
      "outputs": [
        {
          "output_type": "execute_result",
          "data": {
            "text/plain": [
              "0    0.616162\n",
              "1    0.383838\n",
              "Name: Survived, dtype: float64"
            ]
          },
          "metadata": {
            "tags": []
          },
          "execution_count": 19
        }
      ]
    },
    {
      "cell_type": "markdown",
      "metadata": {
        "papermill": {
          "duration": 0.057103,
          "end_time": "2021-01-26T11:34:58.186223",
          "exception": false,
          "start_time": "2021-01-26T11:34:58.129120",
          "status": "completed"
        },
        "tags": [],
        "id": "DvvnHhryndG1"
      },
      "source": [
        "We have 891 passengers in train dataset, 549 (61,6%) of them drowned and only 342 (38,4%) survived.  \n",
        "But we know, that lifeboats could carry 53% of total passengers."
      ]
    },
    {
      "cell_type": "markdown",
      "metadata": {
        "papermill": {
          "duration": 0.05961,
          "end_time": "2021-01-26T11:34:58.303081",
          "exception": false,
          "start_time": "2021-01-26T11:34:58.243471",
          "status": "completed"
        },
        "tags": [],
        "id": "YsHlz3yjndG1"
      },
      "source": [
        "## 6.2 AGE\n",
        "What is the age of passengers, how it relates to the chances of survival, and how it changes depending on class and gender.\n",
        "### 6.2.1 Age distribution\n",
        "We have 263 missing values:  \n",
        "* 177 missing in the training dataset \n",
        "* 86 in the test dataset\n",
        "\n",
        "Overall age distribution (seaborn distplot) and descriptive statistics:"
      ]
    },
    {
      "cell_type": "code",
      "metadata": {
        "_kg_hide-input": true,
        "execution": {
          "iopub.execute_input": "2021-01-26T11:34:58.422684Z",
          "iopub.status.busy": "2021-01-26T11:34:58.422109Z",
          "iopub.status.idle": "2021-01-26T11:34:58.682478Z",
          "shell.execute_reply": "2021-01-26T11:34:58.682931Z"
        },
        "papermill": {
          "duration": 0.321732,
          "end_time": "2021-01-26T11:34:58.683079",
          "exception": false,
          "start_time": "2021-01-26T11:34:58.361347",
          "status": "completed"
        },
        "tags": [],
        "colab": {
          "base_uri": "https://localhost:8080/",
          "height": 423
        },
        "id": "DQfIhKLtndG1",
        "outputId": "212621cb-939f-4c6a-b690-c55b237ac759"
      },
      "source": [
        "# set plot size\n",
        "plt.figure(figsize=(15, 5))\n",
        "\n",
        "# plot a univariate distribution of Age observations \n",
        "sns.distplot(all_data['Age'],bins = 50)\n",
        "\n",
        "# set titles and labels\n",
        "plt.title('Distrubution of passengers age (all data)',fontsize= 14)\n",
        "plt.xlabel('Age')\n",
        "plt.ylabel('Frequency')\n",
        "# clean layout\n",
        "plt.tight_layout()"
      ],
      "execution_count": null,
      "outputs": [
        {
          "output_type": "stream",
          "text": [
            "/usr/local/lib/python3.7/dist-packages/seaborn/distributions.py:2557: FutureWarning: `distplot` is a deprecated function and will be removed in a future version. Please adapt your code to use either `displot` (a figure-level function with similar flexibility) or `histplot` (an axes-level function for histograms).\n",
            "  warnings.warn(msg, FutureWarning)\n"
          ],
          "name": "stderr"
        },
        {
          "output_type": "display_data",
          "data": {
            "image/png": "[encoded data removed]",
            "text/plain": [
              "<Figure size 1080x360 with 1 Axes>"
            ]
          },
          "metadata": {
            "tags": [],
            "needs_background": "light"
          }
        }
      ]
    },
    {
      "cell_type": "code",
      "metadata": {
        "_kg_hide-input": true,
        "execution": {
          "iopub.execute_input": "2021-01-26T11:34:58.806860Z",
          "iopub.status.busy": "2021-01-26T11:34:58.806142Z",
          "iopub.status.idle": "2021-01-26T11:34:58.819680Z",
          "shell.execute_reply": "2021-01-26T11:34:58.820164Z"
        },
        "papermill": {
          "duration": 0.078439,
          "end_time": "2021-01-26T11:34:58.820304",
          "exception": false,
          "start_time": "2021-01-26T11:34:58.741865",
          "status": "completed"
        },
        "tags": [],
        "colab": {
          "base_uri": "https://localhost:8080/",
          "height": 80
        },
        "id": "mbrDyZa7ndG2",
        "outputId": "cae1c99e-4120-456f-df07-b2156cae0362"
      },
      "source": [
        "# Descriptive statistics include those that summarize the central tendency, \n",
        "# dispersion and shape of a dataset’s distribution, excluding NaN values.\n",
        "age_distr = pd.DataFrame(all_data['Age'].describe())\n",
        "# Transpose index and columns.\n",
        "age_distr.transpose()"
      ],
      "execution_count": null,
      "outputs": [
        {
          "output_type": "execute_result",
          "data": {
            "text/html": [
              "<div>\n",
              "<style scoped>\n",
              "    .dataframe tbody tr th:only-of-type {\n",
              "        vertical-align: middle;\n",
              "    }\n",
              "\n",
              "    .dataframe tbody tr th {\n",
              "        vertical-align: top;\n",
              "    }\n",
              "\n",
              "    .dataframe thead th {\n",
              "        text-align: right;\n",
              "    }\n",
              "</style>\n",
              "<table border=\"1\" class=\"dataframe\">\n",
              "  <thead>\n",
              "    <tr style=\"text-align: right;\">\n",
              "      <th></th>\n",
              "      <th>count</th>\n",
              "      <th>mean</th>\n",
              "      <th>std</th>\n",
              "      <th>min</th>\n",
              "      <th>25%</th>\n",
              "      <th>50%</th>\n",
              "      <th>75%</th>\n",
              "      <th>max</th>\n",
              "    </tr>\n",
              "  </thead>\n",
              "  <tbody>\n",
              "    <tr>\n",
              "      <th>Age</th>\n",
              "      <td>714.0</td>\n",
              "      <td>29.699118</td>\n",
              "      <td>14.526497</td>\n",
              "      <td>0.42</td>\n",
              "      <td>20.125</td>\n",
              "      <td>28.0</td>\n",
              "      <td>38.0</td>\n",
              "      <td>80.0</td>\n",
              "    </tr>\n",
              "  </tbody>\n",
              "</table>\n",
              "</div>"
            ],
            "text/plain": [
              "     count       mean        std   min     25%   50%   75%   max\n",
              "Age  714.0  29.699118  14.526497  0.42  20.125  28.0  38.0  80.0"
            ]
          },
          "metadata": {
            "tags": []
          },
          "execution_count": 28
        }
      ]
    },
    {
      "cell_type": "code",
      "metadata": {
        "colab": {
          "base_uri": "https://localhost:8080/"
        },
        "id": "SLpLDGqA86u8",
        "outputId": "0c0ee15c-12c1-4636-da89-34742fbe1a83"
      },
      "source": [
        "all_data.loc[all_data['Age']>60,'Survived'].value_counts(normalize=True)"
      ],
      "execution_count": null,
      "outputs": [
        {
          "output_type": "execute_result",
          "data": {
            "text/plain": [
              "0    0.772727\n",
              "1    0.227273\n",
              "Name: Survived, dtype: float64"
            ]
          },
          "metadata": {
            "tags": []
          },
          "execution_count": 34
        }
      ]
    },
    {
      "cell_type": "markdown",
      "metadata": {
        "papermill": {
          "duration": 0.058657,
          "end_time": "2021-01-26T11:34:58.938062",
          "exception": false,
          "start_time": "2021-01-26T11:34:58.879405",
          "status": "completed"
        },
        "tags": [],
        "id": "QzX5Qi63ndG2"
      },
      "source": [
        "The distribution of Age is slightly right skewed. The Age vary from about **0.17** year to **80** years with mean = 29.88, and there don't seem to be any obvious outliers, but we will check it."
      ]
    },
    {
      "cell_type": "markdown",
      "metadata": {
        "papermill": {
          "duration": 0.059441,
          "end_time": "2021-01-26T11:34:59.056906",
          "exception": false,
          "start_time": "2021-01-26T11:34:58.997465",
          "status": "completed"
        },
        "tags": [],
        "id": "WpvFxqBEndG2"
      },
      "source": [
        "### 6.2.2 Age by surviving status\n",
        "Did age had a big influence on chances to survive?  \n",
        "To visualize two age distributions, grouped by surviving status I am using boxlot and stripplot showed together:"
      ]
    },
    {
      "cell_type": "code",
      "metadata": {
        "_kg_hide-input": true,
        "execution": {
          "iopub.execute_input": "2021-01-26T11:34:59.178478Z",
          "iopub.status.busy": "2021-01-26T11:34:59.177837Z",
          "iopub.status.idle": "2021-01-26T11:34:59.401236Z",
          "shell.execute_reply": "2021-01-26T11:34:59.400439Z"
        },
        "papermill": {
          "duration": 0.285349,
          "end_time": "2021-01-26T11:34:59.401365",
          "exception": false,
          "start_time": "2021-01-26T11:34:59.116016",
          "status": "completed"
        },
        "tags": [],
        "colab": {
          "base_uri": "https://localhost:8080/",
          "height": 640
        },
        "id": "ZsNUxNtwndG2",
        "outputId": "daf9662c-f52c-4bdc-81b9-39c042956a2b"
      },
      "source": [
        "plt.figure(figsize=(10, 10))\n",
        "\n",
        "plt.subplot(1,2,1)\n",
        "# Draw a box plot to show Age distributions with respect to survival status.\n",
        "sns.boxplot(x = 'Survived', y = 'Age', data = all_data,\n",
        "     palette=[\"#3f3e6fd1\", \"#85c6a9\"], fliersize = 0)\n",
        "\n",
        "plt.xticks( np.arange(2), ['drowned', 'survived'])\n",
        "plt.title('Age distribution grouped by surviving status (train data)',fontsize= 14)\n",
        "plt.ylabel('Passenger Age')\n",
        "\n",
        "plt.subplot(1,2,2)\n",
        "# Add a scatterplot for each category.\n",
        "sns.stripplot(x = 'Survived', y = 'Age', data = all_data,\n",
        "     linewidth = 0.6, palette=[\"#3f3e6fd1\", \"#85c6a9\"])\n",
        "\n",
        "plt.xticks( np.arange(2), ['drowned', 'survived'])\n",
        "plt.title('Age distribution grouped by surviving status (train data)',fontsize= 14)\n",
        "plt.ylabel('Passenger Age')"
      ],
      "execution_count": null,
      "outputs": [
        {
          "output_type": "execute_result",
          "data": {
            "text/plain": [
              "Text(0, 0.5, 'Passenger Age')"
            ]
          },
          "metadata": {
            "tags": []
          },
          "execution_count": 39
        },
        {
          "output_type": "display_data",
          "data": {
            "image/png": "[encoded data removed]",
            "text/plain": [
              "<Figure size 720x720 with 2 Axes>"
            ]
          },
          "metadata": {
            "tags": [],
            "needs_background": "light"
          }
        }
      ]
    },
    {
      "cell_type": "code",
      "metadata": {
        "_kg_hide-input": true,
        "execution": {
          "iopub.execute_input": "2021-01-26T11:34:59.537383Z",
          "iopub.status.busy": "2021-01-26T11:34:59.536391Z",
          "iopub.status.idle": "2021-01-26T11:34:59.559785Z",
          "shell.execute_reply": "2021-01-26T11:34:59.559185Z"
        },
        "papermill": {
          "duration": 0.087441,
          "end_time": "2021-01-26T11:34:59.559909",
          "exception": false,
          "start_time": "2021-01-26T11:34:59.472468",
          "status": "completed"
        },
        "tags": [],
        "colab": {
          "base_uri": "https://localhost:8080/",
          "height": 142
        },
        "id": "e4EaK_QtndG3",
        "outputId": "47c6ee83-050d-4874-ab2d-dab0cb4ad4b1"
      },
      "source": [
        "# Descriptive statistics:\n",
        "pd.DataFrame(all_data.groupby('Survived')['Age'].describe())"
      ],
      "execution_count": null,
      "outputs": [
        {
          "output_type": "execute_result",
          "data": {
            "text/html": [
              "<div>\n",
              "<style scoped>\n",
              "    .dataframe tbody tr th:only-of-type {\n",
              "        vertical-align: middle;\n",
              "    }\n",
              "\n",
              "    .dataframe tbody tr th {\n",
              "        vertical-align: top;\n",
              "    }\n",
              "\n",
              "    .dataframe thead th {\n",
              "        text-align: right;\n",
              "    }\n",
              "</style>\n",
              "<table border=\"1\" class=\"dataframe\">\n",
              "  <thead>\n",
              "    <tr style=\"text-align: right;\">\n",
              "      <th></th>\n",
              "      <th>count</th>\n",
              "      <th>mean</th>\n",
              "      <th>std</th>\n",
              "      <th>min</th>\n",
              "      <th>25%</th>\n",
              "      <th>50%</th>\n",
              "      <th>75%</th>\n",
              "      <th>max</th>\n",
              "    </tr>\n",
              "    <tr>\n",
              "      <th>Survived</th>\n",
              "      <th></th>\n",
              "      <th></th>\n",
              "      <th></th>\n",
              "      <th></th>\n",
              "      <th></th>\n",
              "      <th></th>\n",
              "      <th></th>\n",
              "      <th></th>\n",
              "    </tr>\n",
              "  </thead>\n",
              "  <tbody>\n",
              "    <tr>\n",
              "      <th>0</th>\n",
              "      <td>424.0</td>\n",
              "      <td>30.626179</td>\n",
              "      <td>14.172110</td>\n",
              "      <td>1.00</td>\n",
              "      <td>21.0</td>\n",
              "      <td>28.0</td>\n",
              "      <td>39.0</td>\n",
              "      <td>74.0</td>\n",
              "    </tr>\n",
              "    <tr>\n",
              "      <th>1</th>\n",
              "      <td>290.0</td>\n",
              "      <td>28.343690</td>\n",
              "      <td>14.950952</td>\n",
              "      <td>0.42</td>\n",
              "      <td>19.0</td>\n",
              "      <td>28.0</td>\n",
              "      <td>36.0</td>\n",
              "      <td>80.0</td>\n",
              "    </tr>\n",
              "  </tbody>\n",
              "</table>\n",
              "</div>"
            ],
            "text/plain": [
              "          count       mean        std   min   25%   50%   75%   max\n",
              "Survived                                                           \n",
              "0         424.0  30.626179  14.172110  1.00  21.0  28.0  39.0  74.0\n",
              "1         290.0  28.343690  14.950952  0.42  19.0  28.0  36.0  80.0"
            ]
          },
          "metadata": {
            "tags": []
          },
          "execution_count": 30
        }
      ]
    },
    {
      "cell_type": "markdown",
      "metadata": {
        "papermill": {
          "duration": 0.060835,
          "end_time": "2021-01-26T11:34:59.682399",
          "exception": false,
          "start_time": "2021-01-26T11:34:59.621564",
          "status": "completed"
        },
        "tags": [],
        "id": "lnX6T7dondG3"
      },
      "source": [
        "The mean age of survived passenger is 28.34 which on 2.28 smaller than the mean age of drowned passengers (only passengers we know survived status for).   \n",
        "The minimum age of drowned passengers is 1 y.o which is very sad. \n",
        "It looks like there is a slightly bigger chance to survive for younger people."
      ]
    },
    {
      "cell_type": "markdown",
      "metadata": {
        "papermill": {
          "duration": 0.061465,
          "end_time": "2021-01-26T11:35:00.527632",
          "exception": false,
          "start_time": "2021-01-26T11:35:00.466167",
          "status": "completed"
        },
        "tags": [],
        "id": "siczx5LDndG4"
      },
      "source": [
        "### 6.2.3 Age by class\n",
        "There I will compare three age distributions, grouped by class of the passenger.  \n",
        "As visualisations I will use 2 gaphs:\n",
        "1. boxplot+stripplot as before\n",
        "2. kdeplot, to plot age density curves for each class. This method can't handle missing values, so I filter the data before using it."
      ]
    },
    {
      "cell_type": "code",
      "metadata": {
        "id": "p_FPiqnn-JCP"
      },
      "source": [
        ""
      ],
      "execution_count": null,
      "outputs": []
    },
    {
      "cell_type": "code",
      "metadata": {
        "_kg_hide-input": true,
        "execution": {
          "iopub.execute_input": "2021-01-26T11:35:00.655609Z",
          "iopub.status.busy": "2021-01-26T11:35:00.654996Z",
          "iopub.status.idle": "2021-01-26T11:35:01.235365Z",
          "shell.execute_reply": "2021-01-26T11:35:01.235854Z"
        },
        "papermill": {
          "duration": 0.645937,
          "end_time": "2021-01-26T11:35:01.236007",
          "exception": false,
          "start_time": "2021-01-26T11:35:00.590070",
          "status": "completed"
        },
        "tags": [],
        "colab": {
          "base_uri": "https://localhost:8080/",
          "height": 347
        },
        "id": "5jzYxwfXndG5",
        "outputId": "74d2cb5e-e2ed-4e40-d13b-0bf3e0bd1db1"
      },
      "source": [
        "# set size\n",
        "plt.figure(figsize=(20, 6)) ## Total Canvas Area\n",
        "\n",
        "# set palette\n",
        "palette = sns.cubehelix_palette(5, start = 3)\n",
        "\n",
        "plt.subplot(1, 2, 1)\n",
        "\n",
        "sns.boxplot(x = 'Pclass', y = 'Age', data = all_data,\n",
        "     palette = palette, fliersize = 0)\n",
        "\n",
        "#sns.stripplot(x = 'Pclass', y = 'Age', data = all_data,\n",
        "     #linewidth = 0.6, palette = palette)\n",
        "\n",
        "plt.xticks(np.array([0,1,2]), ['1st class', '2nd class', '3rd class'])\n",
        "plt.title('Age distribution grouped by ticket class (all data)',fontsize= 16)\n",
        "plt.xlabel('Ticket class')\n",
        "\n",
        "\n",
        "plt.subplot(1, 2, 2)\n",
        "\n",
        "# To use kdeplot I need to create variables with filtered data for each category\n",
        "age_1_class = all_data[(all_data[\"Age\"] > 0) & \n",
        "                              (all_data[\"Pclass\"] == 1)]\n",
        "age_2_class = all_data[(all_data[\"Age\"] > 0) & \n",
        "                              (all_data[\"Pclass\"] == 2)]\n",
        "age_3_class = all_data[(all_data[\"Age\"] > 0) & \n",
        "                              (all_data[\"Pclass\"] == 3)]\n",
        "\n",
        "# Ploting the 3 variables that we create\n",
        "sns.kdeplot(age_1_class[\"Age\"], shade=True, color='#eed4d0', label = '1st class')\n",
        "sns.kdeplot(age_2_class[\"Age\"], shade=True,  color='#cda0aa', label = '2nd class')\n",
        "sns.kdeplot(age_3_class[\"Age\"], shade=True,color='#a2708e', label = '3rd class')\n",
        "plt.title('Age distribution grouped by ticket class (all data)',fontsize= 16)\n",
        "plt.xlabel('Age')\n",
        "plt.xlim(0, 90)\n",
        "plt.tight_layout()\n",
        "plt.legend()\n",
        "plt.show()"
      ],
      "execution_count": null,
      "outputs": [
        {
          "output_type": "display_data",
          "data": {
            "image/png": "[encoded data removed]",
            "text/plain": [
              "<Figure size 1440x432 with 2 Axes>"
            ]
          },
          "metadata": {
            "tags": [],
            "needs_background": "light"
          }
        }
      ]
    },
    {
      "cell_type": "code",
      "metadata": {
        "_kg_hide-input": true,
        "execution": {
          "iopub.execute_input": "2021-01-26T11:35:01.418627Z",
          "iopub.status.busy": "2021-01-26T11:35:01.415786Z",
          "iopub.status.idle": "2021-01-26T11:35:01.437130Z",
          "shell.execute_reply": "2021-01-26T11:35:01.436461Z"
        },
        "papermill": {
          "duration": 0.133931,
          "end_time": "2021-01-26T11:35:01.437250",
          "exception": false,
          "start_time": "2021-01-26T11:35:01.303319",
          "status": "completed"
        },
        "tags": [],
        "colab": {
          "base_uri": "https://localhost:8080/",
          "height": 173
        },
        "id": "mgpSZNjkndG5",
        "outputId": "c750a541-0d2f-4700-f438-5a4e04cab065"
      },
      "source": [
        "# Descriptive statistics:\n",
        "pd.DataFrame(all_data.groupby('Pclass')['Age'].describe())"
      ],
      "execution_count": null,
      "outputs": [
        {
          "output_type": "execute_result",
          "data": {
            "text/html": [
              "<div>\n",
              "<style scoped>\n",
              "    .dataframe tbody tr th:only-of-type {\n",
              "        vertical-align: middle;\n",
              "    }\n",
              "\n",
              "    .dataframe tbody tr th {\n",
              "        vertical-align: top;\n",
              "    }\n",
              "\n",
              "    .dataframe thead th {\n",
              "        text-align: right;\n",
              "    }\n",
              "</style>\n",
              "<table border=\"1\" class=\"dataframe\">\n",
              "  <thead>\n",
              "    <tr style=\"text-align: right;\">\n",
              "      <th></th>\n",
              "      <th>count</th>\n",
              "      <th>mean</th>\n",
              "      <th>std</th>\n",
              "      <th>min</th>\n",
              "      <th>25%</th>\n",
              "      <th>50%</th>\n",
              "      <th>75%</th>\n",
              "      <th>max</th>\n",
              "    </tr>\n",
              "    <tr>\n",
              "      <th>Pclass</th>\n",
              "      <th></th>\n",
              "      <th></th>\n",
              "      <th></th>\n",
              "      <th></th>\n",
              "      <th></th>\n",
              "      <th></th>\n",
              "      <th></th>\n",
              "      <th></th>\n",
              "    </tr>\n",
              "  </thead>\n",
              "  <tbody>\n",
              "    <tr>\n",
              "      <th>1</th>\n",
              "      <td>186.0</td>\n",
              "      <td>38.233441</td>\n",
              "      <td>14.802856</td>\n",
              "      <td>0.92</td>\n",
              "      <td>27.0</td>\n",
              "      <td>37.0</td>\n",
              "      <td>49.0</td>\n",
              "      <td>80.0</td>\n",
              "    </tr>\n",
              "    <tr>\n",
              "      <th>2</th>\n",
              "      <td>173.0</td>\n",
              "      <td>29.877630</td>\n",
              "      <td>14.001077</td>\n",
              "      <td>0.67</td>\n",
              "      <td>23.0</td>\n",
              "      <td>29.0</td>\n",
              "      <td>36.0</td>\n",
              "      <td>70.0</td>\n",
              "    </tr>\n",
              "    <tr>\n",
              "      <th>3</th>\n",
              "      <td>355.0</td>\n",
              "      <td>25.140620</td>\n",
              "      <td>12.495398</td>\n",
              "      <td>0.42</td>\n",
              "      <td>18.0</td>\n",
              "      <td>24.0</td>\n",
              "      <td>32.0</td>\n",
              "      <td>74.0</td>\n",
              "    </tr>\n",
              "  </tbody>\n",
              "</table>\n",
              "</div>"
            ],
            "text/plain": [
              "        count       mean        std   min   25%   50%   75%   max\n",
              "Pclass                                                           \n",
              "1       186.0  38.233441  14.802856  0.92  27.0  37.0  49.0  80.0\n",
              "2       173.0  29.877630  14.001077  0.67  23.0  29.0  36.0  70.0\n",
              "3       355.0  25.140620  12.495398  0.42  18.0  24.0  32.0  74.0"
            ]
          },
          "metadata": {
            "tags": []
          },
          "execution_count": 43
        }
      ]
    },
    {
      "cell_type": "markdown",
      "metadata": {
        "papermill": {
          "duration": 0.067413,
          "end_time": "2021-01-26T11:35:01.572167",
          "exception": false,
          "start_time": "2021-01-26T11:35:01.504754",
          "status": "completed"
        },
        "tags": [],
        "id": "w0RstIYzndG5"
      },
      "source": [
        "1st class has wider distribution compare to 2nd and 3rd and almost symmetric.  \n",
        "Both 2nd and 3rd classes age distributions are right skewed.  \n",
        "The youngest passenger has 3rd class ticket, age = 0.42.  \n",
        "The oldest passenger has 1st class ticket, age = 80.  \n",
        "3rd class mean age = 25.14, 2nd classe average age is 29.87 and 1st class average age is 38.23.   \n",
        " \n",
        " \n",
        "Since survived passengers on average younger than drowned, does it mean, that 3rd class passengers had more chances to survive? We will discover it later.  \n",
        "\n",
        "From graphs we can see difference in age distribution between classes. So when I will do missing data imputation I will take class into account.  "
      ]
    },
    {
      "cell_type": "markdown",
      "metadata": {
        "papermill": {
          "duration": 0.067381,
          "end_time": "2021-01-26T11:35:01.707256",
          "exception": false,
          "start_time": "2021-01-26T11:35:01.639875",
          "status": "completed"
        },
        "tags": [],
        "id": "r5e9gCpVndG5"
      },
      "source": [
        "### 6.2.4 Age vs class vs gender\n",
        "Comparison of age distribution by gender I will do separately for each class since we have such a noticeable age difference between classes."
      ]
    },
    {
      "cell_type": "code",
      "metadata": {
        "_kg_hide-input": true,
        "execution": {
          "iopub.execute_input": "2021-01-26T11:35:01.856383Z",
          "iopub.status.busy": "2021-01-26T11:35:01.852979Z",
          "iopub.status.idle": "2021-01-26T11:35:02.273486Z",
          "shell.execute_reply": "2021-01-26T11:35:02.273958Z"
        },
        "papermill": {
          "duration": 0.498346,
          "end_time": "2021-01-26T11:35:02.274103",
          "exception": false,
          "start_time": "2021-01-26T11:35:01.775757",
          "status": "completed"
        },
        "tags": [],
        "colab": {
          "base_uri": "https://localhost:8080/",
          "height": 596
        },
        "id": "iRkt4JTBndG6",
        "outputId": "f9418a24-a19a-41a1-b14d-a136cb0054c2"
      },
      "source": [
        "plt.figure(figsize=(20, 10))\n",
        "palette = \"Set3\"\n",
        "\n",
        "plt.subplot(1, 3, 1)\n",
        "sns.boxplot(x = 'Survived', y = 'Age', data = age_1_class,\n",
        "     palette = palette, fliersize = 0)\n",
        "#sns.stripplot(x = 'Sex', y = 'Age', data = age_1_class,\n",
        "     #linewidth = 0.6, palette = palette)\n",
        "plt.title('1st class Age distribution by Survival',fontsize= 14)\n",
        "plt.ylim(-5, 90)\n",
        "\n",
        "plt.subplot(1, 3, 2)\n",
        "sns.boxplot(x = 'Survived', y = 'Age', data = age_2_class,\n",
        "     palette = palette, fliersize = 0)\n",
        "#sns.stripplot(x = 'Sex', y = 'Age', data = age_2_class,\n",
        "     #linewidth = 0.6, palette = palette)\n",
        "plt.title('2nd class Age distribution by Survival',fontsize= 14)\n",
        "plt.ylim(-5, 90)\n",
        "\n",
        "plt.subplot(1, 3, 3)\n",
        "sns.boxplot(x = 'Survived', y = 'Age',  data = age_3_class, palette = palette, fliersize = 0)\n",
        "#sns.stripplot(x = 'Sex', y = 'Age', data = age_3_class,\n",
        "     #order = ['female', 'male'], linewidth = 0.6, palette = palette)\n",
        "plt.title('3rd class Age distribution by Survival',fontsize= 14)\n",
        "plt.ylim(-5, 90)\n",
        "\n",
        "plt.show()"
      ],
      "execution_count": null,
      "outputs": [
        {
          "output_type": "display_data",
          "data": {
            "image/png": "[encoded data removed]",
            "text/plain": [
              "<Figure size 1440x720 with 3 Axes>"
            ]
          },
          "metadata": {
            "tags": [],
            "needs_background": "light"
          }
        }
      ]
    },
    {
      "cell_type": "code",
      "metadata": {
        "_kg_hide-input": true,
        "execution": {
          "iopub.execute_input": "2021-01-26T11:35:02.427825Z",
          "iopub.status.busy": "2021-01-26T11:35:02.426758Z",
          "iopub.status.idle": "2021-01-26T11:35:02.457110Z",
          "shell.execute_reply": "2021-01-26T11:35:02.457543Z"
        },
        "papermill": {
          "duration": 0.113223,
          "end_time": "2021-01-26T11:35:02.457704",
          "exception": false,
          "start_time": "2021-01-26T11:35:02.344481",
          "status": "completed"
        },
        "tags": [],
        "colab": {
          "base_uri": "https://localhost:8080/",
          "height": 266
        },
        "id": "ckkiYrCWndG6",
        "outputId": "cfc8ff09-248d-4f95-ef05-8ba7a6fe1836"
      },
      "source": [
        "# Descriptive statistics:\n",
        "age_1_class_stat = pd.DataFrame(age_1_class.groupby('Survived')['Age'].describe())\n",
        "age_2_class_stat = pd.DataFrame(age_2_class.groupby('Survived')['Age'].describe())\n",
        "age_3_class_stat = pd.DataFrame(age_3_class.groupby('Survived')['Age'].describe())\n",
        "\n",
        "pd.concat([age_1_class_stat, age_2_class_stat, age_3_class_stat], axis=0, sort = False, keys = ['1st', '2nd', '3rd'])"
      ],
      "execution_count": null,
      "outputs": [
        {
          "output_type": "execute_result",
          "data": {
            "text/html": [
              "<div>\n",
              "<style scoped>\n",
              "    .dataframe tbody tr th:only-of-type {\n",
              "        vertical-align: middle;\n",
              "    }\n",
              "\n",
              "    .dataframe tbody tr th {\n",
              "        vertical-align: top;\n",
              "    }\n",
              "\n",
              "    .dataframe thead th {\n",
              "        text-align: right;\n",
              "    }\n",
              "</style>\n",
              "<table border=\"1\" class=\"dataframe\">\n",
              "  <thead>\n",
              "    <tr style=\"text-align: right;\">\n",
              "      <th></th>\n",
              "      <th></th>\n",
              "      <th>count</th>\n",
              "      <th>mean</th>\n",
              "      <th>std</th>\n",
              "      <th>min</th>\n",
              "      <th>25%</th>\n",
              "      <th>50%</th>\n",
              "      <th>75%</th>\n",
              "      <th>max</th>\n",
              "    </tr>\n",
              "    <tr>\n",
              "      <th></th>\n",
              "      <th>Survived</th>\n",
              "      <th></th>\n",
              "      <th></th>\n",
              "      <th></th>\n",
              "      <th></th>\n",
              "      <th></th>\n",
              "      <th></th>\n",
              "      <th></th>\n",
              "      <th></th>\n",
              "    </tr>\n",
              "  </thead>\n",
              "  <tbody>\n",
              "    <tr>\n",
              "      <th rowspan=\"2\" valign=\"top\">1st</th>\n",
              "      <th>0</th>\n",
              "      <td>64.0</td>\n",
              "      <td>43.695312</td>\n",
              "      <td>15.284243</td>\n",
              "      <td>2.00</td>\n",
              "      <td>31.00</td>\n",
              "      <td>45.25</td>\n",
              "      <td>55.25</td>\n",
              "      <td>71.0</td>\n",
              "    </tr>\n",
              "    <tr>\n",
              "      <th>1</th>\n",
              "      <td>122.0</td>\n",
              "      <td>35.368197</td>\n",
              "      <td>13.760017</td>\n",
              "      <td>0.92</td>\n",
              "      <td>24.25</td>\n",
              "      <td>35.00</td>\n",
              "      <td>45.00</td>\n",
              "      <td>80.0</td>\n",
              "    </tr>\n",
              "    <tr>\n",
              "      <th rowspan=\"2\" valign=\"top\">2nd</th>\n",
              "      <th>0</th>\n",
              "      <td>90.0</td>\n",
              "      <td>33.544444</td>\n",
              "      <td>12.151581</td>\n",
              "      <td>16.00</td>\n",
              "      <td>25.00</td>\n",
              "      <td>30.50</td>\n",
              "      <td>39.00</td>\n",
              "      <td>70.0</td>\n",
              "    </tr>\n",
              "    <tr>\n",
              "      <th>1</th>\n",
              "      <td>83.0</td>\n",
              "      <td>25.901566</td>\n",
              "      <td>14.837787</td>\n",
              "      <td>0.67</td>\n",
              "      <td>17.50</td>\n",
              "      <td>28.00</td>\n",
              "      <td>34.00</td>\n",
              "      <td>62.0</td>\n",
              "    </tr>\n",
              "    <tr>\n",
              "      <th rowspan=\"2\" valign=\"top\">3rd</th>\n",
              "      <th>0</th>\n",
              "      <td>270.0</td>\n",
              "      <td>26.555556</td>\n",
              "      <td>12.334882</td>\n",
              "      <td>1.00</td>\n",
              "      <td>19.00</td>\n",
              "      <td>25.00</td>\n",
              "      <td>33.00</td>\n",
              "      <td>74.0</td>\n",
              "    </tr>\n",
              "    <tr>\n",
              "      <th>1</th>\n",
              "      <td>85.0</td>\n",
              "      <td>20.646118</td>\n",
              "      <td>11.995047</td>\n",
              "      <td>0.42</td>\n",
              "      <td>14.00</td>\n",
              "      <td>22.00</td>\n",
              "      <td>29.00</td>\n",
              "      <td>63.0</td>\n",
              "    </tr>\n",
              "  </tbody>\n",
              "</table>\n",
              "</div>"
            ],
            "text/plain": [
              "              count       mean        std    min    25%    50%    75%   max\n",
              "    Survived                                                               \n",
              "1st 0          64.0  43.695312  15.284243   2.00  31.00  45.25  55.25  71.0\n",
              "    1         122.0  35.368197  13.760017   0.92  24.25  35.00  45.00  80.0\n",
              "2nd 0          90.0  33.544444  12.151581  16.00  25.00  30.50  39.00  70.0\n",
              "    1          83.0  25.901566  14.837787   0.67  17.50  28.00  34.00  62.0\n",
              "3rd 0         270.0  26.555556  12.334882   1.00  19.00  25.00  33.00  74.0\n",
              "    1          85.0  20.646118  11.995047   0.42  14.00  22.00  29.00  63.0"
            ]
          },
          "metadata": {
            "tags": []
          },
          "execution_count": 51
        }
      ]
    },
    {
      "cell_type": "markdown",
      "metadata": {
        "papermill": {
          "duration": 0.07098,
          "end_time": "2021-01-26T11:35:02.599945",
          "exception": false,
          "start_time": "2021-01-26T11:35:02.528965",
          "status": "completed"
        },
        "tags": [],
        "id": "wG4McXP9ndG6"
      },
      "source": [
        "The oldest and the youngest passengers are female.  \n",
        "In each class the average Age of female are slightly less than the average Age of male passengers."
      ]
    },
    {
      "cell_type": "markdown",
      "metadata": {
        "papermill": {
          "duration": 0.075675,
          "end_time": "2021-01-26T11:35:05.595833",
          "exception": false,
          "start_time": "2021-01-26T11:35:05.520158",
          "status": "completed"
        },
        "tags": [],
        "id": "oRmzwJulndG9"
      },
      "source": [
        "## 6.4 Cabin\n",
        "![Titanic_cutaway_diagram-small.png](attachment:Titanic_cutaway_diagram-small.png)\n",
        "\n",
        "From the number of the cabin we can extract first letter, which will tell us about placement of the cabin on the ship! And it seems to me as a very important knowlege:   \n",
        "* How close cabin located to the lifeboats\n",
        "* How far from the most damaged parts of the ship\n",
        "* How close to people who have information about what is happening and how to act\n",
        "* How many obstacles passenger had in the way to the lifeboat\n",
        "\n",
        "I found some description of each Titanic deck:\n",
        "\n",
        "There were 8 decks: the upperdeck - for lifeboats, other 7 were under it and had letter symbols:\n",
        "* **A**: it did not run the entire length of the vessel (i.e. it did not reach from the stern to the bow of the vessel), and was intended for passengers of the **1st class**.\n",
        "* **B**: it did not run the entire length of the ship (it was interrupted by 37 meters above the C deck, and served as a place for anchors in the front).\n",
        "* **C**: in the front part of the galley, dining room for the crew, as well as a walking area for passengers of the 3rd class.\n",
        "* **D**: a walking area for passengers .\n",
        "* **E**: cabins of the **1st and 2nd class**.\n",
        "* **F**: part of the passenger cabins of the **2nd class**, most of the cabins of the **3rd class**.\n",
        "* **G**: did not run the entire length of the ship, the boiler rooms were located in the center.\n",
        "* **T** - boat deck ?\n",
        "\n",
        "To the passengers without deck information I will imput U letter (as unknown)."
      ]
    },
    {
      "cell_type": "code",
      "metadata": {
        "_kg_hide-input": true,
        "execution": {
          "iopub.execute_input": "2021-01-26T11:35:05.756566Z",
          "iopub.status.busy": "2021-01-26T11:35:05.755056Z",
          "iopub.status.idle": "2021-01-26T11:35:05.767633Z",
          "shell.execute_reply": "2021-01-26T11:35:05.768374Z"
        },
        "papermill": {
          "duration": 0.097286,
          "end_time": "2021-01-26T11:35:05.768600",
          "exception": false,
          "start_time": "2021-01-26T11:35:05.671314",
          "status": "completed"
        },
        "tags": [],
        "colab": {
          "base_uri": "https://localhost:8080/"
        },
        "id": "MhR8loVVndG9",
        "outputId": "4bd12125-642a-4ea7-fbdc-7853456ef768"
      },
      "source": [
        "all_data['deck'] = all_data['Cabin'].str.split('', expand = True)[1]\n",
        "all_data.loc[all_data['deck'].isna(), 'deck'] = 'U'\n",
        "print('Unique deck letters from the cabin numbers:', all_data['deck'].unique())"
      ],
      "execution_count": null,
      "outputs": [
        {
          "output_type": "stream",
          "text": [
            "Unique deck letters from the cabin numbers: ['U' 'C' 'E' 'G' 'D' 'A' 'B' 'F' 'T']\n"
          ],
          "name": "stdout"
        }
      ]
    },
    {
      "cell_type": "code",
      "metadata": {
        "_kg_hide-input": true,
        "execution": {
          "iopub.execute_input": "2021-01-26T11:35:05.936320Z",
          "iopub.status.busy": "2021-01-26T11:35:05.935688Z",
          "iopub.status.idle": "2021-01-26T11:35:06.628641Z",
          "shell.execute_reply": "2021-01-26T11:35:06.629070Z"
        },
        "papermill": {
          "duration": 0.780944,
          "end_time": "2021-01-26T11:35:06.629231",
          "exception": false,
          "start_time": "2021-01-26T11:35:05.848287",
          "status": "completed"
        },
        "tags": [],
        "colab": {
          "base_uri": "https://localhost:8080/",
          "height": 291
        },
        "id": "UL9tiaUendG-",
        "outputId": "3326af7e-fc18-4852-87c0-f4b4434e68a6"
      },
      "source": [
        "fig = plt.figure(figsize=(20, 5))\n",
        "\n",
        "ax1 = fig.add_subplot(131)\n",
        "sns.countplot(x = 'deck', data = all_data, palette = \"hls\", order = all_data['deck'].value_counts().index, ax = ax1)\n",
        "plt.title('Passengers distribution by deck',fontsize= 16)\n",
        "plt.ylabel('Number of passengers')\n",
        "\n",
        "ax2 = fig.add_subplot(132)\n",
        "deck_by_class = all_data.groupby('deck')['Pclass'].value_counts(normalize = True).unstack()\n",
        "deck_by_class.plot(kind='bar', stacked='True',color = ['#eed4d0', '#cda0aa', '#a2708e'], ax = ax2)\n",
        "plt.legend(('1st class', '2nd class', '3rd class'), loc=(1.04,0))\n",
        "plt.title('Proportion of classes on each deck',fontsize= 16)\n",
        "plt.xticks(rotation = False)\n",
        "\n",
        "ax3 = fig.add_subplot(133)\n",
        "deck_by_survived = all_data.groupby('deck')['Survived'].value_counts(normalize = True).unstack()\n",
        "deck_by_survived = deck_by_survived.sort_values(by = 1, ascending = False)\n",
        "deck_by_survived.plot(kind='bar', stacked='True', color=[\"#3f3e6fd1\", \"#85c6a9\"], ax = ax3)\n",
        "plt.title('Proportion of survived/drowned passengers by deck',fontsize= 16)\n",
        "plt.legend(( 'Drowned', 'Survived'), loc=(1.04,0))\n",
        "plt.xticks(rotation = False)\n",
        "plt.tight_layout()\n",
        "\n",
        "plt.show()\n"
      ],
      "execution_count": null,
      "outputs": [
        {
          "output_type": "display_data",
          "data": {
            "image/png": "[encoded data removed]",
            "text/plain": [
              "<Figure size 1440x360 with 3 Axes>"
            ]
          },
          "metadata": {
            "tags": [],
            "needs_background": "light"
          }
        }
      ]
    },
    {
      "cell_type": "markdown",
      "metadata": {
        "papermill": {
          "duration": 0.091791,
          "end_time": "2021-01-26T11:35:06.798776",
          "exception": false,
          "start_time": "2021-01-26T11:35:06.706985",
          "status": "completed"
        },
        "tags": [],
        "id": "Hf9wWd0sndG-"
      },
      "source": [
        "Most passengers don't have cabin numbers ('U').  \n",
        "The largest part of passengers with known cabin numbers were located on the  'C' deck and had 1st class ticket. 'C' deck is fifth by a percentage of the survivor.  \n",
        "The largest surviving rate (among passengers with known cabin numbers in training dataset) had passengers from deck 'D'.  \n",
        "Deck A was the closest to the deck with lifeboats, but it is the last in surviving rate (except unknown and T deck). How did it happen?"
      ]
    },
    {
      "cell_type": "code",
      "metadata": {
        "_kg_hide-input": true,
        "execution": {
          "iopub.execute_input": "2021-01-26T11:35:06.960385Z",
          "iopub.status.busy": "2021-01-26T11:35:06.959358Z",
          "iopub.status.idle": "2021-01-26T11:35:06.981822Z",
          "shell.execute_reply": "2021-01-26T11:35:06.981268Z"
        },
        "papermill": {
          "duration": 0.103806,
          "end_time": "2021-01-26T11:35:06.981940",
          "exception": false,
          "start_time": "2021-01-26T11:35:06.878134",
          "status": "completed"
        },
        "tags": [],
        "id": "W6Ina27MndG-",
        "outputId": "ad659d74-55f4-4b54-f3d0-41711211289a"
      },
      "source": [
        "all_data[(all_data['deck']=='A') & (all_data['Survived']==0)]"
      ],
      "execution_count": null,
      "outputs": [
        {
          "output_type": "execute_result",
          "data": {
            "text/html": [
              "<div>\n",
              "<style scoped>\n",
              "    .dataframe tbody tr th:only-of-type {\n",
              "        vertical-align: middle;\n",
              "    }\n",
              "\n",
              "    .dataframe tbody tr th {\n",
              "        vertical-align: top;\n",
              "    }\n",
              "\n",
              "    .dataframe thead th {\n",
              "        text-align: right;\n",
              "    }\n",
              "</style>\n",
              "<table border=\"1\" class=\"dataframe\">\n",
              "  <thead>\n",
              "    <tr style=\"text-align: right;\">\n",
              "      <th></th>\n",
              "      <th>PassengerId</th>\n",
              "      <th>Survived</th>\n",
              "      <th>Pclass</th>\n",
              "      <th>Name</th>\n",
              "      <th>Sex</th>\n",
              "      <th>Age</th>\n",
              "      <th>SibSp</th>\n",
              "      <th>Parch</th>\n",
              "      <th>Ticket</th>\n",
              "      <th>Fare</th>\n",
              "      <th>Cabin</th>\n",
              "      <th>Embarked</th>\n",
              "      <th>Title</th>\n",
              "      <th>Title_category</th>\n",
              "      <th>deck</th>\n",
              "    </tr>\n",
              "  </thead>\n",
              "  <tbody>\n",
              "    <tr>\n",
              "      <th>96</th>\n",
              "      <td>97</td>\n",
              "      <td>0.0</td>\n",
              "      <td>1</td>\n",
              "      <td>Goldschmidt, Mr. George B</td>\n",
              "      <td>male</td>\n",
              "      <td>71.0</td>\n",
              "      <td>0</td>\n",
              "      <td>0</td>\n",
              "      <td>PC 17754</td>\n",
              "      <td>34.6542</td>\n",
              "      <td>A5</td>\n",
              "      <td>C</td>\n",
              "      <td>Mr</td>\n",
              "      <td>Mr</td>\n",
              "      <td>A</td>\n",
              "    </tr>\n",
              "    <tr>\n",
              "      <th>174</th>\n",
              "      <td>175</td>\n",
              "      <td>0.0</td>\n",
              "      <td>1</td>\n",
              "      <td>Smith, Mr. James Clinch</td>\n",
              "      <td>male</td>\n",
              "      <td>56.0</td>\n",
              "      <td>0</td>\n",
              "      <td>0</td>\n",
              "      <td>17764</td>\n",
              "      <td>30.6958</td>\n",
              "      <td>A7</td>\n",
              "      <td>C</td>\n",
              "      <td>Mr</td>\n",
              "      <td>Mr</td>\n",
              "      <td>A</td>\n",
              "    </tr>\n",
              "    <tr>\n",
              "      <th>185</th>\n",
              "      <td>186</td>\n",
              "      <td>0.0</td>\n",
              "      <td>1</td>\n",
              "      <td>Rood, Mr. Hugh Roscoe</td>\n",
              "      <td>male</td>\n",
              "      <td>NaN</td>\n",
              "      <td>0</td>\n",
              "      <td>0</td>\n",
              "      <td>113767</td>\n",
              "      <td>50.0000</td>\n",
              "      <td>A32</td>\n",
              "      <td>S</td>\n",
              "      <td>Mr</td>\n",
              "      <td>Mr</td>\n",
              "      <td>A</td>\n",
              "    </tr>\n",
              "    <tr>\n",
              "      <th>284</th>\n",
              "      <td>285</td>\n",
              "      <td>0.0</td>\n",
              "      <td>1</td>\n",
              "      <td>Smith, Mr. Richard William</td>\n",
              "      <td>male</td>\n",
              "      <td>NaN</td>\n",
              "      <td>0</td>\n",
              "      <td>0</td>\n",
              "      <td>113056</td>\n",
              "      <td>26.0000</td>\n",
              "      <td>A19</td>\n",
              "      <td>S</td>\n",
              "      <td>Mr</td>\n",
              "      <td>Mr</td>\n",
              "      <td>A</td>\n",
              "    </tr>\n",
              "    <tr>\n",
              "      <th>475</th>\n",
              "      <td>476</td>\n",
              "      <td>0.0</td>\n",
              "      <td>1</td>\n",
              "      <td>Clifford, Mr. George Quincy</td>\n",
              "      <td>male</td>\n",
              "      <td>NaN</td>\n",
              "      <td>0</td>\n",
              "      <td>0</td>\n",
              "      <td>110465</td>\n",
              "      <td>52.0000</td>\n",
              "      <td>A14</td>\n",
              "      <td>S</td>\n",
              "      <td>Mr</td>\n",
              "      <td>Mr</td>\n",
              "      <td>A</td>\n",
              "    </tr>\n",
              "    <tr>\n",
              "      <th>583</th>\n",
              "      <td>584</td>\n",
              "      <td>0.0</td>\n",
              "      <td>1</td>\n",
              "      <td>Ross, Mr. John Hugo</td>\n",
              "      <td>male</td>\n",
              "      <td>36.0</td>\n",
              "      <td>0</td>\n",
              "      <td>0</td>\n",
              "      <td>13049</td>\n",
              "      <td>40.1250</td>\n",
              "      <td>A10</td>\n",
              "      <td>C</td>\n",
              "      <td>Mr</td>\n",
              "      <td>Mr</td>\n",
              "      <td>A</td>\n",
              "    </tr>\n",
              "    <tr>\n",
              "      <th>806</th>\n",
              "      <td>807</td>\n",
              "      <td>0.0</td>\n",
              "      <td>1</td>\n",
              "      <td>Andrews, Mr. Thomas Jr</td>\n",
              "      <td>male</td>\n",
              "      <td>39.0</td>\n",
              "      <td>0</td>\n",
              "      <td>0</td>\n",
              "      <td>112050</td>\n",
              "      <td>0.0000</td>\n",
              "      <td>A36</td>\n",
              "      <td>S</td>\n",
              "      <td>Mr</td>\n",
              "      <td>Mr</td>\n",
              "      <td>A</td>\n",
              "    </tr>\n",
              "    <tr>\n",
              "      <th>867</th>\n",
              "      <td>868</td>\n",
              "      <td>0.0</td>\n",
              "      <td>1</td>\n",
              "      <td>Roebling, Mr. Washington Augustus II</td>\n",
              "      <td>male</td>\n",
              "      <td>31.0</td>\n",
              "      <td>0</td>\n",
              "      <td>0</td>\n",
              "      <td>PC 17590</td>\n",
              "      <td>50.4958</td>\n",
              "      <td>A24</td>\n",
              "      <td>S</td>\n",
              "      <td>Mr</td>\n",
              "      <td>Mr</td>\n",
              "      <td>A</td>\n",
              "    </tr>\n",
              "  </tbody>\n",
              "</table>\n",
              "</div>"
            ],
            "text/plain": [
              "     PassengerId  Survived  Pclass                                  Name  \\\n",
              "96            97       0.0       1             Goldschmidt, Mr. George B   \n",
              "174          175       0.0       1               Smith, Mr. James Clinch   \n",
              "185          186       0.0       1                 Rood, Mr. Hugh Roscoe   \n",
              "284          285       0.0       1            Smith, Mr. Richard William   \n",
              "475          476       0.0       1           Clifford, Mr. George Quincy   \n",
              "583          584       0.0       1                   Ross, Mr. John Hugo   \n",
              "806          807       0.0       1                Andrews, Mr. Thomas Jr   \n",
              "867          868       0.0       1  Roebling, Mr. Washington Augustus II   \n",
              "\n",
              "      Sex   Age  SibSp  Parch    Ticket     Fare Cabin Embarked Title  \\\n",
              "96   male  71.0      0      0  PC 17754  34.6542    A5        C    Mr   \n",
              "174  male  56.0      0      0     17764  30.6958    A7        C    Mr   \n",
              "185  male   NaN      0      0    113767  50.0000   A32        S    Mr   \n",
              "284  male   NaN      0      0    113056  26.0000   A19        S    Mr   \n",
              "475  male   NaN      0      0    110465  52.0000   A14        S    Mr   \n",
              "583  male  36.0      0      0     13049  40.1250   A10        C    Mr   \n",
              "806  male  39.0      0      0    112050   0.0000   A36        S    Mr   \n",
              "867  male  31.0      0      0  PC 17590  50.4958   A24        S    Mr   \n",
              "\n",
              "    Title_category deck  \n",
              "96              Mr    A  \n",
              "174             Mr    A  \n",
              "185             Mr    A  \n",
              "284             Mr    A  \n",
              "475             Mr    A  \n",
              "583             Mr    A  \n",
              "806             Mr    A  \n",
              "867             Mr    A  "
            ]
          },
          "metadata": {
            "tags": []
          },
          "execution_count": 27
        }
      ]
    },
    {
      "cell_type": "markdown",
      "metadata": {
        "papermill": {
          "duration": 0.079794,
          "end_time": "2021-01-26T11:35:07.140945",
          "exception": false,
          "start_time": "2021-01-26T11:35:07.061151",
          "status": "completed"
        },
        "tags": [],
        "id": "MySFl-iOndG-"
      },
      "source": [
        "I was curious, so I read a bit about some of these passengers:  \n",
        "[John Hugo Ross](https://www.encyclopedia-titanica.org/titanic-victim/john-hugo-ross.html) When he boarded on 10 April 1912, he was so ill from dysentery he had to be carried to his cabin on a stretcher. When Ross was told the ship had struck an iceberg and that he should get dressed, Ross refused to believe the trouble serious. \"Is that all,?\" he told Peuchen. \"It will take more than an iceberg to get me off this ship.\" Presumably, Ross drowned in his bed.  \n",
        "\n",
        "[Andrews, Mr. Thomas Jr](https://en.wikipedia.org/wiki/Thomas_Andrews) was a managing director of H&W (built the Titanic) in charge of designing and was familiar with every detail of the construction of the firm's ships. He helped to evacuate people.\n",
        "\n",
        "[Roebling, Mr. Washington Augustus II ](https://www.encyclopedia-titanica.org/titanic-victim/washington-roebling.html) helped to evacuate people as well.\n",
        "\n",
        "It is obvious that there is no algorithm that can predict the survival rate by 100 percent based on the factors of the passenger's location on the ship or his age, since the human factor and the unpredicted emergensy were involved in the rescue process.\n",
        "\n",
        "For training process it will be better to include passenger from T deck to the A deck group."
      ]
    },
    {
      "cell_type": "markdown",
      "metadata": {
        "papermill": {
          "duration": 0.160338,
          "end_time": "2021-01-26T11:35:11.880996",
          "exception": false,
          "start_time": "2021-01-26T11:35:11.720658",
          "status": "completed"
        },
        "tags": [],
        "id": "oAmYDG0-ndHD"
      },
      "source": [
        "## 6.6 Class\n",
        "We have made a lot of assumptions about the survival rate depending on the classes. Let's now look closely at this variable.\n",
        "\n",
        "### 6.6.1 Passengers by class"
      ]
    },
    {
      "cell_type": "code",
      "metadata": {
        "_kg_hide-input": true,
        "execution": {
          "iopub.execute_input": "2021-01-26T11:35:12.068758Z",
          "iopub.status.busy": "2021-01-26T11:35:12.064652Z",
          "iopub.status.idle": "2021-01-26T11:35:12.202166Z",
          "shell.execute_reply": "2021-01-26T11:35:12.202661Z"
        },
        "papermill": {
          "duration": 0.235897,
          "end_time": "2021-01-26T11:35:12.202805",
          "exception": false,
          "start_time": "2021-01-26T11:35:11.966908",
          "status": "completed"
        },
        "tags": [],
        "colab": {
          "base_uri": "https://localhost:8080/",
          "height": 351
        },
        "id": "JoD5TTrHndHD",
        "outputId": "cfe803c5-ed00-4503-c278-6c6d2973a5d4"
      },
      "source": [
        "ax = sns.countplot(all_data['Pclass'], palette = ['#eed4d0', '#cda0aa', '#a2708e'])\n",
        "# calculate passengers for each category\n",
        "labels = (all_data['Pclass'].value_counts(sort = False))\n",
        "  \n",
        "plt.title('Passengers distribution by family size')\n",
        "plt.ylabel('Number of passengers')\n",
        "plt.tight_layout()"
      ],
      "execution_count": null,
      "outputs": [
        {
          "output_type": "stream",
          "text": [
            "/usr/local/lib/python3.7/dist-packages/seaborn/_decorators.py:43: FutureWarning: Pass the following variable as a keyword arg: x. From version 0.12, the only valid positional argument will be `data`, and passing other arguments without an explicit keyword will result in an error or misinterpretation.\n",
            "  FutureWarning\n"
          ],
          "name": "stderr"
        },
        {
          "output_type": "display_data",
          "data": {
            "image/png": "[encoded data removed]",
            "text/plain": [
              "<Figure size 432x288 with 1 Axes>"
            ]
          },
          "metadata": {
            "tags": [],
            "needs_background": "light"
          }
        }
      ]
    },
    {
      "cell_type": "markdown",
      "metadata": {
        "papermill": {
          "duration": 0.083594,
          "end_time": "2021-01-26T11:35:12.371900",
          "exception": false,
          "start_time": "2021-01-26T11:35:12.288306",
          "status": "completed"
        },
        "tags": [],
        "id": "p7GQ6TGdndHE"
      },
      "source": [
        "Most of the Titanic's passengers were traveling third class (709).  \n",
        "The second class is the smallest in terms of the number of passengers."
      ]
    },
    {
      "cell_type": "markdown",
      "metadata": {
        "papermill": {
          "duration": 0.083903,
          "end_time": "2021-01-26T11:35:12.540058",
          "exception": false,
          "start_time": "2021-01-26T11:35:12.456155",
          "status": "completed"
        },
        "tags": [],
        "id": "pXg71kxVndHE"
      },
      "source": [
        "### 6.6.2 Class vs surviving status"
      ]
    },
    {
      "cell_type": "code",
      "metadata": {
        "_kg_hide-input": true,
        "execution": {
          "iopub.execute_input": "2021-01-26T11:35:12.712074Z",
          "iopub.status.busy": "2021-01-26T11:35:12.711438Z",
          "iopub.status.idle": "2021-01-26T11:35:13.039222Z",
          "shell.execute_reply": "2021-01-26T11:35:13.038485Z"
        },
        "papermill": {
          "duration": 0.414862,
          "end_time": "2021-01-26T11:35:13.039353",
          "exception": false,
          "start_time": "2021-01-26T11:35:12.624491",
          "status": "completed"
        },
        "tags": [],
        "id": "XpCJJSTrndHE",
        "outputId": "ea3a9f24-8008-4ca1-d511-c72c6022f7f4"
      },
      "source": [
        "fig = plt.figure(figsize=(14, 5))\n",
        "\n",
        "ax1 = fig.add_subplot(121)\n",
        "sns.countplot(x = 'Pclass', hue = 'Survived', data = all_data, palette=[\"#3f3e6fd1\", \"#85c6a9\"], ax = ax1)\n",
        "plt.title('Number of survived/drowned passengers by class (train data)')\n",
        "plt.ylabel('Number of passengers')\n",
        "plt.legend(( 'Drowned', 'Survived'), loc=(1.04,0))\n",
        "_ = plt.xticks(rotation=False)\n",
        "\n",
        "ax2 = fig.add_subplot(122)\n",
        "d = all_data.groupby('Pclass')['Survived'].value_counts(normalize = True).unstack()\n",
        "d.plot(kind='bar', stacked='True', ax = ax2, color =[\"#3f3e6fd1\", \"#85c6a9\"])\n",
        "plt.title('Proportion of survived/drowned passengers by class (train data)')\n",
        "plt.legend(( 'Drowned', 'Survived'), loc=(1.04,0))\n",
        "_ = plt.xticks(rotation=False)\n",
        "\n",
        "plt.tight_layout()"
      ],
      "execution_count": null,
      "outputs": [
        {
          "output_type": "display_data",
          "data": {
            "image/png": "[encoded data removed]",
            "text/plain": [
              "<Figure size 1008x360 with 2 Axes>"
            ]
          },
          "metadata": {
            "tags": [],
            "needs_background": "light"
          }
        }
      ]
    },
    {
      "cell_type": "markdown",
      "metadata": {
        "papermill": {
          "duration": 0.085193,
          "end_time": "2021-01-26T11:35:13.212020",
          "exception": false,
          "start_time": "2021-01-26T11:35:13.126827",
          "status": "completed"
        },
        "tags": [],
        "id": "QJfOt7ZNndHE"
      },
      "source": [
        "Despite the previously identified prerequisites (on average, older people are more likely to die, and in the first class, the average age is higher than in other classes. Also, passengers on deck A, which consists of 100% first class, have a large proportion of drowned passengers), the first class has the largest number of survivors and the proportion of survivors within the class is the largest.  \n",
        "Third-class tickets had the highest number of drowned passengers, and most of the third-class passengers drowned."
      ]
    },
    {
      "cell_type": "markdown",
      "metadata": {
        "papermill": {
          "duration": 0.085843,
          "end_time": "2021-01-26T11:35:13.383574",
          "exception": false,
          "start_time": "2021-01-26T11:35:13.297731",
          "status": "completed"
        },
        "tags": [],
        "id": "l7xdRUHbndHE"
      },
      "source": [
        "### 6.6.3 Class vs surviving status vs gender"
      ]
    },
    {
      "cell_type": "code",
      "metadata": {
        "_kg_hide-input": true,
        "execution": {
          "iopub.execute_input": "2021-01-26T11:35:13.566956Z",
          "iopub.status.busy": "2021-01-26T11:35:13.566004Z",
          "iopub.status.idle": "2021-01-26T11:35:13.950482Z",
          "shell.execute_reply": "2021-01-26T11:35:13.949948Z"
        },
        "papermill": {
          "duration": 0.480479,
          "end_time": "2021-01-26T11:35:13.950615",
          "exception": false,
          "start_time": "2021-01-26T11:35:13.470136",
          "status": "completed"
        },
        "tags": [],
        "id": "pRaa_ojSndHE",
        "outputId": "fab7b6b6-eae6-49cb-894c-5d3dfa3dc45e"
      },
      "source": [
        "sns.catplot(x = 'Pclass', hue = 'Survived', col = 'Sex', kind = 'count', data = all_data , palette=[\"#3f3e6fd1\", \"#85c6a9\"])\n",
        "\n",
        "plt.tight_layout()"
      ],
      "execution_count": null,
      "outputs": [
        {
          "output_type": "display_data",
          "data": {
            "image/png": "[encoded data removed]",
            "text/plain": [
              "<Figure size 772x360 with 2 Axes>"
            ]
          },
          "metadata": {
            "tags": [],
            "needs_background": "light"
          }
        }
      ]
    },
    {
      "cell_type": "markdown",
      "metadata": {
        "papermill": {
          "duration": 0.0863,
          "end_time": "2021-01-26T11:35:14.123896",
          "exception": false,
          "start_time": "2021-01-26T11:35:14.037596",
          "status": "completed"
        },
        "tags": [],
        "id": "-ENAVzlzndHF"
      },
      "source": [
        "However, most of the male passengers of the first class drowned, and the female almost all survived. In the third grade, half of the female survived."
      ]
    },
    {
      "cell_type": "code",
      "metadata": {
        "colab": {
          "base_uri": "https://localhost:8080/"
        },
        "id": "N_u2Pdn6FJ3j",
        "outputId": "52d83c0b-943c-45a6-9273-99e9aee324fd"
      },
      "source": [
        "all_data['Sex'].value_counts()"
      ],
      "execution_count": null,
      "outputs": [
        {
          "output_type": "execute_result",
          "data": {
            "text/plain": [
              "male      577\n",
              "female    314\n",
              "Name: Sex, dtype: int64"
            ]
          },
          "metadata": {
            "tags": []
          },
          "execution_count": 56
        }
      ]
    },
    {
      "cell_type": "code",
      "metadata": {
        "colab": {
          "base_uri": "https://localhost:8080/"
        },
        "id": "htSSswRvFW6B",
        "outputId": "3d014514-ca64-402a-dcd7-99fa09bc000b"
      },
      "source": [
        "all_data.loc[(all_data['Sex']=='female') & (all_data['Survived']==0),'Age'].describe()"
      ],
      "execution_count": null,
      "outputs": [
        {
          "output_type": "execute_result",
          "data": {
            "text/plain": [
              "count    64.000000\n",
              "mean     25.046875\n",
              "std      13.618591\n",
              "min       2.000000\n",
              "25%      16.750000\n",
              "50%      24.500000\n",
              "75%      33.250000\n",
              "max      57.000000\n",
              "Name: Age, dtype: float64"
            ]
          },
          "metadata": {
            "tags": []
          },
          "execution_count": 65
        }
      ]
    },
    {
      "cell_type": "markdown",
      "metadata": {
        "papermill": {
          "duration": 0.086312,
          "end_time": "2021-01-26T11:35:14.297155",
          "exception": false,
          "start_time": "2021-01-26T11:35:14.210843",
          "status": "completed"
        },
        "tags": [],
        "id": "F2s0NioUndHF"
      },
      "source": [
        "### 6.6.4 Class vs. Gender vs. Age -> Surviving status \n",
        "For better understanding how the combination of some factors influence on chances to survive, lets break passengers into 18 imaginary groups separated by:\n",
        "* **Class** (1 / 2 / 3)\n",
        "* **Gender** (male / female)\n",
        "* **Age** ( <16 / 16-40 / 40<)  \n",
        "\n",
        "To do so I will create 6 stripplots (3 for male, 3 for female), with values grouped by Surviving status and add background color to separate age groups:"
      ]
    },
    {
      "cell_type": "code",
      "metadata": {
        "_kg_hide-input": true,
        "execution": {
          "iopub.execute_input": "2021-01-26T11:35:14.500653Z",
          "iopub.status.busy": "2021-01-26T11:35:14.499572Z",
          "iopub.status.idle": "2021-01-26T11:35:15.156287Z",
          "shell.execute_reply": "2021-01-26T11:35:15.156764Z"
        },
        "papermill": {
          "duration": 0.771866,
          "end_time": "2021-01-26T11:35:15.156908",
          "exception": false,
          "start_time": "2021-01-26T11:35:14.385042",
          "status": "completed"
        },
        "tags": [],
        "id": "7DuevBYCndHF",
        "outputId": "d3c43153-4c53-46cf-c556-38c197b3325c"
      },
      "source": [
        "plt.figure(figsize=(20, 10))\n",
        "palette=[\"#3f3e6fd1\", \"#85c6a9\"]\n",
        "\n",
        "plt.subplot(2, 3, 1)\n",
        "sns.stripplot(x = 'Survived', y = 'Age', data = age_1_class[age_1_class['Sex']=='male'],\n",
        "     linewidth = 0.9, palette = palette)\n",
        "plt.axhspan(0, 16, color = \"#e1f3f6\")\n",
        "plt.axhspan(16, 40, color = \"#bde6dd\")\n",
        "plt.axhspan(40, 80, color = \"#83ceb9\")\n",
        "plt.title('Age distribution (males, 1st class)',fontsize= 14)\n",
        "plt.xticks( np.arange(2), ['drowned', 'survived'])\n",
        "plt.ylim(0, 80)\n",
        "\n",
        "plt.subplot(2, 3, 2)\n",
        "sns.stripplot(x = 'Survived', y = 'Age', data = age_2_class[age_2_class['Sex']=='male'],\n",
        "     linewidth = 0.9, palette = palette)\n",
        "plt.axhspan(0, 16, color = \"#e1f3f6\")\n",
        "plt.axhspan(16, 40, color = \"#bde6dd\")\n",
        "plt.axhspan(40, 80, color = \"#83ceb9\")\n",
        "plt.title('Age distribution (males, 2nd class)',fontsize= 14)\n",
        "plt.xticks( np.arange(2), ['drowned', 'survived'])\n",
        "plt.ylim(0, 80)\n",
        "\n",
        "plt.subplot(2, 3, 3)\n",
        "sns.stripplot(x = 'Survived', y = 'Age', data = age_3_class[age_3_class['Sex']=='male'],\n",
        "              linewidth = 0.9, palette = palette)\n",
        "plt.axhspan(0, 16, color = \"#e1f3f6\")\n",
        "plt.axhspan(16, 40, color = \"#bde6dd\")\n",
        "plt.axhspan(40, 80, color = \"#83ceb9\")\n",
        "plt.title('Age distribution (males, 3rd class)',fontsize= 14)\n",
        "plt.xticks( np.arange(2), ['drowned', 'survived'])\n",
        "plt.ylim(0, 80)\n",
        "\n",
        "\n",
        "plt.subplot(2, 3, 4)\n",
        "sns.stripplot(x = 'Survived', y = 'Age', data = age_1_class[age_1_class['Sex']=='female'],\n",
        "     linewidth = 0.9, palette = palette)\n",
        "plt.axhspan(0, 16, color = \"#ffff9978\")\n",
        "plt.axhspan(16, 40, color = \"#ffff97bf\")\n",
        "plt.axhspan(40, 80, color = \"#ffed97bf\")\n",
        "plt.title('Age distribution (females, 1st class)',fontsize= 14)\n",
        "plt.xticks( np.arange(2), ['drowned', 'survived'])\n",
        "plt.ylim(0, 80)\n",
        "\n",
        "plt.subplot(2, 3, 5)\n",
        "sns.stripplot(x = 'Survived', y = 'Age', data = age_2_class[age_2_class['Sex']=='female'],\n",
        "     linewidth = 0.9, palette = palette)\n",
        "plt.axhspan(0, 16, color = \"#ffff9978\")\n",
        "plt.axhspan(16, 40, color = \"#ffff97bf\")\n",
        "plt.axhspan(40, 80, color = \"#ffed97bf\")\n",
        "plt.title('Age distribution (females, 2nd class)',fontsize= 14)\n",
        "plt.xticks( np.arange(2), ['drowned', 'survived'])\n",
        "plt.ylim(0, 80)\n",
        "\n",
        "plt.subplot(2, 3, 6)\n",
        "sns.stripplot(x = 'Survived', y = 'Age', data = age_3_class[age_3_class['Sex']=='female'],\n",
        "              linewidth = 0.9, palette = palette)\n",
        "plt.axhspan(0, 16, color = \"#ffff9978\")\n",
        "plt.axhspan(16, 40, color = \"#ffff97bf\")\n",
        "plt.axhspan(40, 80, color = \"#ffed97bf\")\n",
        "plt.title('Age distribution (females, 3rd class)',fontsize= 14)\n",
        "plt.xticks( np.arange(2), ['drowned', 'survived'])\n",
        "plt.ylim(0, 80)\n",
        "\n",
        "\n",
        "plt.show()"
      ],
      "execution_count": null,
      "outputs": [
        {
          "output_type": "display_data",
          "data": {
            "image/png": "[encoded data removed]",
            "text/plain": [
              "<Figure size 1440x720 with 6 Axes>"
            ]
          },
          "metadata": {
            "tags": [],
            "needs_background": "light"
          }
        }
      ]
    },
    {
      "cell_type": "markdown",
      "metadata": {
        "papermill": {
          "duration": 0.088766,
          "end_time": "2021-01-26T11:35:15.335656",
          "exception": false,
          "start_time": "2021-01-26T11:35:15.246890",
          "status": "completed"
        },
        "tags": [],
        "id": "6o9iuFzOndHI"
      },
      "source": [
        "From these graphs (training data only) we can see, that \n",
        "* only one kid (<16) from 1st and 2nd classes are drowned (female from the 1st class).\n",
        "* but children from the 3rd class were not so lucky, looks like chances to survive for passengers <16 were 50/50 for male and female.\n",
        "* most females from 1st and 2nd class are survived, without much difference in Age.\n",
        "* females from 3rd class in Age group 40+ drowned except one.\n",
        "* similar picture for males in 2nd and 3rd classes in the Age group 40+: only 2 from each class are survived.\n",
        "* for 40+ males from 1st class situation were slightly different, there are more survived passengers.\n",
        "* the largest \"accumulation\" of drowned passengers is observed in the Age group 16-40 males, 3rd class."
      ]
    },
    {
      "cell_type": "markdown",
      "metadata": {
        "papermill": {
          "duration": 0.089838,
          "end_time": "2021-01-26T11:35:15.514795",
          "exception": false,
          "start_time": "2021-01-26T11:35:15.424957",
          "status": "completed"
        },
        "tags": [],
        "id": "0Bop_cZvndHI"
      },
      "source": [
        "## 6.7 Gender\n",
        "Let's discover gender a little bit more:"
      ]
    },
    {
      "cell_type": "code",
      "metadata": {
        "_kg_hide-input": true,
        "execution": {
          "iopub.execute_input": "2021-01-26T11:35:15.710643Z",
          "iopub.status.busy": "2021-01-26T11:35:15.706975Z",
          "iopub.status.idle": "2021-01-26T11:35:16.234028Z",
          "shell.execute_reply": "2021-01-26T11:35:16.233480Z"
        },
        "papermill": {
          "duration": 0.628199,
          "end_time": "2021-01-26T11:35:16.234133",
          "exception": false,
          "start_time": "2021-01-26T11:35:15.605934",
          "status": "completed"
        },
        "tags": [],
        "id": "TJRh4DCtndHI",
        "outputId": "e3198a53-3035-4236-9542-0183c5589250"
      },
      "source": [
        "plt.figure(figsize = (15,4))\n",
        "\n",
        "plt.subplot (1,3,1)\n",
        "ax = sns.countplot(all_data['Sex'], palette=\"Set3\")\n",
        "plt.title('Number of passengers by Sex')\n",
        "plt.ylabel('Number of passengers')\n",
        "\n",
        "# calculate passengers for each category\n",
        "labels = (all_data['Sex'].value_counts())\n",
        "# add result numbers on barchart\n",
        "for i, v in enumerate(labels):\n",
        "    ax.text(i, v+10, str(v), horizontalalignment = 'center', size = 10, color = 'black')\n",
        "    \n",
        "\n",
        "plt.subplot (1,3,2)\n",
        "sns.countplot( x = 'Pclass', data = all_data, hue = 'Sex', palette=\"Set3\")\n",
        "plt.title('Number of male/female passengers by class')\n",
        "plt.ylabel('Number of passengers')\n",
        "plt.legend( loc=(1.04,0))\n",
        "\n",
        "plt.subplot (1,3,3)\n",
        "sns.countplot( x = 'Family_size_group', data = all_data, hue = 'Sex', \n",
        "              order = all_data['Family_size_group'].value_counts().index , palette=\"Set3\")\n",
        "plt.title('Number of male/female passengers by family size')\n",
        "plt.ylabel('Number of passengers')\n",
        "plt.legend( loc=(1.04,0))\n",
        "plt.tight_layout()"
      ],
      "execution_count": null,
      "outputs": [
        {
          "output_type": "display_data",
          "data": {
            "image/png": "[encoded data removed]",
            "text/plain": [
              "<Figure size 1080x288 with 3 Axes>"
            ]
          },
          "metadata": {
            "tags": [],
            "needs_background": "light"
          }
        }
      ]
    },
    {
      "cell_type": "markdown",
      "metadata": {
        "papermill": {
          "duration": 0.090539,
          "end_time": "2021-01-26T11:35:16.415534",
          "exception": false,
          "start_time": "2021-01-26T11:35:16.324995",
          "status": "completed"
        },
        "tags": [],
        "id": "w0GRin-HndHI"
      },
      "source": [
        "There were overall more males than females on board, it is fair for each ticket class, but in the 3rd class number of males more than twice bigger than females.  \n",
        "Almost 600 male passengers traveled without family members and only about 200 females, but in usual and big families there were slightly more female passengers."
      ]
    },
    {
      "cell_type": "markdown",
      "metadata": {
        "papermill": {
          "duration": 0.090774,
          "end_time": "2021-01-26T11:35:16.596875",
          "exception": false,
          "start_time": "2021-01-26T11:35:16.506101",
          "status": "completed"
        },
        "tags": [],
        "id": "gU4fBLalndHJ"
      },
      "source": [
        "## 6.8 Embarked\n",
        "Titanic had 3 embarkation points before the ship started its route to New York:\n",
        "* Southampton\n",
        "* Cherbourg\n",
        "* Queenstown  \n",
        "\n",
        "Some passengers could leave Titanic in Cherbourg or Queenstown and avoid catastrophe. Also, the point of embarkation could have an influence on ticket fare and location on the ship.  \n",
        "\n",
        "![09269a9f7d50a3f019182a11f7aa7981.jpg](attachment:09269a9f7d50a3f019182a11f7aa7981.jpg)\n",
        "\n",
        "Port of Embarkation (C = Cherbourg; Q = Queenstown; S = Southampton)\n"
      ]
    },
    {
      "cell_type": "code",
      "metadata": {
        "_kg_hide-input": true,
        "execution": {
          "iopub.execute_input": "2021-01-26T11:35:16.798854Z",
          "iopub.status.busy": "2021-01-26T11:35:16.797218Z",
          "iopub.status.idle": "2021-01-26T11:35:17.181127Z",
          "shell.execute_reply": "2021-01-26T11:35:17.180654Z"
        },
        "papermill": {
          "duration": 0.492989,
          "end_time": "2021-01-26T11:35:17.181238",
          "exception": false,
          "start_time": "2021-01-26T11:35:16.688249",
          "status": "completed"
        },
        "tags": [],
        "id": "Gv2ZbaCbndHJ",
        "outputId": "74346a55-4dd8-4f08-9cdf-e7b608386a43"
      },
      "source": [
        "fig = plt.figure(figsize = (15,4))\n",
        "\n",
        "ax1 = fig.add_subplot(131)\n",
        "palette = sns.cubehelix_palette(5, start = 2)\n",
        "ax = sns.countplot(all_data['Embarked'], palette = palette, order = ['C', 'Q', 'S'], ax = ax1)\n",
        "plt.title('Number of passengers by Embarked')\n",
        "plt.ylabel('Number of passengers')\n",
        "\n",
        "# calculate passengers for each category\n",
        "labels = (all_data['Embarked'].value_counts())\n",
        "labels = labels.sort_index()\n",
        "# add result numbers on barchart\n",
        "for i, v in enumerate(labels):\n",
        "    ax.text(i, v+10, str(v), horizontalalignment = 'center', size = 10, color = 'black')\n",
        "    \n",
        "\n",
        "ax2 = fig.add_subplot(132)\n",
        "surv_by_emb = all_data.groupby('Embarked')['Survived'].value_counts(normalize = True)\n",
        "surv_by_emb = surv_by_emb.unstack().sort_index()\n",
        "surv_by_emb.plot(kind='bar', stacked='True', color=[\"#3f3e6fd1\", \"#85c6a9\"], ax = ax2)\n",
        "plt.title('Proportion of survived/drowned passengers by Embarked (train data)')\n",
        "plt.legend(( 'Drowned', 'Survived'), loc=(1.04,0))\n",
        "_ = plt.xticks(rotation=False)\n",
        "\n",
        "\n",
        "ax3 = fig.add_subplot(133)\n",
        "class_by_emb = all_data.groupby('Embarked')['Pclass'].value_counts(normalize = True)\n",
        "class_by_emb = class_by_emb.unstack().sort_index()\n",
        "class_by_emb.plot(kind='bar', stacked='True', color = ['#eed4d0', '#cda0aa', '#a2708e'], ax = ax3)\n",
        "plt.legend(('1st class', '2nd class', '3rd class'), loc=(1.04,0))\n",
        "plt.title('Proportion of clases by Embarked')\n",
        "_ = plt.xticks(rotation=False)\n",
        "\n",
        "plt.tight_layout()"
      ],
      "execution_count": null,
      "outputs": [
        {
          "output_type": "display_data",
          "data": {
            "image/png": "[encoded data removed]",
            "text/plain": [
              "<Figure size 1080x288 with 3 Axes>"
            ]
          },
          "metadata": {
            "tags": [],
            "needs_background": "light"
          }
        }
      ]
    },
    {
      "cell_type": "markdown",
      "metadata": {
        "papermill": {
          "duration": 0.096035,
          "end_time": "2021-01-26T11:35:17.368962",
          "exception": false,
          "start_time": "2021-01-26T11:35:17.272927",
          "status": "completed"
        },
        "tags": [],
        "id": "WTeocXemndHK"
      },
      "source": [
        "* Most number of passengers (914) were embarked in Southampton. Also Southampton has the biggiest proportion of drowned passengers.\n",
        "* 270 passengers emarked in Cherbourg and more than 50% of them survived (in the training dataset). \n",
        "* 123 of passengers embarked in Queenstown, the vast majority of them are 3rd class passengers\n"
      ]
    },
    {
      "cell_type": "code",
      "metadata": {
        "execution": {
          "iopub.execute_input": "2021-01-26T11:35:17.566477Z",
          "iopub.status.busy": "2021-01-26T11:35:17.560794Z",
          "iopub.status.idle": "2021-01-26T11:35:17.742906Z",
          "shell.execute_reply": "2021-01-26T11:35:17.743316Z"
        },
        "papermill": {
          "duration": 0.283304,
          "end_time": "2021-01-26T11:35:17.743490",
          "exception": false,
          "start_time": "2021-01-26T11:35:17.460186",
          "status": "completed"
        },
        "tags": [],
        "id": "nvTldtBNndHK",
        "outputId": "f6911f86-9397-44d0-e664-1e05add25b47"
      },
      "source": [
        "\n",
        "sns.catplot(x=\"Embarked\", y=\"Fare\", kind=\"violin\", inner=None,\n",
        "            data=all_data, height = 6, palette = palette, order = ['C', 'Q', 'S'])\n",
        "plt.title('Distribution of Fare by Embarked')\n",
        "plt.tight_layout()"
      ],
      "execution_count": null,
      "outputs": [
        {
          "output_type": "display_data",
          "data": {
            "image/png": "[encoded data removed]",
            "text/plain": [
              "<Figure size 432x432 with 1 Axes>"
            ]
          },
          "metadata": {
            "tags": [],
            "needs_background": "light"
          }
        }
      ]
    },
    {
      "cell_type": "code",
      "metadata": {
        "_kg_hide-input": true,
        "execution": {
          "iopub.execute_input": "2021-01-26T11:35:17.954219Z",
          "iopub.status.busy": "2021-01-26T11:35:17.941479Z",
          "iopub.status.idle": "2021-01-26T11:35:17.958420Z",
          "shell.execute_reply": "2021-01-26T11:35:17.957920Z"
        },
        "papermill": {
          "duration": 0.122076,
          "end_time": "2021-01-26T11:35:17.958546",
          "exception": false,
          "start_time": "2021-01-26T11:35:17.836470",
          "status": "completed"
        },
        "tags": [],
        "id": "mmXLZ3o2ndHL",
        "outputId": "c53ababf-c886-4de8-e3d1-6248bc4fec78"
      },
      "source": [
        "# Descriptive statistics:\n",
        "pd.DataFrame(all_data.groupby('Embarked')['Fare'].describe())"
      ],
      "execution_count": null,
      "outputs": [
        {
          "output_type": "execute_result",
          "data": {
            "text/html": [
              "<div>\n",
              "<style scoped>\n",
              "    .dataframe tbody tr th:only-of-type {\n",
              "        vertical-align: middle;\n",
              "    }\n",
              "\n",
              "    .dataframe tbody tr th {\n",
              "        vertical-align: top;\n",
              "    }\n",
              "\n",
              "    .dataframe thead th {\n",
              "        text-align: right;\n",
              "    }\n",
              "</style>\n",
              "<table border=\"1\" class=\"dataframe\">\n",
              "  <thead>\n",
              "    <tr style=\"text-align: right;\">\n",
              "      <th></th>\n",
              "      <th>count</th>\n",
              "      <th>mean</th>\n",
              "      <th>std</th>\n",
              "      <th>min</th>\n",
              "      <th>25%</th>\n",
              "      <th>50%</th>\n",
              "      <th>75%</th>\n",
              "      <th>max</th>\n",
              "    </tr>\n",
              "    <tr>\n",
              "      <th>Embarked</th>\n",
              "      <th></th>\n",
              "      <th></th>\n",
              "      <th></th>\n",
              "      <th></th>\n",
              "      <th></th>\n",
              "      <th></th>\n",
              "      <th></th>\n",
              "      <th></th>\n",
              "    </tr>\n",
              "  </thead>\n",
              "  <tbody>\n",
              "    <tr>\n",
              "      <th>C</th>\n",
              "      <td>270.0</td>\n",
              "      <td>62.336267</td>\n",
              "      <td>84.185996</td>\n",
              "      <td>4.0125</td>\n",
              "      <td>13.8583</td>\n",
              "      <td>28.51875</td>\n",
              "      <td>78.966675</td>\n",
              "      <td>512.3292</td>\n",
              "    </tr>\n",
              "    <tr>\n",
              "      <th>Q</th>\n",
              "      <td>123.0</td>\n",
              "      <td>12.409012</td>\n",
              "      <td>13.616133</td>\n",
              "      <td>6.7500</td>\n",
              "      <td>7.7500</td>\n",
              "      <td>7.75000</td>\n",
              "      <td>10.197900</td>\n",
              "      <td>90.0000</td>\n",
              "    </tr>\n",
              "    <tr>\n",
              "      <th>S</th>\n",
              "      <td>913.0</td>\n",
              "      <td>27.418824</td>\n",
              "      <td>37.096402</td>\n",
              "      <td>0.0000</td>\n",
              "      <td>8.0500</td>\n",
              "      <td>13.00000</td>\n",
              "      <td>27.750000</td>\n",
              "      <td>263.0000</td>\n",
              "    </tr>\n",
              "  </tbody>\n",
              "</table>\n",
              "</div>"
            ],
            "text/plain": [
              "          count       mean        std     min      25%       50%        75%  \\\n",
              "Embarked                                                                      \n",
              "C         270.0  62.336267  84.185996  4.0125  13.8583  28.51875  78.966675   \n",
              "Q         123.0  12.409012  13.616133  6.7500   7.7500   7.75000  10.197900   \n",
              "S         913.0  27.418824  37.096402  0.0000   8.0500  13.00000  27.750000   \n",
              "\n",
              "               max  \n",
              "Embarked            \n",
              "C         512.3292  \n",
              "Q          90.0000  \n",
              "S         263.0000  "
            ]
          },
          "metadata": {
            "tags": []
          },
          "execution_count": 47
        }
      ]
    },
    {
      "cell_type": "markdown",
      "metadata": {
        "papermill": {
          "duration": 0.0935,
          "end_time": "2021-01-26T11:35:18.145731",
          "exception": false,
          "start_time": "2021-01-26T11:35:18.052231",
          "status": "completed"
        },
        "tags": [],
        "id": "T9SDZoDnndHL"
      },
      "source": [
        "* The wider fare distribution among passengers who embarked in Cherbourg. It makes scence - many first-class passengers boarded the ship here, but the share of third-class passengers is quite significant.\n",
        "* The smallest variation in the price of passengers who boarded in q. Also, the average price of these passengers is the smallest, I think this is due to the fact that the path was supposed to be the shortest + almost all third-class passengers.\n",
        "\n",
        "Let's check NA values of Embarked variable:"
      ]
    },
    {
      "cell_type": "code",
      "metadata": {
        "_kg_hide-input": true,
        "execution": {
          "iopub.execute_input": "2021-01-26T11:35:18.348203Z",
          "iopub.status.busy": "2021-01-26T11:35:18.347532Z",
          "iopub.status.idle": "2021-01-26T11:35:18.351387Z",
          "shell.execute_reply": "2021-01-26T11:35:18.351837Z"
        },
        "papermill": {
          "duration": 0.112496,
          "end_time": "2021-01-26T11:35:18.351988",
          "exception": false,
          "start_time": "2021-01-26T11:35:18.239492",
          "status": "completed"
        },
        "tags": [],
        "id": "CWgdER_andHL",
        "outputId": "a1f336fc-c965-4803-f83c-5faa2a2cc98e"
      },
      "source": [
        "train_data[train_data['Embarked'].isna()]"
      ],
      "execution_count": null,
      "outputs": [
        {
          "output_type": "execute_result",
          "data": {
            "text/html": [
              "<div>\n",
              "<style scoped>\n",
              "    .dataframe tbody tr th:only-of-type {\n",
              "        vertical-align: middle;\n",
              "    }\n",
              "\n",
              "    .dataframe tbody tr th {\n",
              "        vertical-align: top;\n",
              "    }\n",
              "\n",
              "    .dataframe thead th {\n",
              "        text-align: right;\n",
              "    }\n",
              "</style>\n",
              "<table border=\"1\" class=\"dataframe\">\n",
              "  <thead>\n",
              "    <tr style=\"text-align: right;\">\n",
              "      <th></th>\n",
              "      <th>PassengerId</th>\n",
              "      <th>Survived</th>\n",
              "      <th>Pclass</th>\n",
              "      <th>Name</th>\n",
              "      <th>Sex</th>\n",
              "      <th>Age</th>\n",
              "      <th>SibSp</th>\n",
              "      <th>Parch</th>\n",
              "      <th>Ticket</th>\n",
              "      <th>Fare</th>\n",
              "      <th>Cabin</th>\n",
              "      <th>Embarked</th>\n",
              "    </tr>\n",
              "  </thead>\n",
              "  <tbody>\n",
              "    <tr>\n",
              "      <th>61</th>\n",
              "      <td>62</td>\n",
              "      <td>1</td>\n",
              "      <td>1</td>\n",
              "      <td>Icard, Miss. Amelie</td>\n",
              "      <td>female</td>\n",
              "      <td>38.0</td>\n",
              "      <td>0</td>\n",
              "      <td>0</td>\n",
              "      <td>113572</td>\n",
              "      <td>80.0</td>\n",
              "      <td>B28</td>\n",
              "      <td>NaN</td>\n",
              "    </tr>\n",
              "    <tr>\n",
              "      <th>829</th>\n",
              "      <td>830</td>\n",
              "      <td>1</td>\n",
              "      <td>1</td>\n",
              "      <td>Stone, Mrs. George Nelson (Martha Evelyn)</td>\n",
              "      <td>female</td>\n",
              "      <td>62.0</td>\n",
              "      <td>0</td>\n",
              "      <td>0</td>\n",
              "      <td>113572</td>\n",
              "      <td>80.0</td>\n",
              "      <td>B28</td>\n",
              "      <td>NaN</td>\n",
              "    </tr>\n",
              "  </tbody>\n",
              "</table>\n",
              "</div>"
            ],
            "text/plain": [
              "     PassengerId  Survived  Pclass                                       Name  \\\n",
              "61            62         1       1                        Icard, Miss. Amelie   \n",
              "829          830         1       1  Stone, Mrs. George Nelson (Martha Evelyn)   \n",
              "\n",
              "        Sex   Age  SibSp  Parch  Ticket  Fare Cabin Embarked  \n",
              "61   female  38.0      0      0  113572  80.0   B28      NaN  \n",
              "829  female  62.0      0      0  113572  80.0   B28      NaN  "
            ]
          },
          "metadata": {
            "tags": []
          },
          "execution_count": 48
        }
      ]
    },
    {
      "cell_type": "markdown",
      "metadata": {
        "papermill": {
          "duration": 0.094299,
          "end_time": "2021-01-26T11:35:18.541597",
          "exception": false,
          "start_time": "2021-01-26T11:35:18.447298",
          "status": "completed"
        },
        "tags": [],
        "id": "MLY0si1qndHM"
      },
      "source": [
        "These two passengers traveled together (same ticket number). To impute missing values, we can use mode value for passengers with the closest fare value and Pclass."
      ]
    },
    {
      "cell_type": "markdown",
      "metadata": {
        "papermill": {
          "duration": 0.094631,
          "end_time": "2021-01-26T11:35:18.731395",
          "exception": false,
          "start_time": "2021-01-26T11:35:18.636764",
          "status": "completed"
        },
        "tags": [],
        "id": "IURhFseIndHM"
      },
      "source": [
        "## 6.9 Fare\n"
      ]
    },
    {
      "cell_type": "code",
      "metadata": {
        "_kg_hide-input": true,
        "execution": {
          "iopub.execute_input": "2021-01-26T11:35:18.937718Z",
          "iopub.status.busy": "2021-01-26T11:35:18.937094Z",
          "iopub.status.idle": "2021-01-26T11:35:26.602611Z",
          "shell.execute_reply": "2021-01-26T11:35:26.601943Z"
        },
        "papermill": {
          "duration": 7.776628,
          "end_time": "2021-01-26T11:35:26.602729",
          "exception": false,
          "start_time": "2021-01-26T11:35:18.826101",
          "status": "completed"
        },
        "tags": [],
        "id": "CzNPK4LcndHM",
        "outputId": "9ab00944-a947-45d1-9f45-b3c0db932eb4"
      },
      "source": [
        "sns.catplot(x=\"Pclass\", y=\"Fare\", kind=\"swarm\", data=all_data, palette=sns.cubehelix_palette(5, start = 3), height = 6)\n",
        "\n",
        "plt.tight_layout()"
      ],
      "execution_count": null,
      "outputs": [
        {
          "output_type": "display_data",
          "data": {
            "image/png": "[encoded data removed]",
            "text/plain": [
              "<Figure size 432x432 with 1 Axes>"
            ]
          },
          "metadata": {
            "tags": [],
            "needs_background": "light"
          }
        }
      ]
    },
    {
      "cell_type": "markdown",
      "metadata": {
        "papermill": {
          "duration": 0.095608,
          "end_time": "2021-01-26T11:35:26.795095",
          "exception": false,
          "start_time": "2021-01-26T11:35:26.699487",
          "status": "completed"
        },
        "tags": [],
        "id": "DtWbFS4endHM"
      },
      "source": [
        "We can observe that the distribution of prices for the second and third class is very similar. The distribution of first-class prices is very different, has a larger spread, and on average prices are higher. \n",
        "\n",
        "Let's add colours to our points to indicate surviving status of passenger (there will be only data from training part of the dataset):"
      ]
    },
    {
      "cell_type": "code",
      "metadata": {
        "_kg_hide-input": true,
        "execution": {
          "iopub.execute_input": "2021-01-26T11:35:27.005402Z",
          "iopub.status.busy": "2021-01-26T11:35:26.998399Z",
          "iopub.status.idle": "2021-01-26T11:35:30.454252Z",
          "shell.execute_reply": "2021-01-26T11:35:30.454722Z"
        },
        "papermill": {
          "duration": 3.561634,
          "end_time": "2021-01-26T11:35:30.454859",
          "exception": false,
          "start_time": "2021-01-26T11:35:26.893225",
          "status": "completed"
        },
        "tags": [],
        "id": "ZcLCBOPdndHN",
        "outputId": "6985b3dd-b30f-4e46-b216-934fad28f7e6"
      },
      "source": [
        "sns.catplot(x=\"Pclass\", y=\"Fare\",  hue = \"Survived\", kind=\"swarm\", data=all_data, \n",
        "                                    palette=[\"#3f3e6fd1\", \"#85c6a9\"], height = 6)\n",
        "plt.tight_layout()"
      ],
      "execution_count": null,
      "outputs": [
        {
          "output_type": "display_data",
          "data": {
            "image/png": "[encoded data removed]",
            "text/plain": [
              "<Figure size 484x432 with 1 Axes>"
            ]
          },
          "metadata": {
            "tags": [],
            "needs_background": "light"
          }
        }
      ]
    },
    {
      "cell_type": "markdown",
      "metadata": {
        "papermill": {
          "duration": 0.097453,
          "end_time": "2021-01-26T11:35:30.650478",
          "exception": false,
          "start_time": "2021-01-26T11:35:30.553025",
          "status": "completed"
        },
        "tags": [],
        "id": "xTBMg26-ndHN"
      },
      "source": [
        "Looks like the bigger passenger paid, the more chances to survive he had.  \n",
        "What about zero fare in the first class? Is it a mistake?"
      ]
    },
    {
      "cell_type": "code",
      "metadata": {
        "_kg_hide-input": true,
        "execution": {
          "iopub.execute_input": "2021-01-26T11:35:30.877776Z",
          "iopub.status.busy": "2021-01-26T11:35:30.876664Z",
          "iopub.status.idle": "2021-01-26T11:35:30.882392Z",
          "shell.execute_reply": "2021-01-26T11:35:30.882904Z"
        },
        "papermill": {
          "duration": 0.132851,
          "end_time": "2021-01-26T11:35:30.883040",
          "exception": false,
          "start_time": "2021-01-26T11:35:30.750189",
          "status": "completed"
        },
        "tags": [],
        "id": "Vsxb6i2wndHO",
        "outputId": "eb109376-b964-42b5-c607-da5a74980383"
      },
      "source": [
        "all_data[all_data['Fare'] == min(all_data['Fare'])]"
      ],
      "execution_count": null,
      "outputs": [
        {
          "output_type": "execute_result",
          "data": {
            "text/html": [
              "<div>\n",
              "<style scoped>\n",
              "    .dataframe tbody tr th:only-of-type {\n",
              "        vertical-align: middle;\n",
              "    }\n",
              "\n",
              "    .dataframe tbody tr th {\n",
              "        vertical-align: top;\n",
              "    }\n",
              "\n",
              "    .dataframe thead th {\n",
              "        text-align: right;\n",
              "    }\n",
              "</style>\n",
              "<table border=\"1\" class=\"dataframe\">\n",
              "  <thead>\n",
              "    <tr style=\"text-align: right;\">\n",
              "      <th></th>\n",
              "      <th>PassengerId</th>\n",
              "      <th>Survived</th>\n",
              "      <th>Pclass</th>\n",
              "      <th>Name</th>\n",
              "      <th>Sex</th>\n",
              "      <th>Age</th>\n",
              "      <th>SibSp</th>\n",
              "      <th>Parch</th>\n",
              "      <th>Ticket</th>\n",
              "      <th>Fare</th>\n",
              "      <th>Cabin</th>\n",
              "      <th>Embarked</th>\n",
              "      <th>Title</th>\n",
              "      <th>Title_category</th>\n",
              "      <th>deck</th>\n",
              "      <th>Family_size</th>\n",
              "      <th>Surname</th>\n",
              "      <th>Family_size_group</th>\n",
              "    </tr>\n",
              "  </thead>\n",
              "  <tbody>\n",
              "    <tr>\n",
              "      <th>179</th>\n",
              "      <td>180</td>\n",
              "      <td>0.0</td>\n",
              "      <td>3</td>\n",
              "      <td>Leonard, Mr. Lionel</td>\n",
              "      <td>male</td>\n",
              "      <td>36.0</td>\n",
              "      <td>0</td>\n",
              "      <td>0</td>\n",
              "      <td>LINE</td>\n",
              "      <td>0.0</td>\n",
              "      <td>NaN</td>\n",
              "      <td>S</td>\n",
              "      <td>Mr</td>\n",
              "      <td>Mr</td>\n",
              "      <td>U</td>\n",
              "      <td>1</td>\n",
              "      <td>Leonard</td>\n",
              "      <td>f_single</td>\n",
              "    </tr>\n",
              "    <tr>\n",
              "      <th>263</th>\n",
              "      <td>264</td>\n",
              "      <td>0.0</td>\n",
              "      <td>1</td>\n",
              "      <td>Harrison, Mr. William</td>\n",
              "      <td>male</td>\n",
              "      <td>40.0</td>\n",
              "      <td>0</td>\n",
              "      <td>0</td>\n",
              "      <td>112059</td>\n",
              "      <td>0.0</td>\n",
              "      <td>B94</td>\n",
              "      <td>S</td>\n",
              "      <td>Mr</td>\n",
              "      <td>Mr</td>\n",
              "      <td>B</td>\n",
              "      <td>1</td>\n",
              "      <td>Harrison</td>\n",
              "      <td>f_single</td>\n",
              "    </tr>\n",
              "    <tr>\n",
              "      <th>271</th>\n",
              "      <td>272</td>\n",
              "      <td>1.0</td>\n",
              "      <td>3</td>\n",
              "      <td>Tornquist, Mr. William Henry</td>\n",
              "      <td>male</td>\n",
              "      <td>25.0</td>\n",
              "      <td>0</td>\n",
              "      <td>0</td>\n",
              "      <td>LINE</td>\n",
              "      <td>0.0</td>\n",
              "      <td>NaN</td>\n",
              "      <td>S</td>\n",
              "      <td>Mr</td>\n",
              "      <td>Mr</td>\n",
              "      <td>U</td>\n",
              "      <td>1</td>\n",
              "      <td>Tornquist</td>\n",
              "      <td>f_single</td>\n",
              "    </tr>\n",
              "    <tr>\n",
              "      <th>277</th>\n",
              "      <td>278</td>\n",
              "      <td>0.0</td>\n",
              "      <td>2</td>\n",
              "      <td>Parkes, Mr. Francis \"Frank\"</td>\n",
              "      <td>male</td>\n",
              "      <td>NaN</td>\n",
              "      <td>0</td>\n",
              "      <td>0</td>\n",
              "      <td>239853</td>\n",
              "      <td>0.0</td>\n",
              "      <td>NaN</td>\n",
              "      <td>S</td>\n",
              "      <td>Mr</td>\n",
              "      <td>Mr</td>\n",
              "      <td>U</td>\n",
              "      <td>1</td>\n",
              "      <td>Parkes</td>\n",
              "      <td>f_single</td>\n",
              "    </tr>\n",
              "    <tr>\n",
              "      <th>302</th>\n",
              "      <td>303</td>\n",
              "      <td>0.0</td>\n",
              "      <td>3</td>\n",
              "      <td>Johnson, Mr. William Cahoone Jr</td>\n",
              "      <td>male</td>\n",
              "      <td>19.0</td>\n",
              "      <td>0</td>\n",
              "      <td>0</td>\n",
              "      <td>LINE</td>\n",
              "      <td>0.0</td>\n",
              "      <td>NaN</td>\n",
              "      <td>S</td>\n",
              "      <td>Mr</td>\n",
              "      <td>Mr</td>\n",
              "      <td>U</td>\n",
              "      <td>1</td>\n",
              "      <td>Johnson</td>\n",
              "      <td>f_single</td>\n",
              "    </tr>\n",
              "    <tr>\n",
              "      <th>413</th>\n",
              "      <td>414</td>\n",
              "      <td>0.0</td>\n",
              "      <td>2</td>\n",
              "      <td>Cunningham, Mr. Alfred Fleming</td>\n",
              "      <td>male</td>\n",
              "      <td>NaN</td>\n",
              "      <td>0</td>\n",
              "      <td>0</td>\n",
              "      <td>239853</td>\n",
              "      <td>0.0</td>\n",
              "      <td>NaN</td>\n",
              "      <td>S</td>\n",
              "      <td>Mr</td>\n",
              "      <td>Mr</td>\n",
              "      <td>U</td>\n",
              "      <td>1</td>\n",
              "      <td>Cunningham</td>\n",
              "      <td>f_single</td>\n",
              "    </tr>\n",
              "    <tr>\n",
              "      <th>466</th>\n",
              "      <td>467</td>\n",
              "      <td>0.0</td>\n",
              "      <td>2</td>\n",
              "      <td>Campbell, Mr. William</td>\n",
              "      <td>male</td>\n",
              "      <td>NaN</td>\n",
              "      <td>0</td>\n",
              "      <td>0</td>\n",
              "      <td>239853</td>\n",
              "      <td>0.0</td>\n",
              "      <td>NaN</td>\n",
              "      <td>S</td>\n",
              "      <td>Mr</td>\n",
              "      <td>Mr</td>\n",
              "      <td>U</td>\n",
              "      <td>1</td>\n",
              "      <td>Campbell</td>\n",
              "      <td>f_single</td>\n",
              "    </tr>\n",
              "    <tr>\n",
              "      <th>481</th>\n",
              "      <td>482</td>\n",
              "      <td>0.0</td>\n",
              "      <td>2</td>\n",
              "      <td>Frost, Mr. Anthony Wood \"Archie\"</td>\n",
              "      <td>male</td>\n",
              "      <td>NaN</td>\n",
              "      <td>0</td>\n",
              "      <td>0</td>\n",
              "      <td>239854</td>\n",
              "      <td>0.0</td>\n",
              "      <td>NaN</td>\n",
              "      <td>S</td>\n",
              "      <td>Mr</td>\n",
              "      <td>Mr</td>\n",
              "      <td>U</td>\n",
              "      <td>1</td>\n",
              "      <td>Frost</td>\n",
              "      <td>f_single</td>\n",
              "    </tr>\n",
              "    <tr>\n",
              "      <th>597</th>\n",
              "      <td>598</td>\n",
              "      <td>0.0</td>\n",
              "      <td>3</td>\n",
              "      <td>Johnson, Mr. Alfred</td>\n",
              "      <td>male</td>\n",
              "      <td>49.0</td>\n",
              "      <td>0</td>\n",
              "      <td>0</td>\n",
              "      <td>LINE</td>\n",
              "      <td>0.0</td>\n",
              "      <td>NaN</td>\n",
              "      <td>S</td>\n",
              "      <td>Mr</td>\n",
              "      <td>Mr</td>\n",
              "      <td>U</td>\n",
              "      <td>1</td>\n",
              "      <td>Johnson</td>\n",
              "      <td>f_single</td>\n",
              "    </tr>\n",
              "    <tr>\n",
              "      <th>633</th>\n",
              "      <td>634</td>\n",
              "      <td>0.0</td>\n",
              "      <td>1</td>\n",
              "      <td>Parr, Mr. William Henry Marsh</td>\n",
              "      <td>male</td>\n",
              "      <td>NaN</td>\n",
              "      <td>0</td>\n",
              "      <td>0</td>\n",
              "      <td>112052</td>\n",
              "      <td>0.0</td>\n",
              "      <td>NaN</td>\n",
              "      <td>S</td>\n",
              "      <td>Mr</td>\n",
              "      <td>Mr</td>\n",
              "      <td>U</td>\n",
              "      <td>1</td>\n",
              "      <td>Parr</td>\n",
              "      <td>f_single</td>\n",
              "    </tr>\n",
              "    <tr>\n",
              "      <th>674</th>\n",
              "      <td>675</td>\n",
              "      <td>0.0</td>\n",
              "      <td>2</td>\n",
              "      <td>Watson, Mr. Ennis Hastings</td>\n",
              "      <td>male</td>\n",
              "      <td>NaN</td>\n",
              "      <td>0</td>\n",
              "      <td>0</td>\n",
              "      <td>239856</td>\n",
              "      <td>0.0</td>\n",
              "      <td>NaN</td>\n",
              "      <td>S</td>\n",
              "      <td>Mr</td>\n",
              "      <td>Mr</td>\n",
              "      <td>U</td>\n",
              "      <td>1</td>\n",
              "      <td>Watson</td>\n",
              "      <td>f_single</td>\n",
              "    </tr>\n",
              "    <tr>\n",
              "      <th>732</th>\n",
              "      <td>733</td>\n",
              "      <td>0.0</td>\n",
              "      <td>2</td>\n",
              "      <td>Knight, Mr. Robert J</td>\n",
              "      <td>male</td>\n",
              "      <td>NaN</td>\n",
              "      <td>0</td>\n",
              "      <td>0</td>\n",
              "      <td>239855</td>\n",
              "      <td>0.0</td>\n",
              "      <td>NaN</td>\n",
              "      <td>S</td>\n",
              "      <td>Mr</td>\n",
              "      <td>Mr</td>\n",
              "      <td>U</td>\n",
              "      <td>1</td>\n",
              "      <td>Knight</td>\n",
              "      <td>f_single</td>\n",
              "    </tr>\n",
              "    <tr>\n",
              "      <th>806</th>\n",
              "      <td>807</td>\n",
              "      <td>0.0</td>\n",
              "      <td>1</td>\n",
              "      <td>Andrews, Mr. Thomas Jr</td>\n",
              "      <td>male</td>\n",
              "      <td>39.0</td>\n",
              "      <td>0</td>\n",
              "      <td>0</td>\n",
              "      <td>112050</td>\n",
              "      <td>0.0</td>\n",
              "      <td>A36</td>\n",
              "      <td>S</td>\n",
              "      <td>Mr</td>\n",
              "      <td>Mr</td>\n",
              "      <td>A</td>\n",
              "      <td>1</td>\n",
              "      <td>Andrews</td>\n",
              "      <td>f_single</td>\n",
              "    </tr>\n",
              "    <tr>\n",
              "      <th>815</th>\n",
              "      <td>816</td>\n",
              "      <td>0.0</td>\n",
              "      <td>1</td>\n",
              "      <td>Fry, Mr. Richard</td>\n",
              "      <td>male</td>\n",
              "      <td>NaN</td>\n",
              "      <td>0</td>\n",
              "      <td>0</td>\n",
              "      <td>112058</td>\n",
              "      <td>0.0</td>\n",
              "      <td>B102</td>\n",
              "      <td>S</td>\n",
              "      <td>Mr</td>\n",
              "      <td>Mr</td>\n",
              "      <td>B</td>\n",
              "      <td>1</td>\n",
              "      <td>Fry</td>\n",
              "      <td>f_single</td>\n",
              "    </tr>\n",
              "    <tr>\n",
              "      <th>822</th>\n",
              "      <td>823</td>\n",
              "      <td>0.0</td>\n",
              "      <td>1</td>\n",
              "      <td>Reuchlin, Jonkheer. John George</td>\n",
              "      <td>male</td>\n",
              "      <td>38.0</td>\n",
              "      <td>0</td>\n",
              "      <td>0</td>\n",
              "      <td>19972</td>\n",
              "      <td>0.0</td>\n",
              "      <td>NaN</td>\n",
              "      <td>S</td>\n",
              "      <td>Jonkheer</td>\n",
              "      <td>honor</td>\n",
              "      <td>U</td>\n",
              "      <td>1</td>\n",
              "      <td>Reuchlin</td>\n",
              "      <td>f_single</td>\n",
              "    </tr>\n",
              "    <tr>\n",
              "      <th>266</th>\n",
              "      <td>1158</td>\n",
              "      <td>NaN</td>\n",
              "      <td>1</td>\n",
              "      <td>Chisholm, Mr. Roderick Robert Crispin</td>\n",
              "      <td>male</td>\n",
              "      <td>NaN</td>\n",
              "      <td>0</td>\n",
              "      <td>0</td>\n",
              "      <td>112051</td>\n",
              "      <td>0.0</td>\n",
              "      <td>NaN</td>\n",
              "      <td>S</td>\n",
              "      <td>Mr</td>\n",
              "      <td>Mr</td>\n",
              "      <td>U</td>\n",
              "      <td>1</td>\n",
              "      <td>Chisholm</td>\n",
              "      <td>f_single</td>\n",
              "    </tr>\n",
              "    <tr>\n",
              "      <th>372</th>\n",
              "      <td>1264</td>\n",
              "      <td>NaN</td>\n",
              "      <td>1</td>\n",
              "      <td>Ismay, Mr. Joseph Bruce</td>\n",
              "      <td>male</td>\n",
              "      <td>49.0</td>\n",
              "      <td>0</td>\n",
              "      <td>0</td>\n",
              "      <td>112058</td>\n",
              "      <td>0.0</td>\n",
              "      <td>B52 B54 B56</td>\n",
              "      <td>S</td>\n",
              "      <td>Mr</td>\n",
              "      <td>Mr</td>\n",
              "      <td>B</td>\n",
              "      <td>1</td>\n",
              "      <td>Ismay</td>\n",
              "      <td>f_single</td>\n",
              "    </tr>\n",
              "  </tbody>\n",
              "</table>\n",
              "</div>"
            ],
            "text/plain": [
              "     PassengerId  Survived  Pclass                                   Name  \\\n",
              "179          180       0.0       3                    Leonard, Mr. Lionel   \n",
              "263          264       0.0       1                  Harrison, Mr. William   \n",
              "271          272       1.0       3           Tornquist, Mr. William Henry   \n",
              "277          278       0.0       2            Parkes, Mr. Francis \"Frank\"   \n",
              "302          303       0.0       3        Johnson, Mr. William Cahoone Jr   \n",
              "413          414       0.0       2         Cunningham, Mr. Alfred Fleming   \n",
              "466          467       0.0       2                  Campbell, Mr. William   \n",
              "481          482       0.0       2       Frost, Mr. Anthony Wood \"Archie\"   \n",
              "597          598       0.0       3                    Johnson, Mr. Alfred   \n",
              "633          634       0.0       1          Parr, Mr. William Henry Marsh   \n",
              "674          675       0.0       2             Watson, Mr. Ennis Hastings   \n",
              "732          733       0.0       2                   Knight, Mr. Robert J   \n",
              "806          807       0.0       1                 Andrews, Mr. Thomas Jr   \n",
              "815          816       0.0       1                       Fry, Mr. Richard   \n",
              "822          823       0.0       1        Reuchlin, Jonkheer. John George   \n",
              "266         1158       NaN       1  Chisholm, Mr. Roderick Robert Crispin   \n",
              "372         1264       NaN       1                Ismay, Mr. Joseph Bruce   \n",
              "\n",
              "      Sex   Age  SibSp  Parch  Ticket  Fare        Cabin Embarked     Title  \\\n",
              "179  male  36.0      0      0    LINE   0.0          NaN        S        Mr   \n",
              "263  male  40.0      0      0  112059   0.0          B94        S        Mr   \n",
              "271  male  25.0      0      0    LINE   0.0          NaN        S        Mr   \n",
              "277  male   NaN      0      0  239853   0.0          NaN        S        Mr   \n",
              "302  male  19.0      0      0    LINE   0.0          NaN        S        Mr   \n",
              "413  male   NaN      0      0  239853   0.0          NaN        S        Mr   \n",
              "466  male   NaN      0      0  239853   0.0          NaN        S        Mr   \n",
              "481  male   NaN      0      0  239854   0.0          NaN        S        Mr   \n",
              "597  male  49.0      0      0    LINE   0.0          NaN        S        Mr   \n",
              "633  male   NaN      0      0  112052   0.0          NaN        S        Mr   \n",
              "674  male   NaN      0      0  239856   0.0          NaN        S        Mr   \n",
              "732  male   NaN      0      0  239855   0.0          NaN        S        Mr   \n",
              "806  male  39.0      0      0  112050   0.0          A36        S        Mr   \n",
              "815  male   NaN      0      0  112058   0.0         B102        S        Mr   \n",
              "822  male  38.0      0      0   19972   0.0          NaN        S  Jonkheer   \n",
              "266  male   NaN      0      0  112051   0.0          NaN        S        Mr   \n",
              "372  male  49.0      0      0  112058   0.0  B52 B54 B56        S        Mr   \n",
              "\n",
              "    Title_category deck  Family_size     Surname Family_size_group  \n",
              "179             Mr    U            1     Leonard          f_single  \n",
              "263             Mr    B            1    Harrison          f_single  \n",
              "271             Mr    U            1   Tornquist          f_single  \n",
              "277             Mr    U            1      Parkes          f_single  \n",
              "302             Mr    U            1     Johnson          f_single  \n",
              "413             Mr    U            1  Cunningham          f_single  \n",
              "466             Mr    U            1    Campbell          f_single  \n",
              "481             Mr    U            1       Frost          f_single  \n",
              "597             Mr    U            1     Johnson          f_single  \n",
              "633             Mr    U            1        Parr          f_single  \n",
              "674             Mr    U            1      Watson          f_single  \n",
              "732             Mr    U            1      Knight          f_single  \n",
              "806             Mr    A            1     Andrews          f_single  \n",
              "815             Mr    B            1         Fry          f_single  \n",
              "822          honor    U            1    Reuchlin          f_single  \n",
              "266             Mr    U            1    Chisholm          f_single  \n",
              "372             Mr    B            1       Ismay          f_single  "
            ]
          },
          "metadata": {
            "tags": []
          },
          "execution_count": 51
        }
      ]
    },
    {
      "cell_type": "markdown",
      "metadata": {
        "papermill": {
          "duration": 0.097952,
          "end_time": "2021-01-26T11:35:31.079223",
          "exception": false,
          "start_time": "2021-01-26T11:35:30.981271",
          "status": "completed"
        },
        "tags": [],
        "id": "1C-3uWWQndHO"
      },
      "source": [
        "Some of the passengers have \"Line\" tickets, perhaps they were somehow involved in the Titanic, but were not the ship's crew. I don't think we should change these prices, but add an additional feature for these passengers."
      ]
    },
    {
      "cell_type": "markdown",
      "metadata": {
        "papermill": {
          "duration": 0.098473,
          "end_time": "2021-01-26T11:35:31.277167",
          "exception": false,
          "start_time": "2021-01-26T11:35:31.178694",
          "status": "completed"
        },
        "tags": [],
        "id": "UoXOgBuDndHP"
      },
      "source": [
        "# 7. Conclusion\n",
        "We know that there were not enough boats on Board the Titanic for all passengers to be able to evacuate. After studying the information about the passengers, we can make some assumptions about who had a better chance of survival in a shipwreck situation as well as General observations about passengers.\n",
        "\n",
        "* There are 891 passengers in the train dataset, 549 (61,6%) of them drowned and only 342 (38,4%) survived. But we know, that lifeboats (16 wooden lifeboats and four collapsible) could carry 53% of total passengers.\n",
        "* The Age of all passengers vary from about 0.17 year to 80 years with average 29.88. The mean age of survived passenger is 28.23 which on 2.39 smaller than the mean age of drowned passengers (only passengers we know survived status for). It looks like there is a slightly bigger chance to survive for younger people.\n",
        "* Exploring the title of passengers, we can see that the biggest proportion of survivors is in the \"Mrs\" group - a married woman. More than 80% drowned in the \"Mr.\" group and nobody survived among the Reverend group.\n",
        "* Most passengers don't have cabin numbers. The largest part of passengers with known cabin numbers was located on the 'C' deck and had 1st class ticket. 'C' deck is fifth by a percentage of the survivor.  \n",
        "The largest surviving rate (among passengers with known cabin numbers in training dataset) had passengers from deck 'D'. Deck A was the closest to the deck with lifeboats, but it is the last in the surviving rate.\n",
        "* The family size on board also seems to have an influence on chances for survival: there were two large families with sizes 8 and 11 and all their members from the training dataset are drowned.  We can observe that the percentage of survivors in people who have a family of 2, 3, 4 people is greater than in singles, then the percentage of survivors decreases as the family size increases.  \n",
        "* Most of the Titanic's passengers were traveling third class (709). The second class is the smallest in terms of the number of passengers. Despite the previously identified prerequisites (on average, older people are more likely to die, and in the first class, the average age is higher than in other classes. Also, passengers on deck A, which consists of 100% first class, have a large proportion of drowned passengers), the first-class has the largest number of survivors and the proportion of survivors within the class is the largest.  \n",
        "Third-class tickets had the highest number of drowned passengers, and most of the third-class passengers drowned.\n",
        "* However, most of the male passengers of the first class drowned, and the female almost all survived. In the third grade, half of the females survived.  \n",
        "There were overall more males than females on board, it is fair for each ticket class, but in the 3rd class number of males more than twice bigger than females.  \n",
        "Almost 600 male passengers traveled without family members and only about 200 females, but in usual and big families there were slightly more female passengers.  \n",
        "* Most numbers of passengers (914) were embarked in Southampton. Also, Southampton has the biggest proportion of drowned passengers. 270 passengers embarked in Cherbourg and more than 50% of them survived (in the training dataset). 123 of passengers embarked in Queenstown, the vast majority of them are 3rd class passengers.  \n",
        "\n",
        " \n",
        "If we use a naive approach and consider all the parameters separately, then young female first-class passengers with the title Mrs have a moderate number of relatives on Board, who paid a large amount for a ticket and went on Board in  Cherbourg have a better chance of survival. \n",
        "For sure, there is a relationship between variables, and survival was influenced not only by the title, or ticket, or age itself but by a combination of factors that are to some extent interrelated.   \n",
        "And It is obvious that there is no algorithm that can predict the survival rate by 100 percent based on the factors of the passenger's location on the ship or his age, since the human factor and the unpredicted emergency were involved in the rescue process.\n",
        "\n",
        "[**Second part of my work**](https://www.kaggle.com/demidova/titanic-feature-engineering-and-solution-tutorial) with Titanic dataset and contains:\n",
        "\n",
        "* Missing data imputation\n",
        "* Feature generation\n",
        "* Models implementation and tuning: Logistic Regression, Random Forest, XGBoost\n",
        "* Comparing models and submission\n"
      ]
    }
  ]
}