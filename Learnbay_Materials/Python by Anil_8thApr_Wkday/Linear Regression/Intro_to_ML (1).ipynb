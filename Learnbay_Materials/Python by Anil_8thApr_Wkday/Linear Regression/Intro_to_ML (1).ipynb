{
  "nbformat": 4,
  "nbformat_minor": 0,
  "metadata": {
    "kernelspec": {
      "display_name": "Python 3",
      "language": "python",
      "name": "python3"
    },
    "language_info": {
      "codemirror_mode": {
        "name": "ipython",
        "version": 3
      },
      "file_extension": ".py",
      "mimetype": "text/x-python",
      "name": "python",
      "nbconvert_exporter": "python",
      "pygments_lexer": "ipython3",
      "version": "3.8.5"
    },
    "colab": {
      "name": "Intro to ML.ipynb",
      "provenance": [],
      "collapsed_sections": []
    }
  },
  "cells": [
    {
      "cell_type": "code",
      "metadata": {
        "id": "TTwEN61fqu0-"
      },
      "source": [
        "##### Code the linear regression from scratch ######"
      ],
      "execution_count": null,
      "outputs": []
    },
    {
      "cell_type": "code",
      "metadata": {
        "collapsed": true,
        "id": "CtoQyVq4qZmH"
      },
      "source": [
        "import pandas as pd\n",
        "import numpy as np\n",
        "\n",
        "import seaborn as sns\n",
        "import matplotlib.pyplot as plt"
      ],
      "execution_count": null,
      "outputs": []
    },
    {
      "cell_type": "code",
      "metadata": {
        "collapsed": true,
        "id": "e5K-T4DAqZmN"
      },
      "source": [
        "#### We are simulating some data for linear regression ######\n",
        "\n",
        "x1=np.random.randint(low=1,high=20,size=(50,))\n",
        "\n",
        "x2=np.random.randint(low=1,high=20,size=(50,))"
      ],
      "execution_count": null,
      "outputs": []
    },
    {
      "cell_type": "code",
      "metadata": {
        "colab": {
          "base_uri": "https://localhost:8080/"
        },
        "id": "NIwEsQbsrAmo",
        "outputId": "aadc1c39-b883-493a-8621-89a7d09991dd"
      },
      "source": [
        "x1, x2"
      ],
      "execution_count": null,
      "outputs": [
        {
          "output_type": "execute_result",
          "data": {
            "text/plain": [
              "(array([11, 18, 15,  3, 13, 17, 12,  2,  3,  8, 13,  5, 14, 19,  5, 13,  4,\n",
              "         4, 10,  5,  9, 17, 12, 14, 15, 17,  3,  6, 13,  9,  8,  9, 13,  8,\n",
              "        12, 10,  3, 15, 12,  2, 10, 10,  8, 18,  9,  1,  4, 11, 14, 13]),\n",
              " array([11,  1, 13,  2, 10, 15,  2,  8,  1,  6, 19, 19, 11, 19, 19, 19, 10,\n",
              "         5, 10,  2, 17,  8, 19, 19, 14, 11, 12,  4,  3, 13,  7, 18,  7,  5,\n",
              "         7, 18, 16, 19, 10,  6, 17,  5,  2,  3, 19,  4,  4, 13,  7, 13]))"
            ]
          },
          "metadata": {
            "tags": []
          },
          "execution_count": 4
        }
      ]
    },
    {
      "cell_type": "code",
      "metadata": {
        "collapsed": true,
        "id": "-8ePxNOUqZmO"
      },
      "source": [
        "y = 3 + 2*x1 -4*x2 + np.random.random((50,)) #### Actual target (Actual relationship)"
      ],
      "execution_count": null,
      "outputs": []
    },
    {
      "cell_type": "code",
      "metadata": {
        "colab": {
          "base_uri": "https://localhost:8080/"
        },
        "id": "iFe3rhCpqZmO",
        "outputId": "7a1de922-9c3f-4cbb-d2b4-3fcf4ef91f2f"
      },
      "source": [
        "y"
      ],
      "execution_count": null,
      "outputs": [
        {
          "output_type": "execute_result",
          "data": {
            "text/plain": [
              "array([-1.86493808e+01,  3.56817216e+01, -1.80648801e+01,  1.47835951e+00,\n",
              "       -1.07271738e+01, -2.22191520e+01,  1.99950597e+01, -2.41361710e+01,\n",
              "        5.83912810e+00, -4.93987839e+00, -4.68905858e+01, -6.26346733e+01,\n",
              "       -1.23631040e+01, -3.42575333e+01, -6.29126200e+01, -4.64900643e+01,\n",
              "       -2.82505117e+01, -8.70360433e+00, -1.61111799e+01,  5.88956745e+00,\n",
              "       -4.61812709e+01,  5.90803298e+00, -4.87345944e+01, -4.43999562e+01,\n",
              "       -2.28878097e+01, -6.47826338e+00, -3.86179718e+01, -2.57058032e-03,\n",
              "        1.70747090e+01, -3.06392292e+01, -8.92863357e+00, -5.00549446e+01,\n",
              "        1.15728362e+00, -9.06063653e-02, -8.44151764e-01, -4.80502681e+01,\n",
              "       -5.44141805e+01, -4.21395073e+01, -1.20131686e+01, -1.66892399e+01,\n",
              "       -4.48464216e+01,  3.02211610e+00,  1.13363629e+01,  2.70657875e+01,\n",
              "       -5.45685606e+01, -1.03505979e+01, -4.73119307e+00, -2.61206331e+01,\n",
              "        3.95840819e+00, -2.20262640e+01])"
            ]
          },
          "metadata": {
            "tags": []
          },
          "execution_count": 8
        }
      ]
    },
    {
      "cell_type": "code",
      "metadata": {
        "colab": {
          "base_uri": "https://localhost:8080/"
        },
        "id": "fuFm0r6dqZmP",
        "outputId": "1b3e5cd4-1dca-453e-bba8-fbb686e0a5db"
      },
      "source": [
        "x1.shape"
      ],
      "execution_count": null,
      "outputs": [
        {
          "output_type": "execute_result",
          "data": {
            "text/plain": [
              "(50,)"
            ]
          },
          "metadata": {
            "tags": []
          },
          "execution_count": 9
        }
      ]
    },
    {
      "cell_type": "code",
      "metadata": {
        "colab": {
          "base_uri": "https://localhost:8080/"
        },
        "id": "jYmNM-xYqZmQ",
        "outputId": "ac89c7d7-078e-4556-c7a7-3ed209c0222c"
      },
      "source": [
        "x2.shape"
      ],
      "execution_count": null,
      "outputs": [
        {
          "output_type": "execute_result",
          "data": {
            "text/plain": [
              "(50,)"
            ]
          },
          "metadata": {
            "tags": []
          },
          "execution_count": 10
        }
      ]
    },
    {
      "cell_type": "code",
      "metadata": {
        "id": "TPB_lA6-wTfV"
      },
      "source": [
        "training_data = pd.DataFrame({'x1':x1,'x2':x2,'target':y})"
      ],
      "execution_count": null,
      "outputs": []
    },
    {
      "cell_type": "code",
      "metadata": {
        "colab": {
          "base_uri": "https://localhost:8080/",
          "height": 1000
        },
        "id": "grw1LqwLwasL",
        "outputId": "7bf5f75e-e719-4dec-8bd6-01bc30d58730"
      },
      "source": [
        "training_data"
      ],
      "execution_count": null,
      "outputs": [
        {
          "output_type": "execute_result",
          "data": {
            "text/html": [
              "<div>\n",
              "<style scoped>\n",
              "    .dataframe tbody tr th:only-of-type {\n",
              "        vertical-align: middle;\n",
              "    }\n",
              "\n",
              "    .dataframe tbody tr th {\n",
              "        vertical-align: top;\n",
              "    }\n",
              "\n",
              "    .dataframe thead th {\n",
              "        text-align: right;\n",
              "    }\n",
              "</style>\n",
              "<table border=\"1\" class=\"dataframe\">\n",
              "  <thead>\n",
              "    <tr style=\"text-align: right;\">\n",
              "      <th></th>\n",
              "      <th>x1</th>\n",
              "      <th>x2</th>\n",
              "      <th>target</th>\n",
              "    </tr>\n",
              "  </thead>\n",
              "  <tbody>\n",
              "    <tr>\n",
              "      <th>0</th>\n",
              "      <td>11</td>\n",
              "      <td>11</td>\n",
              "      <td>-18.649381</td>\n",
              "    </tr>\n",
              "    <tr>\n",
              "      <th>1</th>\n",
              "      <td>18</td>\n",
              "      <td>1</td>\n",
              "      <td>35.681722</td>\n",
              "    </tr>\n",
              "    <tr>\n",
              "      <th>2</th>\n",
              "      <td>15</td>\n",
              "      <td>13</td>\n",
              "      <td>-18.064880</td>\n",
              "    </tr>\n",
              "    <tr>\n",
              "      <th>3</th>\n",
              "      <td>3</td>\n",
              "      <td>2</td>\n",
              "      <td>1.478360</td>\n",
              "    </tr>\n",
              "    <tr>\n",
              "      <th>4</th>\n",
              "      <td>13</td>\n",
              "      <td>10</td>\n",
              "      <td>-10.727174</td>\n",
              "    </tr>\n",
              "    <tr>\n",
              "      <th>5</th>\n",
              "      <td>17</td>\n",
              "      <td>15</td>\n",
              "      <td>-22.219152</td>\n",
              "    </tr>\n",
              "    <tr>\n",
              "      <th>6</th>\n",
              "      <td>12</td>\n",
              "      <td>2</td>\n",
              "      <td>19.995060</td>\n",
              "    </tr>\n",
              "    <tr>\n",
              "      <th>7</th>\n",
              "      <td>2</td>\n",
              "      <td>8</td>\n",
              "      <td>-24.136171</td>\n",
              "    </tr>\n",
              "    <tr>\n",
              "      <th>8</th>\n",
              "      <td>3</td>\n",
              "      <td>1</td>\n",
              "      <td>5.839128</td>\n",
              "    </tr>\n",
              "    <tr>\n",
              "      <th>9</th>\n",
              "      <td>8</td>\n",
              "      <td>6</td>\n",
              "      <td>-4.939878</td>\n",
              "    </tr>\n",
              "    <tr>\n",
              "      <th>10</th>\n",
              "      <td>13</td>\n",
              "      <td>19</td>\n",
              "      <td>-46.890586</td>\n",
              "    </tr>\n",
              "    <tr>\n",
              "      <th>11</th>\n",
              "      <td>5</td>\n",
              "      <td>19</td>\n",
              "      <td>-62.634673</td>\n",
              "    </tr>\n",
              "    <tr>\n",
              "      <th>12</th>\n",
              "      <td>14</td>\n",
              "      <td>11</td>\n",
              "      <td>-12.363104</td>\n",
              "    </tr>\n",
              "    <tr>\n",
              "      <th>13</th>\n",
              "      <td>19</td>\n",
              "      <td>19</td>\n",
              "      <td>-34.257533</td>\n",
              "    </tr>\n",
              "    <tr>\n",
              "      <th>14</th>\n",
              "      <td>5</td>\n",
              "      <td>19</td>\n",
              "      <td>-62.912620</td>\n",
              "    </tr>\n",
              "    <tr>\n",
              "      <th>15</th>\n",
              "      <td>13</td>\n",
              "      <td>19</td>\n",
              "      <td>-46.490064</td>\n",
              "    </tr>\n",
              "    <tr>\n",
              "      <th>16</th>\n",
              "      <td>4</td>\n",
              "      <td>10</td>\n",
              "      <td>-28.250512</td>\n",
              "    </tr>\n",
              "    <tr>\n",
              "      <th>17</th>\n",
              "      <td>4</td>\n",
              "      <td>5</td>\n",
              "      <td>-8.703604</td>\n",
              "    </tr>\n",
              "    <tr>\n",
              "      <th>18</th>\n",
              "      <td>10</td>\n",
              "      <td>10</td>\n",
              "      <td>-16.111180</td>\n",
              "    </tr>\n",
              "    <tr>\n",
              "      <th>19</th>\n",
              "      <td>5</td>\n",
              "      <td>2</td>\n",
              "      <td>5.889567</td>\n",
              "    </tr>\n",
              "    <tr>\n",
              "      <th>20</th>\n",
              "      <td>9</td>\n",
              "      <td>17</td>\n",
              "      <td>-46.181271</td>\n",
              "    </tr>\n",
              "    <tr>\n",
              "      <th>21</th>\n",
              "      <td>17</td>\n",
              "      <td>8</td>\n",
              "      <td>5.908033</td>\n",
              "    </tr>\n",
              "    <tr>\n",
              "      <th>22</th>\n",
              "      <td>12</td>\n",
              "      <td>19</td>\n",
              "      <td>-48.734594</td>\n",
              "    </tr>\n",
              "    <tr>\n",
              "      <th>23</th>\n",
              "      <td>14</td>\n",
              "      <td>19</td>\n",
              "      <td>-44.399956</td>\n",
              "    </tr>\n",
              "    <tr>\n",
              "      <th>24</th>\n",
              "      <td>15</td>\n",
              "      <td>14</td>\n",
              "      <td>-22.887810</td>\n",
              "    </tr>\n",
              "    <tr>\n",
              "      <th>25</th>\n",
              "      <td>17</td>\n",
              "      <td>11</td>\n",
              "      <td>-6.478263</td>\n",
              "    </tr>\n",
              "    <tr>\n",
              "      <th>26</th>\n",
              "      <td>3</td>\n",
              "      <td>12</td>\n",
              "      <td>-38.617972</td>\n",
              "    </tr>\n",
              "    <tr>\n",
              "      <th>27</th>\n",
              "      <td>6</td>\n",
              "      <td>4</td>\n",
              "      <td>-0.002571</td>\n",
              "    </tr>\n",
              "    <tr>\n",
              "      <th>28</th>\n",
              "      <td>13</td>\n",
              "      <td>3</td>\n",
              "      <td>17.074709</td>\n",
              "    </tr>\n",
              "    <tr>\n",
              "      <th>29</th>\n",
              "      <td>9</td>\n",
              "      <td>13</td>\n",
              "      <td>-30.639229</td>\n",
              "    </tr>\n",
              "    <tr>\n",
              "      <th>30</th>\n",
              "      <td>8</td>\n",
              "      <td>7</td>\n",
              "      <td>-8.928634</td>\n",
              "    </tr>\n",
              "    <tr>\n",
              "      <th>31</th>\n",
              "      <td>9</td>\n",
              "      <td>18</td>\n",
              "      <td>-50.054945</td>\n",
              "    </tr>\n",
              "    <tr>\n",
              "      <th>32</th>\n",
              "      <td>13</td>\n",
              "      <td>7</td>\n",
              "      <td>1.157284</td>\n",
              "    </tr>\n",
              "    <tr>\n",
              "      <th>33</th>\n",
              "      <td>8</td>\n",
              "      <td>5</td>\n",
              "      <td>-0.090606</td>\n",
              "    </tr>\n",
              "    <tr>\n",
              "      <th>34</th>\n",
              "      <td>12</td>\n",
              "      <td>7</td>\n",
              "      <td>-0.844152</td>\n",
              "    </tr>\n",
              "    <tr>\n",
              "      <th>35</th>\n",
              "      <td>10</td>\n",
              "      <td>18</td>\n",
              "      <td>-48.050268</td>\n",
              "    </tr>\n",
              "    <tr>\n",
              "      <th>36</th>\n",
              "      <td>3</td>\n",
              "      <td>16</td>\n",
              "      <td>-54.414181</td>\n",
              "    </tr>\n",
              "    <tr>\n",
              "      <th>37</th>\n",
              "      <td>15</td>\n",
              "      <td>19</td>\n",
              "      <td>-42.139507</td>\n",
              "    </tr>\n",
              "    <tr>\n",
              "      <th>38</th>\n",
              "      <td>12</td>\n",
              "      <td>10</td>\n",
              "      <td>-12.013169</td>\n",
              "    </tr>\n",
              "    <tr>\n",
              "      <th>39</th>\n",
              "      <td>2</td>\n",
              "      <td>6</td>\n",
              "      <td>-16.689240</td>\n",
              "    </tr>\n",
              "    <tr>\n",
              "      <th>40</th>\n",
              "      <td>10</td>\n",
              "      <td>17</td>\n",
              "      <td>-44.846422</td>\n",
              "    </tr>\n",
              "    <tr>\n",
              "      <th>41</th>\n",
              "      <td>10</td>\n",
              "      <td>5</td>\n",
              "      <td>3.022116</td>\n",
              "    </tr>\n",
              "    <tr>\n",
              "      <th>42</th>\n",
              "      <td>8</td>\n",
              "      <td>2</td>\n",
              "      <td>11.336363</td>\n",
              "    </tr>\n",
              "    <tr>\n",
              "      <th>43</th>\n",
              "      <td>18</td>\n",
              "      <td>3</td>\n",
              "      <td>27.065787</td>\n",
              "    </tr>\n",
              "    <tr>\n",
              "      <th>44</th>\n",
              "      <td>9</td>\n",
              "      <td>19</td>\n",
              "      <td>-54.568561</td>\n",
              "    </tr>\n",
              "    <tr>\n",
              "      <th>45</th>\n",
              "      <td>1</td>\n",
              "      <td>4</td>\n",
              "      <td>-10.350598</td>\n",
              "    </tr>\n",
              "    <tr>\n",
              "      <th>46</th>\n",
              "      <td>4</td>\n",
              "      <td>4</td>\n",
              "      <td>-4.731193</td>\n",
              "    </tr>\n",
              "    <tr>\n",
              "      <th>47</th>\n",
              "      <td>11</td>\n",
              "      <td>13</td>\n",
              "      <td>-26.120633</td>\n",
              "    </tr>\n",
              "    <tr>\n",
              "      <th>48</th>\n",
              "      <td>14</td>\n",
              "      <td>7</td>\n",
              "      <td>3.958408</td>\n",
              "    </tr>\n",
              "    <tr>\n",
              "      <th>49</th>\n",
              "      <td>13</td>\n",
              "      <td>13</td>\n",
              "      <td>-22.026264</td>\n",
              "    </tr>\n",
              "  </tbody>\n",
              "</table>\n",
              "</div>"
            ],
            "text/plain": [
              "    x1  x2     target\n",
              "0   11  11 -18.649381\n",
              "1   18   1  35.681722\n",
              "2   15  13 -18.064880\n",
              "3    3   2   1.478360\n",
              "4   13  10 -10.727174\n",
              "5   17  15 -22.219152\n",
              "6   12   2  19.995060\n",
              "7    2   8 -24.136171\n",
              "8    3   1   5.839128\n",
              "9    8   6  -4.939878\n",
              "10  13  19 -46.890586\n",
              "11   5  19 -62.634673\n",
              "12  14  11 -12.363104\n",
              "13  19  19 -34.257533\n",
              "14   5  19 -62.912620\n",
              "15  13  19 -46.490064\n",
              "16   4  10 -28.250512\n",
              "17   4   5  -8.703604\n",
              "18  10  10 -16.111180\n",
              "19   5   2   5.889567\n",
              "20   9  17 -46.181271\n",
              "21  17   8   5.908033\n",
              "22  12  19 -48.734594\n",
              "23  14  19 -44.399956\n",
              "24  15  14 -22.887810\n",
              "25  17  11  -6.478263\n",
              "26   3  12 -38.617972\n",
              "27   6   4  -0.002571\n",
              "28  13   3  17.074709\n",
              "29   9  13 -30.639229\n",
              "30   8   7  -8.928634\n",
              "31   9  18 -50.054945\n",
              "32  13   7   1.157284\n",
              "33   8   5  -0.090606\n",
              "34  12   7  -0.844152\n",
              "35  10  18 -48.050268\n",
              "36   3  16 -54.414181\n",
              "37  15  19 -42.139507\n",
              "38  12  10 -12.013169\n",
              "39   2   6 -16.689240\n",
              "40  10  17 -44.846422\n",
              "41  10   5   3.022116\n",
              "42   8   2  11.336363\n",
              "43  18   3  27.065787\n",
              "44   9  19 -54.568561\n",
              "45   1   4 -10.350598\n",
              "46   4   4  -4.731193\n",
              "47  11  13 -26.120633\n",
              "48  14   7   3.958408\n",
              "49  13  13 -22.026264"
            ]
          },
          "metadata": {
            "tags": []
          },
          "execution_count": 14
        }
      ]
    },
    {
      "cell_type": "code",
      "metadata": {
        "collapsed": true,
        "id": "qLXHdEwTqZmQ"
      },
      "source": [
        "features = pd.DataFrame({'xo':np.ones_like(x1),'x1':x1,'x2':x2})"
      ],
      "execution_count": null,
      "outputs": []
    },
    {
      "cell_type": "code",
      "metadata": {
        "colab": {
          "base_uri": "https://localhost:8080/",
          "height": 1000
        },
        "id": "JfZg2fRlw0PT",
        "outputId": "2dff3ae9-4be3-45bd-97ff-edcc59c555c8"
      },
      "source": [
        "features"
      ],
      "execution_count": null,
      "outputs": [
        {
          "output_type": "execute_result",
          "data": {
            "text/html": [
              "<div>\n",
              "<style scoped>\n",
              "    .dataframe tbody tr th:only-of-type {\n",
              "        vertical-align: middle;\n",
              "    }\n",
              "\n",
              "    .dataframe tbody tr th {\n",
              "        vertical-align: top;\n",
              "    }\n",
              "\n",
              "    .dataframe thead th {\n",
              "        text-align: right;\n",
              "    }\n",
              "</style>\n",
              "<table border=\"1\" class=\"dataframe\">\n",
              "  <thead>\n",
              "    <tr style=\"text-align: right;\">\n",
              "      <th></th>\n",
              "      <th>xo</th>\n",
              "      <th>x1</th>\n",
              "      <th>x2</th>\n",
              "    </tr>\n",
              "  </thead>\n",
              "  <tbody>\n",
              "    <tr>\n",
              "      <th>0</th>\n",
              "      <td>1</td>\n",
              "      <td>11</td>\n",
              "      <td>11</td>\n",
              "    </tr>\n",
              "    <tr>\n",
              "      <th>1</th>\n",
              "      <td>1</td>\n",
              "      <td>18</td>\n",
              "      <td>1</td>\n",
              "    </tr>\n",
              "    <tr>\n",
              "      <th>2</th>\n",
              "      <td>1</td>\n",
              "      <td>15</td>\n",
              "      <td>13</td>\n",
              "    </tr>\n",
              "    <tr>\n",
              "      <th>3</th>\n",
              "      <td>1</td>\n",
              "      <td>3</td>\n",
              "      <td>2</td>\n",
              "    </tr>\n",
              "    <tr>\n",
              "      <th>4</th>\n",
              "      <td>1</td>\n",
              "      <td>13</td>\n",
              "      <td>10</td>\n",
              "    </tr>\n",
              "    <tr>\n",
              "      <th>5</th>\n",
              "      <td>1</td>\n",
              "      <td>17</td>\n",
              "      <td>15</td>\n",
              "    </tr>\n",
              "    <tr>\n",
              "      <th>6</th>\n",
              "      <td>1</td>\n",
              "      <td>12</td>\n",
              "      <td>2</td>\n",
              "    </tr>\n",
              "    <tr>\n",
              "      <th>7</th>\n",
              "      <td>1</td>\n",
              "      <td>2</td>\n",
              "      <td>8</td>\n",
              "    </tr>\n",
              "    <tr>\n",
              "      <th>8</th>\n",
              "      <td>1</td>\n",
              "      <td>3</td>\n",
              "      <td>1</td>\n",
              "    </tr>\n",
              "    <tr>\n",
              "      <th>9</th>\n",
              "      <td>1</td>\n",
              "      <td>8</td>\n",
              "      <td>6</td>\n",
              "    </tr>\n",
              "    <tr>\n",
              "      <th>10</th>\n",
              "      <td>1</td>\n",
              "      <td>13</td>\n",
              "      <td>19</td>\n",
              "    </tr>\n",
              "    <tr>\n",
              "      <th>11</th>\n",
              "      <td>1</td>\n",
              "      <td>5</td>\n",
              "      <td>19</td>\n",
              "    </tr>\n",
              "    <tr>\n",
              "      <th>12</th>\n",
              "      <td>1</td>\n",
              "      <td>14</td>\n",
              "      <td>11</td>\n",
              "    </tr>\n",
              "    <tr>\n",
              "      <th>13</th>\n",
              "      <td>1</td>\n",
              "      <td>19</td>\n",
              "      <td>19</td>\n",
              "    </tr>\n",
              "    <tr>\n",
              "      <th>14</th>\n",
              "      <td>1</td>\n",
              "      <td>5</td>\n",
              "      <td>19</td>\n",
              "    </tr>\n",
              "    <tr>\n",
              "      <th>15</th>\n",
              "      <td>1</td>\n",
              "      <td>13</td>\n",
              "      <td>19</td>\n",
              "    </tr>\n",
              "    <tr>\n",
              "      <th>16</th>\n",
              "      <td>1</td>\n",
              "      <td>4</td>\n",
              "      <td>10</td>\n",
              "    </tr>\n",
              "    <tr>\n",
              "      <th>17</th>\n",
              "      <td>1</td>\n",
              "      <td>4</td>\n",
              "      <td>5</td>\n",
              "    </tr>\n",
              "    <tr>\n",
              "      <th>18</th>\n",
              "      <td>1</td>\n",
              "      <td>10</td>\n",
              "      <td>10</td>\n",
              "    </tr>\n",
              "    <tr>\n",
              "      <th>19</th>\n",
              "      <td>1</td>\n",
              "      <td>5</td>\n",
              "      <td>2</td>\n",
              "    </tr>\n",
              "    <tr>\n",
              "      <th>20</th>\n",
              "      <td>1</td>\n",
              "      <td>9</td>\n",
              "      <td>17</td>\n",
              "    </tr>\n",
              "    <tr>\n",
              "      <th>21</th>\n",
              "      <td>1</td>\n",
              "      <td>17</td>\n",
              "      <td>8</td>\n",
              "    </tr>\n",
              "    <tr>\n",
              "      <th>22</th>\n",
              "      <td>1</td>\n",
              "      <td>12</td>\n",
              "      <td>19</td>\n",
              "    </tr>\n",
              "    <tr>\n",
              "      <th>23</th>\n",
              "      <td>1</td>\n",
              "      <td>14</td>\n",
              "      <td>19</td>\n",
              "    </tr>\n",
              "    <tr>\n",
              "      <th>24</th>\n",
              "      <td>1</td>\n",
              "      <td>15</td>\n",
              "      <td>14</td>\n",
              "    </tr>\n",
              "    <tr>\n",
              "      <th>25</th>\n",
              "      <td>1</td>\n",
              "      <td>17</td>\n",
              "      <td>11</td>\n",
              "    </tr>\n",
              "    <tr>\n",
              "      <th>26</th>\n",
              "      <td>1</td>\n",
              "      <td>3</td>\n",
              "      <td>12</td>\n",
              "    </tr>\n",
              "    <tr>\n",
              "      <th>27</th>\n",
              "      <td>1</td>\n",
              "      <td>6</td>\n",
              "      <td>4</td>\n",
              "    </tr>\n",
              "    <tr>\n",
              "      <th>28</th>\n",
              "      <td>1</td>\n",
              "      <td>13</td>\n",
              "      <td>3</td>\n",
              "    </tr>\n",
              "    <tr>\n",
              "      <th>29</th>\n",
              "      <td>1</td>\n",
              "      <td>9</td>\n",
              "      <td>13</td>\n",
              "    </tr>\n",
              "    <tr>\n",
              "      <th>30</th>\n",
              "      <td>1</td>\n",
              "      <td>8</td>\n",
              "      <td>7</td>\n",
              "    </tr>\n",
              "    <tr>\n",
              "      <th>31</th>\n",
              "      <td>1</td>\n",
              "      <td>9</td>\n",
              "      <td>18</td>\n",
              "    </tr>\n",
              "    <tr>\n",
              "      <th>32</th>\n",
              "      <td>1</td>\n",
              "      <td>13</td>\n",
              "      <td>7</td>\n",
              "    </tr>\n",
              "    <tr>\n",
              "      <th>33</th>\n",
              "      <td>1</td>\n",
              "      <td>8</td>\n",
              "      <td>5</td>\n",
              "    </tr>\n",
              "    <tr>\n",
              "      <th>34</th>\n",
              "      <td>1</td>\n",
              "      <td>12</td>\n",
              "      <td>7</td>\n",
              "    </tr>\n",
              "    <tr>\n",
              "      <th>35</th>\n",
              "      <td>1</td>\n",
              "      <td>10</td>\n",
              "      <td>18</td>\n",
              "    </tr>\n",
              "    <tr>\n",
              "      <th>36</th>\n",
              "      <td>1</td>\n",
              "      <td>3</td>\n",
              "      <td>16</td>\n",
              "    </tr>\n",
              "    <tr>\n",
              "      <th>37</th>\n",
              "      <td>1</td>\n",
              "      <td>15</td>\n",
              "      <td>19</td>\n",
              "    </tr>\n",
              "    <tr>\n",
              "      <th>38</th>\n",
              "      <td>1</td>\n",
              "      <td>12</td>\n",
              "      <td>10</td>\n",
              "    </tr>\n",
              "    <tr>\n",
              "      <th>39</th>\n",
              "      <td>1</td>\n",
              "      <td>2</td>\n",
              "      <td>6</td>\n",
              "    </tr>\n",
              "    <tr>\n",
              "      <th>40</th>\n",
              "      <td>1</td>\n",
              "      <td>10</td>\n",
              "      <td>17</td>\n",
              "    </tr>\n",
              "    <tr>\n",
              "      <th>41</th>\n",
              "      <td>1</td>\n",
              "      <td>10</td>\n",
              "      <td>5</td>\n",
              "    </tr>\n",
              "    <tr>\n",
              "      <th>42</th>\n",
              "      <td>1</td>\n",
              "      <td>8</td>\n",
              "      <td>2</td>\n",
              "    </tr>\n",
              "    <tr>\n",
              "      <th>43</th>\n",
              "      <td>1</td>\n",
              "      <td>18</td>\n",
              "      <td>3</td>\n",
              "    </tr>\n",
              "    <tr>\n",
              "      <th>44</th>\n",
              "      <td>1</td>\n",
              "      <td>9</td>\n",
              "      <td>19</td>\n",
              "    </tr>\n",
              "    <tr>\n",
              "      <th>45</th>\n",
              "      <td>1</td>\n",
              "      <td>1</td>\n",
              "      <td>4</td>\n",
              "    </tr>\n",
              "    <tr>\n",
              "      <th>46</th>\n",
              "      <td>1</td>\n",
              "      <td>4</td>\n",
              "      <td>4</td>\n",
              "    </tr>\n",
              "    <tr>\n",
              "      <th>47</th>\n",
              "      <td>1</td>\n",
              "      <td>11</td>\n",
              "      <td>13</td>\n",
              "    </tr>\n",
              "    <tr>\n",
              "      <th>48</th>\n",
              "      <td>1</td>\n",
              "      <td>14</td>\n",
              "      <td>7</td>\n",
              "    </tr>\n",
              "    <tr>\n",
              "      <th>49</th>\n",
              "      <td>1</td>\n",
              "      <td>13</td>\n",
              "      <td>13</td>\n",
              "    </tr>\n",
              "  </tbody>\n",
              "</table>\n",
              "</div>"
            ],
            "text/plain": [
              "    xo  x1  x2\n",
              "0    1  11  11\n",
              "1    1  18   1\n",
              "2    1  15  13\n",
              "3    1   3   2\n",
              "4    1  13  10\n",
              "5    1  17  15\n",
              "6    1  12   2\n",
              "7    1   2   8\n",
              "8    1   3   1\n",
              "9    1   8   6\n",
              "10   1  13  19\n",
              "11   1   5  19\n",
              "12   1  14  11\n",
              "13   1  19  19\n",
              "14   1   5  19\n",
              "15   1  13  19\n",
              "16   1   4  10\n",
              "17   1   4   5\n",
              "18   1  10  10\n",
              "19   1   5   2\n",
              "20   1   9  17\n",
              "21   1  17   8\n",
              "22   1  12  19\n",
              "23   1  14  19\n",
              "24   1  15  14\n",
              "25   1  17  11\n",
              "26   1   3  12\n",
              "27   1   6   4\n",
              "28   1  13   3\n",
              "29   1   9  13\n",
              "30   1   8   7\n",
              "31   1   9  18\n",
              "32   1  13   7\n",
              "33   1   8   5\n",
              "34   1  12   7\n",
              "35   1  10  18\n",
              "36   1   3  16\n",
              "37   1  15  19\n",
              "38   1  12  10\n",
              "39   1   2   6\n",
              "40   1  10  17\n",
              "41   1  10   5\n",
              "42   1   8   2\n",
              "43   1  18   3\n",
              "44   1   9  19\n",
              "45   1   1   4\n",
              "46   1   4   4\n",
              "47   1  11  13\n",
              "48   1  14   7\n",
              "49   1  13  13"
            ]
          },
          "metadata": {
            "tags": []
          },
          "execution_count": 16
        }
      ]
    },
    {
      "cell_type": "code",
      "metadata": {
        "id": "Ec8KqUIyr8T9"
      },
      "source": [
        "features_df = features.copy(deep = True) ### (50,3)\n",
        "targets = y ### (50,)\n",
        "weights = np.random.random(size = (3,)) #### Step-0 :random initialization ### (3,)"
      ],
      "execution_count": null,
      "outputs": []
    },
    {
      "cell_type": "code",
      "metadata": {
        "colab": {
          "base_uri": "https://localhost:8080/"
        },
        "id": "RsCQ2sbAyk_z",
        "outputId": "b207447c-93b9-4a55-afaf-d3f33a1a4a3a"
      },
      "source": [
        "weights.shape"
      ],
      "execution_count": null,
      "outputs": [
        {
          "output_type": "execute_result",
          "data": {
            "text/plain": [
              "(3,)"
            ]
          },
          "metadata": {
            "tags": []
          },
          "execution_count": 23
        }
      ]
    },
    {
      "cell_type": "code",
      "metadata": {
        "id": "DlSyaZLStqWY"
      },
      "source": [
        "###### Create a function to estimate the values of coefficients #####\n",
        "\n",
        "features_df = features.copy(deep = True) ### (50,3)\n",
        "targets = y ### (50,)\n",
        "weights = np.random.random(size = (3,)) #### Step-0 :random initialization ### (3,)\n",
        "\n",
        "def prediction(weights, features_df):\n",
        "    predicted_vals = np.dot(features_df,weights) ## This will be an vector which contains predicted values for all obs in features_df, shape = (50,)\n",
        "    return (predicted_vals)\n",
        "\n",
        "\n",
        "def error (targets,predicted):\n",
        "    error_val = (targets-predicted)  ### (50,)\n",
        "    return (error_val)\n",
        "\n",
        "def cost_val(error_val):\n",
        "    cost = np.mean(error_val**2)  #### mean squared error value  ### scalar\n",
        "    return (cost)\n",
        "\n",
        "\n",
        "#### pred_y = wo*xo + w1*x1 + w2*x2\n",
        "\n",
        "##### cost_funct = (y - (wo*xo +w1*x1 +w2*x2))^2\n",
        "\n",
        "##### gradient (cost_fucnt)/wo = 2 * (y- wo*xo + w1*x1 + w2*x2) * xo\n",
        "\n",
        "\n",
        "def gradients(error_val,features_df):\n",
        "    error_val = np.reshape(error_val,newshape = (1,50))\n",
        "    temp_gradients = np.dot(error_val,features_df) ### (1,3) ###[grad(wo), grad(w1), grad(w2)]\n",
        "    temp_gradients = temp_gradients.T #### (3,1)\n",
        "    temp_gradients = temp_gradients*(-2)\n",
        "    temp_gradients = temp_gradients/(features_df.shape[0]) ## (3,1)\n",
        "    grads = np.reshape(temp_gradients,-1) ###(3,)\n",
        "    return(grads)\n",
        "\n",
        "\n",
        "def linearReg(features_df,targets,weights,learning_rate,n_iter = 100):\n",
        "  \n",
        "  error_list= [] ### Store error after every upadte of weights\n",
        "\n",
        "  for i in range(n_iter):\n",
        "    ##### Step-1 : Compute prediction ###\n",
        "\n",
        "    predict_vector = prediction(weights,features_df)\n",
        "\n",
        "    ##### Step -2 : Compute cost #####\n",
        "\n",
        "    error_vector = error(targets,predict_vector)\n",
        "    \n",
        "    cost_value = cost_val(error_vector) ## Mean squared error for the current predictions\n",
        "\n",
        "    #### Step -3 : Gradient descent ######\n",
        "\n",
        "    weights = weights - learning_rate * gradients(error_vector,features_df)\n",
        "    \n",
        "    error_list.append(cost_value)\n",
        "\n",
        "    print(\"iteration : {} Cost : {}\".format(i,cost_value))\n",
        "\n",
        "  return(weights,error_list)\n",
        "\n",
        "    "
      ],
      "execution_count": null,
      "outputs": []
    },
    {
      "cell_type": "code",
      "metadata": {
        "colab": {
          "base_uri": "https://localhost:8080/"
        },
        "id": "oRDntny-tqT5",
        "outputId": "315d8f60-3613-41ae-fed4-e9ced97422d4"
      },
      "source": [
        "coeffs,errors = linearReg(features_df,targets,weights,learning_rate = 0.001, n_iter = 50)"
      ],
      "execution_count": null,
      "outputs": [
        {
          "output_type": "stream",
          "text": [
            "iteration : 0 Cost : 1367.5190542310984\n",
            "iteration : 1 Cost : 593.2424826606266\n",
            "iteration : 2 Cost : 373.1773783092313\n",
            "iteration : 3 Cost : 297.0829927931572\n",
            "iteration : 4 Cost : 259.6473800158401\n",
            "iteration : 5 Cost : 233.72307437081946\n",
            "iteration : 6 Cost : 212.20916243046958\n",
            "iteration : 7 Cost : 193.15520610042142\n",
            "iteration : 8 Cost : 175.94243846367382\n",
            "iteration : 9 Cost : 160.30401325884966\n",
            "iteration : 10 Cost : 146.07295772595478\n",
            "iteration : 11 Cost : 133.11671072880083\n",
            "iteration : 12 Cost : 121.31955750272593\n",
            "iteration : 13 Cost : 110.57741013079129\n",
            "iteration : 14 Cost : 100.79581624431361\n",
            "iteration : 15 Cost : 91.88885351855613\n",
            "iteration : 16 Cost : 83.77830440522752\n",
            "iteration : 17 Cost : 76.39295114664091\n",
            "iteration : 18 Cost : 69.66794574384558\n",
            "iteration : 19 Cost : 63.54423931596537\n",
            "iteration : 20 Cost : 57.968063269159465\n",
            "iteration : 21 Cost : 52.89045706038349\n",
            "iteration : 22 Cost : 48.26683824025722\n",
            "iteration : 23 Cost : 44.05661095618718\n",
            "iteration : 24 Cost : 40.2228094668017\n",
            "iteration : 25 Cost : 36.73177353445154\n",
            "iteration : 26 Cost : 33.55285284457223\n",
            "iteration : 27 Cost : 30.65813785614016\n",
            "iteration : 28 Cost : 28.022214719692215\n",
            "iteration : 29 Cost : 25.621942110759427\n",
            "iteration : 30 Cost : 23.43624801901896\n",
            "iteration : 31 Cost : 21.445944708709114\n",
            "iteration : 32 Cost : 19.633560225419465\n",
            "iteration : 33 Cost : 17.98318496966726\n",
            "iteration : 34 Cost : 16.480331989976598\n",
            "iteration : 35 Cost : 15.111809768652934\n",
            "iteration : 36 Cost : 13.865606383146453\n",
            "iteration : 37 Cost : 12.730784025791374\n",
            "iteration : 38 Cost : 11.697382955667136\n",
            "iteration : 39 Cost : 10.756334039154375\n",
            "iteration : 40 Cost : 9.899379111178648\n",
            "iteration : 41 Cost : 9.118998457809663\n",
            "iteration : 42 Cost : 8.40834478341985\n",
            "iteration : 43 Cost : 7.761183082547694\n",
            "iteration : 44 Cost : 7.171835888463172\n",
            "iteration : 45 Cost : 6.635133417646473\n",
            "iteration : 46 Cost : 6.146368172383944\n",
            "iteration : 47 Cost : 5.70125360283305\n",
            "iteration : 48 Cost : 5.295886465555825\n",
            "iteration : 49 Cost : 4.926712547979701\n"
          ],
          "name": "stdout"
        }
      ]
    },
    {
      "cell_type": "code",
      "metadata": {
        "colab": {
          "base_uri": "https://localhost:8080/"
        },
        "id": "b0P2DJDE8Quz",
        "outputId": "d01dc610-9e37-4b74-d73c-c763057d463f"
      },
      "source": [
        "coeffs ### actual coefficients are 3,2,-4"
      ],
      "execution_count": null,
      "outputs": [
        {
          "output_type": "execute_result",
          "data": {
            "text/plain": [
              "array([ 0.78998215,  1.85970693, -3.65482756])"
            ]
          },
          "metadata": {
            "tags": []
          },
          "execution_count": 29
        }
      ]
    },
    {
      "cell_type": "code",
      "metadata": {
        "id": "tIEU-jWktp75",
        "colab": {
          "base_uri": "https://localhost:8080/",
          "height": 312
        },
        "outputId": "ebdda343-f55a-4b6f-df29-b76326c820c1"
      },
      "source": [
        "##### Plotting the errors vs iteration #####\n",
        "\n",
        "sns.scatterplot(x= range(len(errors)),y = errors)\n",
        "\n",
        "plt.xlabel('ITERATION NUM')\n",
        "\n",
        "plt.ylabel('COST')\n",
        "\n",
        "plt.title('Cost with Iterations')"
      ],
      "execution_count": null,
      "outputs": [
        {
          "output_type": "execute_result",
          "data": {
            "text/plain": [
              "Text(0.5, 1.0, 'Cost with Iterations')"
            ]
          },
          "metadata": {
            "tags": []
          },
          "execution_count": 31
        },
        {
          "output_type": "display_data",
          "data": {
            "image/png": "[encoded data removed]",
            "text/plain": [
              "<Figure size 432x288 with 1 Axes>"
            ]
          },
          "metadata": {
            "tags": [],
            "needs_background": "light"
          }
        }
      ]
    },
    {
      "cell_type": "code",
      "metadata": {
        "colab": {
          "base_uri": "https://localhost:8080/"
        },
        "id": "5aNYlcaPHHvR",
        "outputId": "904b93dd-2fb4-4c6f-b0d1-c081d0ec9e17"
      },
      "source": [
        "#y = 3 + 2*x1 -4*x2 + np.random.random((50,))\n",
        "\n",
        "coeffs"
      ],
      "execution_count": null,
      "outputs": [
        {
          "output_type": "execute_result",
          "data": {
            "text/plain": [
              "array([ 0.65499886,  2.11848904, -3.86466923])"
            ]
          },
          "metadata": {
            "tags": []
          },
          "execution_count": 23
        }
      ]
    },
    {
      "cell_type": "code",
      "metadata": {
        "collapsed": true,
        "id": "m76BDT9HqZmU"
      },
      "source": [
        "from sklearn.linear_model import LinearRegression  ### Deterministic way"
      ],
      "execution_count": null,
      "outputs": []
    },
    {
      "cell_type": "code",
      "metadata": {
        "collapsed": true,
        "id": "C6XDnxwjqZmU"
      },
      "source": [
        "lr=LinearRegression()"
      ],
      "execution_count": null,
      "outputs": []
    },
    {
      "cell_type": "code",
      "metadata": {
        "id": "03a_5WkBqZmV",
        "colab": {
          "base_uri": "https://localhost:8080/"
        },
        "outputId": "59d9f97e-492a-443d-b48b-295993befa85"
      },
      "source": [
        "lr.fit(features_df.iloc[:,1:],targets)"
      ],
      "execution_count": null,
      "outputs": [
        {
          "output_type": "execute_result",
          "data": {
            "text/plain": [
              "LinearRegression(copy_X=True, fit_intercept=True, n_jobs=None, normalize=False)"
            ]
          },
          "metadata": {
            "tags": []
          },
          "execution_count": 34
        }
      ]
    },
    {
      "cell_type": "code",
      "metadata": {
        "id": "okC7uVxPqZmV",
        "colab": {
          "base_uri": "https://localhost:8080/"
        },
        "outputId": "af38ef6f-7120-45d1-8077-44b0b18e2a00"
      },
      "source": [
        "lr.coef_"
      ],
      "execution_count": null,
      "outputs": [
        {
          "output_type": "execute_result",
          "data": {
            "text/plain": [
              "array([ 2.00337915, -3.99934472])"
            ]
          },
          "metadata": {
            "tags": []
          },
          "execution_count": 35
        }
      ]
    },
    {
      "cell_type": "code",
      "metadata": {
        "id": "bliK46lnqZmV",
        "colab": {
          "base_uri": "https://localhost:8080/"
        },
        "outputId": "2f450f78-1657-4904-bdd8-a126236e3855"
      },
      "source": [
        "lr.intercept_"
      ],
      "execution_count": null,
      "outputs": [
        {
          "output_type": "execute_result",
          "data": {
            "text/plain": [
              "3.5043547044437666"
            ]
          },
          "metadata": {
            "tags": []
          },
          "execution_count": 36
        }
      ]
    },
    {
      "cell_type": "code",
      "metadata": {
        "id": "-LJgsZonIzaw"
      },
      "source": [
        "error = np.mean((targets - lr.predict(features_df.iloc[:,1:]))**2)"
      ],
      "execution_count": null,
      "outputs": []
    },
    {
      "cell_type": "code",
      "metadata": {
        "colab": {
          "base_uri": "https://localhost:8080/"
        },
        "id": "NdM0ICvLI8pG",
        "outputId": "063deda9-9b43-4a44-e066-613f4781d68a"
      },
      "source": [
        "error ## final error"
      ],
      "execution_count": null,
      "outputs": [
        {
          "output_type": "execute_result",
          "data": {
            "text/plain": [
              "0.0645130060901316"
            ]
          },
          "metadata": {
            "tags": []
          },
          "execution_count": 35
        }
      ]
    },
    {
      "cell_type": "code",
      "metadata": {
        "id": "CCU7rj-zJlno"
      },
      "source": [
        ""
      ],
      "execution_count": null,
      "outputs": []
    }
  ]
}