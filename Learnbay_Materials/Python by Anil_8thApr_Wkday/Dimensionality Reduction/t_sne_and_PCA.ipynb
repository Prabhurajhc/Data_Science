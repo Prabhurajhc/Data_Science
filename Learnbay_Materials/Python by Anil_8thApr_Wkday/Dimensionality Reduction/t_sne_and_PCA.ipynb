{
  "nbformat": 4,
  "nbformat_minor": 0,
  "metadata": {
    "kernelspec": {
      "display_name": "Python 3",
      "language": "python",
      "name": "python3"
    },
    "language_info": {
      "codemirror_mode": {
        "name": "ipython",
        "version": 3
      },
      "file_extension": ".py",
      "mimetype": "text/x-python",
      "name": "python",
      "nbconvert_exporter": "python",
      "pygments_lexer": "ipython3",
      "version": "3.6.3"
    },
    "colab": {
      "name": "t-sne and PCA.ipynb",
      "provenance": []
    }
  },
  "cells": [
    {
      "cell_type": "markdown",
      "metadata": {
        "id": "dLn5nzmul0gV"
      },
      "source": [
        "# t-sne"
      ]
    },
    {
      "cell_type": "code",
      "metadata": {
        "collapsed": true,
        "id": "wdooxabml0gW"
      },
      "source": [
        "import pandas as pd\n",
        "import numpy as np\n",
        "from sklearn.decomposition import PCA\n",
        "from sklearn.preprocessing import scale\n",
        "from sklearn.manifold import TSNE"
      ],
      "execution_count": null,
      "outputs": []
    },
    {
      "cell_type": "code",
      "metadata": {
        "collapsed": true,
        "id": "1RsFFUA6l0gW"
      },
      "source": [
        "from sklearn import datasets\n",
        "digits = datasets.load_digits()\n",
        "# Take the first 500 data points: it's hard to see 1500 points\n",
        "X = digits.data[:500]\n",
        "y = digits.target[:500]"
      ],
      "execution_count": null,
      "outputs": []
    },
    {
      "cell_type": "code",
      "metadata": {
        "colab": {
          "base_uri": "https://localhost:8080/"
        },
        "id": "kQbLvZbml0gX",
        "outputId": "43a3d31c-818d-4c17-eec7-aacee5bb4de0"
      },
      "source": [
        "X.shape"
      ],
      "execution_count": null,
      "outputs": [
        {
          "output_type": "execute_result",
          "data": {
            "text/plain": [
              "(500, 64)"
            ]
          },
          "metadata": {
            "tags": []
          },
          "execution_count": 35
        }
      ]
    },
    {
      "cell_type": "code",
      "metadata": {
        "colab": {
          "base_uri": "https://localhost:8080/"
        },
        "id": "8Cwqpp7zrjq9",
        "outputId": "90f0f1e0-f330-4f7d-e0df-93530807b110"
      },
      "source": [
        "pd.Series(y).value_counts()"
      ],
      "execution_count": null,
      "outputs": [
        {
          "output_type": "execute_result",
          "data": {
            "text/plain": [
              "3    53\n",
              "1    52\n",
              "6    51\n",
              "0    51\n",
              "7    50\n",
              "5    50\n",
              "2    50\n",
              "4    49\n",
              "9    48\n",
              "8    46\n",
              "dtype: int64"
            ]
          },
          "metadata": {
            "tags": []
          },
          "execution_count": 38
        }
      ]
    },
    {
      "cell_type": "code",
      "metadata": {
        "colab": {
          "base_uri": "https://localhost:8080/",
          "height": 224
        },
        "id": "BT3_Lrabl0gX",
        "outputId": "f4957fe9-c48a-485d-bd54-ecb0e49f6b9e"
      },
      "source": [
        "pd.DataFrame(X).head()"
      ],
      "execution_count": null,
      "outputs": [
        {
          "output_type": "execute_result",
          "data": {
            "text/html": [
              "<div>\n",
              "<style scoped>\n",
              "    .dataframe tbody tr th:only-of-type {\n",
              "        vertical-align: middle;\n",
              "    }\n",
              "\n",
              "    .dataframe tbody tr th {\n",
              "        vertical-align: top;\n",
              "    }\n",
              "\n",
              "    .dataframe thead th {\n",
              "        text-align: right;\n",
              "    }\n",
              "</style>\n",
              "<table border=\"1\" class=\"dataframe\">\n",
              "  <thead>\n",
              "    <tr style=\"text-align: right;\">\n",
              "      <th></th>\n",
              "      <th>0</th>\n",
              "      <th>1</th>\n",
              "      <th>2</th>\n",
              "      <th>3</th>\n",
              "      <th>4</th>\n",
              "      <th>5</th>\n",
              "      <th>6</th>\n",
              "      <th>7</th>\n",
              "      <th>8</th>\n",
              "      <th>9</th>\n",
              "      <th>10</th>\n",
              "      <th>11</th>\n",
              "      <th>12</th>\n",
              "      <th>13</th>\n",
              "      <th>14</th>\n",
              "      <th>15</th>\n",
              "      <th>16</th>\n",
              "      <th>17</th>\n",
              "      <th>18</th>\n",
              "      <th>19</th>\n",
              "      <th>20</th>\n",
              "      <th>21</th>\n",
              "      <th>22</th>\n",
              "      <th>23</th>\n",
              "      <th>24</th>\n",
              "      <th>25</th>\n",
              "      <th>26</th>\n",
              "      <th>27</th>\n",
              "      <th>28</th>\n",
              "      <th>29</th>\n",
              "      <th>30</th>\n",
              "      <th>31</th>\n",
              "      <th>32</th>\n",
              "      <th>33</th>\n",
              "      <th>34</th>\n",
              "      <th>35</th>\n",
              "      <th>36</th>\n",
              "      <th>37</th>\n",
              "      <th>38</th>\n",
              "      <th>39</th>\n",
              "      <th>40</th>\n",
              "      <th>41</th>\n",
              "      <th>42</th>\n",
              "      <th>43</th>\n",
              "      <th>44</th>\n",
              "      <th>45</th>\n",
              "      <th>46</th>\n",
              "      <th>47</th>\n",
              "      <th>48</th>\n",
              "      <th>49</th>\n",
              "      <th>50</th>\n",
              "      <th>51</th>\n",
              "      <th>52</th>\n",
              "      <th>53</th>\n",
              "      <th>54</th>\n",
              "      <th>55</th>\n",
              "      <th>56</th>\n",
              "      <th>57</th>\n",
              "      <th>58</th>\n",
              "      <th>59</th>\n",
              "      <th>60</th>\n",
              "      <th>61</th>\n",
              "      <th>62</th>\n",
              "      <th>63</th>\n",
              "    </tr>\n",
              "  </thead>\n",
              "  <tbody>\n",
              "    <tr>\n",
              "      <th>0</th>\n",
              "      <td>0.0</td>\n",
              "      <td>0.0</td>\n",
              "      <td>5.0</td>\n",
              "      <td>13.0</td>\n",
              "      <td>9.0</td>\n",
              "      <td>1.0</td>\n",
              "      <td>0.0</td>\n",
              "      <td>0.0</td>\n",
              "      <td>0.0</td>\n",
              "      <td>0.0</td>\n",
              "      <td>13.0</td>\n",
              "      <td>15.0</td>\n",
              "      <td>10.0</td>\n",
              "      <td>15.0</td>\n",
              "      <td>5.0</td>\n",
              "      <td>0.0</td>\n",
              "      <td>0.0</td>\n",
              "      <td>3.0</td>\n",
              "      <td>15.0</td>\n",
              "      <td>2.0</td>\n",
              "      <td>0.0</td>\n",
              "      <td>11.0</td>\n",
              "      <td>8.0</td>\n",
              "      <td>0.0</td>\n",
              "      <td>0.0</td>\n",
              "      <td>4.0</td>\n",
              "      <td>12.0</td>\n",
              "      <td>0.0</td>\n",
              "      <td>0.0</td>\n",
              "      <td>8.0</td>\n",
              "      <td>8.0</td>\n",
              "      <td>0.0</td>\n",
              "      <td>0.0</td>\n",
              "      <td>5.0</td>\n",
              "      <td>8.0</td>\n",
              "      <td>0.0</td>\n",
              "      <td>0.0</td>\n",
              "      <td>9.0</td>\n",
              "      <td>8.0</td>\n",
              "      <td>0.0</td>\n",
              "      <td>0.0</td>\n",
              "      <td>4.0</td>\n",
              "      <td>11.0</td>\n",
              "      <td>0.0</td>\n",
              "      <td>1.0</td>\n",
              "      <td>12.0</td>\n",
              "      <td>7.0</td>\n",
              "      <td>0.0</td>\n",
              "      <td>0.0</td>\n",
              "      <td>2.0</td>\n",
              "      <td>14.0</td>\n",
              "      <td>5.0</td>\n",
              "      <td>10.0</td>\n",
              "      <td>12.0</td>\n",
              "      <td>0.0</td>\n",
              "      <td>0.0</td>\n",
              "      <td>0.0</td>\n",
              "      <td>0.0</td>\n",
              "      <td>6.0</td>\n",
              "      <td>13.0</td>\n",
              "      <td>10.0</td>\n",
              "      <td>0.0</td>\n",
              "      <td>0.0</td>\n",
              "      <td>0.0</td>\n",
              "    </tr>\n",
              "    <tr>\n",
              "      <th>1</th>\n",
              "      <td>0.0</td>\n",
              "      <td>0.0</td>\n",
              "      <td>0.0</td>\n",
              "      <td>12.0</td>\n",
              "      <td>13.0</td>\n",
              "      <td>5.0</td>\n",
              "      <td>0.0</td>\n",
              "      <td>0.0</td>\n",
              "      <td>0.0</td>\n",
              "      <td>0.0</td>\n",
              "      <td>0.0</td>\n",
              "      <td>11.0</td>\n",
              "      <td>16.0</td>\n",
              "      <td>9.0</td>\n",
              "      <td>0.0</td>\n",
              "      <td>0.0</td>\n",
              "      <td>0.0</td>\n",
              "      <td>0.0</td>\n",
              "      <td>3.0</td>\n",
              "      <td>15.0</td>\n",
              "      <td>16.0</td>\n",
              "      <td>6.0</td>\n",
              "      <td>0.0</td>\n",
              "      <td>0.0</td>\n",
              "      <td>0.0</td>\n",
              "      <td>7.0</td>\n",
              "      <td>15.0</td>\n",
              "      <td>16.0</td>\n",
              "      <td>16.0</td>\n",
              "      <td>2.0</td>\n",
              "      <td>0.0</td>\n",
              "      <td>0.0</td>\n",
              "      <td>0.0</td>\n",
              "      <td>0.0</td>\n",
              "      <td>1.0</td>\n",
              "      <td>16.0</td>\n",
              "      <td>16.0</td>\n",
              "      <td>3.0</td>\n",
              "      <td>0.0</td>\n",
              "      <td>0.0</td>\n",
              "      <td>0.0</td>\n",
              "      <td>0.0</td>\n",
              "      <td>1.0</td>\n",
              "      <td>16.0</td>\n",
              "      <td>16.0</td>\n",
              "      <td>6.0</td>\n",
              "      <td>0.0</td>\n",
              "      <td>0.0</td>\n",
              "      <td>0.0</td>\n",
              "      <td>0.0</td>\n",
              "      <td>1.0</td>\n",
              "      <td>16.0</td>\n",
              "      <td>16.0</td>\n",
              "      <td>6.0</td>\n",
              "      <td>0.0</td>\n",
              "      <td>0.0</td>\n",
              "      <td>0.0</td>\n",
              "      <td>0.0</td>\n",
              "      <td>0.0</td>\n",
              "      <td>11.0</td>\n",
              "      <td>16.0</td>\n",
              "      <td>10.0</td>\n",
              "      <td>0.0</td>\n",
              "      <td>0.0</td>\n",
              "    </tr>\n",
              "    <tr>\n",
              "      <th>2</th>\n",
              "      <td>0.0</td>\n",
              "      <td>0.0</td>\n",
              "      <td>0.0</td>\n",
              "      <td>4.0</td>\n",
              "      <td>15.0</td>\n",
              "      <td>12.0</td>\n",
              "      <td>0.0</td>\n",
              "      <td>0.0</td>\n",
              "      <td>0.0</td>\n",
              "      <td>0.0</td>\n",
              "      <td>3.0</td>\n",
              "      <td>16.0</td>\n",
              "      <td>15.0</td>\n",
              "      <td>14.0</td>\n",
              "      <td>0.0</td>\n",
              "      <td>0.0</td>\n",
              "      <td>0.0</td>\n",
              "      <td>0.0</td>\n",
              "      <td>8.0</td>\n",
              "      <td>13.0</td>\n",
              "      <td>8.0</td>\n",
              "      <td>16.0</td>\n",
              "      <td>0.0</td>\n",
              "      <td>0.0</td>\n",
              "      <td>0.0</td>\n",
              "      <td>0.0</td>\n",
              "      <td>1.0</td>\n",
              "      <td>6.0</td>\n",
              "      <td>15.0</td>\n",
              "      <td>11.0</td>\n",
              "      <td>0.0</td>\n",
              "      <td>0.0</td>\n",
              "      <td>0.0</td>\n",
              "      <td>1.0</td>\n",
              "      <td>8.0</td>\n",
              "      <td>13.0</td>\n",
              "      <td>15.0</td>\n",
              "      <td>1.0</td>\n",
              "      <td>0.0</td>\n",
              "      <td>0.0</td>\n",
              "      <td>0.0</td>\n",
              "      <td>9.0</td>\n",
              "      <td>16.0</td>\n",
              "      <td>16.0</td>\n",
              "      <td>5.0</td>\n",
              "      <td>0.0</td>\n",
              "      <td>0.0</td>\n",
              "      <td>0.0</td>\n",
              "      <td>0.0</td>\n",
              "      <td>3.0</td>\n",
              "      <td>13.0</td>\n",
              "      <td>16.0</td>\n",
              "      <td>16.0</td>\n",
              "      <td>11.0</td>\n",
              "      <td>5.0</td>\n",
              "      <td>0.0</td>\n",
              "      <td>0.0</td>\n",
              "      <td>0.0</td>\n",
              "      <td>0.0</td>\n",
              "      <td>3.0</td>\n",
              "      <td>11.0</td>\n",
              "      <td>16.0</td>\n",
              "      <td>9.0</td>\n",
              "      <td>0.0</td>\n",
              "    </tr>\n",
              "    <tr>\n",
              "      <th>3</th>\n",
              "      <td>0.0</td>\n",
              "      <td>0.0</td>\n",
              "      <td>7.0</td>\n",
              "      <td>15.0</td>\n",
              "      <td>13.0</td>\n",
              "      <td>1.0</td>\n",
              "      <td>0.0</td>\n",
              "      <td>0.0</td>\n",
              "      <td>0.0</td>\n",
              "      <td>8.0</td>\n",
              "      <td>13.0</td>\n",
              "      <td>6.0</td>\n",
              "      <td>15.0</td>\n",
              "      <td>4.0</td>\n",
              "      <td>0.0</td>\n",
              "      <td>0.0</td>\n",
              "      <td>0.0</td>\n",
              "      <td>2.0</td>\n",
              "      <td>1.0</td>\n",
              "      <td>13.0</td>\n",
              "      <td>13.0</td>\n",
              "      <td>0.0</td>\n",
              "      <td>0.0</td>\n",
              "      <td>0.0</td>\n",
              "      <td>0.0</td>\n",
              "      <td>0.0</td>\n",
              "      <td>2.0</td>\n",
              "      <td>15.0</td>\n",
              "      <td>11.0</td>\n",
              "      <td>1.0</td>\n",
              "      <td>0.0</td>\n",
              "      <td>0.0</td>\n",
              "      <td>0.0</td>\n",
              "      <td>0.0</td>\n",
              "      <td>0.0</td>\n",
              "      <td>1.0</td>\n",
              "      <td>12.0</td>\n",
              "      <td>12.0</td>\n",
              "      <td>1.0</td>\n",
              "      <td>0.0</td>\n",
              "      <td>0.0</td>\n",
              "      <td>0.0</td>\n",
              "      <td>0.0</td>\n",
              "      <td>0.0</td>\n",
              "      <td>1.0</td>\n",
              "      <td>10.0</td>\n",
              "      <td>8.0</td>\n",
              "      <td>0.0</td>\n",
              "      <td>0.0</td>\n",
              "      <td>0.0</td>\n",
              "      <td>8.0</td>\n",
              "      <td>4.0</td>\n",
              "      <td>5.0</td>\n",
              "      <td>14.0</td>\n",
              "      <td>9.0</td>\n",
              "      <td>0.0</td>\n",
              "      <td>0.0</td>\n",
              "      <td>0.0</td>\n",
              "      <td>7.0</td>\n",
              "      <td>13.0</td>\n",
              "      <td>13.0</td>\n",
              "      <td>9.0</td>\n",
              "      <td>0.0</td>\n",
              "      <td>0.0</td>\n",
              "    </tr>\n",
              "    <tr>\n",
              "      <th>4</th>\n",
              "      <td>0.0</td>\n",
              "      <td>0.0</td>\n",
              "      <td>0.0</td>\n",
              "      <td>1.0</td>\n",
              "      <td>11.0</td>\n",
              "      <td>0.0</td>\n",
              "      <td>0.0</td>\n",
              "      <td>0.0</td>\n",
              "      <td>0.0</td>\n",
              "      <td>0.0</td>\n",
              "      <td>0.0</td>\n",
              "      <td>7.0</td>\n",
              "      <td>8.0</td>\n",
              "      <td>0.0</td>\n",
              "      <td>0.0</td>\n",
              "      <td>0.0</td>\n",
              "      <td>0.0</td>\n",
              "      <td>0.0</td>\n",
              "      <td>1.0</td>\n",
              "      <td>13.0</td>\n",
              "      <td>6.0</td>\n",
              "      <td>2.0</td>\n",
              "      <td>2.0</td>\n",
              "      <td>0.0</td>\n",
              "      <td>0.0</td>\n",
              "      <td>0.0</td>\n",
              "      <td>7.0</td>\n",
              "      <td>15.0</td>\n",
              "      <td>0.0</td>\n",
              "      <td>9.0</td>\n",
              "      <td>8.0</td>\n",
              "      <td>0.0</td>\n",
              "      <td>0.0</td>\n",
              "      <td>5.0</td>\n",
              "      <td>16.0</td>\n",
              "      <td>10.0</td>\n",
              "      <td>0.0</td>\n",
              "      <td>16.0</td>\n",
              "      <td>6.0</td>\n",
              "      <td>0.0</td>\n",
              "      <td>0.0</td>\n",
              "      <td>4.0</td>\n",
              "      <td>15.0</td>\n",
              "      <td>16.0</td>\n",
              "      <td>13.0</td>\n",
              "      <td>16.0</td>\n",
              "      <td>1.0</td>\n",
              "      <td>0.0</td>\n",
              "      <td>0.0</td>\n",
              "      <td>0.0</td>\n",
              "      <td>0.0</td>\n",
              "      <td>3.0</td>\n",
              "      <td>15.0</td>\n",
              "      <td>10.0</td>\n",
              "      <td>0.0</td>\n",
              "      <td>0.0</td>\n",
              "      <td>0.0</td>\n",
              "      <td>0.0</td>\n",
              "      <td>0.0</td>\n",
              "      <td>2.0</td>\n",
              "      <td>16.0</td>\n",
              "      <td>4.0</td>\n",
              "      <td>0.0</td>\n",
              "      <td>0.0</td>\n",
              "    </tr>\n",
              "  </tbody>\n",
              "</table>\n",
              "</div>"
            ],
            "text/plain": [
              "    0    1    2     3     4     5    6   ...   57   58    59    60    61   62   63\n",
              "0  0.0  0.0  5.0  13.0   9.0   1.0  0.0  ...  0.0  6.0  13.0  10.0   0.0  0.0  0.0\n",
              "1  0.0  0.0  0.0  12.0  13.0   5.0  0.0  ...  0.0  0.0  11.0  16.0  10.0  0.0  0.0\n",
              "2  0.0  0.0  0.0   4.0  15.0  12.0  0.0  ...  0.0  0.0   3.0  11.0  16.0  9.0  0.0\n",
              "3  0.0  0.0  7.0  15.0  13.0   1.0  0.0  ...  0.0  7.0  13.0  13.0   9.0  0.0  0.0\n",
              "4  0.0  0.0  0.0   1.0  11.0   0.0  0.0  ...  0.0  0.0   2.0  16.0   4.0  0.0  0.0\n",
              "\n",
              "[5 rows x 64 columns]"
            ]
          },
          "metadata": {
            "tags": []
          },
          "execution_count": 36
        }
      ]
    },
    {
      "cell_type": "code",
      "metadata": {
        "collapsed": true,
        "id": "0LetOCXAl0gY"
      },
      "source": [
        "from sklearn.manifold import TSNE\n",
        "tsne = TSNE(n_components=2, random_state=0)"
      ],
      "execution_count": null,
      "outputs": []
    },
    {
      "cell_type": "code",
      "metadata": {
        "collapsed": true,
        "id": "Xftsm6dFl0gY"
      },
      "source": [
        "X_2d = tsne.fit_transform(X)"
      ],
      "execution_count": null,
      "outputs": []
    },
    {
      "cell_type": "code",
      "metadata": {
        "collapsed": true,
        "id": "pHsrYT0Ql0gY"
      },
      "source": [
        "mydata=pd.DataFrame(X_2d,columns=['X1','X2'])"
      ],
      "execution_count": null,
      "outputs": []
    },
    {
      "cell_type": "code",
      "metadata": {
        "colab": {
          "base_uri": "https://localhost:8080/",
          "height": 419
        },
        "id": "WRDxirTaryld",
        "outputId": "8663e080-be06-46d0-e2a5-bf876c7e879e"
      },
      "source": [
        "mydata"
      ],
      "execution_count": null,
      "outputs": [
        {
          "output_type": "execute_result",
          "data": {
            "text/html": [
              "<div>\n",
              "<style scoped>\n",
              "    .dataframe tbody tr th:only-of-type {\n",
              "        vertical-align: middle;\n",
              "    }\n",
              "\n",
              "    .dataframe tbody tr th {\n",
              "        vertical-align: top;\n",
              "    }\n",
              "\n",
              "    .dataframe thead th {\n",
              "        text-align: right;\n",
              "    }\n",
              "</style>\n",
              "<table border=\"1\" class=\"dataframe\">\n",
              "  <thead>\n",
              "    <tr style=\"text-align: right;\">\n",
              "      <th></th>\n",
              "      <th>X1</th>\n",
              "      <th>X2</th>\n",
              "    </tr>\n",
              "  </thead>\n",
              "  <tbody>\n",
              "    <tr>\n",
              "      <th>0</th>\n",
              "      <td>21.128862</td>\n",
              "      <td>-27.168310</td>\n",
              "    </tr>\n",
              "    <tr>\n",
              "      <th>1</th>\n",
              "      <td>4.987787</td>\n",
              "      <td>19.583260</td>\n",
              "    </tr>\n",
              "    <tr>\n",
              "      <th>2</th>\n",
              "      <td>-2.877124</td>\n",
              "      <td>15.290366</td>\n",
              "    </tr>\n",
              "    <tr>\n",
              "      <th>3</th>\n",
              "      <td>-8.521600</td>\n",
              "      <td>-21.091736</td>\n",
              "    </tr>\n",
              "    <tr>\n",
              "      <th>4</th>\n",
              "      <td>15.439630</td>\n",
              "      <td>23.603703</td>\n",
              "    </tr>\n",
              "    <tr>\n",
              "      <th>...</th>\n",
              "      <td>...</td>\n",
              "      <td>...</td>\n",
              "    </tr>\n",
              "    <tr>\n",
              "      <th>495</th>\n",
              "      <td>-11.408027</td>\n",
              "      <td>-5.706061</td>\n",
              "    </tr>\n",
              "    <tr>\n",
              "      <th>496</th>\n",
              "      <td>12.562231</td>\n",
              "      <td>22.834518</td>\n",
              "    </tr>\n",
              "    <tr>\n",
              "      <th>497</th>\n",
              "      <td>12.427700</td>\n",
              "      <td>21.450829</td>\n",
              "    </tr>\n",
              "    <tr>\n",
              "      <th>498</th>\n",
              "      <td>-16.493898</td>\n",
              "      <td>10.183492</td>\n",
              "    </tr>\n",
              "    <tr>\n",
              "      <th>499</th>\n",
              "      <td>-33.120514</td>\n",
              "      <td>0.248082</td>\n",
              "    </tr>\n",
              "  </tbody>\n",
              "</table>\n",
              "<p>500 rows × 2 columns</p>\n",
              "</div>"
            ],
            "text/plain": [
              "            X1         X2\n",
              "0    21.128862 -27.168310\n",
              "1     4.987787  19.583260\n",
              "2    -2.877124  15.290366\n",
              "3    -8.521600 -21.091736\n",
              "4    15.439630  23.603703\n",
              "..         ...        ...\n",
              "495 -11.408027  -5.706061\n",
              "496  12.562231  22.834518\n",
              "497  12.427700  21.450829\n",
              "498 -16.493898  10.183492\n",
              "499 -33.120514   0.248082\n",
              "\n",
              "[500 rows x 2 columns]"
            ]
          },
          "metadata": {
            "tags": []
          },
          "execution_count": 42
        }
      ]
    },
    {
      "cell_type": "code",
      "metadata": {
        "collapsed": true,
        "id": "bMNJSf8Hl0gY"
      },
      "source": [
        "mydata['digits']=y"
      ],
      "execution_count": null,
      "outputs": []
    },
    {
      "cell_type": "code",
      "metadata": {
        "colab": {
          "base_uri": "https://localhost:8080/",
          "height": 419
        },
        "id": "4DBlnmthl0gZ",
        "outputId": "b8066ca5-b96b-4b11-c1d4-2e4d9429d287"
      },
      "source": [
        "mydata"
      ],
      "execution_count": null,
      "outputs": [
        {
          "output_type": "execute_result",
          "data": {
            "text/html": [
              "<div>\n",
              "<style scoped>\n",
              "    .dataframe tbody tr th:only-of-type {\n",
              "        vertical-align: middle;\n",
              "    }\n",
              "\n",
              "    .dataframe tbody tr th {\n",
              "        vertical-align: top;\n",
              "    }\n",
              "\n",
              "    .dataframe thead th {\n",
              "        text-align: right;\n",
              "    }\n",
              "</style>\n",
              "<table border=\"1\" class=\"dataframe\">\n",
              "  <thead>\n",
              "    <tr style=\"text-align: right;\">\n",
              "      <th></th>\n",
              "      <th>X1</th>\n",
              "      <th>X2</th>\n",
              "      <th>digits</th>\n",
              "    </tr>\n",
              "  </thead>\n",
              "  <tbody>\n",
              "    <tr>\n",
              "      <th>0</th>\n",
              "      <td>21.128862</td>\n",
              "      <td>-27.168310</td>\n",
              "      <td>0</td>\n",
              "    </tr>\n",
              "    <tr>\n",
              "      <th>1</th>\n",
              "      <td>4.987787</td>\n",
              "      <td>19.583260</td>\n",
              "      <td>1</td>\n",
              "    </tr>\n",
              "    <tr>\n",
              "      <th>2</th>\n",
              "      <td>-2.877124</td>\n",
              "      <td>15.290366</td>\n",
              "      <td>2</td>\n",
              "    </tr>\n",
              "    <tr>\n",
              "      <th>3</th>\n",
              "      <td>-8.521600</td>\n",
              "      <td>-21.091736</td>\n",
              "      <td>3</td>\n",
              "    </tr>\n",
              "    <tr>\n",
              "      <th>4</th>\n",
              "      <td>15.439630</td>\n",
              "      <td>23.603703</td>\n",
              "      <td>4</td>\n",
              "    </tr>\n",
              "    <tr>\n",
              "      <th>...</th>\n",
              "      <td>...</td>\n",
              "      <td>...</td>\n",
              "      <td>...</td>\n",
              "    </tr>\n",
              "    <tr>\n",
              "      <th>495</th>\n",
              "      <td>-11.408027</td>\n",
              "      <td>-5.706061</td>\n",
              "      <td>5</td>\n",
              "    </tr>\n",
              "    <tr>\n",
              "      <th>496</th>\n",
              "      <td>12.562231</td>\n",
              "      <td>22.834518</td>\n",
              "      <td>4</td>\n",
              "    </tr>\n",
              "    <tr>\n",
              "      <th>497</th>\n",
              "      <td>12.427700</td>\n",
              "      <td>21.450829</td>\n",
              "      <td>4</td>\n",
              "    </tr>\n",
              "    <tr>\n",
              "      <th>498</th>\n",
              "      <td>-16.493898</td>\n",
              "      <td>10.183492</td>\n",
              "      <td>7</td>\n",
              "    </tr>\n",
              "    <tr>\n",
              "      <th>499</th>\n",
              "      <td>-33.120514</td>\n",
              "      <td>0.248082</td>\n",
              "      <td>2</td>\n",
              "    </tr>\n",
              "  </tbody>\n",
              "</table>\n",
              "<p>500 rows × 3 columns</p>\n",
              "</div>"
            ],
            "text/plain": [
              "            X1         X2  digits\n",
              "0    21.128862 -27.168310       0\n",
              "1     4.987787  19.583260       1\n",
              "2    -2.877124  15.290366       2\n",
              "3    -8.521600 -21.091736       3\n",
              "4    15.439630  23.603703       4\n",
              "..         ...        ...     ...\n",
              "495 -11.408027  -5.706061       5\n",
              "496  12.562231  22.834518       4\n",
              "497  12.427700  21.450829       4\n",
              "498 -16.493898  10.183492       7\n",
              "499 -33.120514   0.248082       2\n",
              "\n",
              "[500 rows x 3 columns]"
            ]
          },
          "metadata": {
            "tags": []
          },
          "execution_count": 44
        }
      ]
    },
    {
      "cell_type": "code",
      "metadata": {
        "collapsed": true,
        "id": "UbFai4Gll0gZ"
      },
      "source": [
        "import seaborn as sns\n",
        "%matplotlib inline"
      ],
      "execution_count": null,
      "outputs": []
    },
    {
      "cell_type": "code",
      "metadata": {
        "colab": {
          "base_uri": "https://localhost:8080/",
          "height": 454
        },
        "id": "6L8jggz6l0gZ",
        "outputId": "955eb4be-954b-4967-f7e0-bb7d6c40bdf9"
      },
      "source": [
        "sns.lmplot('X1','X2',hue='digits',data=mydata,fit_reg=False)"
      ],
      "execution_count": null,
      "outputs": [
        {
          "output_type": "stream",
          "text": [
            "/usr/local/lib/python3.7/dist-packages/seaborn/_decorators.py:43: FutureWarning: Pass the following variables as keyword args: x, y. From version 0.12, the only valid positional argument will be `data`, and passing other arguments without an explicit keyword will result in an error or misinterpretation.\n",
            "  FutureWarning\n"
          ],
          "name": "stderr"
        },
        {
          "output_type": "execute_result",
          "data": {
            "text/plain": [
              "<seaborn.axisgrid.FacetGrid at 0x7fec9a3b2fd0>"
            ]
          },
          "metadata": {
            "tags": []
          },
          "execution_count": 47
        },
        {
          "output_type": "display_data",
          "data": {
            "image/png": "[encoded data removed]",
            "text/plain": [
              "<Figure size 402.375x360 with 1 Axes>"
            ]
          },
          "metadata": {
            "tags": [],
            "needs_background": "light"
          }
        }
      ]
    },
    {
      "cell_type": "markdown",
      "metadata": {
        "id": "fQaWPIZnl0ga"
      },
      "source": [
        "# tsne on wine data"
      ]
    },
    {
      "cell_type": "code",
      "metadata": {
        "collapsed": true,
        "id": "NxiVMwOJl0ga"
      },
      "source": [
        "wine=pd.read_csv(r'/Users/lalitsachan/Dropbox/0.0 Data/winequality-white.csv',sep=\";\")"
      ],
      "execution_count": null,
      "outputs": []
    },
    {
      "cell_type": "code",
      "metadata": {
        "id": "Qb9Vq1yWl0ga",
        "outputId": "2e45a0c0-3a2b-461e-b2a4-5ddf5ba1aeb2"
      },
      "source": [
        "wine.head()"
      ],
      "execution_count": null,
      "outputs": [
        {
          "output_type": "execute_result",
          "data": {
            "text/html": [
              "<div>\n",
              "<style>\n",
              "    .dataframe thead tr:only-child th {\n",
              "        text-align: right;\n",
              "    }\n",
              "\n",
              "    .dataframe thead th {\n",
              "        text-align: left;\n",
              "    }\n",
              "\n",
              "    .dataframe tbody tr th {\n",
              "        vertical-align: top;\n",
              "    }\n",
              "</style>\n",
              "<table border=\"1\" class=\"dataframe\">\n",
              "  <thead>\n",
              "    <tr style=\"text-align: right;\">\n",
              "      <th></th>\n",
              "      <th>fixed acidity</th>\n",
              "      <th>volatile acidity</th>\n",
              "      <th>citric acid</th>\n",
              "      <th>residual sugar</th>\n",
              "      <th>chlorides</th>\n",
              "      <th>free sulfur dioxide</th>\n",
              "      <th>total sulfur dioxide</th>\n",
              "      <th>density</th>\n",
              "      <th>pH</th>\n",
              "      <th>sulphates</th>\n",
              "      <th>alcohol</th>\n",
              "      <th>quality</th>\n",
              "    </tr>\n",
              "  </thead>\n",
              "  <tbody>\n",
              "    <tr>\n",
              "      <th>0</th>\n",
              "      <td>7.0</td>\n",
              "      <td>0.27</td>\n",
              "      <td>0.36</td>\n",
              "      <td>20.7</td>\n",
              "      <td>0.045</td>\n",
              "      <td>45.0</td>\n",
              "      <td>170.0</td>\n",
              "      <td>1.0010</td>\n",
              "      <td>3.00</td>\n",
              "      <td>0.45</td>\n",
              "      <td>8.8</td>\n",
              "      <td>6</td>\n",
              "    </tr>\n",
              "    <tr>\n",
              "      <th>1</th>\n",
              "      <td>6.3</td>\n",
              "      <td>0.30</td>\n",
              "      <td>0.34</td>\n",
              "      <td>1.6</td>\n",
              "      <td>0.049</td>\n",
              "      <td>14.0</td>\n",
              "      <td>132.0</td>\n",
              "      <td>0.9940</td>\n",
              "      <td>3.30</td>\n",
              "      <td>0.49</td>\n",
              "      <td>9.5</td>\n",
              "      <td>6</td>\n",
              "    </tr>\n",
              "    <tr>\n",
              "      <th>2</th>\n",
              "      <td>8.1</td>\n",
              "      <td>0.28</td>\n",
              "      <td>0.40</td>\n",
              "      <td>6.9</td>\n",
              "      <td>0.050</td>\n",
              "      <td>30.0</td>\n",
              "      <td>97.0</td>\n",
              "      <td>0.9951</td>\n",
              "      <td>3.26</td>\n",
              "      <td>0.44</td>\n",
              "      <td>10.1</td>\n",
              "      <td>6</td>\n",
              "    </tr>\n",
              "    <tr>\n",
              "      <th>3</th>\n",
              "      <td>7.2</td>\n",
              "      <td>0.23</td>\n",
              "      <td>0.32</td>\n",
              "      <td>8.5</td>\n",
              "      <td>0.058</td>\n",
              "      <td>47.0</td>\n",
              "      <td>186.0</td>\n",
              "      <td>0.9956</td>\n",
              "      <td>3.19</td>\n",
              "      <td>0.40</td>\n",
              "      <td>9.9</td>\n",
              "      <td>6</td>\n",
              "    </tr>\n",
              "    <tr>\n",
              "      <th>4</th>\n",
              "      <td>7.2</td>\n",
              "      <td>0.23</td>\n",
              "      <td>0.32</td>\n",
              "      <td>8.5</td>\n",
              "      <td>0.058</td>\n",
              "      <td>47.0</td>\n",
              "      <td>186.0</td>\n",
              "      <td>0.9956</td>\n",
              "      <td>3.19</td>\n",
              "      <td>0.40</td>\n",
              "      <td>9.9</td>\n",
              "      <td>6</td>\n",
              "    </tr>\n",
              "  </tbody>\n",
              "</table>\n",
              "</div>"
            ],
            "text/plain": [
              "   fixed acidity  volatile acidity  citric acid  residual sugar  chlorides  \\\n",
              "0            7.0              0.27         0.36            20.7      0.045   \n",
              "1            6.3              0.30         0.34             1.6      0.049   \n",
              "2            8.1              0.28         0.40             6.9      0.050   \n",
              "3            7.2              0.23         0.32             8.5      0.058   \n",
              "4            7.2              0.23         0.32             8.5      0.058   \n",
              "\n",
              "   free sulfur dioxide  total sulfur dioxide  density    pH  sulphates  \\\n",
              "0                 45.0                 170.0   1.0010  3.00       0.45   \n",
              "1                 14.0                 132.0   0.9940  3.30       0.49   \n",
              "2                 30.0                  97.0   0.9951  3.26       0.44   \n",
              "3                 47.0                 186.0   0.9956  3.19       0.40   \n",
              "4                 47.0                 186.0   0.9956  3.19       0.40   \n",
              "\n",
              "   alcohol  quality  \n",
              "0      8.8        6  \n",
              "1      9.5        6  \n",
              "2     10.1        6  \n",
              "3      9.9        6  \n",
              "4      9.9        6  "
            ]
          },
          "metadata": {
            "tags": []
          },
          "execution_count": 12
        }
      ]
    },
    {
      "cell_type": "code",
      "metadata": {
        "id": "qXjV8xeHl0ga"
      },
      "source": [
        "X=scale(wine.iloc[:,:-1])"
      ],
      "execution_count": null,
      "outputs": []
    },
    {
      "cell_type": "code",
      "metadata": {
        "collapsed": true,
        "id": "KniPHtLml0ga"
      },
      "source": [
        "X_2d=tsne.fit_transform(X)"
      ],
      "execution_count": null,
      "outputs": []
    },
    {
      "cell_type": "code",
      "metadata": {
        "collapsed": true,
        "id": "TeTr7fXil0gb"
      },
      "source": [
        "mydata=pd.DataFrame(X_2d,columns=['X','Y'])"
      ],
      "execution_count": null,
      "outputs": []
    },
    {
      "cell_type": "code",
      "metadata": {
        "collapsed": true,
        "id": "1aShplS_l0gb"
      },
      "source": [
        "mydata['quality']=wine['quality']"
      ],
      "execution_count": null,
      "outputs": []
    },
    {
      "cell_type": "code",
      "metadata": {
        "id": "PpMchKBhl0gb",
        "outputId": "0f5e1910-4d1f-4051-a18c-a69486cba4cf"
      },
      "source": [
        "sns.lmplot('X','Y',data=mydata,fit_reg=False)"
      ],
      "execution_count": null,
      "outputs": [
        {
          "output_type": "execute_result",
          "data": {
            "text/plain": [
              "<seaborn.axisgrid.FacetGrid at 0x1a204ef240>"
            ]
          },
          "metadata": {
            "tags": []
          },
          "execution_count": 53
        },
        {
          "output_type": "display_data",
          "data": {
            "image/png": "[encoded data removed]",
            "text/plain": [
              "<matplotlib.figure.Figure at 0x1a204ef4e0>"
            ]
          },
          "metadata": {
            "tags": []
          }
        }
      ]
    },
    {
      "cell_type": "code",
      "metadata": {
        "id": "nlMpPBO7l0gb",
        "outputId": "a72dee81-324e-4d6e-e7c6-f42cf9a4df33"
      },
      "source": [
        "sns.lmplot('X','Y',hue='quality',data=mydata,fit_reg=False)"
      ],
      "execution_count": null,
      "outputs": [
        {
          "output_type": "execute_result",
          "data": {
            "text/plain": [
              "<seaborn.axisgrid.FacetGrid at 0x1a215739e8>"
            ]
          },
          "metadata": {
            "tags": []
          },
          "execution_count": 54
        },
        {
          "output_type": "display_data",
          "data": {
            "image/png": "[encoded data removed]",
            "text/plain": [
              "<matplotlib.figure.Figure at 0x1a204e94a8>"
            ]
          },
          "metadata": {
            "tags": []
          }
        }
      ]
    },
    {
      "cell_type": "code",
      "metadata": {
        "id": "kkkSEQ8Nl0gc",
        "outputId": "fc4564d2-7cab-48ed-c766-d98792621fb3"
      },
      "source": [
        "mydata['quality'].value_counts()"
      ],
      "execution_count": null,
      "outputs": [
        {
          "output_type": "execute_result",
          "data": {
            "text/plain": [
              "6    2198\n",
              "5    1457\n",
              "7     880\n",
              "8     175\n",
              "4     163\n",
              "3      20\n",
              "9       5\n",
              "Name: quality, dtype: int64"
            ]
          },
          "metadata": {
            "tags": []
          },
          "execution_count": 55
        }
      ]
    },
    {
      "cell_type": "markdown",
      "metadata": {
        "id": "EjLbS1P0l0gc"
      },
      "source": [
        "# PCA"
      ]
    },
    {
      "cell_type": "code",
      "metadata": {
        "collapsed": true,
        "id": "CuZRi7WSl0gc"
      },
      "source": [
        "import pandas as pd\n",
        "import numpy as np\n",
        "from sklearn.decomposition import PCA\n",
        "from sklearn.preprocessing import scale"
      ],
      "execution_count": null,
      "outputs": []
    },
    {
      "cell_type": "code",
      "metadata": {
        "collapsed": true,
        "id": "mMPTLoyxl0gc"
      },
      "source": [
        "file=r'Existing_Base.csv'"
      ],
      "execution_count": null,
      "outputs": []
    },
    {
      "cell_type": "code",
      "metadata": {
        "collapsed": true,
        "id": "E4EjG0zbl0gc"
      },
      "source": [
        "bd=pd.read_csv(file)"
      ],
      "execution_count": null,
      "outputs": []
    },
    {
      "cell_type": "code",
      "metadata": {
        "colab": {
          "base_uri": "https://localhost:8080/"
        },
        "id": "Fcwhfd7ymN0M",
        "outputId": "b7c010bf-0f9d-4492-9c65-0df0299313d0"
      },
      "source": [
        "bd.dtypes"
      ],
      "execution_count": null,
      "outputs": [
        {
          "output_type": "execute_result",
          "data": {
            "text/plain": [
              "REF_NO                               int64\n",
              "children                            object\n",
              "age_band                            object\n",
              "status                              object\n",
              "occupation                          object\n",
              "occupation_partner                  object\n",
              "home_status                         object\n",
              "family_income                       object\n",
              "self_employed                       object\n",
              "self_employed_partner               object\n",
              "year_last_moved                      int64\n",
              "TVarea                              object\n",
              "post_code                           object\n",
              "post_area                           object\n",
              "Average Credit Card Transaction    float64\n",
              "Balance Transfer                   float64\n",
              "Term Deposit                       float64\n",
              "Life Insurance                     float64\n",
              "Medical Insurance                  float64\n",
              "Average A/C Balance                float64\n",
              "Personal Loan                      float64\n",
              "Investment in Mutual Fund          float64\n",
              "Investment Tax Saving Bond         float64\n",
              "Home Loan                          float64\n",
              "Online Purchase Amount             float64\n",
              "Revenue Grid                         int64\n",
              "gender                              object\n",
              "region                              object\n",
              "Investment in Commudity            float64\n",
              "Investment in Equity               float64\n",
              "Investment in Derivative           float64\n",
              "Portfolio Balance                  float64\n",
              "dtype: object"
            ]
          },
          "metadata": {
            "tags": []
          },
          "execution_count": 8
        }
      ]
    },
    {
      "cell_type": "code",
      "metadata": {
        "collapsed": true,
        "id": "EsgUjZ7Tl0gd"
      },
      "source": [
        "bd=bd[['Average Credit Card Transaction', 'Balance Transfer',\n",
        "       'Term Deposit', 'Life Insurance', 'Medical Insurance',\n",
        "       'Average A/C Balance', 'Personal Loan', 'Investment in Mutual Fund',\n",
        "       'Investment Tax Saving Bond', 'Home Loan', 'Online Purchase Amount',\n",
        "        'Investment in Commudity',\n",
        "       'Investment in Equity', 'Investment in Derivative',\n",
        "       'Portfolio Balance']]"
      ],
      "execution_count": null,
      "outputs": []
    },
    {
      "cell_type": "code",
      "metadata": {
        "colab": {
          "base_uri": "https://localhost:8080/"
        },
        "id": "SQHDF4AAmWkf",
        "outputId": "e1bd1d1b-52b4-4f84-d78d-7a9192ca592b"
      },
      "source": [
        "bd.shape"
      ],
      "execution_count": null,
      "outputs": [
        {
          "output_type": "execute_result",
          "data": {
            "text/plain": [
              "(10155, 15)"
            ]
          },
          "metadata": {
            "tags": []
          },
          "execution_count": 10
        }
      ]
    },
    {
      "cell_type": "code",
      "metadata": {
        "colab": {
          "base_uri": "https://localhost:8080/",
          "height": 925
        },
        "id": "oc6CVcoYl0gd",
        "outputId": "0a606b5a-5684-4abe-8ec7-a11370ba3406"
      },
      "source": [
        "bd.corr()"
      ],
      "execution_count": null,
      "outputs": [
        {
          "output_type": "execute_result",
          "data": {
            "text/html": [
              "<div>\n",
              "<style scoped>\n",
              "    .dataframe tbody tr th:only-of-type {\n",
              "        vertical-align: middle;\n",
              "    }\n",
              "\n",
              "    .dataframe tbody tr th {\n",
              "        vertical-align: top;\n",
              "    }\n",
              "\n",
              "    .dataframe thead th {\n",
              "        text-align: right;\n",
              "    }\n",
              "</style>\n",
              "<table border=\"1\" class=\"dataframe\">\n",
              "  <thead>\n",
              "    <tr style=\"text-align: right;\">\n",
              "      <th></th>\n",
              "      <th>Average Credit Card Transaction</th>\n",
              "      <th>Balance Transfer</th>\n",
              "      <th>Term Deposit</th>\n",
              "      <th>Life Insurance</th>\n",
              "      <th>Medical Insurance</th>\n",
              "      <th>Average A/C Balance</th>\n",
              "      <th>Personal Loan</th>\n",
              "      <th>Investment in Mutual Fund</th>\n",
              "      <th>Investment Tax Saving Bond</th>\n",
              "      <th>Home Loan</th>\n",
              "      <th>Online Purchase Amount</th>\n",
              "      <th>Investment in Commudity</th>\n",
              "      <th>Investment in Equity</th>\n",
              "      <th>Investment in Derivative</th>\n",
              "      <th>Portfolio Balance</th>\n",
              "    </tr>\n",
              "  </thead>\n",
              "  <tbody>\n",
              "    <tr>\n",
              "      <th>Average Credit Card Transaction</th>\n",
              "      <td>1.000000</td>\n",
              "      <td>0.123855</td>\n",
              "      <td>0.323462</td>\n",
              "      <td>0.145041</td>\n",
              "      <td>0.405090</td>\n",
              "      <td>0.172240</td>\n",
              "      <td>0.087289</td>\n",
              "      <td>0.150667</td>\n",
              "      <td>0.133126</td>\n",
              "      <td>0.087695</td>\n",
              "      <td>0.132518</td>\n",
              "      <td>0.497025</td>\n",
              "      <td>0.205289</td>\n",
              "      <td>0.228141</td>\n",
              "      <td>0.335674</td>\n",
              "    </tr>\n",
              "    <tr>\n",
              "      <th>Balance Transfer</th>\n",
              "      <td>0.123855</td>\n",
              "      <td>1.000000</td>\n",
              "      <td>0.229457</td>\n",
              "      <td>0.564538</td>\n",
              "      <td>0.162085</td>\n",
              "      <td>0.358938</td>\n",
              "      <td>0.351499</td>\n",
              "      <td>0.454602</td>\n",
              "      <td>0.166496</td>\n",
              "      <td>0.153097</td>\n",
              "      <td>0.112012</td>\n",
              "      <td>0.739791</td>\n",
              "      <td>0.463556</td>\n",
              "      <td>0.581039</td>\n",
              "      <td>0.639400</td>\n",
              "    </tr>\n",
              "    <tr>\n",
              "      <th>Term Deposit</th>\n",
              "      <td>0.323462</td>\n",
              "      <td>0.229457</td>\n",
              "      <td>1.000000</td>\n",
              "      <td>0.274691</td>\n",
              "      <td>0.506367</td>\n",
              "      <td>0.274027</td>\n",
              "      <td>0.146755</td>\n",
              "      <td>0.208948</td>\n",
              "      <td>0.176975</td>\n",
              "      <td>0.170584</td>\n",
              "      <td>0.099455</td>\n",
              "      <td>0.620256</td>\n",
              "      <td>0.266908</td>\n",
              "      <td>0.354304</td>\n",
              "      <td>0.454740</td>\n",
              "    </tr>\n",
              "    <tr>\n",
              "      <th>Life Insurance</th>\n",
              "      <td>0.145041</td>\n",
              "      <td>0.564538</td>\n",
              "      <td>0.274691</td>\n",
              "      <td>1.000000</td>\n",
              "      <td>0.238435</td>\n",
              "      <td>0.514339</td>\n",
              "      <td>0.380563</td>\n",
              "      <td>0.544439</td>\n",
              "      <td>0.263675</td>\n",
              "      <td>0.279959</td>\n",
              "      <td>0.128785</td>\n",
              "      <td>0.803326</td>\n",
              "      <td>0.564287</td>\n",
              "      <td>0.839266</td>\n",
              "      <td>0.787311</td>\n",
              "    </tr>\n",
              "    <tr>\n",
              "      <th>Medical Insurance</th>\n",
              "      <td>0.405090</td>\n",
              "      <td>0.162085</td>\n",
              "      <td>0.506367</td>\n",
              "      <td>0.238435</td>\n",
              "      <td>1.000000</td>\n",
              "      <td>0.264615</td>\n",
              "      <td>0.105134</td>\n",
              "      <td>0.209651</td>\n",
              "      <td>0.201057</td>\n",
              "      <td>0.136310</td>\n",
              "      <td>0.149651</td>\n",
              "      <td>0.548282</td>\n",
              "      <td>0.269922</td>\n",
              "      <td>0.392548</td>\n",
              "      <td>0.441631</td>\n",
              "    </tr>\n",
              "    <tr>\n",
              "      <th>Average A/C Balance</th>\n",
              "      <td>0.172240</td>\n",
              "      <td>0.358938</td>\n",
              "      <td>0.274027</td>\n",
              "      <td>0.514339</td>\n",
              "      <td>0.264615</td>\n",
              "      <td>1.000000</td>\n",
              "      <td>0.219801</td>\n",
              "      <td>0.448270</td>\n",
              "      <td>0.307552</td>\n",
              "      <td>0.367590</td>\n",
              "      <td>0.162821</td>\n",
              "      <td>0.517832</td>\n",
              "      <td>0.600278</td>\n",
              "      <td>0.657742</td>\n",
              "      <td>0.616051</td>\n",
              "    </tr>\n",
              "    <tr>\n",
              "      <th>Personal Loan</th>\n",
              "      <td>0.087289</td>\n",
              "      <td>0.351499</td>\n",
              "      <td>0.146755</td>\n",
              "      <td>0.380563</td>\n",
              "      <td>0.105134</td>\n",
              "      <td>0.219801</td>\n",
              "      <td>1.000000</td>\n",
              "      <td>0.379615</td>\n",
              "      <td>0.233020</td>\n",
              "      <td>0.128062</td>\n",
              "      <td>0.073292</td>\n",
              "      <td>0.377170</td>\n",
              "      <td>0.676053</td>\n",
              "      <td>0.687417</td>\n",
              "      <td>0.598919</td>\n",
              "    </tr>\n",
              "    <tr>\n",
              "      <th>Investment in Mutual Fund</th>\n",
              "      <td>0.150667</td>\n",
              "      <td>0.454602</td>\n",
              "      <td>0.208948</td>\n",
              "      <td>0.544439</td>\n",
              "      <td>0.209651</td>\n",
              "      <td>0.448270</td>\n",
              "      <td>0.379615</td>\n",
              "      <td>1.000000</td>\n",
              "      <td>0.271580</td>\n",
              "      <td>0.261562</td>\n",
              "      <td>0.115087</td>\n",
              "      <td>0.536715</td>\n",
              "      <td>0.693435</td>\n",
              "      <td>0.761125</td>\n",
              "      <td>0.695337</td>\n",
              "    </tr>\n",
              "    <tr>\n",
              "      <th>Investment Tax Saving Bond</th>\n",
              "      <td>0.133126</td>\n",
              "      <td>0.166496</td>\n",
              "      <td>0.176975</td>\n",
              "      <td>0.263675</td>\n",
              "      <td>0.201057</td>\n",
              "      <td>0.307552</td>\n",
              "      <td>0.233020</td>\n",
              "      <td>0.271580</td>\n",
              "      <td>1.000000</td>\n",
              "      <td>0.261626</td>\n",
              "      <td>0.211596</td>\n",
              "      <td>0.289110</td>\n",
              "      <td>0.446271</td>\n",
              "      <td>0.407148</td>\n",
              "      <td>0.395889</td>\n",
              "    </tr>\n",
              "    <tr>\n",
              "      <th>Home Loan</th>\n",
              "      <td>0.087695</td>\n",
              "      <td>0.153097</td>\n",
              "      <td>0.170584</td>\n",
              "      <td>0.279959</td>\n",
              "      <td>0.136310</td>\n",
              "      <td>0.367590</td>\n",
              "      <td>0.128062</td>\n",
              "      <td>0.261562</td>\n",
              "      <td>0.261626</td>\n",
              "      <td>1.000000</td>\n",
              "      <td>0.101066</td>\n",
              "      <td>0.268989</td>\n",
              "      <td>0.348181</td>\n",
              "      <td>0.335651</td>\n",
              "      <td>0.326663</td>\n",
              "    </tr>\n",
              "    <tr>\n",
              "      <th>Online Purchase Amount</th>\n",
              "      <td>0.132518</td>\n",
              "      <td>0.112012</td>\n",
              "      <td>0.099455</td>\n",
              "      <td>0.128785</td>\n",
              "      <td>0.149651</td>\n",
              "      <td>0.162821</td>\n",
              "      <td>0.073292</td>\n",
              "      <td>0.115087</td>\n",
              "      <td>0.211596</td>\n",
              "      <td>0.101066</td>\n",
              "      <td>1.000000</td>\n",
              "      <td>0.180074</td>\n",
              "      <td>0.597440</td>\n",
              "      <td>0.173943</td>\n",
              "      <td>0.309800</td>\n",
              "    </tr>\n",
              "    <tr>\n",
              "      <th>Investment in Commudity</th>\n",
              "      <td>0.497025</td>\n",
              "      <td>0.739791</td>\n",
              "      <td>0.620256</td>\n",
              "      <td>0.803326</td>\n",
              "      <td>0.548282</td>\n",
              "      <td>0.517832</td>\n",
              "      <td>0.377170</td>\n",
              "      <td>0.536715</td>\n",
              "      <td>0.289110</td>\n",
              "      <td>0.268989</td>\n",
              "      <td>0.180074</td>\n",
              "      <td>1.000000</td>\n",
              "      <td>0.586210</td>\n",
              "      <td>0.800779</td>\n",
              "      <td>0.858020</td>\n",
              "    </tr>\n",
              "    <tr>\n",
              "      <th>Investment in Equity</th>\n",
              "      <td>0.205289</td>\n",
              "      <td>0.463556</td>\n",
              "      <td>0.266908</td>\n",
              "      <td>0.564287</td>\n",
              "      <td>0.269922</td>\n",
              "      <td>0.600278</td>\n",
              "      <td>0.676053</td>\n",
              "      <td>0.693435</td>\n",
              "      <td>0.446271</td>\n",
              "      <td>0.348181</td>\n",
              "      <td>0.597440</td>\n",
              "      <td>0.586210</td>\n",
              "      <td>1.000000</td>\n",
              "      <td>0.839552</td>\n",
              "      <td>0.831134</td>\n",
              "    </tr>\n",
              "    <tr>\n",
              "      <th>Investment in Derivative</th>\n",
              "      <td>0.228141</td>\n",
              "      <td>0.581039</td>\n",
              "      <td>0.354304</td>\n",
              "      <td>0.839266</td>\n",
              "      <td>0.392548</td>\n",
              "      <td>0.657742</td>\n",
              "      <td>0.687417</td>\n",
              "      <td>0.761125</td>\n",
              "      <td>0.407148</td>\n",
              "      <td>0.335651</td>\n",
              "      <td>0.173943</td>\n",
              "      <td>0.800779</td>\n",
              "      <td>0.839552</td>\n",
              "      <td>1.000000</td>\n",
              "      <td>0.927232</td>\n",
              "    </tr>\n",
              "    <tr>\n",
              "      <th>Portfolio Balance</th>\n",
              "      <td>0.335674</td>\n",
              "      <td>0.639400</td>\n",
              "      <td>0.454740</td>\n",
              "      <td>0.787311</td>\n",
              "      <td>0.441631</td>\n",
              "      <td>0.616051</td>\n",
              "      <td>0.598919</td>\n",
              "      <td>0.695337</td>\n",
              "      <td>0.395889</td>\n",
              "      <td>0.326663</td>\n",
              "      <td>0.309800</td>\n",
              "      <td>0.858020</td>\n",
              "      <td>0.831134</td>\n",
              "      <td>0.927232</td>\n",
              "      <td>1.000000</td>\n",
              "    </tr>\n",
              "  </tbody>\n",
              "</table>\n",
              "</div>"
            ],
            "text/plain": [
              "                                 Average Credit Card Transaction  ...  Portfolio Balance\n",
              "Average Credit Card Transaction                         1.000000  ...           0.335674\n",
              "Balance Transfer                                        0.123855  ...           0.639400\n",
              "Term Deposit                                            0.323462  ...           0.454740\n",
              "Life Insurance                                          0.145041  ...           0.787311\n",
              "Medical Insurance                                       0.405090  ...           0.441631\n",
              "Average A/C Balance                                     0.172240  ...           0.616051\n",
              "Personal Loan                                           0.087289  ...           0.598919\n",
              "Investment in Mutual Fund                               0.150667  ...           0.695337\n",
              "Investment Tax Saving Bond                              0.133126  ...           0.395889\n",
              "Home Loan                                               0.087695  ...           0.326663\n",
              "Online Purchase Amount                                  0.132518  ...           0.309800\n",
              "Investment in Commudity                                 0.497025  ...           0.858020\n",
              "Investment in Equity                                    0.205289  ...           0.831134\n",
              "Investment in Derivative                                0.228141  ...           0.927232\n",
              "Portfolio Balance                                       0.335674  ...           1.000000\n",
              "\n",
              "[15 rows x 15 columns]"
            ]
          },
          "metadata": {
            "tags": []
          },
          "execution_count": 11
        }
      ]
    },
    {
      "cell_type": "code",
      "metadata": {
        "collapsed": true,
        "id": "TnfgnYLBl0gd"
      },
      "source": [
        "import seaborn as sns\n",
        "%matplotlib inline"
      ],
      "execution_count": null,
      "outputs": []
    },
    {
      "cell_type": "code",
      "metadata": {
        "colab": {
          "base_uri": "https://localhost:8080/",
          "height": 437
        },
        "id": "ez2hu5wAl0gd",
        "outputId": "36465aa1-56cc-4980-dd76-c07f13e7c8ff"
      },
      "source": [
        "sns.heatmap(bd.corr())"
      ],
      "execution_count": null,
      "outputs": [
        {
          "output_type": "execute_result",
          "data": {
            "text/plain": [
              "<matplotlib.axes._subplots.AxesSubplot at 0x7feca75c9150>"
            ]
          },
          "metadata": {
            "tags": []
          },
          "execution_count": 13
        },
        {
          "output_type": "display_data",
          "data": {
            "image/png": "[encoded data removed]",
            "text/plain": [
              "<Figure size 432x288 with 2 Axes>"
            ]
          },
          "metadata": {
            "tags": [],
            "needs_background": "light"
          }
        }
      ]
    },
    {
      "cell_type": "code",
      "metadata": {
        "collapsed": true,
        "id": "wBRrtSLEl0ge"
      },
      "source": [
        "X=bd.copy()"
      ],
      "execution_count": null,
      "outputs": []
    },
    {
      "cell_type": "code",
      "metadata": {
        "collapsed": true,
        "id": "KmFTGL8pl0ge"
      },
      "source": [
        "X = scale(X)"
      ],
      "execution_count": null,
      "outputs": []
    },
    {
      "cell_type": "code",
      "metadata": {
        "colab": {
          "base_uri": "https://localhost:8080/"
        },
        "id": "idU4g3NEm4vf",
        "outputId": "67b8e8cc-2f8c-471c-8a15-0337867ee06a"
      },
      "source": [
        "X.shape"
      ],
      "execution_count": null,
      "outputs": [
        {
          "output_type": "execute_result",
          "data": {
            "text/plain": [
              "(10155, 15)"
            ]
          },
          "metadata": {
            "tags": []
          },
          "execution_count": 16
        }
      ]
    },
    {
      "cell_type": "code",
      "metadata": {
        "collapsed": true,
        "id": "otOcCZb4l0ge"
      },
      "source": [
        "pca = PCA(n_components=15)"
      ],
      "execution_count": null,
      "outputs": []
    },
    {
      "cell_type": "code",
      "metadata": {
        "colab": {
          "base_uri": "https://localhost:8080/"
        },
        "id": "xV1iyfE5l0ge",
        "outputId": "8b46b020-96ba-433b-8267-3577a1f82ce5"
      },
      "source": [
        "pca.fit(X)"
      ],
      "execution_count": null,
      "outputs": [
        {
          "output_type": "execute_result",
          "data": {
            "text/plain": [
              "PCA(copy=True, iterated_power='auto', n_components=15, random_state=None,\n",
              "    svd_solver='auto', tol=0.0, whiten=False)"
            ]
          },
          "metadata": {
            "tags": []
          },
          "execution_count": 18
        }
      ]
    },
    {
      "cell_type": "code",
      "metadata": {
        "colab": {
          "base_uri": "https://localhost:8080/"
        },
        "id": "ZXx_45GQl0gf",
        "outputId": "497ef934-4066-4b79-8f4b-678802e7a46f"
      },
      "source": [
        "pca.components_"
      ],
      "execution_count": null,
      "outputs": [
        {
          "output_type": "execute_result",
          "data": {
            "text/plain": [
              "array([[ 1.38519523e-01,  2.51914540e-01,  1.88417476e-01,\n",
              "         3.04607540e-01,  1.82510270e-01,  2.58260897e-01,\n",
              "         2.24513067e-01,  2.77210354e-01,  1.74420241e-01,\n",
              "         1.52766829e-01,  1.21072307e-01,  3.40703395e-01,\n",
              "         3.29225771e-01,  3.65017102e-01,  3.68347115e-01],\n",
              "       [-4.88608479e-01,  7.44901633e-02, -4.76410887e-01,\n",
              "         9.36614508e-02, -5.08504340e-01,  5.26391563e-02,\n",
              "         2.84311540e-01,  1.92269168e-01,  6.19345939e-02,\n",
              "         5.87040971e-02,  4.00182080e-02, -2.47299192e-01,\n",
              "         2.27890747e-01,  1.35880508e-01,  1.96728973e-02],\n",
              "       [ 9.92402137e-02, -3.38650619e-01, -2.40778241e-02,\n",
              "        -2.51354679e-01,  9.28872328e-02,  7.39089017e-02,\n",
              "        -7.57792946e-02, -9.24865107e-02,  3.92044037e-01,\n",
              "         2.29065734e-01,  6.57231934e-01, -2.07369984e-01,\n",
              "         2.99511084e-01, -1.06139426e-01, -3.49738696e-02],\n",
              "       [ 1.55828400e-01,  1.29429526e-01, -4.69731932e-02,\n",
              "        -7.39316085e-02,  1.32066879e-02, -3.48621577e-01,\n",
              "         3.16874969e-01, -3.33133119e-02, -2.21569038e-01,\n",
              "        -6.96460705e-01,  3.92834728e-01,  4.21814275e-02,\n",
              "         1.78438644e-01, -3.24013723e-03,  7.72179016e-02],\n",
              "       [-1.18635355e-01,  3.47900775e-01, -7.96158424e-02,\n",
              "         2.05083463e-01, -1.50491249e-01,  1.98475943e-01,\n",
              "        -5.66620380e-01, -2.32182118e-02, -4.16710824e-01,\n",
              "         6.25327500e-02,  4.63935766e-01,  1.49904605e-01,\n",
              "        -1.74119660e-02, -1.31457161e-01,  2.12950896e-03],\n",
              "       [ 5.46995417e-01, -2.06851094e-01, -2.57471120e-01,\n",
              "        -1.11094581e-01, -9.38054647e-02,  4.04260104e-02,\n",
              "         2.01506838e-01,  1.56954859e-01, -5.88784293e-01,\n",
              "         3.68685952e-01, -3.45282931e-02, -7.54947453e-02,\n",
              "         1.14327623e-01,  3.25394670e-02,  9.17265375e-03],\n",
              "       [-5.58930300e-01, -1.88523791e-01,  4.81540622e-01,\n",
              "        -8.98363850e-02,  2.30958580e-01, -2.06425173e-02,\n",
              "         2.53663590e-01, -6.82194325e-02, -4.71395171e-01,\n",
              "         1.85024704e-01,  1.05519040e-01, -8.67593591e-02,\n",
              "         1.11508247e-01,  3.81079077e-02,  1.84759653e-02],\n",
              "       [ 8.09894079e-02,  4.06762177e-01,  1.41497890e-01,\n",
              "        -4.33747212e-03, -2.72605768e-01, -4.87499541e-01,\n",
              "         2.50492991e-01, -3.78947558e-01,  1.13421038e-01,\n",
              "         4.67386604e-01,  9.32071082e-02,  1.62832551e-01,\n",
              "        -5.64364551e-02, -1.40999184e-01, -6.68325987e-03],\n",
              "       [ 1.14973576e-01, -6.97793712e-02,  9.00476562e-02,\n",
              "         7.93488178e-02, -2.69518685e-01,  6.04071877e-01,\n",
              "         2.44532260e-01, -6.62750775e-01, -3.52086496e-02,\n",
              "        -1.67671955e-01, -2.83554163e-02,  1.92390402e-02,\n",
              "         5.58185067e-03,  1.75564577e-02,  7.88927752e-03],\n",
              "       [ 1.37666937e-01, -2.44796936e-02,  5.87021192e-01,\n",
              "        -2.40729859e-01, -6.17221620e-01,  7.39080363e-02,\n",
              "        -9.80427273e-02,  3.84549887e-01,  4.25175347e-02,\n",
              "        -1.14033933e-01, -3.27263569e-02, -2.96995898e-02,\n",
              "         8.43661237e-02, -9.72291798e-02, -2.55378556e-02],\n",
              "       [-3.92333819e-02,  5.73444699e-01, -9.64113555e-02,\n",
              "        -6.67049198e-01,  2.38007301e-01,  3.14205767e-01,\n",
              "         9.72905695e-02,  5.98366153e-02, -3.51433410e-04,\n",
              "         1.61667080e-02, -1.03985639e-01, -8.61330898e-02,\n",
              "         8.96086360e-02, -1.26574260e-01, -6.64030363e-02],\n",
              "       [ 4.75470461e-02,  7.66691140e-02,  5.93841195e-02,\n",
              "         1.79909822e-01,  6.25796325e-02,  5.67372004e-02,\n",
              "         1.26858877e-01,  9.77629731e-02,  1.90220522e-02,\n",
              "        -4.21471590e-05,  6.74692582e-02,  1.46012867e-01,\n",
              "         1.34890417e-01,  1.66140820e-01, -9.22577432e-01],\n",
              "       [ 3.33899061e-02,  5.15092738e-02,  3.54133547e-02,\n",
              "        -9.91003948e-02, -3.36595140e-02,  1.06994032e-01,\n",
              "         1.98231475e-01,  1.50302597e-01,  3.01870255e-02,\n",
              "         4.03865519e-02,  3.62768372e-01, -1.38720941e-01,\n",
              "        -7.74205866e-01,  3.97376643e-01, -3.32928837e-06],\n",
              "       [ 8.89105875e-02,  1.37154400e-01,  9.42925611e-02,\n",
              "        -1.20924937e-01, -4.10720907e-02, -1.93499437e-01,\n",
              "        -3.58507442e-01, -2.71824778e-01, -5.45948408e-02,\n",
              "        -1.23848637e-02, -1.11245463e-01, -3.69380614e-01,\n",
              "         2.37417046e-01,  7.07040296e-01, -7.80466460e-07],\n",
              "       [ 1.75246173e-01,  2.70342555e-01,  1.85857310e-01,\n",
              "         4.48656990e-01,  1.52386408e-01,  5.67684921e-02,\n",
              "         1.05179044e-01,  7.97470620e-02,  1.60162816e-02,\n",
              "        -2.82940261e-05, -2.59054596e-04, -7.28075435e-01,\n",
              "         5.54219314e-04, -2.93513897e-01, -6.14545565e-07]])"
            ]
          },
          "metadata": {
            "tags": []
          },
          "execution_count": 19
        }
      ]
    },
    {
      "cell_type": "code",
      "metadata": {
        "id": "VuxPpBLhl0gf",
        "outputId": "ac33ac9c-5d46-4bbf-e5e2-872fe19136ea"
      },
      "source": [
        "pca.components_.shape"
      ],
      "execution_count": null,
      "outputs": [
        {
          "output_type": "execute_result",
          "data": {
            "text/plain": [
              "(15, 15)"
            ]
          },
          "metadata": {
            "tags": []
          },
          "execution_count": 34
        }
      ]
    },
    {
      "cell_type": "code",
      "metadata": {
        "colab": {
          "base_uri": "https://localhost:8080/"
        },
        "id": "vBSMqIBPl0gf",
        "outputId": "c9962131-fd8d-47d0-c8fd-c48fe4f7fc1e"
      },
      "source": [
        "#### The percentage of orginal information present in the each of the new columns\n",
        "\n",
        "var= pca.explained_variance_ratio_\n",
        "\n",
        "print(var)"
      ],
      "execution_count": null,
      "outputs": [
        {
          "output_type": "stream",
          "text": [
            "[4.57760905e-01 1.06815789e-01 8.37682574e-02 6.76590833e-02\n",
            " 5.51515528e-02 4.60704467e-02 4.47954686e-02 4.13678442e-02\n",
            " 3.33620268e-02 3.13826959e-02 2.73470603e-02 4.51886955e-03\n",
            " 3.16261746e-10 2.47789450e-10 1.75773727e-10]\n"
          ],
          "name": "stdout"
        }
      ]
    },
    {
      "cell_type": "code",
      "metadata": {
        "colab": {
          "base_uri": "https://localhost:8080/"
        },
        "id": "5tTjE7nPl0gf",
        "outputId": "0a3d0785-d4b0-4250-fa68-8211de8c7d27"
      },
      "source": [
        "var1=np.cumsum(np.round(pca.explained_variance_ratio_, decimals=4)*100)\n",
        "\n",
        "print(var1)"
      ],
      "execution_count": null,
      "outputs": [
        {
          "output_type": "stream",
          "text": [
            "[ 45.78  56.46  64.84  71.61  77.13  81.74  86.22  90.36  93.7   96.84\n",
            "  99.57 100.02 100.02 100.02 100.02]\n"
          ],
          "name": "stdout"
        }
      ]
    },
    {
      "cell_type": "code",
      "metadata": {
        "collapsed": true,
        "id": "yQfdH-gtl0gg"
      },
      "source": [
        "pca = PCA(n_components=11)"
      ],
      "execution_count": null,
      "outputs": []
    },
    {
      "cell_type": "code",
      "metadata": {
        "colab": {
          "base_uri": "https://localhost:8080/"
        },
        "id": "YVKHlIGXl0gg",
        "outputId": "f0ee0633-204c-46de-b34c-d1b670c6e981"
      },
      "source": [
        "pca.fit(X)"
      ],
      "execution_count": null,
      "outputs": [
        {
          "output_type": "execute_result",
          "data": {
            "text/plain": [
              "PCA(copy=True, iterated_power='auto', n_components=11, random_state=None,\n",
              "    svd_solver='auto', tol=0.0, whiten=False)"
            ]
          },
          "metadata": {
            "tags": []
          },
          "execution_count": 23
        }
      ]
    },
    {
      "cell_type": "code",
      "metadata": {
        "id": "P6ES3Dd-l0gg",
        "outputId": "f2a728c8-a38d-4c13-8661-70a20c7fb1ea"
      },
      "source": [
        "pca.components_.shape"
      ],
      "execution_count": null,
      "outputs": [
        {
          "output_type": "execute_result",
          "data": {
            "text/plain": [
              "(11, 15)"
            ]
          },
          "metadata": {
            "tags": []
          },
          "execution_count": 39
        }
      ]
    },
    {
      "cell_type": "code",
      "metadata": {
        "collapsed": true,
        "id": "BzM6F4oPl0gg"
      },
      "source": [
        "X1=pd.DataFrame(pca.transform(X))"
      ],
      "execution_count": null,
      "outputs": []
    },
    {
      "cell_type": "code",
      "metadata": {
        "colab": {
          "base_uri": "https://localhost:8080/",
          "height": 473
        },
        "id": "fjrerCuXoLBH",
        "outputId": "04d0667f-16c4-4789-b786-7e0bb240fe2c"
      },
      "source": [
        "bd"
      ],
      "execution_count": null,
      "outputs": [
        {
          "output_type": "execute_result",
          "data": {
            "text/html": [
              "<div>\n",
              "<style scoped>\n",
              "    .dataframe tbody tr th:only-of-type {\n",
              "        vertical-align: middle;\n",
              "    }\n",
              "\n",
              "    .dataframe tbody tr th {\n",
              "        vertical-align: top;\n",
              "    }\n",
              "\n",
              "    .dataframe thead th {\n",
              "        text-align: right;\n",
              "    }\n",
              "</style>\n",
              "<table border=\"1\" class=\"dataframe\">\n",
              "  <thead>\n",
              "    <tr style=\"text-align: right;\">\n",
              "      <th></th>\n",
              "      <th>Average Credit Card Transaction</th>\n",
              "      <th>Balance Transfer</th>\n",
              "      <th>Term Deposit</th>\n",
              "      <th>Life Insurance</th>\n",
              "      <th>Medical Insurance</th>\n",
              "      <th>Average A/C Balance</th>\n",
              "      <th>Personal Loan</th>\n",
              "      <th>Investment in Mutual Fund</th>\n",
              "      <th>Investment Tax Saving Bond</th>\n",
              "      <th>Home Loan</th>\n",
              "      <th>Online Purchase Amount</th>\n",
              "      <th>Investment in Commudity</th>\n",
              "      <th>Investment in Equity</th>\n",
              "      <th>Investment in Derivative</th>\n",
              "      <th>Portfolio Balance</th>\n",
              "    </tr>\n",
              "  </thead>\n",
              "  <tbody>\n",
              "    <tr>\n",
              "      <th>0</th>\n",
              "      <td>148.44</td>\n",
              "      <td>142.95</td>\n",
              "      <td>0.00</td>\n",
              "      <td>81.96</td>\n",
              "      <td>0.00</td>\n",
              "      <td>29.99</td>\n",
              "      <td>0.00</td>\n",
              "      <td>61.95</td>\n",
              "      <td>19.99</td>\n",
              "      <td>0.00</td>\n",
              "      <td>0.00</td>\n",
              "      <td>74.67</td>\n",
              "      <td>18.66</td>\n",
              "      <td>32.32</td>\n",
              "      <td>89.43</td>\n",
              "    </tr>\n",
              "    <tr>\n",
              "      <th>1</th>\n",
              "      <td>0.00</td>\n",
              "      <td>74.98</td>\n",
              "      <td>0.00</td>\n",
              "      <td>25.99</td>\n",
              "      <td>0.00</td>\n",
              "      <td>0.00</td>\n",
              "      <td>0.00</td>\n",
              "      <td>0.00</td>\n",
              "      <td>0.00</td>\n",
              "      <td>0.00</td>\n",
              "      <td>0.00</td>\n",
              "      <td>20.19</td>\n",
              "      <td>0.00</td>\n",
              "      <td>4.33</td>\n",
              "      <td>22.78</td>\n",
              "    </tr>\n",
              "    <tr>\n",
              "      <th>2</th>\n",
              "      <td>0.00</td>\n",
              "      <td>166.44</td>\n",
              "      <td>20.99</td>\n",
              "      <td>291.37</td>\n",
              "      <td>11.48</td>\n",
              "      <td>166.94</td>\n",
              "      <td>0.00</td>\n",
              "      <td>15.99</td>\n",
              "      <td>0.00</td>\n",
              "      <td>3.49</td>\n",
              "      <td>0.00</td>\n",
              "      <td>98.06</td>\n",
              "      <td>31.07</td>\n",
              "      <td>80.96</td>\n",
              "      <td>171.78</td>\n",
              "    </tr>\n",
              "    <tr>\n",
              "      <th>3</th>\n",
              "      <td>0.00</td>\n",
              "      <td>0.00</td>\n",
              "      <td>0.00</td>\n",
              "      <td>20.49</td>\n",
              "      <td>0.00</td>\n",
              "      <td>39.46</td>\n",
              "      <td>0.00</td>\n",
              "      <td>45.44</td>\n",
              "      <td>0.00</td>\n",
              "      <td>0.00</td>\n",
              "      <td>0.00</td>\n",
              "      <td>4.10</td>\n",
              "      <td>14.15</td>\n",
              "      <td>17.57</td>\n",
              "      <td>-41.70</td>\n",
              "    </tr>\n",
              "    <tr>\n",
              "      <th>4</th>\n",
              "      <td>73.45</td>\n",
              "      <td>57.96</td>\n",
              "      <td>0.00</td>\n",
              "      <td>177.42</td>\n",
              "      <td>41.95</td>\n",
              "      <td>39.47</td>\n",
              "      <td>10.97</td>\n",
              "      <td>212.84</td>\n",
              "      <td>0.00</td>\n",
              "      <td>45.91</td>\n",
              "      <td>25.98</td>\n",
              "      <td>70.16</td>\n",
              "      <td>55.86</td>\n",
              "      <td>80.44</td>\n",
              "      <td>235.02</td>\n",
              "    </tr>\n",
              "    <tr>\n",
              "      <th>...</th>\n",
              "      <td>...</td>\n",
              "      <td>...</td>\n",
              "      <td>...</td>\n",
              "      <td>...</td>\n",
              "      <td>...</td>\n",
              "      <td>...</td>\n",
              "      <td>...</td>\n",
              "      <td>...</td>\n",
              "      <td>...</td>\n",
              "      <td>...</td>\n",
              "      <td>...</td>\n",
              "      <td>...</td>\n",
              "      <td>...</td>\n",
              "      <td>...</td>\n",
              "      <td>...</td>\n",
              "    </tr>\n",
              "    <tr>\n",
              "      <th>10150</th>\n",
              "      <td>0.00</td>\n",
              "      <td>0.00</td>\n",
              "      <td>0.00</td>\n",
              "      <td>29.97</td>\n",
              "      <td>6.49</td>\n",
              "      <td>0.00</td>\n",
              "      <td>8.99</td>\n",
              "      <td>7.49</td>\n",
              "      <td>4.49</td>\n",
              "      <td>0.00</td>\n",
              "      <td>0.00</td>\n",
              "      <td>7.29</td>\n",
              "      <td>3.50</td>\n",
              "      <td>9.57</td>\n",
              "      <td>10.23</td>\n",
              "    </tr>\n",
              "    <tr>\n",
              "      <th>10151</th>\n",
              "      <td>0.00</td>\n",
              "      <td>110.95</td>\n",
              "      <td>0.00</td>\n",
              "      <td>200.41</td>\n",
              "      <td>0.00</td>\n",
              "      <td>2.99</td>\n",
              "      <td>0.00</td>\n",
              "      <td>14.99</td>\n",
              "      <td>0.00</td>\n",
              "      <td>0.00</td>\n",
              "      <td>0.00</td>\n",
              "      <td>62.27</td>\n",
              "      <td>3.00</td>\n",
              "      <td>36.40</td>\n",
              "      <td>102.62</td>\n",
              "    </tr>\n",
              "    <tr>\n",
              "      <th>10152</th>\n",
              "      <td>124.93</td>\n",
              "      <td>0.00</td>\n",
              "      <td>54.48</td>\n",
              "      <td>0.00</td>\n",
              "      <td>84.42</td>\n",
              "      <td>0.00</td>\n",
              "      <td>0.00</td>\n",
              "      <td>0.00</td>\n",
              "      <td>0.00</td>\n",
              "      <td>0.00</td>\n",
              "      <td>0.00</td>\n",
              "      <td>52.77</td>\n",
              "      <td>0.00</td>\n",
              "      <td>14.07</td>\n",
              "      <td>76.18</td>\n",
              "    </tr>\n",
              "    <tr>\n",
              "      <th>10153</th>\n",
              "      <td>0.00</td>\n",
              "      <td>35.98</td>\n",
              "      <td>0.00</td>\n",
              "      <td>0.00</td>\n",
              "      <td>0.00</td>\n",
              "      <td>0.00</td>\n",
              "      <td>0.00</td>\n",
              "      <td>9.98</td>\n",
              "      <td>0.00</td>\n",
              "      <td>7.98</td>\n",
              "      <td>0.00</td>\n",
              "      <td>7.20</td>\n",
              "      <td>2.99</td>\n",
              "      <td>1.66</td>\n",
              "      <td>4.79</td>\n",
              "    </tr>\n",
              "    <tr>\n",
              "      <th>10154</th>\n",
              "      <td>0.00</td>\n",
              "      <td>40.46</td>\n",
              "      <td>0.00</td>\n",
              "      <td>310.24</td>\n",
              "      <td>9.98</td>\n",
              "      <td>105.96</td>\n",
              "      <td>106.94</td>\n",
              "      <td>43.46</td>\n",
              "      <td>19.49</td>\n",
              "      <td>0.00</td>\n",
              "      <td>0.00</td>\n",
              "      <td>72.14</td>\n",
              "      <td>45.98</td>\n",
              "      <td>99.35</td>\n",
              "      <td>227.12</td>\n",
              "    </tr>\n",
              "  </tbody>\n",
              "</table>\n",
              "<p>10155 rows × 15 columns</p>\n",
              "</div>"
            ],
            "text/plain": [
              "       Average Credit Card Transaction  ...  Portfolio Balance\n",
              "0                               148.44  ...              89.43\n",
              "1                                 0.00  ...              22.78\n",
              "2                                 0.00  ...             171.78\n",
              "3                                 0.00  ...             -41.70\n",
              "4                                73.45  ...             235.02\n",
              "...                                ...  ...                ...\n",
              "10150                             0.00  ...              10.23\n",
              "10151                             0.00  ...             102.62\n",
              "10152                           124.93  ...              76.18\n",
              "10153                             0.00  ...               4.79\n",
              "10154                             0.00  ...             227.12\n",
              "\n",
              "[10155 rows x 15 columns]"
            ]
          },
          "metadata": {
            "tags": []
          },
          "execution_count": 29
        }
      ]
    },
    {
      "cell_type": "code",
      "metadata": {
        "colab": {
          "base_uri": "https://localhost:8080/",
          "height": 419
        },
        "id": "BInz1__Hl0gg",
        "outputId": "d7ee4349-1fce-4e83-aba7-22e5a226983d"
      },
      "source": [
        "X1"
      ],
      "execution_count": null,
      "outputs": [
        {
          "output_type": "execute_result",
          "data": {
            "text/html": [
              "<div>\n",
              "<style scoped>\n",
              "    .dataframe tbody tr th:only-of-type {\n",
              "        vertical-align: middle;\n",
              "    }\n",
              "\n",
              "    .dataframe tbody tr th {\n",
              "        vertical-align: top;\n",
              "    }\n",
              "\n",
              "    .dataframe thead th {\n",
              "        text-align: right;\n",
              "    }\n",
              "</style>\n",
              "<table border=\"1\" class=\"dataframe\">\n",
              "  <thead>\n",
              "    <tr style=\"text-align: right;\">\n",
              "      <th></th>\n",
              "      <th>0</th>\n",
              "      <th>1</th>\n",
              "      <th>2</th>\n",
              "      <th>3</th>\n",
              "      <th>4</th>\n",
              "      <th>5</th>\n",
              "      <th>6</th>\n",
              "      <th>7</th>\n",
              "      <th>8</th>\n",
              "      <th>9</th>\n",
              "      <th>10</th>\n",
              "    </tr>\n",
              "  </thead>\n",
              "  <tbody>\n",
              "    <tr>\n",
              "      <th>0</th>\n",
              "      <td>0.869774</td>\n",
              "      <td>-0.792852</td>\n",
              "      <td>-0.300362</td>\n",
              "      <td>0.463627</td>\n",
              "      <td>0.016042</td>\n",
              "      <td>0.368796</td>\n",
              "      <td>-2.804879</td>\n",
              "      <td>0.659902</td>\n",
              "      <td>0.076150</td>\n",
              "      <td>0.546220</td>\n",
              "      <td>0.309983</td>\n",
              "    </tr>\n",
              "    <tr>\n",
              "      <th>1</th>\n",
              "      <td>-1.763740</td>\n",
              "      <td>0.271868</td>\n",
              "      <td>-0.529384</td>\n",
              "      <td>0.342982</td>\n",
              "      <td>0.391251</td>\n",
              "      <td>-0.243377</td>\n",
              "      <td>-0.136108</td>\n",
              "      <td>0.514181</td>\n",
              "      <td>0.008195</td>\n",
              "      <td>-0.106689</td>\n",
              "      <td>0.244363</td>\n",
              "    </tr>\n",
              "    <tr>\n",
              "      <th>2</th>\n",
              "      <td>2.759896</td>\n",
              "      <td>0.575463</td>\n",
              "      <td>-1.617375</td>\n",
              "      <td>-0.904037</td>\n",
              "      <td>2.031229</td>\n",
              "      <td>-0.561042</td>\n",
              "      <td>-0.315313</td>\n",
              "      <td>-0.826448</td>\n",
              "      <td>2.165835</td>\n",
              "      <td>-0.664759</td>\n",
              "      <td>-0.131263</td>\n",
              "    </tr>\n",
              "    <tr>\n",
              "      <th>3</th>\n",
              "      <td>-1.682247</td>\n",
              "      <td>0.607132</td>\n",
              "      <td>0.003920</td>\n",
              "      <td>-0.086971</td>\n",
              "      <td>0.092131</td>\n",
              "      <td>0.192318</td>\n",
              "      <td>0.067067</td>\n",
              "      <td>-0.697390</td>\n",
              "      <td>0.119397</td>\n",
              "      <td>0.299323</td>\n",
              "      <td>0.119600</td>\n",
              "    </tr>\n",
              "    <tr>\n",
              "      <th>4</th>\n",
              "      <td>3.433527</td>\n",
              "      <td>0.456228</td>\n",
              "      <td>0.402857</td>\n",
              "      <td>-2.512890</td>\n",
              "      <td>0.613241</td>\n",
              "      <td>2.756212</td>\n",
              "      <td>0.126809</td>\n",
              "      <td>0.513503</td>\n",
              "      <td>-2.382016</td>\n",
              "      <td>-0.410804</td>\n",
              "      <td>-0.479994</td>\n",
              "    </tr>\n",
              "    <tr>\n",
              "      <th>...</th>\n",
              "      <td>...</td>\n",
              "      <td>...</td>\n",
              "      <td>...</td>\n",
              "      <td>...</td>\n",
              "      <td>...</td>\n",
              "      <td>...</td>\n",
              "      <td>...</td>\n",
              "      <td>...</td>\n",
              "      <td>...</td>\n",
              "      <td>...</td>\n",
              "      <td>...</td>\n",
              "    </tr>\n",
              "    <tr>\n",
              "      <th>10150</th>\n",
              "      <td>-1.899811</td>\n",
              "      <td>0.293824</td>\n",
              "      <td>0.006565</td>\n",
              "      <td>0.168493</td>\n",
              "      <td>-0.237207</td>\n",
              "      <td>-0.196357</td>\n",
              "      <td>-0.017735</td>\n",
              "      <td>0.018811</td>\n",
              "      <td>-0.043481</td>\n",
              "      <td>-0.158994</td>\n",
              "      <td>-0.239538</td>\n",
              "    </tr>\n",
              "    <tr>\n",
              "      <th>10151</th>\n",
              "      <td>-0.066473</td>\n",
              "      <td>0.426890</td>\n",
              "      <td>-1.451677</td>\n",
              "      <td>0.350205</td>\n",
              "      <td>0.974095</td>\n",
              "      <td>-0.532417</td>\n",
              "      <td>-0.434767</td>\n",
              "      <td>0.607950</td>\n",
              "      <td>0.045247</td>\n",
              "      <td>-0.582694</td>\n",
              "      <td>-0.906420</td>\n",
              "    </tr>\n",
              "    <tr>\n",
              "      <th>10152</th>\n",
              "      <td>-0.545130</td>\n",
              "      <td>-2.975703</td>\n",
              "      <td>0.119935</td>\n",
              "      <td>0.679196</td>\n",
              "      <td>-0.676347</td>\n",
              "      <td>0.778288</td>\n",
              "      <td>-0.265276</td>\n",
              "      <td>-0.153630</td>\n",
              "      <td>-0.251452</td>\n",
              "      <td>-0.752468</td>\n",
              "      <td>0.172400</td>\n",
              "    </tr>\n",
              "    <tr>\n",
              "      <th>10153</th>\n",
              "      <td>-1.966918</td>\n",
              "      <td>0.371118</td>\n",
              "      <td>-0.019106</td>\n",
              "      <td>-0.272167</td>\n",
              "      <td>0.169842</td>\n",
              "      <td>0.239058</td>\n",
              "      <td>0.150698</td>\n",
              "      <td>0.583076</td>\n",
              "      <td>-0.224180</td>\n",
              "      <td>-0.032177</td>\n",
              "      <td>0.217751</td>\n",
              "    </tr>\n",
              "    <tr>\n",
              "      <th>10154</th>\n",
              "      <td>2.909918</td>\n",
              "      <td>1.461895</td>\n",
              "      <td>-0.638743</td>\n",
              "      <td>-0.250711</td>\n",
              "      <td>-0.259482</td>\n",
              "      <td>-0.780740</td>\n",
              "      <td>-0.556013</td>\n",
              "      <td>-0.901372</td>\n",
              "      <td>1.494755</td>\n",
              "      <td>-0.827845</td>\n",
              "      <td>-1.434420</td>\n",
              "    </tr>\n",
              "  </tbody>\n",
              "</table>\n",
              "<p>10155 rows × 11 columns</p>\n",
              "</div>"
            ],
            "text/plain": [
              "             0         1         2   ...        8         9         10\n",
              "0      0.869774 -0.792852 -0.300362  ...  0.076150  0.546220  0.309983\n",
              "1     -1.763740  0.271868 -0.529384  ...  0.008195 -0.106689  0.244363\n",
              "2      2.759896  0.575463 -1.617375  ...  2.165835 -0.664759 -0.131263\n",
              "3     -1.682247  0.607132  0.003920  ...  0.119397  0.299323  0.119600\n",
              "4      3.433527  0.456228  0.402857  ... -2.382016 -0.410804 -0.479994\n",
              "...         ...       ...       ...  ...       ...       ...       ...\n",
              "10150 -1.899811  0.293824  0.006565  ... -0.043481 -0.158994 -0.239538\n",
              "10151 -0.066473  0.426890 -1.451677  ...  0.045247 -0.582694 -0.906420\n",
              "10152 -0.545130 -2.975703  0.119935  ... -0.251452 -0.752468  0.172400\n",
              "10153 -1.966918  0.371118 -0.019106  ... -0.224180 -0.032177  0.217751\n",
              "10154  2.909918  1.461895 -0.638743  ...  1.494755 -0.827845 -1.434420\n",
              "\n",
              "[10155 rows x 11 columns]"
            ]
          },
          "metadata": {
            "tags": []
          },
          "execution_count": 25
        }
      ]
    },
    {
      "cell_type": "markdown",
      "metadata": {
        "id": "dfHbKtpbl0gh"
      },
      "source": [
        "### individual pc loadings"
      ]
    },
    {
      "cell_type": "code",
      "metadata": {
        "colab": {
          "base_uri": "https://localhost:8080/"
        },
        "id": "BYBQE32Cl0gh",
        "outputId": "893f99e9-e234-4e92-d697-47405992ac08"
      },
      "source": [
        "# pc1\n",
        "\n",
        "loadings=pca.components_[0]\n",
        "loadings"
      ],
      "execution_count": null,
      "outputs": [
        {
          "output_type": "execute_result",
          "data": {
            "text/plain": [
              "array([ 0.09924021, -0.33865062, -0.02407782, -0.25135468,  0.09288723,\n",
              "        0.0739089 , -0.07577929, -0.09248651,  0.39204404,  0.22906573,\n",
              "        0.65723193, -0.20736998,  0.29951108, -0.10613943, -0.03497387])"
            ]
          },
          "metadata": {
            "tags": []
          },
          "execution_count": 32
        }
      ]
    },
    {
      "cell_type": "code",
      "metadata": {
        "id": "z--RioJyl0gh",
        "outputId": "42d666ed-63bc-42f1-98d9-1deb6c5c4a7f"
      },
      "source": [
        "list(zip(bd.columns,loadings))"
      ],
      "execution_count": null,
      "outputs": [
        {
          "output_type": "execute_result",
          "data": {
            "text/plain": [
              "[('Average Credit Card Transaction', 0.13851952259964861),\n",
              " ('Balance Transfer', 0.25191453950759435),\n",
              " ('Term Deposit', 0.18841747578001128),\n",
              " ('Life Insurance', 0.30460753958728026),\n",
              " ('Medical Insurance', 0.1825102697922209),\n",
              " ('Average A/C Balance', 0.2582608968666092),\n",
              " ('Personal Loan', 0.22451306738791546),\n",
              " ('Investment in Mutual Fund', 0.2772103541326052),\n",
              " ('Investment Tax Saving Bond', 0.17442024066219247),\n",
              " ('Home Loan', 0.1527668294168411),\n",
              " ('Online Purchase Amount', 0.12107230662770072),\n",
              " ('Investment in Commudity', 0.34070339483996825),\n",
              " ('Investment in Equity', 0.3292257708491982),\n",
              " ('Investment in Derivative', 0.36501710199575893),\n",
              " ('Portfolio Balance', 0.3683471146126874)]"
            ]
          },
          "metadata": {
            "tags": []
          },
          "execution_count": 43
        }
      ]
    },
    {
      "cell_type": "code",
      "metadata": {
        "colab": {
          "base_uri": "https://localhost:8080/",
          "height": 286
        },
        "id": "--Yr0_eel0gh",
        "outputId": "bda44fb2-fb14-4acb-cae7-0c93bd34e482"
      },
      "source": [
        "sns.heatmap(X1.corr())"
      ],
      "execution_count": null,
      "outputs": [
        {
          "output_type": "execute_result",
          "data": {
            "text/plain": [
              "<matplotlib.axes._subplots.AxesSubplot at 0x7fec9e28fe50>"
            ]
          },
          "metadata": {
            "tags": []
          },
          "execution_count": 30
        },
        {
          "output_type": "display_data",
          "data": {
            "image/png": "[encoded data removed]",
            "text/plain": [
              "<Figure size 432x288 with 2 Axes>"
            ]
          },
          "metadata": {
            "tags": [],
            "needs_background": "light"
          }
        }
      ]
    },
    {
      "cell_type": "code",
      "metadata": {
        "id": "gPskoYP_of_7"
      },
      "source": [
        ""
      ],
      "execution_count": null,
      "outputs": []
    }
  ]
}