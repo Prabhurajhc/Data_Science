{
 "cells": [
  {
   "cell_type": "code",
   "execution_count": null,
   "metadata": {},
   "outputs": [],
   "source": [
    "# a << b\n",
    "\n",
    "# (a * (2**b))\n",
    "\n",
    "# a >> b\n",
    "# (a // (2**b))\n",
    "\n",
    "# ~a\n",
    "# -(a+1)"
   ]
  },
  {
   "cell_type": "code",
   "execution_count": 41,
   "metadata": {
    "ExecuteTime": {
     "end_time": "2021-03-31T14:56:01.614281Z",
     "start_time": "2021-03-31T14:56:01.603986Z"
    }
   },
   "outputs": [
    {
     "name": "stdout",
     "output_type": "stream",
     "text": [
      "A\n",
      "O\n",
      "p\n"
     ]
    }
   ],
   "source": [
    "# Integer data type\n",
    "\n",
    "\n",
    "# Compariosn Operation - <, >, <=, >=\n",
    "# Returns Boolean value - True False\n",
    "# It works only n the similar data types(can work on numeric data types except complex values)\n",
    "\n",
    "# print(10<20)\n",
    "# print(10<20.30)\n",
    "# print(10 < 20+30j)\n",
    "# print(10+20j < 20+30j)\n",
    "# print(20j < 30j)\n",
    "\n",
    "# print(65 < 'A')\n",
    "# print(65 <= ord('A'))\n",
    "\n",
    "# print('Pytho' < 'pythOn')\n",
    "\n",
    "# To get the equivalent ASCII code - ord('char')\n",
    "# print(ord('A'))\n",
    "# print(ord('P'))\n",
    "# print(ord('p'))\n",
    "\n",
    "# lst1 = [10,20,3,40]\n",
    "# lst2 = [10,20,30,4]\n",
    "# print(lst1 < lst2)\n",
    "\n",
    "\n",
    "# print(ord('o'))\n",
    "# print(ord('O'))\n",
    "\n",
    "# To get the Character assigned to an ASCII value\n",
    "print(chr(65))\n",
    "print(chr(79))\n",
    "print(chr(112))\n",
    "\n"
   ]
  },
  {
   "cell_type": "code",
   "execution_count": null,
   "metadata": {},
   "outputs": [],
   "source": [
    "# utf-8"
   ]
  },
  {
   "cell_type": "code",
   "execution_count": 43,
   "metadata": {
    "ExecuteTime": {
     "end_time": "2021-03-31T14:57:18.195980Z",
     "start_time": "2021-03-31T14:57:18.185008Z"
    }
   },
   "outputs": [
    {
     "data": {
      "text/plain": [
       "2"
      ]
     },
     "execution_count": 43,
     "metadata": {},
     "output_type": "execute_result"
    }
   ],
   "source": [
    "# True + True"
   ]
  },
  {
   "cell_type": "code",
   "execution_count": 56,
   "metadata": {
    "ExecuteTime": {
     "end_time": "2021-03-31T15:03:51.938440Z",
     "start_time": "2021-03-31T15:03:48.538162Z"
    }
   },
   "outputs": [
    {
     "name": "stdout",
     "output_type": "stream",
     "text": [
      "Enter your age: 25\n",
      "Allowed\n"
     ]
    }
   ],
   "source": [
    "# Equality Operation - ==, !=\n",
    "# Return Boolean value - True or False\n",
    "# Compares the content\n",
    "# It can work with disimilar data type\n",
    "\n",
    "# print(10 == 10)\n",
    "# print(10 == 20)\n",
    "# print(10 == 10.01)\n",
    "\n",
    "# print('A' == 65)\n",
    "# print('A' == chr(65))\n",
    "\n",
    "\n",
    "age = int(input('Enter your age: '))\n",
    "if age > 18:\n",
    "    if age < 60:\n",
    "        print('Allowed')\n",
    "    else:\n",
    "        print('Not Allowed')\n",
    "else:\n",
    "    print('Not Allowed')\n",
    "\n",
    "\n"
   ]
  },
  {
   "cell_type": "code",
   "execution_count": 78,
   "metadata": {
    "ExecuteTime": {
     "end_time": "2021-03-31T15:16:17.392483Z",
     "start_time": "2021-03-31T15:16:17.382975Z"
    }
   },
   "outputs": [
    {
     "name": "stdout",
     "output_type": "stream",
     "text": [
      "10\n",
      "20\n",
      "0\n"
     ]
    }
   ],
   "source": [
    "# logical Operation - and, or, not\n",
    "\n",
    "# and Truth Table - False\n",
    "# True and True = True\n",
    "# True and False = False\n",
    "# False and True = False\n",
    "# False and False = False\n",
    "\n",
    "# or Truth Table - True\n",
    "# True or True = True\n",
    "# True or False = True\n",
    "# False or True = True\n",
    "# False or False = False\n",
    "\n",
    "# not True = False\n",
    "# not False = True\n",
    "\n",
    "# True and False\n",
    "\n",
    "\n",
    "# age = int(input('Enter your age: '))\n",
    "# if 18<age<60:\n",
    "#         print('Allowed')\n",
    "# else:\n",
    "#     print('Not Allowed')\n",
    "\n",
    "\n",
    "# A and B - where A and B both are representing to some value\n",
    "    # result is A if A is False else result will be B\n",
    "\n",
    "\n",
    "\n",
    "# 10 and 20\n",
    "\n",
    "# print(bool(10))\n",
    "# print(bool(0))\n",
    "# print(bool(0.1))\n",
    "# print(bool(0.000000000))\n",
    "# print(bool(0.0000000001))\n",
    "\n",
    "# Incase of number apart from 0 everything is true\n",
    "\n",
    "# print(10 and 20)\n",
    "# print(10 and 0)\n",
    "# print(0 and 20)\n",
    "# print(0 and 0.0)\n",
    "\n",
    "\n",
    "\n",
    "# A or B - where A and B both are representing to some value\n",
    "    # result is A if A is True else result will be B\n",
    "    \n",
    "# print(10 or 20)\n",
    "# print(0 or 20)\n",
    "# print(0.0 or 0)\n",
    "\n",
    "\n",
    "\n",
    "\n"
   ]
  },
  {
   "cell_type": "code",
   "execution_count": 79,
   "metadata": {
    "ExecuteTime": {
     "end_time": "2021-03-31T15:17:54.560920Z",
     "start_time": "2021-03-31T15:17:54.558248Z"
    }
   },
   "outputs": [],
   "source": [
    "# 10 + 20 or 0 and 9 ** 3 << 2"
   ]
  },
  {
   "cell_type": "code",
   "execution_count": 80,
   "metadata": {
    "ExecuteTime": {
     "end_time": "2021-03-31T15:20:21.404652Z",
     "start_time": "2021-03-31T15:20:21.381201Z"
    }
   },
   "outputs": [
    {
     "name": "stdout",
     "output_type": "stream",
     "text": [
      "12\n"
     ]
    }
   ],
   "source": [
    "# Assignment(=) and COmpound Assignment - (+=, -=, *=, /=, //=, %=, **=, &=, |=, ^=, ~=, <<=, >>=)\n",
    "\n",
    "# num = 10\n",
    "# var = value\n",
    "\n",
    "# a = 10\n",
    "# a &= 2                                   # a = a&2\n",
    "# print(a)\n",
    "\n",
    "\n",
    "\n"
   ]
  },
  {
   "cell_type": "code",
   "execution_count": 96,
   "metadata": {
    "ExecuteTime": {
     "end_time": "2021-03-31T15:31:48.637718Z",
     "start_time": "2021-03-31T15:31:48.624008Z"
    }
   },
   "outputs": [
    {
     "name": "stdout",
     "output_type": "stream",
     "text": [
      "False\n",
      "True\n",
      "False\n"
     ]
    }
   ],
   "source": [
    "# Membership operation - in, not in\n",
    "# Works on iterable object - string, list, tuple, set, frozenset, dictionary, range\n",
    "# returns boolean value if element is part of the iterable\n",
    "\n",
    "# lst = [10,10.20, 10+20j, 'Python', None, True, [1,2,3], (1,2,3)]\n",
    "# print(10.20 in lst)\n",
    "# print(1 in lst)\n",
    "# print(2 in lst)\n",
    "\n",
    "\n",
    "# Dictionary\n",
    "d = {'emp1':('emp_name','ABC', 'emp_id',101, 'emp_sal',10000),\n",
    "     'emp2':{'emp_name':'XYZ', 'emp_id':102, 'emp_sal':12000},\n",
    "     'emp3':{'emp_name':'MNO', 'emp_id':103, 'emp_sal':13000}}\n",
    "# print(d, type(d))\n",
    "\n",
    "\n",
    "# print('emp1' in d)\n",
    "# print('ABC' in d)\n",
    "# print('emp_name' in d)\n",
    "print(('emp_name','ABC', 'emp_id',101, 'emp_sal',10000) in d)\n",
    "\n",
    "\n",
    "d1 = {1:100, 2:200, 3:300}\n",
    "print(1 in d1)\n",
    "print(100 in d1)\n",
    "\n",
    "\n",
    "\n",
    "\n",
    "\n"
   ]
  },
  {
   "cell_type": "code",
   "execution_count": 109,
   "metadata": {
    "ExecuteTime": {
     "end_time": "2021-03-31T15:40:18.023823Z",
     "start_time": "2021-03-31T15:40:18.000080Z"
    }
   },
   "outputs": [
    {
     "name": "stdout",
     "output_type": "stream",
     "text": [
      "True\n",
      "4514290224\n",
      "4514290224\n"
     ]
    }
   ],
   "source": [
    "# Identity operation - is, is not\n",
    "# returns Boolean value\n",
    "# they compare the memory address of both the object\n",
    "\n",
    "# a = 10\n",
    "# b = 10\n",
    "# print(a == b)\n",
    "# print(a is b)   # memory address\n",
    "\n",
    "# print(id(a))\n",
    "\n",
    "# print(id(b))\n",
    "\n",
    "\n",
    "# a = 1000\n",
    "# b = 1000\n",
    "# print(a == b)\n",
    "# print(a is b)\n",
    "\n",
    "# print(id(a))\n",
    "# print(id(b))\n",
    "\n",
    "\n",
    "# object reusability in Python\n",
    "# Objects has to be reused \n",
    "# int - -5-256\n",
    "# True, False, None\n",
    "# string - A-Z,a-z, 0-9, _\n",
    "\n",
    "\n",
    "# a = 'Python'\n",
    "# b = 'Python'\n",
    "# print(a is b)\n",
    "# print(a == b)\n",
    "# print(id(a))\n",
    "# print(id(b))\n",
    "\n",
    "a = 'Python_class'\n",
    "b = 'Python_class'\n",
    "print(a is b)\n",
    "print(id(a))\n",
    "print(id(b))\n",
    "\n",
    "\n",
    "# a = 257\n",
    "# b = 257\n",
    "# print(a is b)\n",
    "\n",
    "\n",
    "# string interning\n",
    "# Object reusabiltiy in Python\n",
    "\n",
    "\n",
    "\n",
    "\n",
    "\n",
    "\n"
   ]
  },
  {
   "cell_type": "code",
   "execution_count": 111,
   "metadata": {
    "ExecuteTime": {
     "end_time": "2021-03-31T15:42:11.722991Z",
     "start_time": "2021-03-31T15:42:11.717588Z"
    }
   },
   "outputs": [
    {
     "name": "stdout",
     "output_type": "stream",
     "text": [
      "<class 'float'>\n",
      "-10.2 <class 'float'>\n"
     ]
    }
   ],
   "source": [
    "# Float - Any number with a decimal point\n",
    "# a = 10.20\n",
    "# print(type(a))\n",
    "\n",
    "# b = -10.20\n",
    "# print(b, type(b))\n",
    "\n",
    "# Bitwise operation does not work in ccase of float value\n",
    "\n",
    "\n",
    "\n"
   ]
  },
  {
   "cell_type": "code",
   "execution_count": 114,
   "metadata": {
    "ExecuteTime": {
     "end_time": "2021-03-31T15:44:49.368280Z",
     "start_time": "2021-03-31T15:44:49.359870Z"
    }
   },
   "outputs": [
    {
     "name": "stdout",
     "output_type": "stream",
     "text": [
      "(10+20j) <class 'complex'>\n",
      "10.0\n",
      "20.0\n"
     ]
    }
   ],
   "source": [
    "# Complex - \n",
    "# A number written in the form of a+bj\n",
    "# where a is real and b is imaginary part\n",
    "\n",
    "\n",
    "num = 10+20j\n",
    "print(num, type(num))\n",
    "print(num.real)\n",
    "print(num.imag)\n",
    "\n",
    "# operations whoch are not allowed on complex numbers are - %\n",
    "# Bitwise operation will not work on complex numbers\n",
    "\n",
    "\n",
    "\n",
    "\n"
   ]
  },
  {
   "cell_type": "code",
   "execution_count": 126,
   "metadata": {
    "ExecuteTime": {
     "end_time": "2021-03-31T15:49:32.970527Z",
     "start_time": "2021-03-31T15:49:32.959811Z"
    }
   },
   "outputs": [
    {
     "name": "stdout",
     "output_type": "stream",
     "text": [
      "False\n",
      "True\n"
     ]
    }
   ],
   "source": [
    "# boolean data types\n",
    "# True and False\n",
    "\n",
    "# True == 1\n",
    "# False == 0\n",
    "\n",
    "\n",
    "# # int to boolean\n",
    "# 0 is always False and rest all values are True\n",
    "\n",
    "# # Float to boolean\n",
    "# 0.0 is always False and rest all values are True\n",
    "\n",
    "# # Complex to boolean\n",
    "# 0+0j is always False and rest all values are True\n",
    "\n",
    "# None is always False\n",
    "\n",
    "# string \n",
    "# '' is always False rest all True\n",
    "\n",
    "# list, tuple, set, dictionary - [], (), set(), {} - always False rest all True\n",
    "\n",
    "\n",
    "# print(bool(0))\n",
    "# print(bool(0.0))\n",
    "# print(bool(0.0+0j))\n",
    "# print(bool(0.0+0.000001j))\n",
    "\n",
    "\n",
    "# print(bool(None))\n",
    "\n",
    "\n",
    "# print(bool(''))\n",
    "# print(bool(' '))\n",
    "# print(bool('A'))\n",
    "\n",
    "# print(bool(None))\n",
    "\n",
    "\n",
    "\n",
    "# print(bool([]))\n",
    "# print(bool([None]))\n",
    "\n"
   ]
  },
  {
   "cell_type": "code",
   "execution_count": 151,
   "metadata": {
    "ExecuteTime": {
     "end_time": "2021-03-31T16:01:26.540136Z",
     "start_time": "2021-03-31T16:01:26.514284Z"
    }
   },
   "outputs": [
    {
     "name": "stdout",
     "output_type": "stream",
     "text": [
      "This is add function documentation. It takes 2 numbers from user.\n",
      "    and returns the sum of those two numbers\n",
      "This is sub function documentation. It takes 2 numbers from user.\n",
      "    and returns the difference of those two numbers\n",
      "This is sub2 function documentation. It takes 2 numbers from user.\n",
      "    and returns the difference of those two numbers\n"
     ]
    },
    {
     "data": {
      "text/plain": [
       "80"
      ]
     },
     "execution_count": 151,
     "metadata": {},
     "output_type": "execute_result"
    }
   ],
   "source": [
    "# String data types - Any value which is kept inside '...', \"...\", '''...''', \"\"\"...\"\"\"\n",
    "\n",
    "# a = 'Python'\n",
    "# print(a, type(a))\n",
    "\n",
    "# a = \"Python\"\n",
    "# print(a, type(a))\n",
    "\n",
    "# a = \"\"\"Python\"\"\"\n",
    "# print(a, type(a))\n",
    "\n",
    "# a = '''Python'''\n",
    "# print(a, type(a))\n",
    "\n",
    "# 1. \n",
    "# Different use cases of different type of quotations\n",
    "# a = \"This is Python's class\"\n",
    "# print(a)\n",
    "\n",
    "# a = 'This is \"Python\" class'\n",
    "# print(a)\n",
    "\n",
    "# a = '''This is \"Python\" and 'Java' class'''\n",
    "# print(a)\n",
    "\n",
    "\n",
    "# 2. \n",
    "# Triple quotations can be used to write multiline strings\n",
    "# Singke and double quotations are used to write only single line strings\n",
    "\n",
    "\n",
    "# a = '''To insert a Unicode character, type the character code, press ALT, and then press X. \n",
    "# For example, to type a dollar symbol ($), type 0024, press ALT, and then press X. \n",
    "# For more Unicode character codes, see Unicode character code charts by script.'''\n",
    "# print(a)\n",
    "\n",
    "# 3. \n",
    "def add(num1, num2):\n",
    "    '''This is add function documentation. It takes 2 numbers from user.\n",
    "    and returns the sum of those two numbers'''\n",
    "    return num1+num2\n",
    "\n",
    "add(10,20)\n",
    "\n",
    "print(add.__doc__)\n",
    "\n",
    "\n",
    "def sub(num1, num2):\n",
    "    '''This is sub function documentation. It takes 2 numbers from user.\n",
    "    and returns the difference of those two numbers'''\n",
    "    def sub2(n1, n2):\n",
    "        '''This is sub2 function documentation. It takes 2 numbers from user.\n",
    "    and returns the difference of those two numbers'''\n",
    "        return n1-n2\n",
    "    print(sub2.__doc__)\n",
    "    return num1-num2\n",
    "\n",
    "print(sub.__doc__)\n",
    "sub(100,20)\n",
    "\n",
    "\n"
   ]
  },
  {
   "cell_type": "code",
   "execution_count": 144,
   "metadata": {
    "ExecuteTime": {
     "end_time": "2021-03-31T15:58:20.618429Z",
     "start_time": "2021-03-31T15:58:20.614236Z"
    }
   },
   "outputs": [
    {
     "name": "stdout",
     "output_type": "stream",
     "text": [
      "Help on function add in module __main__:\n",
      "\n",
      "add(num1, num2)\n",
      "    This is add function documentation. It takes 2 numbers from user.\n",
      "    and returns the sum of those two numbers\n",
      "\n"
     ]
    }
   ],
   "source": [
    "help(add)"
   ]
  },
  {
   "cell_type": "code",
   "execution_count": null,
   "metadata": {},
   "outputs": [],
   "source": []
  },
  {
   "cell_type": "code",
   "execution_count": null,
   "metadata": {},
   "outputs": [],
   "source": []
  },
  {
   "cell_type": "code",
   "execution_count": null,
   "metadata": {},
   "outputs": [],
   "source": []
  },
  {
   "cell_type": "code",
   "execution_count": null,
   "metadata": {},
   "outputs": [],
   "source": []
  },
  {
   "cell_type": "code",
   "execution_count": null,
   "metadata": {},
   "outputs": [],
   "source": []
  },
  {
   "cell_type": "code",
   "execution_count": null,
   "metadata": {},
   "outputs": [],
   "source": []
  },
  {
   "cell_type": "code",
   "execution_count": null,
   "metadata": {},
   "outputs": [],
   "source": []
  },
  {
   "cell_type": "code",
   "execution_count": null,
   "metadata": {},
   "outputs": [],
   "source": []
  },
  {
   "cell_type": "code",
   "execution_count": null,
   "metadata": {},
   "outputs": [],
   "source": []
  },
  {
   "cell_type": "code",
   "execution_count": null,
   "metadata": {},
   "outputs": [],
   "source": []
  },
  {
   "cell_type": "code",
   "execution_count": null,
   "metadata": {},
   "outputs": [],
   "source": []
  },
  {
   "cell_type": "code",
   "execution_count": null,
   "metadata": {},
   "outputs": [],
   "source": []
  },
  {
   "cell_type": "code",
   "execution_count": null,
   "metadata": {},
   "outputs": [],
   "source": []
  },
  {
   "cell_type": "code",
   "execution_count": null,
   "metadata": {},
   "outputs": [],
   "source": []
  },
  {
   "cell_type": "code",
   "execution_count": null,
   "metadata": {},
   "outputs": [],
   "source": []
  },
  {
   "cell_type": "code",
   "execution_count": null,
   "metadata": {},
   "outputs": [],
   "source": []
  },
  {
   "cell_type": "code",
   "execution_count": null,
   "metadata": {},
   "outputs": [],
   "source": []
  },
  {
   "cell_type": "code",
   "execution_count": null,
   "metadata": {},
   "outputs": [],
   "source": []
  },
  {
   "cell_type": "code",
   "execution_count": null,
   "metadata": {},
   "outputs": [],
   "source": []
  },
  {
   "cell_type": "code",
   "execution_count": null,
   "metadata": {},
   "outputs": [],
   "source": []
  },
  {
   "cell_type": "code",
   "execution_count": null,
   "metadata": {},
   "outputs": [],
   "source": []
  },
  {
   "cell_type": "code",
   "execution_count": null,
   "metadata": {},
   "outputs": [],
   "source": []
  },
  {
   "cell_type": "code",
   "execution_count": null,
   "metadata": {},
   "outputs": [],
   "source": []
  },
  {
   "cell_type": "code",
   "execution_count": null,
   "metadata": {},
   "outputs": [],
   "source": []
  },
  {
   "cell_type": "code",
   "execution_count": null,
   "metadata": {},
   "outputs": [],
   "source": []
  },
  {
   "cell_type": "code",
   "execution_count": null,
   "metadata": {},
   "outputs": [],
   "source": []
  },
  {
   "cell_type": "code",
   "execution_count": null,
   "metadata": {},
   "outputs": [],
   "source": []
  },
  {
   "cell_type": "code",
   "execution_count": null,
   "metadata": {},
   "outputs": [],
   "source": []
  },
  {
   "cell_type": "code",
   "execution_count": null,
   "metadata": {},
   "outputs": [],
   "source": []
  },
  {
   "cell_type": "code",
   "execution_count": null,
   "metadata": {},
   "outputs": [],
   "source": []
  },
  {
   "cell_type": "code",
   "execution_count": null,
   "metadata": {},
   "outputs": [],
   "source": []
  },
  {
   "cell_type": "code",
   "execution_count": null,
   "metadata": {},
   "outputs": [],
   "source": []
  },
  {
   "cell_type": "code",
   "execution_count": null,
   "metadata": {},
   "outputs": [],
   "source": []
  },
  {
   "cell_type": "code",
   "execution_count": null,
   "metadata": {},
   "outputs": [],
   "source": []
  },
  {
   "cell_type": "code",
   "execution_count": null,
   "metadata": {},
   "outputs": [],
   "source": []
  },
  {
   "cell_type": "code",
   "execution_count": null,
   "metadata": {},
   "outputs": [],
   "source": []
  },
  {
   "cell_type": "code",
   "execution_count": null,
   "metadata": {},
   "outputs": [],
   "source": []
  },
  {
   "cell_type": "code",
   "execution_count": null,
   "metadata": {},
   "outputs": [],
   "source": []
  },
  {
   "cell_type": "code",
   "execution_count": null,
   "metadata": {},
   "outputs": [],
   "source": []
  },
  {
   "cell_type": "code",
   "execution_count": null,
   "metadata": {},
   "outputs": [],
   "source": []
  },
  {
   "cell_type": "code",
   "execution_count": null,
   "metadata": {},
   "outputs": [],
   "source": []
  },
  {
   "cell_type": "code",
   "execution_count": null,
   "metadata": {},
   "outputs": [],
   "source": []
  },
  {
   "cell_type": "code",
   "execution_count": null,
   "metadata": {},
   "outputs": [],
   "source": []
  },
  {
   "cell_type": "code",
   "execution_count": null,
   "metadata": {},
   "outputs": [],
   "source": []
  },
  {
   "cell_type": "code",
   "execution_count": null,
   "metadata": {},
   "outputs": [],
   "source": []
  },
  {
   "cell_type": "code",
   "execution_count": null,
   "metadata": {},
   "outputs": [],
   "source": []
  },
  {
   "cell_type": "code",
   "execution_count": null,
   "metadata": {},
   "outputs": [],
   "source": []
  },
  {
   "cell_type": "code",
   "execution_count": null,
   "metadata": {},
   "outputs": [],
   "source": []
  },
  {
   "cell_type": "code",
   "execution_count": null,
   "metadata": {},
   "outputs": [],
   "source": []
  },
  {
   "cell_type": "code",
   "execution_count": null,
   "metadata": {},
   "outputs": [],
   "source": []
  },
  {
   "cell_type": "code",
   "execution_count": null,
   "metadata": {},
   "outputs": [],
   "source": []
  },
  {
   "cell_type": "code",
   "execution_count": null,
   "metadata": {},
   "outputs": [],
   "source": []
  },
  {
   "cell_type": "code",
   "execution_count": null,
   "metadata": {},
   "outputs": [],
   "source": []
  },
  {
   "cell_type": "code",
   "execution_count": null,
   "metadata": {},
   "outputs": [],
   "source": []
  },
  {
   "cell_type": "code",
   "execution_count": null,
   "metadata": {},
   "outputs": [],
   "source": []
  },
  {
   "cell_type": "code",
   "execution_count": null,
   "metadata": {},
   "outputs": [],
   "source": []
  },
  {
   "cell_type": "code",
   "execution_count": null,
   "metadata": {},
   "outputs": [],
   "source": []
  },
  {
   "cell_type": "code",
   "execution_count": null,
   "metadata": {},
   "outputs": [],
   "source": []
  },
  {
   "cell_type": "code",
   "execution_count": null,
   "metadata": {},
   "outputs": [],
   "source": []
  },
  {
   "cell_type": "code",
   "execution_count": null,
   "metadata": {},
   "outputs": [],
   "source": []
  },
  {
   "cell_type": "code",
   "execution_count": null,
   "metadata": {},
   "outputs": [],
   "source": []
  }
 ],
 "metadata": {
  "kernelspec": {
   "display_name": "Python 3",
   "language": "python",
   "name": "python3"
  },
  "language_info": {
   "codemirror_mode": {
    "name": "ipython",
    "version": 3
   },
   "file_extension": ".py",
   "mimetype": "text/x-python",
   "name": "python",
   "nbconvert_exporter": "python",
   "pygments_lexer": "ipython3",
   "version": "3.8.2"
  },
  "latex_envs": {
   "LaTeX_envs_menu_present": true,
   "autoclose": false,
   "autocomplete": true,
   "bibliofile": "biblio.bib",
   "cite_by": "apalike",
   "current_citInitial": 1,
   "eqLabelWithNumbers": true,
   "eqNumInitial": 1,
   "hotkeys": {
    "equation": "Ctrl-E",
    "itemize": "Ctrl-I"
   },
   "labels_anchors": false,
   "latex_user_defs": false,
   "report_style_numbering": false,
   "user_envs_cfg": false
  },
  "varInspector": {
   "cols": {
    "lenName": 16,
    "lenType": 16,
    "lenVar": 40
   },
   "kernels_config": {
    "python": {
     "delete_cmd_postfix": "",
     "delete_cmd_prefix": "del ",
     "library": "var_list.py",
     "varRefreshCmd": "print(var_dic_list())"
    },
    "r": {
     "delete_cmd_postfix": ") ",
     "delete_cmd_prefix": "rm(",
     "library": "var_list.r",
     "varRefreshCmd": "cat(var_dic_list()) "
    }
   },
   "types_to_exclude": [
    "module",
    "function",
    "builtin_function_or_method",
    "instance",
    "_Feature"
   ],
   "window_display": false
  }
 },
 "nbformat": 4,
 "nbformat_minor": 2
}
