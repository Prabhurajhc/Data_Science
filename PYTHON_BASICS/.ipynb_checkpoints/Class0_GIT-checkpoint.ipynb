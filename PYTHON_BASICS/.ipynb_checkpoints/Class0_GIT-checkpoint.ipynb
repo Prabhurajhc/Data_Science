{
 "cells": [
  {
   "cell_type": "markdown",
   "id": "5b647894-7eae-408f-a31e-6e8028f58229",
   "metadata": {
    "jp-MarkdownHeadingCollapsed": true
   },
   "source": [
    "## GIT - is a version control system (VCS) that helps developers track changes to files, manage project history, and collaborate on code."
   ]
  },
  {
   "cell_type": "markdown",
   "id": "75636f70-cb82-4991-86a7-f02a5f3df204",
   "metadata": {},
   "source": [
    "**Purpose**   : Git allows multiple people to work on the same codebase, manage versions, and keep a detailed log of changes. \n",
    "            It can work locally on a developer's computer and doesn’t require an internet connection for basic operations.\n",
    "            \n",
    "**Features**  :\n",
    "            Tracking changes across multiple versions of a project.\n",
    "            Branching and merging, enabling developers to work on different features or fixes in parallel.\n",
    "            Supports collaboration without the need for a centralized server.\n",
    "\n",
    "**Commands**  : git init, git add, git commit, git push, git pull, git merge, git branch.\n",
    "\n",
    "**Where It Runs** : Git runs locally on your computer, and it’s distributed, meaning each copy of a repository can act independently."
   ]
  },
  {
   "cell_type": "markdown",
   "id": "a9774af0-10d6-46e8-85c3-08331aea220e",
   "metadata": {
    "jp-MarkdownHeadingCollapsed": true
   },
   "source": [
    "## GIT HUB - is a cloud-based platform that hosts Git repositories, adding collaborative features and integrations beyond Git."
   ]
  },
  {
   "cell_type": "markdown",
   "id": "0a64827b-254f-4032-95eb-438fc7e8549d",
   "metadata": {},
   "source": [
    "**Purpose**: GitHub provides a centralized location to store, share, and collaborate on Git repositories online. It adds social coding features like issue tracking, pull requests, and collaborative tools for team and open-source development.\n",
    "\n",
    "**Features**:\n",
    "Online repository hosting and backup.\n",
    "Team collaboration tools like pull requests, issue tracking, and project boards.\n",
    "Integrations with CI/CD, security, and project management tools.\n",
    "Social features, including the ability to follow other developers, star repositories, and contribute to open-source projects.\n",
    "\n",
    "**Web Interface**: GitHub has an intuitive web-based interface that allows you to view repositories, commit history, and manage issues without needing to use the command line.\n",
    "\n",
    "**Where It Runs**: GitHub runs as a cloud service, so it requires an internet connection and a GitHub account."
   ]
  },
  {
   "cell_type": "markdown",
   "id": "cef60119-c48f-4724-bf30-8e226c1d368b",
   "metadata": {},
   "source": [
    "## GIT COMMANDS\n"
   ]
  },
  {
   "cell_type": "code",
   "execution_count": null,
   "id": "71b51f0d-3676-434c-a4a0-440dbd03a3c6",
   "metadata": {},
   "outputs": [],
   "source": []
  },
  {
   "cell_type": "code",
   "execution_count": null,
   "id": "45fa6ad7-233e-4417-b7ab-2f3bff1671c2",
   "metadata": {},
   "outputs": [],
   "source": []
  },
  {
   "cell_type": "code",
   "execution_count": null,
   "id": "8ab2fc36-86a6-4e92-8b98-dd43d0419585",
   "metadata": {},
   "outputs": [],
   "source": []
  },
  {
   "cell_type": "code",
   "execution_count": null,
   "id": "e40b04a4-5445-4195-a839-810bb1d60f5b",
   "metadata": {},
   "outputs": [],
   "source": []
  },
  {
   "cell_type": "code",
   "execution_count": null,
   "id": "18782d68-e50e-484b-9f38-a7cd2977d208",
   "metadata": {},
   "outputs": [],
   "source": []
  },
  {
   "cell_type": "code",
   "execution_count": null,
   "id": "d11ffb35-52e1-4896-bf7d-01e0cddcb756",
   "metadata": {},
   "outputs": [],
   "source": []
  }
 ],
 "metadata": {
  "kernelspec": {
   "display_name": "Python 3 (ipykernel)",
   "language": "python",
   "name": "python3"
  },
  "language_info": {
   "codemirror_mode": {
    "name": "ipython",
    "version": 3
   },
   "file_extension": ".py",
   "mimetype": "text/x-python",
   "name": "python",
   "nbconvert_exporter": "python",
   "pygments_lexer": "ipython3",
   "version": "3.12.4"
  }
 },
 "nbformat": 4,
 "nbformat_minor": 5
}
